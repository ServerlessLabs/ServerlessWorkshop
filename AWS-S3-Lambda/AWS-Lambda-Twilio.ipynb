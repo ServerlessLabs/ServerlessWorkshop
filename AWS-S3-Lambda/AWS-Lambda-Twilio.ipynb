{
 "cells": [
  {
   "cell_type": "markdown",
   "metadata": {},
   "source": [
    "# AWS Lambda - Twilio\n",
    "\n",
    "\n",
    "## Setup\n",
    "\n"
   ]
  },
  {
   "cell_type": "markdown",
   "metadata": {},
   "source": [
    "If you have chosen to use an rc file, source it as ```source <your-aws-credentials-rc-file>```, e.g."
   ]
  },
  {
   "cell_type": "code",
   "execution_count": null,
   "metadata": {},
   "outputs": [],
   "source": [
    ". ~/.aws/credentials.rc"
   ]
  },
  {
   "cell_type": "markdown",
   "metadata": {},
   "source": [
    "# Interfacing with Twilio\n",
    "\n",
    "For this functionality you will need to create a free account with Twilio at https://www.twilio.com/try-twilio and then validate the telephone numbers to which you wish to send SMS\n",
    "\n",
    "You then need to export the following variables in your environment:\n",
    "\n",
    "```\n",
    "export TWILIO_ACCOUNT_SID='your-account-sid\n",
    "export TWILIO_AUTH_TOKEN='your-auth-token\n",
    "export TWILIO_FROM_NUMBER='twilio-provided-number'\n",
    "export TWILIO_TO_NUMBER='the-number-to-send-SMS'\n",
    "```\n",
    "\n",
    "It is best to place them in a sourceable file such as ~/.twilio.rc"
   ]
  },
  {
   "cell_type": "code",
   "execution_count": 1,
   "metadata": {},
   "outputs": [],
   "source": [
    "cd /home/user1/src/git/ServerlessLabs/ServerlessWorkshop/AWS-S3-Lambda/\n",
    "\n",
    "chalice new-project twilio-sms"
   ]
  },
  {
   "cell_type": "code",
   "execution_count": 2,
   "metadata": {},
   "outputs": [],
   "source": [
    "cd twilio-sms\n",
    "\n",
    "cat > app.py <<EOF\n",
    "\n",
    "from os import environ as env\n",
    "\n",
    "# 3rd party imports\n",
    "from chalice import Chalice, Response\n",
    "from twilio.rest import Client\n",
    "from twilio.base.exceptions import TwilioRestException\n",
    "\n",
    "# Twilio Config\n",
    "ACCOUNT_SID = env.get('TWILIO_ACCOUNT_SID')\n",
    "AUTH_TOKEN = env.get('TWILIO_AUTH_TOKEN')\n",
    "FROM_NUMBER = env.get('TWILIO_FROM_NUMBER')\n",
    "TO_NUMBER = env.get('TWILIO_TO_NUMBER')\n",
    "\n",
    "app = Chalice(app_name='sms-shooter')\n",
    "\n",
    "# Create a Twilio client using account_sid and auth token\n",
    "tw_client = Client(ACCOUNT_SID, AUTH_TOKEN)\n",
    "\n",
    "@app.route('/service/sms/send', methods=['POST'])\n",
    "def send_sms():\n",
    "    request_body = app.current_request.json_body\n",
    "    if request_body:\n",
    "        custom_headers={'X-myheader': 'cool', 'X-From': \"'\"+FROM_NUMBER+\"'\", 'X-To': \"'\"+TO_NUMBER+\"'\", 'Content-Type': 'application/json'}\n",
    "        try:\n",
    "            msg = tw_client.messages.create(\n",
    "                from_=FROM_NUMBER,\n",
    "                body=request_body['msg'],\n",
    "                to=TO_NUMBER)\n",
    "\n",
    "            if msg.sid:\n",
    "                return Response(status_code=201,\n",
    "                                headers=custom_headers,\n",
    "                                body={'status': 'success',\n",
    "                                      'data': msg.sid,\n",
    "                                      'message': 'SMS <{}> successfully sent to {}'.format(request_body['msg'], TO_NUMBER)})\n",
    "            else:\n",
    "                return Response(status_code=200,\n",
    "                                headers=custom_headers,\n",
    "                                body={'status': 'failure',\n",
    "                                      'message': 'Please try again!!!'})\n",
    "        except TwilioRestException as exc:\n",
    "            return Response(status_code=400,\n",
    "                                headers=custom_headers,\n",
    "                            body={'status': 'failure',\n",
    "                                  'message': exc.msg})\n",
    "                                  \n",
    "\n",
    "EOF\n",
    "\n",
    "cat > requirements.txt <<EOF\n",
    "boto3==1.3.1\n",
    "twilio==6.22.0\n",
    "EOF"
   ]
  },
  {
   "cell_type": "markdown",
   "metadata": {},
   "source": [
    "### Sending SMS from local server\n",
    "\n",
    "Stop the local server ```ctrl-C```\n",
    "\n",
    "Source ~/.twilio.rc\n",
    "```.  ~/.twilio.rc```\n",
    "\n",
    "Restart local server\n",
    "```chalice local```\n"
   ]
  },
  {
   "cell_type": "code",
   "execution_count": 3,
   "metadata": {},
   "outputs": [
    {
     "name": "stdout",
     "output_type": "stream",
     "text": [
      "/usr/lib/python3/dist-packages/requests/__init__.py:80: RequestsDependencyWarning: urllib3 (1.24.1) or chardet (3.0.4) doesn't match a supported version!\n",
      "  RequestsDependencyWarning)\n",
      "\u001b[34mHTTP\u001b[39;49;00m/\u001b[34m1.1\u001b[39;49;00m \u001b[34m201\u001b[39;49;00m \u001b[36mCreated\u001b[39;49;00m\n",
      "\u001b[36mContent-Length\u001b[39;49;00m: \u001b[33m187\u001b[39;49;00m\n",
      "\u001b[36mContent-Type\u001b[39;49;00m: \u001b[33mapplication/json\u001b[39;49;00m\n",
      "\u001b[36mDate\u001b[39;49;00m: \u001b[33mSat, 26 Jan 2019 06:48:04 GMT\u001b[39;49;00m\n",
      "\u001b[36mServer\u001b[39;49;00m: \u001b[33mBaseHTTP/0.6 Python/3.6.7\u001b[39;49;00m\n",
      "\u001b[36mX-From\u001b[39;49;00m: \u001b[33m'+33644601324'\u001b[39;49;00m\n",
      "\u001b[36mX-To\u001b[39;49;00m: \u001b[33m'+33652891534'\u001b[39;49;00m\n",
      "\u001b[36mX-myheader\u001b[39;49;00m: \u001b[33mcool\u001b[39;49;00m\n",
      "\n",
      "{\n",
      "    \u001b[34;01m\"data\"\u001b[39;49;00m: \u001b[33m\"SM7db3a082946e411cb95eec2e44cc7149\"\u001b[39;49;00m,\n",
      "    \u001b[34;01m\"message\"\u001b[39;49;00m: \u001b[33m\"SMS <MY MESSAGE at Sat Jan 26 06:48:04 UTC 2019 from user1@ip-172-31-21-116> successfully sent to +33652891534\"\u001b[39;49;00m,\n",
      "    \u001b[34;01m\"status\"\u001b[39;49;00m: \u001b[33m\"success\"\u001b[39;49;00m\n",
      "}\n",
      "\n"
     ]
    }
   ],
   "source": [
    ". ~/.twilio.rc\n",
    "#http POST :8000/service/sms/send msg=\"MY MESSAGE\" --debug\n",
    "http POST :8000/service/sms/send msg=\"MY MESSAGE at $(date) from ${USER}@$(hostname)\""
   ]
  },
  {
   "cell_type": "markdown",
   "metadata": {},
   "source": [
    "### Sending SMS to Twilio from deployed service\n",
    "\n",
    "**INCOMPLETE**: Need to safely transfer credentials into version deployed onto AWS\n",
    "\n",
    "For now this is a **WORST PRACTICE** ... but this VM will be deleted this morning so the risk is limited."
   ]
  },
  {
   "cell_type": "code",
   "execution_count": null,
   "metadata": {},
   "outputs": [],
   "source": [
    "chalice deploy; chalice url"
   ]
  },
  {
   "cell_type": "markdown",
   "metadata": {},
   "source": []
  },
  {
   "cell_type": "code",
   "execution_count": null,
   "metadata": {},
   "outputs": [],
   "source": [
    "## BUT HOW TO PASS IN TWILIO SECRETS ?? !!\n",
    "\n",
    "http POST $(chalice url)/service/sms/send msg=\"MY MESSAGE at $(date) from ${USER}@$(hostname)\""
   ]
  },
  {
   "cell_type": "markdown",
   "metadata": {},
   "source": []
  },
  {
   "cell_type": "markdown",
   "metadata": {},
   "source": [
    "# More Reading\n",
    "\n",
    "\n",
    "# Cleanup\n",
    "\n"
   ]
  },
  {
   "cell_type": "code",
   "execution_count": null,
   "metadata": {},
   "outputs": [],
   "source": []
  },
  {
   "cell_type": "markdown",
   "metadata": {},
   "source": []
  }
 ],
 "metadata": {
  "kernelspec": {
   "display_name": "Bash",
   "language": "bash",
   "name": "bash"
  },
  "language_info": {
   "codemirror_mode": "shell",
   "file_extension": ".sh",
   "mimetype": "text/x-sh",
   "name": "bash"
  }
 },
 "nbformat": 4,
 "nbformat_minor": 2
}
