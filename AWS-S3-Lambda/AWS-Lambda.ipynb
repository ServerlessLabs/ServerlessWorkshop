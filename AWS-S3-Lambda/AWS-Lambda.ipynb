{
 "cells": [
  {
   "cell_type": "markdown",
   "metadata": {},
   "source": [
    "# AWS Lambda\n",
    "\n",
    "AWS Lambda is the Serverless product that AWS introduced at reInvent in November 2014.  Lambda has largely popularized the concept of Serverless and AWS continue to lead in this space.\n",
    "\n",
    "AWS Lambda allows developers to create and deploy small functions and have the code executed without the need to provision servers.  You pay only for the resources used rather than for idle servers.\n",
    "\n",
    "A Lambda function provides a handler which is the entry point for the Lambda written for the chosen runtime such as node.js, python etc.\n",
    "A Lambda function accepts JSON-formatted input and will usually return the same.\n",
    "\n",
    "Lambda function is invoked in response to an event, such as an S3 file upload, a change in a database table, a web request or a scheduled event.\n",
    "\n",
    "Runtimes\n",
    "The following languages, as well as custom runtimes, are now supported\n",
    "- C#\n",
    "- Go\n",
    "- Java\n",
    "- Node.js\n",
    "- Python\n",
    "\n",
    "## Closed-source\n",
    "\n",
    "Unfortunately AWS Lambda itself if a proprietary service.\n",
    "\n",
    "Nevertheless as the leader in this space it is important to understand it's capabilities and limitations.\n",
    "\n",
    "There are many Open Source tools which allow to deploy to AWS Lambda such as\n",
    "- Serverless(.com) - allows to deploy to several Serverless platforms\n",
    "- Chalice (A Python Framework provided by AWS)\n",
    "- Claudia (A Node.js Framework)\n",
    "\n",
    "or even to emulate Lambda for testing purposes\n",
    "- localstack\n",
    "- docker-lambda (https://github.com/lambci/docker-lambda)\n",
    "\n",
    "## Setup\n",
    "\n",
    "To run these exercises you should first have\n",
    "- installed the awscli package to provide the aws command and also\n",
    "- configured either\n",
    "  - the ~/.aws/configure file with your AWS account credentials or\n",
    "  - created a sourceable ~/.aws/credentials.rc (can be in any location) file"
   ]
  },
  {
   "cell_type": "markdown",
   "metadata": {},
   "source": [
    "```\n",
    "> cat ~/.aws/credentials.rc\n",
    "\n",
    "export AWS_ACCESS_KEY_ID=\"<your-access-key>\"\n",
    "export AWS_SECRET_ACCESS_KEY=\"<your-secret-access-key>\"\n",
    "export AWS_DEFAULT_REGION=us-west-1\n",
    "```"
   ]
  },
  {
   "cell_type": "markdown",
   "metadata": {},
   "source": [
    "If you have chosen to use an rc file, source it as ```source <your-aws-credentials-rc-file>```, e.g."
   ]
  },
  {
   "cell_type": "code",
   "execution_count": null,
   "metadata": {},
   "outputs": [],
   "source": [
    ". ~/.aws/credentials.rc"
   ]
  },
  {
   "cell_type": "markdown",
   "metadata": {},
   "source": [
    "We can now use the aws cli utility to access lambda commands.\n",
    "\n",
    "Let's investigate the available commands with ```aws lambda help```"
   ]
  },
  {
   "cell_type": "code",
   "execution_count": 59,
   "metadata": {},
   "outputs": [
    {
     "name": "stdout",
     "output_type": "stream",
     "text": [
      "LAMBDA()                                                              LAMBDA()\n",
      "\n",
      "\n",
      "\n",
      "NAME\n",
      "       lambda -\n",
      "\n",
      "DESCRIPTION\n",
      "          Overview\n",
      "\n",
      "       This  is  the AWS Lambda API Reference . The AWS Lambda Developer Guide\n",
      "       provides additional information. For the service overview, see What  is\n",
      "       AWS  Lambda  , and for information about how the service works, see AWS\n",
      "       Lambda: How it Works in the AWS Lambda Developer Guide .\n",
      "\n",
      "AVAILABLE COMMANDS\n",
      "       o add-layer-version-permission\n",
      "\n",
      "       o add-permission\n",
      "\n",
      "       o create-alias\n",
      "\n",
      "       o create-event-source-mapping\n",
      "\n",
      "       o create-function\n",
      "\n",
      "       o delete-alias\n",
      "\n",
      "       o delete-event-source-mapping\n",
      "\n",
      "       o delete-function\n",
      "\n",
      "       o delete-function-concurrency\n",
      "\n",
      "       o delete-layer-version\n",
      "\n",
      "       o get-account-settings\n",
      "\n",
      "       o get-alias\n",
      "\n",
      "       o get-event-source-mapping\n",
      "\n",
      "       o get-function\n",
      "\n",
      "       o get-function-configuration\n",
      "\n",
      "       o get-layer-version\n",
      "\n",
      "       o get-layer-version-policy\n",
      "\n",
      "       o get-policy\n",
      "\n",
      "       o help\n",
      "\n",
      "       o invoke\n",
      "\n",
      "       o list-aliases\n",
      "\n",
      "       o list-event-source-mappings\n",
      "\n",
      "       o list-functions\n",
      "\n",
      "       o list-layer-versions\n",
      "\n",
      "       o list-layers\n",
      "\n",
      "       o list-tags\n",
      "\n",
      "       o list-versions-by-function\n",
      "\n",
      "       o publish-layer-version\n",
      "\n",
      "       o publish-version\n",
      "\n",
      "       o put-function-concurrency\n",
      "\n",
      "       o remove-layer-version-permission\n",
      "\n",
      "       o remove-permission\n",
      "\n",
      "       o tag-resource\n",
      "\n",
      "       o untag-resource\n",
      "\n",
      "       o update-alias\n",
      "\n",
      "       o update-event-source-mapping\n",
      "\n",
      "       o update-function-code\n",
      "\n",
      "       o update-function-configuration\n",
      "\n",
      "\n",
      "\n",
      "                                                                      LAMBDA()\n"
     ]
    }
   ],
   "source": [
    "aws lambda help "
   ]
  },
  {
   "cell_type": "markdown",
   "metadata": {},
   "source": [
    "Let's see if we have any functions defined already using the ```aws lambda list-functions``` command.\n",
    "You won't have any functions if you just created your account."
   ]
  },
  {
   "cell_type": "code",
   "execution_count": 60,
   "metadata": {},
   "outputs": [
    {
     "name": "stdout",
     "output_type": "stream",
     "text": [
      "{\n",
      "    \"Functions\": []\n",
      "}\n"
     ]
    }
   ],
   "source": [
    "aws lambda list-functions"
   ]
  },
  {
   "cell_type": "markdown",
   "metadata": {},
   "source": [
    "Note that it is possible to create functions directly using the command ```aws lambda create-function``` but there exist several tools which facilitate function creation and deployment.\n",
    "\n",
    "For information about use of ```aws lambda create-function``` refer to these articles\n",
    "- https://www.tutorialspoint.com/aws_lambda/aws_lambda_creating_and_deploying_using_aws_cli.htm\n",
    "- https://docs.aws.amazon.com/lambda/latest/dg/API_CreateFunction.html\n",
    "\n",
    "We will continue using other frameworks.\n",
    "- Chalice: A Python Serverless Micro-service framework for AWS Lambda\n",
    "- Claudia: A Node.js Serverless framework for AWS Lambda\n",
    "- Serverless: A Serverless platform for various platorms (AWS Lambda, Azure Functions, Google CloudFunctions and more)\n",
    "\n",
    "## Chalice\n",
    "\n",
    "Chalice is an open source project created by AWS, available here: https://github.com/aws/chalice\n",
    "\n",
    "Documentation is at https://chalice.readthedocs.io/en/latest/\n",
    "\n",
    "Chalice allows to\n",
    "- deploy to a local test server\n",
    "- deploy to AWS Lambda\n",
    "\n",
    "Let's see what options are available using ```chalice --help``` command"
   ]
  },
  {
   "cell_type": "code",
   "execution_count": 62,
   "metadata": {},
   "outputs": [
    {
     "name": "stdout",
     "output_type": "stream",
     "text": [
      "Usage: chalice [OPTIONS] COMMAND [ARGS]...\n",
      "\n",
      "Options:\n",
      "  --version             Show the version and exit.\n",
      "  --project-dir TEXT    The project directory.  Defaults to CWD\n",
      "  --debug / --no-debug  Print debug logs to stderr.\n",
      "  --help                Show this message and exit.\n",
      "\n",
      "Commands:\n",
      "  delete\n",
      "  deploy\n",
      "  gen-policy\n",
      "  generate-pipeline  Generate a cloudformation template for a...\n",
      "  generate-sdk\n",
      "  invoke             Invoke the deployed lambda function NAME.\n",
      "  local\n",
      "  logs\n",
      "  new-project\n",
      "  package\n",
      "  url\n"
     ]
    }
   ],
   "source": [
    "chalice --help"
   ]
  },
  {
   "cell_type": "markdown",
   "metadata": {},
   "source": [
    "## Create a Chalice project\n",
    "\n",
    "Let's start by creating a new Chalice project:"
   ]
  },
  {
   "cell_type": "code",
   "execution_count": 63,
   "metadata": {},
   "outputs": [
    {
     "name": "stdout",
     "output_type": "stream",
     "text": [
      "total 20\n",
      "drwxrwxr-x 3 user1 user1 4096 Jan 25 00:44 \u001b[0m\u001b[01;34m.\u001b[0m\n",
      "drwxrwxr-x 5 user1 user1 4096 Jan 25 00:44 \u001b[01;34m..\u001b[0m\n",
      "drwxrwxr-x 2 user1 user1 4096 Jan 25 00:44 \u001b[01;34m.chalice\u001b[0m\n",
      "-rw-rw-r-- 1 user1 user1   37 Jan 25 00:44 .gitignore\n",
      "-rw-rw-r-- 1 user1 user1  736 Jan 25 00:44 app.py\n",
      "-rw-rw-r-- 1 user1 user1    0 Jan 25 00:44 requirements.txt\n"
     ]
    }
   ],
   "source": [
    "chalice new-project chalice-app\n",
    "cd chalice-app\n",
    "ls -al"
   ]
  },
  {
   "cell_type": "markdown",
   "metadata": {},
   "source": [
    "We see that Chalice had created a template project for us, looking at the app.py file we see that we have a Python application to run a REST API server with just one route for '/'"
   ]
  },
  {
   "cell_type": "code",
   "execution_count": 114,
   "metadata": {},
   "outputs": [
    {
     "name": "stdout",
     "output_type": "stream",
     "text": [
      "from chalice import Chalice\n",
      "\n",
      "app = Chalice(app_name='0')\n",
      "\n",
      "\n",
      "@app.route('/')\n",
      "def index():\n",
      "    return {'hello': 'world'}\n",
      "\n",
      "\n",
      "# The view function above will return {\"hello\": \"world\"}\n",
      "# whenever you make an HTTP GET request to '/'.\n",
      "#\n",
      "# Here are a few more examples:\n",
      "#\n",
      "# @app.route('/hello/{name}')\n",
      "# def hello_name(name):\n",
      "#    # '/hello/james' -> {\"hello\": \"james\"}\n",
      "#    return {'hello': name}\n",
      "#\n",
      "# @app.route('/users', methods=['POST'])\n",
      "# def create_user():\n",
      "#     # This is the JSON body the user sent in their POST request.\n",
      "#     user_as_json = app.current_request.json_body\n",
      "#     # We'll echo the json body back to the user in a 'user' key.\n",
      "#     return {'user': user_as_json}\n",
      "#\n",
      "# See the README documentation for more examples.\n",
      "#\n"
     ]
    }
   ],
   "source": [
    "cat app.py"
   ]
  },
  {
   "cell_type": "markdown",
   "metadata": {},
   "source": [
    "## Run the function locally\n",
    "\n",
    "Run the command ```chalice local``` to deploy a local test server\n",
    "\n",
    "```> chalice local\n",
    "Serving on http://127.0.0.1:8000\n",
    "```"
   ]
  },
  {
   "cell_type": "code",
   "execution_count": 115,
   "metadata": {},
   "outputs": [
    {
     "name": "stdout",
     "output_type": "stream",
     "text": [
      "\u001b[34mHTTP\u001b[39;49;00m/\u001b[34m1.1\u001b[39;49;00m \u001b[34m200\u001b[39;49;00m \u001b[36mOK\u001b[39;49;00m\n",
      "\u001b[36mContent-Length\u001b[39;49;00m: \u001b[33m17\u001b[39;49;00m\n",
      "\u001b[36mContent-Type\u001b[39;49;00m: \u001b[33mapplication/json\u001b[39;49;00m\n",
      "\u001b[36mDate\u001b[39;49;00m: \u001b[33mFri, 25 Jan 2019 01:33:24 GMT\u001b[39;49;00m\n",
      "\u001b[36mServer\u001b[39;49;00m: \u001b[33mBaseHTTP/0.6 Python/3.6.7\u001b[39;49;00m\n",
      "\n",
      "{\n",
      "    \u001b[34;01m\"hello\"\u001b[39;49;00m: \u001b[33m\"world\"\u001b[39;49;00m\n",
      "}\n",
      "\n"
     ]
    }
   ],
   "source": [
    "http 127.0.0.1:8000"
   ]
  },
  {
   "cell_type": "markdown",
   "metadata": {},
   "source": [
    "We see that chalice has allowed us to very quickly\n",
    "- create an application skeleton and to\n",
    "- test it locally.\n",
    "\n",
    "### Updates\n",
    "\n",
    "Try making a chance to to app.py file and saving it.\n",
    "\n",
    "Notice that chalice detects the change and redeploys the server to take into account the changes:\n",
    "```\n",
    "user1@ip-172-31-21-116:~/src/git/ServerlessLabs/ServerlessWorkshop/AWS-S3-Lambda/chalice-app$ chalice local\n",
    "Serving on http://127.0.0.1:8000\n",
    "127.0.0.1 - - [25/Jan/2019 00:45:04] \"GET / HTTP/1.1\" 200 -\n",
    "Restarting local dev server.\n",
    "Serving on http://127.0.0.1:8000\n",
    "Restarting local dev server.\n",
    "Serving on http://127.0.0.1:8000\n",
    "```\n",
    "\n",
    "## Deploying a function to AWS Lambda\n",
    "Now let's deploy this to AWS Lambda using the ```chalice deploy``` command\n"
   ]
  },
  {
   "cell_type": "code",
   "execution_count": 66,
   "metadata": {},
   "outputs": [
    {
     "name": "stdout",
     "output_type": "stream",
     "text": [
      "Usage: chalice deploy [OPTIONS]\n",
      "\n",
      "Options:\n",
      "  --autogen-policy / --no-autogen-policy\n",
      "                                  Automatically generate IAM policy for app\n",
      "                                  code.\n",
      "  --profile TEXT                  Override profile at deploy time.\n",
      "  --api-gateway-stage TEXT        Name of the API gateway stage to deploy to.\n",
      "  --stage TEXT                    Name of the Chalice stage to deploy to.\n",
      "                                  Specifying a new chalice stage will create\n",
      "                                  an entirely new set of AWS resources.\n",
      "  --connection-timeout INTEGER    Overrides the default botocore connection\n",
      "                                  timeout.\n",
      "  --help                          Show this message and exit.\n"
     ]
    }
   ],
   "source": [
    "chalice deploy --help"
   ]
  },
  {
   "cell_type": "code",
   "execution_count": 67,
   "metadata": {},
   "outputs": [
    {
     "name": "stdout",
     "output_type": "stream",
     "text": [
      "{\n",
      "    \"Functions\": []\n",
      "}\n"
     ]
    }
   ],
   "source": [
    "aws lambda list-functions"
   ]
  },
  {
   "cell_type": "code",
   "execution_count": 68,
   "metadata": {},
   "outputs": [
    {
     "name": "stdout",
     "output_type": "stream",
     "text": [
      "Creating deployment package.\n",
      "Updating policy for IAM role: chalice-app-dev\n",
      "Creating lambda function: chalice-app-dev\n",
      "Creating Rest API\n",
      "Resources deployed:\n",
      "  - Lambda ARN: arn:aws:lambda:us-west-1:568285458700:function:chalice-app-dev\n",
      "  - Rest API URL: https://shet9854i1.execute-api.us-west-1.amazonaws.com/api/\n"
     ]
    }
   ],
   "source": [
    "chalice deploy"
   ]
  },
  {
   "cell_type": "markdown",
   "metadata": {},
   "source": [
    "In ust a few commands we've been able to create a project template, run a local test server and deploy our skeleton app to AWS Lambda.\n",
    "\n",
    "Chalice greatly simplifies the deployment of Python functions.\n"
   ]
  },
  {
   "cell_type": "code",
   "execution_count": 69,
   "metadata": {},
   "outputs": [
    {
     "name": "stdout",
     "output_type": "stream",
     "text": [
      "{\n",
      "    \"Functions\": [\n",
      "        {\n",
      "            \"FunctionName\": \"chalice-app-dev\",\n",
      "            \"FunctionArn\": \"arn:aws:lambda:us-west-1:568285458700:function:chalice-app-dev\",\n",
      "            \"Runtime\": \"python3.6\",\n",
      "            \"Role\": \"arn:aws:iam::568285458700:role/chalice-app-dev\",\n",
      "            \"Handler\": \"app.app\",\n",
      "            \"CodeSize\": 10518,\n",
      "            \"Description\": \"\",\n",
      "            \"Timeout\": 60,\n",
      "            \"MemorySize\": 128,\n",
      "            \"LastModified\": \"2019-01-25T00:46:57.627+0000\",\n",
      "            \"CodeSha256\": \"7OxQgMx43v9fW7N1BL8O48Dn9jZerW9kqt6fycWru64=\",\n",
      "            \"Version\": \"$LATEST\",\n",
      "            \"VpcConfig\": {\n",
      "                \"SubnetIds\": [],\n",
      "                \"SecurityGroupIds\": [],\n",
      "                \"VpcId\": \"\"\n",
      "            },\n",
      "            \"Environment\": {\n",
      "                \"Variables\": {}\n",
      "            },\n",
      "            \"TracingConfig\": {\n",
      "                \"Mode\": \"PassThrough\"\n",
      "            },\n",
      "            \"RevisionId\": \"e8b57e42-07d2-47db-91d8-27e6b714282f\"\n",
      "        }\n",
      "    ]\n",
      "}\n"
     ]
    }
   ],
   "source": [
    "aws lambda list-functions"
   ]
  },
  {
   "cell_type": "markdown",
   "metadata": {},
   "source": [
    "Let's now invoke our deployed function, but if we didn't note the output of our deploy command how could we get the url, it is not provided by ```aws lambda list-functions```?\n",
    "\n",
    "Chalice has the ```url``` command to determine the URL:"
   ]
  },
  {
   "cell_type": "code",
   "execution_count": 70,
   "metadata": {},
   "outputs": [
    {
     "name": "stdout",
     "output_type": "stream",
     "text": [
      "https://shet9854i1.execute-api.us-west-1.amazonaws.com/api/\n"
     ]
    }
   ],
   "source": [
    "chalice url"
   ]
  },
  {
   "cell_type": "code",
   "execution_count": 71,
   "metadata": {},
   "outputs": [
    {
     "name": "stdout",
     "output_type": "stream",
     "text": [
      "\u001b[34mHTTP\u001b[39;49;00m/\u001b[34m1.1\u001b[39;49;00m \u001b[34m200\u001b[39;49;00m \u001b[36mOK\u001b[39;49;00m\n",
      "\u001b[36mConnection\u001b[39;49;00m: \u001b[33mkeep-alive\u001b[39;49;00m\n",
      "\u001b[36mContent-Length\u001b[39;49;00m: \u001b[33m17\u001b[39;49;00m\n",
      "\u001b[36mContent-Type\u001b[39;49;00m: \u001b[33mapplication/json\u001b[39;49;00m\n",
      "\u001b[36mDate\u001b[39;49;00m: \u001b[33mFri, 25 Jan 2019 00:47:21 GMT\u001b[39;49;00m\n",
      "\u001b[36mVia\u001b[39;49;00m: \u001b[33m1.1 d8f42fc9558e3e49ebfdf8834baeb756.cloudfront.net (CloudFront)\u001b[39;49;00m\n",
      "\u001b[36mX-Amz-Cf-Id\u001b[39;49;00m: \u001b[33mmsiOZ4amdmAft_uEIRj3jshOw5dT8zmfAv12w_Z_R1MMFcP3ZDm8iw==\u001b[39;49;00m\n",
      "\u001b[36mX-Amzn-Trace-Id\u001b[39;49;00m: \u001b[33mRoot=1-5c4a5c99-86603932d98ab306f458536d;Sampled=0\u001b[39;49;00m\n",
      "\u001b[36mX-Cache\u001b[39;49;00m: \u001b[33mMiss from cloudfront\u001b[39;49;00m\n",
      "\u001b[36mx-amz-apigw-id\u001b[39;49;00m: \u001b[33mUCNoBHizyK4FQTw=\u001b[39;49;00m\n",
      "\u001b[36mx-amzn-RequestId\u001b[39;49;00m: \u001b[33mc634786e-203a-11e9-8a02-f1a3979b94fb\u001b[39;49;00m\n",
      "\n",
      "{\n",
      "    \u001b[34;01m\"hello\"\u001b[39;49;00m: \u001b[33m\"world\"\u001b[39;49;00m\n",
      "}\n",
      "\n"
     ]
    }
   ],
   "source": [
    "http $(chalice url)"
   ]
  },
  {
   "cell_type": "markdown",
   "metadata": {},
   "source": [
    "## Cleanup: deleting the function deployment\n",
    "\n",
    "We can cleanup by deleting the function which we deployed"
   ]
  },
  {
   "cell_type": "code",
   "execution_count": 72,
   "metadata": {},
   "outputs": [
    {
     "name": "stdout",
     "output_type": "stream",
     "text": [
      "{\n",
      "    \"Functions\": []\n",
      "}\n"
     ]
    }
   ],
   "source": [
    "aws lambda delete-function --function-name chalice-app-dev\n",
    "aws lambda list-functions"
   ]
  },
  {
   "cell_type": "markdown",
   "metadata": {},
   "source": [
    "# Function capabilities"
   ]
  },
  {
   "cell_type": "markdown",
   "metadata": {},
   "source": []
  },
  {
   "cell_type": "markdown",
   "metadata": {},
   "source": []
  },
  {
   "cell_type": "code",
   "execution_count": 128,
   "metadata": {},
   "outputs": [],
   "source": [
    "cat > app.py << EOF\n",
    "from chalice import Chalice, Response\n",
    "#import sys\n",
    "\n",
    "app = Chalice(app_name='chalice-app')\n",
    "\n",
    "\n",
    "@app.route('/')\n",
    "def index():\n",
    "\n",
    "    custom_headers = {\n",
    "        'Content-Type': 'text/plain',\n",
    "        'X-Debug': 'some debug information'\n",
    "    }\n",
    "\n",
    "    return Response(body='hello world!',\n",
    "                  status_code=200,\n",
    "                  headers=custom_headers)\n",
    "                    \n",
    "    #print(\"INDEX: hello world\")\n",
    "    #sys.stderr.write(\"XX\")\n",
    "    #return {'hello': 'world'}\n",
    "EOF\n",
    "\n"
   ]
  },
  {
   "cell_type": "code",
   "execution_count": 129,
   "metadata": {},
   "outputs": [
    {
     "name": "stdout",
     "output_type": "stream",
     "text": [
      "\u001b[34mHTTP\u001b[39;49;00m/\u001b[34m1.1\u001b[39;49;00m \u001b[34m200\u001b[39;49;00m \u001b[36mOK\u001b[39;49;00m\n",
      "\u001b[36mContent-Length\u001b[39;49;00m: \u001b[33m12\u001b[39;49;00m\n",
      "\u001b[36mContent-Type\u001b[39;49;00m: \u001b[33mtext/plain\u001b[39;49;00m\n",
      "\u001b[36mDate\u001b[39;49;00m: \u001b[33mFri, 25 Jan 2019 01:38:18 GMT\u001b[39;49;00m\n",
      "\u001b[36mServer\u001b[39;49;00m: \u001b[33mBaseHTTP/0.6 Python/3.6.7\u001b[39;49;00m\n",
      "\u001b[36mX-Debug\u001b[39;49;00m: \u001b[33msome debug information\u001b[39;49;00m\n",
      "\n",
      "hello world!\n",
      "\n"
     ]
    }
   ],
   "source": [
    "http 127.0.0.1:8000"
   ]
  },
  {
   "cell_type": "code",
   "execution_count": 160,
   "metadata": {},
   "outputs": [],
   "source": [
    "cat > app.py <<EOF\n",
    "from chalice import Chalice\n",
    "\n",
    "app = Chalice(app_name='helloworld')\n",
    "\n",
    "\n",
    "@app.route('/')\n",
    "def index():\n",
    "    return {'hello': 'world'}\n",
    "\n",
    "\n",
    "# The view function above will return {\"hello\": \"world\"}\n",
    "# whenever you make an HTTP GET request to '/'.\n",
    "#\n",
    "# Here are a few more examples:\n",
    "#\n",
    "@app.route('/hello/{name}')\n",
    "def hello_name(name):\n",
    "   # '/hello/james' -> {\"hello\": \"james\"}\n",
    "   return {'hello': name}\n",
    "\n",
    "@app.route('/users', methods=['POST'])\n",
    "def create_user():\n",
    "    # This is the JSON body the user sent in their POST request.\n",
    "    user_as_json = app.current_request.json_body\n",
    "    # We'll echo the json body back to the user in a 'user' key.\n",
    "    return {'user': user_as_json}\n",
    "\n",
    "EOF"
   ]
  },
  {
   "cell_type": "code",
   "execution_count": 162,
   "metadata": {},
   "outputs": [
    {
     "name": "stdout",
     "output_type": "stream",
     "text": [
      "\u001b[34mHTTP\u001b[39;49;00m/\u001b[34m1.1\u001b[39;49;00m \u001b[34m200\u001b[39;49;00m \u001b[36mOK\u001b[39;49;00m\n",
      "\u001b[36mContent-Length\u001b[39;49;00m: \u001b[33m19\u001b[39;49;00m\n",
      "\u001b[36mContent-Type\u001b[39;49;00m: \u001b[33mapplication/json\u001b[39;49;00m\n",
      "\u001b[36mDate\u001b[39;49;00m: \u001b[33mFri, 25 Jan 2019 02:01:46 GMT\u001b[39;49;00m\n",
      "\u001b[36mServer\u001b[39;49;00m: \u001b[33mBaseHTTP/0.6 Python/3.6.7\u001b[39;49;00m\n",
      "\n",
      "{\n",
      "    \u001b[34;01m\"user\"\u001b[39;49;00m: \u001b[33m\"testuser\"\u001b[39;49;00m\n",
      "}\n",
      "\n"
     ]
    }
   ],
   "source": [
    "echo '\"testuser\"' | http POST :8000/users"
   ]
  },
  {
   "cell_type": "code",
   "execution_count": 163,
   "metadata": {},
   "outputs": [
    {
     "name": "stdout",
     "output_type": "stream",
     "text": [
      "\u001b[34mHTTP\u001b[39;49;00m/\u001b[34m1.1\u001b[39;49;00m \u001b[34m200\u001b[39;49;00m \u001b[36mOK\u001b[39;49;00m\n",
      "\u001b[36mContent-Length\u001b[39;49;00m: \u001b[33m49\u001b[39;49;00m\n",
      "\u001b[36mContent-Type\u001b[39;49;00m: \u001b[33mapplication/json\u001b[39;49;00m\n",
      "\u001b[36mDate\u001b[39;49;00m: \u001b[33mFri, 25 Jan 2019 02:02:05 GMT\u001b[39;49;00m\n",
      "\u001b[36mServer\u001b[39;49;00m: \u001b[33mBaseHTTP/0.6 Python/3.6.7\u001b[39;49;00m\n",
      "\n",
      "{\n",
      "    \u001b[34;01m\"user\"\u001b[39;49;00m: [\n",
      "        \u001b[33m\"testuser\"\u001b[39;49;00m,\n",
      "        {\n",
      "            \u001b[34;01m\"fullname\"\u001b[39;49;00m: \u001b[33m\"My full name\"\u001b[39;49;00m\n",
      "        }\n",
      "    ]\n",
      "}\n",
      "\n"
     ]
    }
   ],
   "source": [
    "echo '[\"testuser\", {\"fullname\": \"My full name\"}]' | http POST :8000/users"
   ]
  },
  {
   "cell_type": "code",
   "execution_count": 164,
   "metadata": {},
   "outputs": [],
   "source": [
    "cat > app.py <<EOF\n",
    "from chalice import Chalice\n",
    "\n",
    "app = Chalice(app_name='helloworld')\n",
    "\n",
    "'''\n",
    "Enabling app.debug gives much better error message for missing key than:\n",
    "    { \"Code\": \"ChaliceViewError\",\n",
    "      \"Message\": \"ChaliceViewError: An internal server error occurred.\"\n",
    "    }\n",
    "'''\n",
    "app.debug = True\n",
    "\n",
    "CITIES_TO_STATE = {\n",
    "    'seattle': 'WA',\n",
    "    'portland': 'OR',\n",
    "}\n",
    "\n",
    "\n",
    "@app.route('/')\n",
    "def index():\n",
    "    return {'hello': 'world'}\n",
    "\n",
    "@app.route('/cities/{city}')\n",
    "def state_of_city(city):\n",
    "    return {'state': CITIES_TO_STATE[city]}\n",
    "\n",
    "\n",
    "EOF"
   ]
  },
  {
   "cell_type": "code",
   "execution_count": 166,
   "metadata": {},
   "outputs": [
    {
     "name": "stdout",
     "output_type": "stream",
     "text": [
      "\u001b[34mHTTP\u001b[39;49;00m/\u001b[34m1.1\u001b[39;49;00m \u001b[34m200\u001b[39;49;00m \u001b[36mOK\u001b[39;49;00m\n",
      "\u001b[36mContent-Length\u001b[39;49;00m: \u001b[33m17\u001b[39;49;00m\n",
      "\u001b[36mContent-Type\u001b[39;49;00m: \u001b[33mapplication/json\u001b[39;49;00m\n",
      "\u001b[36mDate\u001b[39;49;00m: \u001b[33mFri, 25 Jan 2019 02:04:26 GMT\u001b[39;49;00m\n",
      "\u001b[36mServer\u001b[39;49;00m: \u001b[33mBaseHTTP/0.6 Python/3.6.7\u001b[39;49;00m\n",
      "\n",
      "{\n",
      "    \u001b[34;01m\"hello\"\u001b[39;49;00m: \u001b[33m\"world\"\u001b[39;49;00m\n",
      "}\n",
      "\n",
      "\u001b[34mHTTP\u001b[39;49;00m/\u001b[34m1.1\u001b[39;49;00m \u001b[34m200\u001b[39;49;00m \u001b[36mOK\u001b[39;49;00m\n",
      "\u001b[36mContent-Length\u001b[39;49;00m: \u001b[33m14\u001b[39;49;00m\n",
      "\u001b[36mContent-Type\u001b[39;49;00m: \u001b[33mapplication/json\u001b[39;49;00m\n",
      "\u001b[36mDate\u001b[39;49;00m: \u001b[33mFri, 25 Jan 2019 02:04:26 GMT\u001b[39;49;00m\n",
      "\u001b[36mServer\u001b[39;49;00m: \u001b[33mBaseHTTP/0.6 Python/3.6.7\u001b[39;49;00m\n",
      "\n",
      "{\n",
      "    \u001b[34;01m\"state\"\u001b[39;49;00m: \u001b[33m\"WA\"\u001b[39;49;00m\n",
      "}\n",
      "\n",
      "\u001b[34mHTTP\u001b[39;49;00m/\u001b[34m1.1\u001b[39;49;00m \u001b[34m200\u001b[39;49;00m \u001b[36mOK\u001b[39;49;00m\n",
      "\u001b[36mContent-Length\u001b[39;49;00m: \u001b[33m14\u001b[39;49;00m\n",
      "\u001b[36mContent-Type\u001b[39;49;00m: \u001b[33mapplication/json\u001b[39;49;00m\n",
      "\u001b[36mDate\u001b[39;49;00m: \u001b[33mFri, 25 Jan 2019 02:04:26 GMT\u001b[39;49;00m\n",
      "\u001b[36mServer\u001b[39;49;00m: \u001b[33mBaseHTTP/0.6 Python/3.6.7\u001b[39;49;00m\n",
      "\n",
      "{\n",
      "    \u001b[34;01m\"state\"\u001b[39;49;00m: \u001b[33m\"OR\"\u001b[39;49;00m\n",
      "}\n",
      "\n",
      "\u001b[34mHTTP\u001b[39;49;00m/\u001b[34m1.1\u001b[39;49;00m \u001b[34m500\u001b[39;49;00m \u001b[36mInternal Server Error\u001b[39;49;00m\n",
      "\u001b[36mContent-Length\u001b[39;49;00m: \u001b[33m376\u001b[39;49;00m\n",
      "\u001b[36mContent-Type\u001b[39;49;00m: \u001b[33mtext/plain\u001b[39;49;00m\n",
      "\u001b[36mDate\u001b[39;49;00m: \u001b[33mFri, 25 Jan 2019 02:04:27 GMT\u001b[39;49;00m\n",
      "\u001b[36mServer\u001b[39;49;00m: \u001b[33mBaseHTTP/0.6 Python/3.6.7\u001b[39;49;00m\n",
      "\n",
      "Traceback (most recent call last):\n",
      "  File \"/usr/local/lib/python3.6/dist-packages/chalice/app.py\", line 731, in _get_view_function_response\n",
      "    response = view_function(**function_args)\n",
      "  File \"/home/user1/src/git/ServerlessLabs/ServerlessWorkshop/AWS-S3-Lambda/chalice-app/app.py\", line 25, in state_of_city\n",
      "    return {'state': CITIES_TO_STATE[city]}\n",
      "KeyError: 'noSuchCity'\n",
      "\n"
     ]
    }
   ],
   "source": [
    "http 127.0.0.1:8000\n",
    "\n",
    "http 127.0.0.1:8000/cities/seattle\n",
    "http :8000/cities/portland\n",
    "http :8000/cities/noSuchCity\n"
   ]
  },
  {
   "cell_type": "code",
   "execution_count": 167,
   "metadata": {},
   "outputs": [],
   "source": [
    "cat > app.py <<EOF\n",
    "from chalice import Chalice\n",
    "from chalice import BadRequestError\n",
    "from chalice import TooManyRequestsError\n",
    "\n",
    "'''\n",
    "  NOTE: Can use different error codes:\n",
    "    * BadRequestError   - return a status code of 400\n",
    "    * UnauthorizedError - return a status code of 401\n",
    "    * ForbiddenError    - return a status code of 403\n",
    "    * NotFoundError     - return a status code of 404\n",
    "    * ConflictError     - return a status code of 409\n",
    "    * UnprocessableEntityError - return a status code of 422\n",
    "    * TooManyRequestsError - return a status code of 429\n",
    "    * ChaliceViewError  - return a status code of 500\n",
    "'''\n",
    "\n",
    "app = Chalice(app_name='helloworld')\n",
    "\n",
    "''' Enabling app.debug gives much better error message for missing key than:\n",
    "    { \"Code\": \"ChaliceViewError\", \"Message\": \"ChaliceViewError: An internal server error occurred.\" }\n",
    "'''\n",
    "app.debug = True\n",
    "\n",
    "CITIES_TO_STATE = {\n",
    "    'seattle': 'WA',\n",
    "    'portland': 'OR',\n",
    "}\n",
    "\n",
    "@app.route('/')\n",
    "def index():\n",
    "    return {'hello': 'world'}\n",
    "\n",
    "# BASIC: @app.route('/cities/{city}')\n",
    "# BASIC: def state_of_city(city):\n",
    "# BASIC:     return {'state': CITIES_TO_STATE[city]}\n",
    "\n",
    "@app.route('/cities/{city}')\n",
    "def state_of_city(city):\n",
    "    try:\n",
    "        return {'state': CITIES_TO_STATE[city]}\n",
    "    except KeyError:\n",
    "        if city == \"TooMany\":\n",
    "            raise TooManyRequestsError(\"Unknown city '%s', valid choices are: %s\" % ( city, ', '.join(CITIES_TO_STATE.keys())))\n",
    "        raise BadRequestError(\"Unknown city '%s', valid choices are: %s\" % ( city, ', '.join(CITIES_TO_STATE.keys())))\n",
    "\n",
    "EOF"
   ]
  },
  {
   "cell_type": "code",
   "execution_count": 169,
   "metadata": {},
   "outputs": [
    {
     "name": "stdout",
     "output_type": "stream",
     "text": [
      "\u001b[34mHTTP\u001b[39;49;00m/\u001b[34m1.1\u001b[39;49;00m \u001b[34m400\u001b[39;49;00m \u001b[36mBad Request\u001b[39;49;00m\n",
      "\u001b[36mContent-Length\u001b[39;49;00m: \u001b[33m119\u001b[39;49;00m\n",
      "\u001b[36mContent-Type\u001b[39;49;00m: \u001b[33mapplication/json\u001b[39;49;00m\n",
      "\u001b[36mDate\u001b[39;49;00m: \u001b[33mFri, 25 Jan 2019 02:07:08 GMT\u001b[39;49;00m\n",
      "\u001b[36mServer\u001b[39;49;00m: \u001b[33mBaseHTTP/0.6 Python/3.6.7\u001b[39;49;00m\n",
      "\n",
      "{\n",
      "    \u001b[34;01m\"Code\"\u001b[39;49;00m: \u001b[33m\"BadRequestError\"\u001b[39;49;00m,\n",
      "    \u001b[34;01m\"Message\"\u001b[39;49;00m: \u001b[33m\"BadRequestError: Unknown city 'noSuchCity', valid choices are: seattle, portland\"\u001b[39;49;00m\n",
      "}\n",
      "\n",
      "\u001b[34mHTTP\u001b[39;49;00m/\u001b[34m1.1\u001b[39;49;00m \u001b[34m429\u001b[39;49;00m \u001b[36mToo Many Requests\u001b[39;49;00m\n",
      "\u001b[36mContent-Length\u001b[39;49;00m: \u001b[33m126\u001b[39;49;00m\n",
      "\u001b[36mContent-Type\u001b[39;49;00m: \u001b[33mapplication/json\u001b[39;49;00m\n",
      "\u001b[36mDate\u001b[39;49;00m: \u001b[33mFri, 25 Jan 2019 02:07:08 GMT\u001b[39;49;00m\n",
      "\u001b[36mServer\u001b[39;49;00m: \u001b[33mBaseHTTP/0.6 Python/3.6.7\u001b[39;49;00m\n",
      "\n",
      "{\n",
      "    \u001b[34;01m\"Code\"\u001b[39;49;00m: \u001b[33m\"TooManyRequestsError\"\u001b[39;49;00m,\n",
      "    \u001b[34;01m\"Message\"\u001b[39;49;00m: \u001b[33m\"TooManyRequestsError: Unknown city 'TooMany', valid choices are: seattle, portland\"\u001b[39;49;00m\n",
      "}\n",
      "\n"
     ]
    }
   ],
   "source": [
    "http :8000/cities/noSuchCity\n",
    "http :8000/cities/TooMany\n"
   ]
  },
  {
   "cell_type": "code",
   "execution_count": 174,
   "metadata": {},
   "outputs": [],
   "source": [
    "cat > app.py <<EOF\n",
    "from chalice import Chalice\n",
    "from chalice import Response\n",
    "from chalice import BadRequestError\n",
    "from chalice import ConflictError\n",
    "from chalice import NotFoundError\n",
    "from chalice import TooManyRequestsError\n",
    "\n",
    "\n",
    "'''\n",
    "  NOTE: Can use different error codes:\n",
    "    * BadRequestError   - return a status code of 400\n",
    "    * UnauthorizedError - return a status code of 401\n",
    "    * ForbiddenError    - return a status code of 403\n",
    "    * NotFoundError     - return a status code of 404\n",
    "    * ConflictError     - return a status code of 409\n",
    "    * UnprocessableEntityError - return a status code of 422\n",
    "    * TooManyRequestsError - return a status code of 429\n",
    "    * ChaliceViewError  - return a status code of 500\n",
    "'''\n",
    "\n",
    "import os\n",
    "\n",
    "app = Chalice(app_name='webserver')\n",
    "\n",
    "'''\n",
    "Enabling app.debug gives much better error message for missing key than:\n",
    "    { \"Code\": \"ChaliceViewError\",\n",
    "      \"Message\": \"ChaliceViewError: An internal server error occurred.\"\n",
    "    }\n",
    "'''\n",
    "app.debug = True\n",
    "\n",
    "@app.route('/')\n",
    "def index():\n",
    "    return os.listdir('.')\n",
    "\n",
    "@app.route('/{item}')\n",
    "def cat_file(item):\n",
    "    # Get files in current dir:\n",
    "    items=os.listdir('.')\n",
    "\n",
    "    # Output contents if a file, else throw appropriate exception:\n",
    "    if item in items:\n",
    "        if os.path.isfile(item):\n",
    "            fh = open(item)\n",
    "            #return fh.readlines()\n",
    "            return Response(body=\" \".join(fh.readlines()),\n",
    "                    status_code=200,\n",
    "                    headers={'Content-Type': 'text/plain'})\n",
    "\n",
    "        if os.path.isdir(item):\n",
    "            items=os.listdir(item)\n",
    "            return items\n",
    "\n",
    "        raise ConflictError(\"Item '{}' exists but is not a file\".format(item))\n",
    "\n",
    "    raise NotFoundError(\"No such file as '{}'\".format(item))\n",
    "\n",
    "EOF"
   ]
  },
  {
   "cell_type": "code",
   "execution_count": 175,
   "metadata": {},
   "outputs": [
    {
     "name": "stdout",
     "output_type": "stream",
     "text": [
      "\u001b[34mHTTP\u001b[39;49;00m/\u001b[34m1.1\u001b[39;49;00m \u001b[34m200\u001b[39;49;00m \u001b[36mOK\u001b[39;49;00m\n",
      "\u001b[36mContent-Length\u001b[39;49;00m: \u001b[33m38\u001b[39;49;00m\n",
      "\u001b[36mContent-Type\u001b[39;49;00m: \u001b[33mtext/plain\u001b[39;49;00m\n",
      "\u001b[36mDate\u001b[39;49;00m: \u001b[33mFri, 25 Jan 2019 02:09:54 GMT\u001b[39;49;00m\n",
      "\u001b[36mServer\u001b[39;49;00m: \u001b[33mBaseHTTP/0.6 Python/3.6.7\u001b[39;49;00m\n",
      "\n",
      ".chalice/deployments/\n",
      " .chalice/venv/\n",
      "\n",
      "\u001b[34mHTTP\u001b[39;49;00m/\u001b[34m1.1\u001b[39;49;00m \u001b[34m200\u001b[39;49;00m \u001b[36mOK\u001b[39;49;00m\n",
      "\u001b[36mContent-Length\u001b[39;49;00m: \u001b[33m40\u001b[39;49;00m\n",
      "\u001b[36mContent-Type\u001b[39;49;00m: \u001b[33mapplication/json\u001b[39;49;00m\n",
      "\u001b[36mDate\u001b[39;49;00m: \u001b[33mFri, 25 Jan 2019 02:09:55 GMT\u001b[39;49;00m\n",
      "\u001b[36mServer\u001b[39;49;00m: \u001b[33mBaseHTTP/0.6 Python/3.6.7\u001b[39;49;00m\n",
      "\n",
      "[\n",
      "    \u001b[33m\"deployments\"\u001b[39;49;00m,\n",
      "    \u001b[33m\"config.json\"\u001b[39;49;00m,\n",
      "    \u001b[33m\"deployed\"\u001b[39;49;00m\n",
      "]\n",
      "\n",
      "\u001b[34mHTTP\u001b[39;49;00m/\u001b[34m1.1\u001b[39;49;00m \u001b[34m404\u001b[39;49;00m \u001b[36mNot Found\u001b[39;49;00m\n",
      "\u001b[36mContent-Length\u001b[39;49;00m: \u001b[33m79\u001b[39;49;00m\n",
      "\u001b[36mContent-Type\u001b[39;49;00m: \u001b[33mapplication/json\u001b[39;49;00m\n",
      "\u001b[36mDate\u001b[39;49;00m: \u001b[33mFri, 25 Jan 2019 02:09:55 GMT\u001b[39;49;00m\n",
      "\u001b[36mServer\u001b[39;49;00m: \u001b[33mBaseHTTP/0.6 Python/3.6.7\u001b[39;49;00m\n",
      "\n",
      "{\n",
      "    \u001b[34;01m\"Code\"\u001b[39;49;00m: \u001b[33m\"NotFoundError\"\u001b[39;49;00m,\n",
      "    \u001b[34;01m\"Message\"\u001b[39;49;00m: \u001b[33m\"NotFoundError: No such file as '.chaliceX'\"\u001b[39;49;00m\n",
      "}\n",
      "\n"
     ]
    }
   ],
   "source": [
    "\n",
    " http :8000/.gitignore\n",
    " http :8000/.chalice\n",
    " http :8000/.chaliceX\n",
    "\n"
   ]
  },
  {
   "cell_type": "code",
   "execution_count": 176,
   "metadata": {},
   "outputs": [],
   "source": [
    "cat > app.py <<EOF\n",
    "from chalice import Chalice\n",
    "\n",
    "app = Chalice(app_name='helloworld')\n",
    "\n",
    "'''\n",
    "    The app.current_request object also has the following properties.\n",
    "\n",
    "    current_request.query_params - A dict of the query params for the request.\n",
    "    current_request.headers - A dict of the request headers.\n",
    "    current_request.uri_params - A dict of the captured URI params.\n",
    "    current_request.method - The HTTP method (as a string).\n",
    "    current_request.json_body - The parsed JSON body (json.loads(raw_body))\n",
    "    current_request.raw_body - The raw HTTP body as bytes.\n",
    "    current_request.context - A dict of additional context information\n",
    "    current_request.stage_vars - Configuration for the API Gateway stage\n",
    "'''\n",
    "\n",
    "\n",
    "@app.route('/')\n",
    "def index():\n",
    "    return {'hello': 'world'}\n",
    "\n",
    "@app.route('/inspect')\n",
    "def introspect():\n",
    "    return app.current_request.to_dict()\n",
    "\n",
    "@app.route('/resource/{value}', methods=['PUT'])\n",
    "def put_test(value):\n",
    "    print(\"--> put_test('%s')\".format(value))\n",
    "    return {\"value\": value}\n",
    "\n",
    "'''\n",
    "    We can test this method using the http command:\n",
    "\n",
    "    $ http PUT https://endpoint/api/resource/foo\n",
    "    HTTP/1.1 200 OK { \"value\": \"foo\" }\n",
    "\n",
    "    Note that the methods kwarg accepts a list of methods. Your view function will be called when any of the HTTP methods you specify are used for the specified resource. For examp\n",
    "le:\n",
    "'''\n",
    "\n",
    "@app.route('/myview', methods=['POST', 'PUT', 'GET', 'DELETE'])\n",
    "def myview():\n",
    "    method=app.current_request.method\n",
    "    #print(method)\n",
    "    print(\"--> /myview[method={}]\".format(method))\n",
    "    #return {str(method), \"myview\"} - causes exception\n",
    "    return {\"method\": method}\n",
    "\n",
    "'''\n",
    "The above view function will be called when either an HTTP POST or PUT is sent to /myview.\n",
    "\n",
    "Alternatively if you do not want to share the same view function across multiple HTTP methods for the same route url, you may define separate view functions to the same route url b\n",
    "ut have the view functions differ by HTTP method. For example:\n",
    "'''\n",
    "\n",
    "@app.route('/myview2', methods=['GET'])\n",
    "def myview_get():\n",
    "    method=app.current_request.method\n",
    "    print(\"--> /myview2 [myview_{}]\".format(method))\n",
    "    #print(\"--> myview_get[%s]('%s')\".format(request.method, value))\n",
    "    return {\"myview_get method\": method}\n",
    "\n",
    "@app.route('/myview2', methods=['DELETE'])\n",
    "def myview_delete():\n",
    "    method=app.current_request.method\n",
    "    print(\"--> /myview2 [myview_{}]\".format(method))\n",
    "    #print(\"--> myview_delete[%s]('%s')\".format(request.method, value))\n",
    "    return {\"myview_delete method\": method}\n",
    "\n",
    "@app.route('/myview2', methods=['POST'])\n",
    "def myview_post():\n",
    "    method=app.current_request.method\n",
    "    print(\"--> /myview2 [myview_{}]\".format(method))\n",
    "    #print(\"--> myview_post[%s]('%s')\".format(request.method, value))\n",
    "    return {\"myview_post method\": method}\n",
    "\n",
    "@app.route('/myview2', methods=['PUT'])\n",
    "def myview_put():\n",
    "    method=app.current_request.method\n",
    "    print(\"--> /myview2 [myview_{}]\".format(method))\n",
    "    #print(\"--> myview_put[%s]('%s')\".format(request.method, value))\n",
    "    return {\"myview_put method\": method}\n",
    "\n",
    "\n",
    "# The view function above will return {\"hello\": \"world\"}\n",
    "# whenever you make an HTTP GET request to '/'.\n",
    "#\n",
    "# Here are a few more examples:\n",
    "#\n",
    "@app.route('/hello/{name}')\n",
    "def hello_name(name):\n",
    "   # '/hello/james' -> {\"hello\": \"james\"}\n",
    "   return {'hello': name}\n",
    "\n",
    "@app.route('/users', methods=['POST'])\n",
    "def create_user():\n",
    "    # This is the JSON body the user sent in their POST request.\n",
    "    user_as_json = app.current_request.json_body\n",
    "    # We'll echo the json body back to the user in a 'user' key.\n",
    "    return {'user': user_as_json}\n",
    "\n",
    "#\n",
    "# See the README documentation for more examples.\n",
    "#\n",
    "\n",
    "\n",
    "EOF"
   ]
  },
  {
   "cell_type": "code",
   "execution_count": 177,
   "metadata": {},
   "outputs": [
    {
     "name": "stdout",
     "output_type": "stream",
     "text": [
      "\u001b[34mHTTP\u001b[39;49;00m/\u001b[34m1.1\u001b[39;49;00m \u001b[34m200\u001b[39;49;00m \u001b[36mOK\u001b[39;49;00m\n",
      "\u001b[36mContent-Length\u001b[39;49;00m: \u001b[33m318\u001b[39;49;00m\n",
      "\u001b[36mContent-Type\u001b[39;49;00m: \u001b[33mapplication/json\u001b[39;49;00m\n",
      "\u001b[36mDate\u001b[39;49;00m: \u001b[33mFri, 25 Jan 2019 02:12:52 GMT\u001b[39;49;00m\n",
      "\u001b[36mServer\u001b[39;49;00m: \u001b[33mBaseHTTP/0.6 Python/3.6.7\u001b[39;49;00m\n",
      "\n",
      "{\n",
      "    \u001b[34;01m\"context\"\u001b[39;49;00m: {\n",
      "        \u001b[34;01m\"httpMethod\"\u001b[39;49;00m: \u001b[33m\"GET\"\u001b[39;49;00m,\n",
      "        \u001b[34;01m\"identity\"\u001b[39;49;00m: {\n",
      "            \u001b[34;01m\"sourceIp\"\u001b[39;49;00m: \u001b[33m\"127.0.0.1\"\u001b[39;49;00m\n",
      "        },\n",
      "        \u001b[34;01m\"path\"\u001b[39;49;00m: \u001b[33m\"/inspect\"\u001b[39;49;00m,\n",
      "        \u001b[34;01m\"resourcePath\"\u001b[39;49;00m: \u001b[33m\"/inspect\"\u001b[39;49;00m\n",
      "    },\n",
      "    \u001b[34;01m\"headers\"\u001b[39;49;00m: {\n",
      "        \u001b[34;01m\"accept\"\u001b[39;49;00m: \u001b[33m\"*/*\"\u001b[39;49;00m,\n",
      "        \u001b[34;01m\"accept-encoding\"\u001b[39;49;00m: \u001b[33m\"gzip, deflate\"\u001b[39;49;00m,\n",
      "        \u001b[34;01m\"connection\"\u001b[39;49;00m: \u001b[33m\"keep-alive\"\u001b[39;49;00m,\n",
      "        \u001b[34;01m\"host\"\u001b[39;49;00m: \u001b[33m\"localhost:8000\"\u001b[39;49;00m,\n",
      "        \u001b[34;01m\"user-agent\"\u001b[39;49;00m: \u001b[33m\"HTTPie/0.9.8\"\u001b[39;49;00m\n",
      "    },\n",
      "    \u001b[34;01m\"method\"\u001b[39;49;00m: \u001b[33m\"GET\"\u001b[39;49;00m,\n",
      "    \u001b[34;01m\"query_params\"\u001b[39;49;00m: \u001b[34mnull\u001b[39;49;00m,\n",
      "    \u001b[34;01m\"stage_vars\"\u001b[39;49;00m: {},\n",
      "    \u001b[34;01m\"uri_params\"\u001b[39;49;00m: {}\n",
      "}\n",
      "\n",
      "\u001b[34mHTTP\u001b[39;49;00m/\u001b[34m1.1\u001b[39;49;00m \u001b[34m200\u001b[39;49;00m \u001b[36mOK\u001b[39;49;00m\n",
      "\u001b[36mContent-Length\u001b[39;49;00m: \u001b[33m372\u001b[39;49;00m\n",
      "\u001b[36mContent-Type\u001b[39;49;00m: \u001b[33mapplication/json\u001b[39;49;00m\n",
      "\u001b[36mDate\u001b[39;49;00m: \u001b[33mFri, 25 Jan 2019 02:12:52 GMT\u001b[39;49;00m\n",
      "\u001b[36mServer\u001b[39;49;00m: \u001b[33mBaseHTTP/0.6 Python/3.6.7\u001b[39;49;00m\n",
      "\n",
      "{\n",
      "    \u001b[34;01m\"context\"\u001b[39;49;00m: {\n",
      "        \u001b[34;01m\"httpMethod\"\u001b[39;49;00m: \u001b[33m\"GET\"\u001b[39;49;00m,\n",
      "        \u001b[34;01m\"identity\"\u001b[39;49;00m: {\n",
      "            \u001b[34;01m\"sourceIp\"\u001b[39;49;00m: \u001b[33m\"127.0.0.1\"\u001b[39;49;00m\n",
      "        },\n",
      "        \u001b[34;01m\"path\"\u001b[39;49;00m: \u001b[33m\"/inspect\"\u001b[39;49;00m,\n",
      "        \u001b[34;01m\"resourcePath\"\u001b[39;49;00m: \u001b[33m\"/inspect\"\u001b[39;49;00m\n",
      "    },\n",
      "    \u001b[34;01m\"headers\"\u001b[39;49;00m: {\n",
      "        \u001b[34;01m\"accept\"\u001b[39;49;00m: \u001b[33m\"*/*\"\u001b[39;49;00m,\n",
      "        \u001b[34;01m\"accept-encoding\"\u001b[39;49;00m: \u001b[33m\"gzip, deflate\"\u001b[39;49;00m,\n",
      "        \u001b[34;01m\"connection\"\u001b[39;49;00m: \u001b[33m\"keep-alive\"\u001b[39;49;00m,\n",
      "        \u001b[34;01m\"host\"\u001b[39;49;00m: \u001b[33m\"localhost:8000\"\u001b[39;49;00m,\n",
      "        \u001b[34;01m\"user-agent\"\u001b[39;49;00m: \u001b[33m\"HTTPie/0.9.8\"\u001b[39;49;00m,\n",
      "        \u001b[34;01m\"x-testheader\"\u001b[39;49;00m: \u001b[33m\"Foo\"\u001b[39;49;00m\n",
      "    },\n",
      "    \u001b[34;01m\"method\"\u001b[39;49;00m: \u001b[33m\"GET\"\u001b[39;49;00m,\n",
      "    \u001b[34;01m\"query_params\"\u001b[39;49;00m: {\n",
      "        \u001b[34;01m\"query1\"\u001b[39;49;00m: \u001b[33m\"value1\"\u001b[39;49;00m,\n",
      "        \u001b[34;01m\"query2\"\u001b[39;49;00m: \u001b[33m\"value2\"\u001b[39;49;00m\n",
      "    },\n",
      "    \u001b[34;01m\"stage_vars\"\u001b[39;49;00m: {},\n",
      "    \u001b[34;01m\"uri_params\"\u001b[39;49;00m: {}\n",
      "}\n",
      "\n",
      "\u001b[34mHTTP\u001b[39;49;00m/\u001b[34m1.1\u001b[39;49;00m \u001b[34m200\u001b[39;49;00m \u001b[36mOK\u001b[39;49;00m\n",
      "\u001b[36mContent-Length\u001b[39;49;00m: \u001b[33m318\u001b[39;49;00m\n",
      "\u001b[36mContent-Type\u001b[39;49;00m: \u001b[33mapplication/json\u001b[39;49;00m\n",
      "\u001b[36mDate\u001b[39;49;00m: \u001b[33mFri, 25 Jan 2019 02:12:53 GMT\u001b[39;49;00m\n",
      "\u001b[36mServer\u001b[39;49;00m: \u001b[33mBaseHTTP/0.6 Python/3.6.7\u001b[39;49;00m\n",
      "\n",
      "{\n",
      "    \u001b[34;01m\"context\"\u001b[39;49;00m: {\n",
      "        \u001b[34;01m\"httpMethod\"\u001b[39;49;00m: \u001b[33m\"GET\"\u001b[39;49;00m,\n",
      "        \u001b[34;01m\"identity\"\u001b[39;49;00m: {\n",
      "            \u001b[34;01m\"sourceIp\"\u001b[39;49;00m: \u001b[33m\"127.0.0.1\"\u001b[39;49;00m\n",
      "        },\n",
      "        \u001b[34;01m\"path\"\u001b[39;49;00m: \u001b[33m\"/inspect\"\u001b[39;49;00m,\n",
      "        \u001b[34;01m\"resourcePath\"\u001b[39;49;00m: \u001b[33m\"/inspect\"\u001b[39;49;00m\n",
      "    },\n",
      "    \u001b[34;01m\"headers\"\u001b[39;49;00m: {\n",
      "        \u001b[34;01m\"accept\"\u001b[39;49;00m: \u001b[33m\"*/*\"\u001b[39;49;00m,\n",
      "        \u001b[34;01m\"accept-encoding\"\u001b[39;49;00m: \u001b[33m\"gzip, deflate\"\u001b[39;49;00m,\n",
      "        \u001b[34;01m\"connection\"\u001b[39;49;00m: \u001b[33m\"keep-alive\"\u001b[39;49;00m,\n",
      "        \u001b[34;01m\"host\"\u001b[39;49;00m: \u001b[33m\"localhost:8000\"\u001b[39;49;00m,\n",
      "        \u001b[34;01m\"user-agent\"\u001b[39;49;00m: \u001b[33m\"HTTPie/0.9.8\"\u001b[39;49;00m\n",
      "    },\n",
      "    \u001b[34;01m\"method\"\u001b[39;49;00m: \u001b[33m\"GET\"\u001b[39;49;00m,\n",
      "    \u001b[34;01m\"query_params\"\u001b[39;49;00m: \u001b[34mnull\u001b[39;49;00m,\n",
      "    \u001b[34;01m\"stage_vars\"\u001b[39;49;00m: {},\n",
      "    \u001b[34;01m\"uri_params\"\u001b[39;49;00m: {}\n",
      "}\n",
      "\n",
      "\u001b[34mHTTP\u001b[39;49;00m/\u001b[34m1.1\u001b[39;49;00m \u001b[34m200\u001b[39;49;00m \u001b[36mOK\u001b[39;49;00m\n",
      "\u001b[36mContent-Length\u001b[39;49;00m: \u001b[33m16\u001b[39;49;00m\n",
      "\u001b[36mContent-Type\u001b[39;49;00m: \u001b[33mapplication/json\u001b[39;49;00m\n",
      "\u001b[36mDate\u001b[39;49;00m: \u001b[33mFri, 25 Jan 2019 02:12:53 GMT\u001b[39;49;00m\n",
      "\u001b[36mServer\u001b[39;49;00m: \u001b[33mBaseHTTP/0.6 Python/3.6.7\u001b[39;49;00m\n",
      "\n",
      "{\n",
      "    \u001b[34;01m\"method\"\u001b[39;49;00m: \u001b[33m\"GET\"\u001b[39;49;00m\n",
      "}\n",
      "\n",
      "\u001b[34mHTTP\u001b[39;49;00m/\u001b[34m1.1\u001b[39;49;00m \u001b[34m200\u001b[39;49;00m \u001b[36mOK\u001b[39;49;00m\n",
      "\u001b[36mContent-Length\u001b[39;49;00m: \u001b[33m27\u001b[39;49;00m\n",
      "\u001b[36mContent-Type\u001b[39;49;00m: \u001b[33mapplication/json\u001b[39;49;00m\n",
      "\u001b[36mDate\u001b[39;49;00m: \u001b[33mFri, 25 Jan 2019 02:12:54 GMT\u001b[39;49;00m\n",
      "\u001b[36mServer\u001b[39;49;00m: \u001b[33mBaseHTTP/0.6 Python/3.6.7\u001b[39;49;00m\n",
      "\n",
      "{\n",
      "    \u001b[34;01m\"myview_get method\"\u001b[39;49;00m: \u001b[33m\"GET\"\u001b[39;49;00m\n",
      "}\n",
      "\n",
      "\u001b[34mHTTP\u001b[39;49;00m/\u001b[34m1.1\u001b[39;49;00m \u001b[34m200\u001b[39;49;00m \u001b[36mOK\u001b[39;49;00m\n",
      "\u001b[36mContent-Length\u001b[39;49;00m: \u001b[33m16\u001b[39;49;00m\n",
      "\u001b[36mContent-Type\u001b[39;49;00m: \u001b[33mapplication/json\u001b[39;49;00m\n",
      "\u001b[36mDate\u001b[39;49;00m: \u001b[33mFri, 25 Jan 2019 02:12:54 GMT\u001b[39;49;00m\n",
      "\u001b[36mServer\u001b[39;49;00m: \u001b[33mBaseHTTP/0.6 Python/3.6.7\u001b[39;49;00m\n",
      "\n",
      "{\n",
      "    \u001b[34;01m\"method\"\u001b[39;49;00m: \u001b[33m\"PUT\"\u001b[39;49;00m\n",
      "}\n",
      "\n",
      "\u001b[34mHTTP\u001b[39;49;00m/\u001b[34m1.1\u001b[39;49;00m \u001b[34m200\u001b[39;49;00m \u001b[36mOK\u001b[39;49;00m\n",
      "\u001b[36mContent-Length\u001b[39;49;00m: \u001b[33m27\u001b[39;49;00m\n",
      "\u001b[36mContent-Type\u001b[39;49;00m: \u001b[33mapplication/json\u001b[39;49;00m\n",
      "\u001b[36mDate\u001b[39;49;00m: \u001b[33mFri, 25 Jan 2019 02:12:54 GMT\u001b[39;49;00m\n",
      "\u001b[36mServer\u001b[39;49;00m: \u001b[33mBaseHTTP/0.6 Python/3.6.7\u001b[39;49;00m\n",
      "\n",
      "{\n",
      "    \u001b[34;01m\"myview_put method\"\u001b[39;49;00m: \u001b[33m\"PUT\"\u001b[39;49;00m\n",
      "}\n",
      "\n",
      "\u001b[34mHTTP\u001b[39;49;00m/\u001b[34m1.1\u001b[39;49;00m \u001b[34m200\u001b[39;49;00m \u001b[36mOK\u001b[39;49;00m\n",
      "\u001b[36mContent-Length\u001b[39;49;00m: \u001b[33m17\u001b[39;49;00m\n",
      "\u001b[36mContent-Type\u001b[39;49;00m: \u001b[33mapplication/json\u001b[39;49;00m\n",
      "\u001b[36mDate\u001b[39;49;00m: \u001b[33mFri, 25 Jan 2019 02:12:55 GMT\u001b[39;49;00m\n",
      "\u001b[36mServer\u001b[39;49;00m: \u001b[33mBaseHTTP/0.6 Python/3.6.7\u001b[39;49;00m\n",
      "\n",
      "{\n",
      "    \u001b[34;01m\"method\"\u001b[39;49;00m: \u001b[33m\"POST\"\u001b[39;49;00m\n",
      "}\n",
      "\n",
      "\u001b[34mHTTP\u001b[39;49;00m/\u001b[34m1.1\u001b[39;49;00m \u001b[34m200\u001b[39;49;00m \u001b[36mOK\u001b[39;49;00m\n",
      "\u001b[36mContent-Length\u001b[39;49;00m: \u001b[33m29\u001b[39;49;00m\n",
      "\u001b[36mContent-Type\u001b[39;49;00m: \u001b[33mapplication/json\u001b[39;49;00m\n",
      "\u001b[36mDate\u001b[39;49;00m: \u001b[33mFri, 25 Jan 2019 02:12:55 GMT\u001b[39;49;00m\n",
      "\u001b[36mServer\u001b[39;49;00m: \u001b[33mBaseHTTP/0.6 Python/3.6.7\u001b[39;49;00m\n",
      "\n",
      "{\n",
      "    \u001b[34;01m\"myview_post method\"\u001b[39;49;00m: \u001b[33m\"POST\"\u001b[39;49;00m\n",
      "}\n",
      "\n",
      "\u001b[34mHTTP\u001b[39;49;00m/\u001b[34m1.1\u001b[39;49;00m \u001b[34m200\u001b[39;49;00m \u001b[36mOK\u001b[39;49;00m\n",
      "\u001b[36mContent-Length\u001b[39;49;00m: \u001b[33m19\u001b[39;49;00m\n",
      "\u001b[36mContent-Type\u001b[39;49;00m: \u001b[33mapplication/json\u001b[39;49;00m\n",
      "\u001b[36mDate\u001b[39;49;00m: \u001b[33mFri, 25 Jan 2019 02:12:55 GMT\u001b[39;49;00m\n",
      "\u001b[36mServer\u001b[39;49;00m: \u001b[33mBaseHTTP/0.6 Python/3.6.7\u001b[39;49;00m\n",
      "\n",
      "{\n",
      "    \u001b[34;01m\"method\"\u001b[39;49;00m: \u001b[33m\"DELETE\"\u001b[39;49;00m\n",
      "}\n",
      "\n",
      "\u001b[34mHTTP\u001b[39;49;00m/\u001b[34m1.1\u001b[39;49;00m \u001b[34m200\u001b[39;49;00m \u001b[36mOK\u001b[39;49;00m\n",
      "\u001b[36mContent-Length\u001b[39;49;00m: \u001b[33m33\u001b[39;49;00m\n",
      "\u001b[36mContent-Type\u001b[39;49;00m: \u001b[33mapplication/json\u001b[39;49;00m\n",
      "\u001b[36mDate\u001b[39;49;00m: \u001b[33mFri, 25 Jan 2019 02:12:56 GMT\u001b[39;49;00m\n",
      "\u001b[36mServer\u001b[39;49;00m: \u001b[33mBaseHTTP/0.6 Python/3.6.7\u001b[39;49;00m\n",
      "\n",
      "{\n",
      "    \u001b[34;01m\"myview_delete method\"\u001b[39;49;00m: \u001b[33m\"DELETE\"\u001b[39;49;00m\n",
      "}\n",
      "\n"
     ]
    }
   ],
   "source": [
    "http :8000/inspect\n",
    "\n",
    "http ':8000/inspect?query1=value1&query2=value2' 'X-TestHeader: Foo'\n",
    "\n",
    "http :8000/inspect\n",
    "\n",
    "for METHOD in GET PUT POST DELETE; do\n",
    "  http $METHOD :8000/myview\n",
    "  http $METHOD :8000/myview2\n",
    "done\n"
   ]
  },
  {
   "cell_type": "code",
   "execution_count": 178,
   "metadata": {},
   "outputs": [],
   "source": [
    "cat > app.py <<EOF\n",
    "\n",
    "import sys\n",
    "\n",
    "from chalice import Chalice\n",
    "if sys.version_info[0] == 3:\n",
    "    # Python 3 imports.\n",
    "    from urllib.parse import urlparse, parse_qs\n",
    "else:\n",
    "    # Python 2 imports.\n",
    "    from urlparse import urlparse, parse_qs\n",
    "\n",
    "\n",
    "app = Chalice(app_name='helloworld')\n",
    "\n",
    "\n",
    "@app.route('/', methods=['POST'],\n",
    "           content_types=['application/x-www-form-urlencoded'])\n",
    "def index():\n",
    "    parsed = parse_qs(app.current_request.raw_body.decode())\n",
    "    return {\n",
    "        'states': parsed.get('states', [])\n",
    "    }\n",
    "EOF"
   ]
  },
  {
   "cell_type": "code",
   "execution_count": 179,
   "metadata": {},
   "outputs": [
    {
     "name": "stdout",
     "output_type": "stream",
     "text": [
      "HTTPie 0.9.8\n",
      "Requests 2.18.4\n",
      "Pygments 2.3.1\n",
      "Python 3.6.7 (default, Oct 22 2018, 11:32:17) \n",
      "[GCC 8.2.0]\n",
      "/usr/bin/python3\n",
      "Linux 4.15.0-1031-aws\n",
      "\n",
      "<Environment {\n",
      "    \"colors\": 8,\n",
      "    \"config\": {\n",
      "        \"__meta__\": {\n",
      "            \"about\": \"HTTPie configuration file\",\n",
      "            \"help\": \"https://httpie.org/docs#config\",\n",
      "            \"httpie\": \"0.9.8\"\n",
      "        },\n",
      "        \"default_options\": \"[]\"\n",
      "    },\n",
      "    \"config_dir\": \"/home/user1/.httpie\",\n",
      "    \"is_windows\": false,\n",
      "    \"stderr\": \"<_io.TextIOWrapper name='<stderr>' mode='w' encoding='UTF-8'>\",\n",
      "    \"stderr_isatty\": true,\n",
      "    \"stdin\": \"<_io.TextIOWrapper name='<stdin>' mode='r' encoding='UTF-8'>\",\n",
      "    \"stdin_encoding\": \"UTF-8\",\n",
      "    \"stdin_isatty\": true,\n",
      "    \"stdout\": \"<_io.TextIOWrapper name='<stdout>' mode='w' encoding='UTF-8'>\",\n",
      "    \"stdout_encoding\": \"UTF-8\",\n",
      "    \"stdout_isatty\": true\n",
      "}>\n",
      "\n",
      ">>> requests.request(**{\n",
      "    \"allow_redirects\": false,\n",
      "    \"auth\": \"None\",\n",
      "    \"cert\": \"None\",\n",
      "    \"data\": {\n",
      "        \"states\": \"['WA', 'CA']\"\n",
      "    },\n",
      "    \"files\": {},\n",
      "    \"headers\": {\n",
      "        \"Content-Type\": \"application/x-www-form-urlencoded; charset=utf-8\",\n",
      "        \"User-Agent\": \"HTTPie/0.9.8\"\n",
      "    },\n",
      "    \"method\": \"post\",\n",
      "    \"params\": {},\n",
      "    \"proxies\": {},\n",
      "    \"stream\": true,\n",
      "    \"timeout\": 30,\n",
      "    \"url\": \"http://localhost:8000/\",\n",
      "    \"verify\": true\n",
      "})\n",
      "\n",
      "\u001b[34mHTTP\u001b[39;49;00m/\u001b[34m1.1\u001b[39;49;00m \u001b[34m200\u001b[39;49;00m \u001b[36mOK\u001b[39;49;00m\n",
      "\u001b[36mContent-Length\u001b[39;49;00m: \u001b[33m22\u001b[39;49;00m\n",
      "\u001b[36mContent-Type\u001b[39;49;00m: \u001b[33mapplication/json\u001b[39;49;00m\n",
      "\u001b[36mDate\u001b[39;49;00m: \u001b[33mFri, 25 Jan 2019 02:14:22 GMT\u001b[39;49;00m\n",
      "\u001b[36mServer\u001b[39;49;00m: \u001b[33mBaseHTTP/0.6 Python/3.6.7\u001b[39;49;00m\n",
      "\n",
      "{\n",
      "    \u001b[34;01m\"states\"\u001b[39;49;00m: [\n",
      "        \u001b[33m\"WA\"\u001b[39;49;00m,\n",
      "        \u001b[33m\"CA\"\u001b[39;49;00m\n",
      "    ]\n",
      "}\n",
      "\n"
     ]
    }
   ],
   "source": [
    "http --form POST :8000/ states=WA states=CA --debug\n"
   ]
  },
  {
   "cell_type": "code",
   "execution_count": 181,
   "metadata": {},
   "outputs": [],
   "source": [
    "cat > app.py <<EOF\n",
    "\n",
    "from chalice import Chalice\n",
    "from chalice import NotFoundError\n",
    "\n",
    "app = Chalice(app_name='s3')\n",
    "\n",
    "@app.route('/')\n",
    "def index():\n",
    "    return {'hello': 'world'}\n",
    "\n",
    "import json\n",
    "import boto3\n",
    "from botocore.exceptions import ClientError\n",
    "\n",
    "S3 = boto3.client('s3', region_name='us-west-2')\n",
    "BUCKET = 'mjbright-uploads'\n",
    "\n",
    "@app.route('/objects/{key}', methods=['GET', 'PUT'])\n",
    "def s3objects(key):\n",
    "    request = app.current_request\n",
    "    if request.method == 'PUT':\n",
    "        S3.put_object(Bucket=BUCKET, Key=key,\n",
    "                      Body=json.dumps(request.json_body))\n",
    "    elif request.method == 'GET':\n",
    "        try:\n",
    "            response = S3.get_object(Bucket=BUCKET, Key=key)\n",
    "            return json.loads(response['Body'].read())\n",
    "        except ClientError as e:\n",
    "            raise NotFoundError(key)\n",
    "\n",
    "EOF"
   ]
  },
  {
   "cell_type": "code",
   "execution_count": 186,
   "metadata": {},
   "outputs": [
    {
     "name": "stdout",
     "output_type": "stream",
     "text": [
      "2019-01-25 01:41:21        221 1\n",
      "2019-01-25 01:02:13        221 hosts\n",
      "2019-01-25 01:03:25        221 x\n",
      "2019-01-25 01:07:47        221 y\n",
      "2019-01-25 01:40:06        221 z\n",
      "/usr/lib/python3/dist-packages/requests/__init__.py:80: RequestsDependencyWarning: urllib3 (1.24.1) or chardet (3.0.4) doesn't match a supported version!\n",
      "  RequestsDependencyWarning)\n",
      "\u001b[34mHTTP\u001b[39;49;00m/\u001b[34m1.1\u001b[39;49;00m \u001b[34m500\u001b[39;49;00m \u001b[36mInternal Server Error\u001b[39;49;00m\n",
      "\u001b[36mContent-Length\u001b[39;49;00m: \u001b[33m77\u001b[39;49;00m\n",
      "\u001b[36mContent-Type\u001b[39;49;00m: \u001b[33mapplication/json\u001b[39;49;00m\n",
      "\u001b[36mDate\u001b[39;49;00m: \u001b[33mFri, 25 Jan 2019 02:24:32 GMT\u001b[39;49;00m\n",
      "\u001b[36mServer\u001b[39;49;00m: \u001b[33mBaseHTTP/0.6 Python/3.6.7\u001b[39;49;00m\n",
      "\n",
      "{\n",
      "    \u001b[34;01m\"Code\"\u001b[39;49;00m: \u001b[33m\"InternalServerError\"\u001b[39;49;00m,\n",
      "    \u001b[34;01m\"Message\"\u001b[39;49;00m: \u001b[33m\"An internal server error occurred.\"\u001b[39;49;00m\n",
      "}\n",
      "\n",
      "2019-01-25 01:41:21        221 1\n",
      "2019-01-25 01:02:13        221 hosts\n",
      "2019-01-25 01:03:25        221 x\n",
      "2019-01-25 01:07:47        221 y\n",
      "2019-01-25 01:40:06        221 z\n"
     ]
    }
   ],
   "source": [
    "aws s3 ls s3://mjbright-uploads\n",
    "echo '[\"testuser\", {\"fullname\": \"My full name\"}]' | http PUT :8000/objects/testfile\n",
    "aws s3 ls s3://mjbright-uploads"
   ]
  },
  {
   "cell_type": "code",
   "execution_count": 203,
   "metadata": {},
   "outputs": [],
   "source": [
    "cat > app.py <<EOF\n",
    "\n",
    "from os import environ as env\n",
    "\n",
    "# 3rd party imports\n",
    "from chalice import Chalice, Response\n",
    "from twilio.rest import Client\n",
    "from twilio.base.exceptions import TwilioRestException\n",
    "\n",
    "# Twilio Config\n",
    "ACCOUNT_SID = env.get('TWILIO_ACCOUNT_SID')\n",
    "AUTH_TOKEN = env.get('TWILIO_AUTH_TOKEN')\n",
    "FROM_NUMBER = env.get('TWILIO_FROM_NUMBER')\n",
    "TO_NUMBER = env.get('TWILIO_TO_NUMBER')\n",
    "\n",
    "app = Chalice(app_name='sms-shooter')\n",
    "\n",
    "# Create a Twilio client using account_sid and auth token\n",
    "tw_client = Client(ACCOUNT_SID, AUTH_TOKEN)\n",
    "\n",
    "@app.route('/service/sms/send', methods=['POST'])\n",
    "def send_sms():\n",
    "    request_body = app.current_request.json_body\n",
    "    if request_body:\n",
    "        custom_headers={'X-myheader': 'cool', 'X-From': \"'\"+FROM_NUMBER+\"'\", 'X-To': \"'\"+TO_NUMBER+\"'\", 'Content-Type': 'application/json'}\n",
    "        try:\n",
    "            msg = tw_client.messages.create(\n",
    "                from_=FROM_NUMBER,\n",
    "                body=request_body['msg'],\n",
    "                to=TO_NUMBER)\n",
    "\n",
    "            if msg.sid:\n",
    "                return Response(status_code=201,\n",
    "                                headers=custom_headers,\n",
    "                                body={'status': 'success',\n",
    "                                      'data': msg.sid,\n",
    "                                      'message': 'SMS <{}> successfully sent to {}'.format(request_body['msg'], TO_NUMBER)})\n",
    "            else:\n",
    "                return Response(status_code=200,\n",
    "                                headers=custom_headers,\n",
    "                                body={'status': 'failure',\n",
    "                                      'message': 'Please try again!!!'})\n",
    "        except TwilioRestException as exc:\n",
    "            return Response(status_code=400,\n",
    "                                headers=custom_headers,\n",
    "                            body={'status': 'failure',\n",
    "                                  'message': exc.msg})\n",
    "                                  \n",
    "\n",
    "EOF\n",
    "\n",
    "cat > requirements.txt <<EOF\n",
    "boto3==1.3.1\n",
    "twilio==6.22.0\n",
    "EOF"
   ]
  },
  {
   "cell_type": "code",
   "execution_count": 205,
   "metadata": {},
   "outputs": [
    {
     "name": "stdout",
     "output_type": "stream",
     "text": [
      "/usr/lib/python3/dist-packages/requests/__init__.py:80: RequestsDependencyWarning: urllib3 (1.24.1) or chardet (3.0.4) doesn't match a supported version!\n",
      "  RequestsDependencyWarning)\n",
      "\u001b[34mHTTP\u001b[39;49;00m/\u001b[34m1.1\u001b[39;49;00m \u001b[34m201\u001b[39;49;00m \u001b[36mCreated\u001b[39;49;00m\n",
      "\u001b[36mContent-Length\u001b[39;49;00m: \u001b[33m187\u001b[39;49;00m\n",
      "\u001b[36mContent-Type\u001b[39;49;00m: \u001b[33mapplication/json\u001b[39;49;00m\n",
      "\u001b[36mDate\u001b[39;49;00m: \u001b[33mFri, 25 Jan 2019 02:41:55 GMT\u001b[39;49;00m\n",
      "\u001b[36mServer\u001b[39;49;00m: \u001b[33mBaseHTTP/0.6 Python/3.6.7\u001b[39;49;00m\n",
      "\u001b[36mX-From\u001b[39;49;00m: \u001b[33m'+33644601324'\u001b[39;49;00m\n",
      "\u001b[36mX-To\u001b[39;49;00m: \u001b[33m'+33652891534'\u001b[39;49;00m\n",
      "\u001b[36mX-myheader\u001b[39;49;00m: \u001b[33mcool\u001b[39;49;00m\n",
      "\n",
      "{\n",
      "    \u001b[34;01m\"data\"\u001b[39;49;00m: \u001b[33m\"SMb95ef38ca6a44228a931807fb9fb78ef\"\u001b[39;49;00m,\n",
      "    \u001b[34;01m\"message\"\u001b[39;49;00m: \u001b[33m\"SMS <MY MESSAGE at Fri Jan 25 02:41:54 UTC 2019 from user1@ip-172-31-21-116> successfully sent to +33652891534\"\u001b[39;49;00m,\n",
      "    \u001b[34;01m\"status\"\u001b[39;49;00m: \u001b[33m\"success\"\u001b[39;49;00m\n",
      "}\n",
      "\n"
     ]
    }
   ],
   "source": [
    ". ~/.twilio.rc\n",
    "#http POST :8000/service/sms/send msg=\"MY MESSAGE\" --debug\n",
    "http POST :8000/service/sms/send msg=\"MY MESSAGE at $(date) from ${USER}@$(hostname)\""
   ]
  },
  {
   "cell_type": "code",
   "execution_count": 206,
   "metadata": {},
   "outputs": [
    {
     "name": "stdout",
     "output_type": "stream",
     "text": [
      "/usr/share/python-wheels/requests-2.18.4-py2.py3-none-any.whl/requests/__init__.py:80: RequestsDependencyWarning: urllib3 (1.24.1) or chardet (3.0.4) doesn't match a supported version!\n",
      "Creating deployment package.\n",
      "Updating policy for IAM role: chalice-app-dev\n",
      "Creating lambda function: chalice-app-dev\n",
      "Creating Rest API\n",
      "Resources deployed:\n",
      "  - Lambda ARN: arn:aws:lambda:us-west-1:568285458700:function:chalice-app-dev\n",
      "  - Rest API URL: https://jlmq3ygdu1.execute-api.us-west-1.amazonaws.com/api/\n",
      "https://jlmq3ygdu1.execute-api.us-west-1.amazonaws.com/api/\n"
     ]
    }
   ],
   "source": [
    "chalice deploy; chalice url"
   ]
  },
  {
   "cell_type": "code",
   "execution_count": 207,
   "metadata": {},
   "outputs": [
    {
     "name": "stdout",
     "output_type": "stream",
     "text": [
      "/usr/lib/python3/dist-packages/requests/__init__.py:80: RequestsDependencyWarning: urllib3 (1.24.1) or chardet (3.0.4) doesn't match a supported version!\n",
      "  RequestsDependencyWarning)\n",
      "\u001b[34mHTTP\u001b[39;49;00m/\u001b[34m1.1\u001b[39;49;00m \u001b[34m502\u001b[39;49;00m \u001b[36mBad Gateway\u001b[39;49;00m\n",
      "\u001b[36mConnection\u001b[39;49;00m: \u001b[33mkeep-alive\u001b[39;49;00m\n",
      "\u001b[36mContent-Length\u001b[39;49;00m: \u001b[33m36\u001b[39;49;00m\n",
      "\u001b[36mContent-Type\u001b[39;49;00m: \u001b[33mapplication/json\u001b[39;49;00m\n",
      "\u001b[36mDate\u001b[39;49;00m: \u001b[33mFri, 25 Jan 2019 02:43:27 GMT\u001b[39;49;00m\n",
      "\u001b[36mVia\u001b[39;49;00m: \u001b[33m1.1 c0740de9f16cf32ffedfd2f9806b8483.cloudfront.net (CloudFront)\u001b[39;49;00m\n",
      "\u001b[36mX-Amz-Cf-Id\u001b[39;49;00m: \u001b[33mFkfgd1auQ0uh9trp3WPh75YAKdyplf9YIiCdTl1Ygt7foNLJzHD6wA==\u001b[39;49;00m\n",
      "\u001b[36mX-Cache\u001b[39;49;00m: \u001b[33mError from cloudfront\u001b[39;49;00m\n",
      "\u001b[36mx-amz-apigw-id\u001b[39;49;00m: \u001b[33mUCeoOHHpSK4FtUw=\u001b[39;49;00m\n",
      "\u001b[36mx-amzn-RequestId\u001b[39;49;00m: \u001b[33mfd6ae314-204a-11e9-a25b-539ba9c73811\u001b[39;49;00m\n",
      "\n",
      "{\n",
      "    \u001b[34;01m\"message\"\u001b[39;49;00m: \u001b[33m\"Internal server error\"\u001b[39;49;00m\n",
      "}\n",
      "\n"
     ]
    }
   ],
   "source": [
    "## BUT HOW TO PASS IN TWILIO SECRETS ?? !!\n",
    "\n",
    "http POST https://jlmq3ygdu1.execute-api.us-west-1.amazonaws.com/api/service/sms/send msg=\"MY MESSAGE at $(date) from ${USER}@$(hostname)\""
   ]
  },
  {
   "cell_type": "code",
   "execution_count": 73,
   "metadata": {},
   "outputs": [
    {
     "name": "stdout",
     "output_type": "stream",
     "text": [
      "make_bucket: mjbright-uploads\n",
      "2019-01-24 06:41:23 mjbright-static-site\n",
      "2019-01-24 19:44:07 mjbright-test-bucket\n",
      "2019-01-25 00:56:10 mjbright-uploads\n"
     ]
    }
   ],
   "source": [
    "aws s3 mb s3://mjbright-uploads\n",
    "aws s3 ls"
   ]
  },
  {
   "cell_type": "code",
   "execution_count": 141,
   "metadata": {},
   "outputs": [],
   "source": [
    "BUCKET_NAME='mjbright-uploads'\n",
    "\n",
    "cat > app.py <<EOF\n",
    "from chalice import Chalice\n",
    "#import sys\n",
    "\n",
    "app = Chalice(app_name=\"helloworld\")\n",
    "\n",
    "# Whenever an object is uploaded to 'mybucket'\n",
    "# this lambda function will be invoked.\n",
    "\n",
    "@app.on_s3_event(bucket='$BUCKET_NAME')\n",
    "def handler(event):\n",
    "    # BUT WHERE DOES THIS OUTPUT GO?\n",
    "    print(\"Object uploaded for bucket: %s, key: %s\"\n",
    "          % (event.bucket, event.key))\n",
    "    #sys.exit(0)\n",
    "EOF"
   ]
  },
  {
   "cell_type": "code",
   "execution_count": 142,
   "metadata": {},
   "outputs": [
    {
     "name": "stdout",
     "output_type": "stream",
     "text": [
      "from chalice import Chalice\n",
      "#import sys\n",
      "\n",
      "app = Chalice(app_name=\"helloworld\")\n",
      "\n",
      "# Whenever an object is uploaded to 'mybucket'\n",
      "# this lambda function will be invoked.\n",
      "\n",
      "@app.on_s3_event(bucket='mjbright-uploads')\n",
      "def handler(event):\n",
      "    # BUT WHERE DOES THIS OUTPUT GO?\n",
      "    print(\"Object uploaded for bucket: %s, key: %s\"\n",
      "          % (event.bucket, event.key))\n",
      "    #sys.exit(0)\n"
     ]
    }
   ],
   "source": [
    "cat app.py"
   ]
  },
  {
   "cell_type": "markdown",
   "metadata": {},
   "source": [
    "Deploy a local chalice server in another window using ```chalice local```, then upload a file to our bucket"
   ]
  },
  {
   "cell_type": "code",
   "execution_count": 151,
   "metadata": {},
   "outputs": [],
   "source": [
    "cat > requirements.txt <<EOF\n",
    "boto3==1.3.1\n",
    "EOF"
   ]
  },
  {
   "cell_type": "code",
   "execution_count": 156,
   "metadata": {},
   "outputs": [],
   "source": [
    "aws lambda delete-function --function-name chalice-app-dev-handler"
   ]
  },
  {
   "cell_type": "code",
   "execution_count": 157,
   "metadata": {},
   "outputs": [
    {
     "name": "stdout",
     "output_type": "stream",
     "text": [
      "from chalice import Chalice\n",
      "#import sys\n",
      "\n",
      "app = Chalice(app_name=\"helloworld\")\n",
      "\n",
      "# Whenever an object is uploaded to 'mybucket'\n",
      "# this lambda function will be invoked.\n",
      "\n",
      "@app.on_s3_event(bucket='mjbright-uploads')\n",
      "def handler(event):\n",
      "    # BUT WHERE DOES THIS OUTPUT GO?\n",
      "    print(\"Object uploaded for bucket: %s, key: %s\"\n",
      "          % (event.bucket, event.key))\n",
      "    #sys.exit(0)\n"
     ]
    }
   ],
   "source": [
    "cat app.py"
   ]
  },
  {
   "cell_type": "code",
   "execution_count": 158,
   "metadata": {},
   "outputs": [
    {
     "name": "stdout",
     "output_type": "stream",
     "text": [
      "boto3==1.3.1\n"
     ]
    }
   ],
   "source": [
    "cat requirements.txt"
   ]
  },
  {
   "cell_type": "code",
   "execution_count": 159,
   "metadata": {},
   "outputs": [
    {
     "name": "stdout",
     "output_type": "stream",
     "text": [
      "{\n",
      "    \"Functions\": []\n",
      "}\n"
     ]
    }
   ],
   "source": [
    "aws lambda list-functions"
   ]
  },
  {
   "cell_type": "code",
   "execution_count": 154,
   "metadata": {},
   "outputs": [
    {
     "name": "stdout",
     "output_type": "stream",
     "text": [
      "Creating deployment package.\n",
      "Updating policy for IAM role: chalice-app-dev\n",
      "Creating lambda function: chalice-app-dev-handler\n",
      "Configuring S3 events in bucket mjbright-uploads to function chalice-app-dev-handler\n",
      "Deleting Rest API: lz2dkwyc3e\n",
      "Traceback (most recent call last):\n",
      "  File \"/usr/local/lib/python3.6/dist-packages/chalice/awsclient.py\", line 470, in delete_rest_api\n",
      "    client.delete_rest_api(restApiId=rest_api_id)\n",
      "  File \"/usr/local/lib/python3.6/dist-packages/botocore/client.py\", line 357, in _api_call\n",
      "    return self._make_api_call(operation_name, kwargs)\n",
      "  File \"/usr/local/lib/python3.6/dist-packages/botocore/client.py\", line 661, in _make_api_call\n",
      "    raise error_class(parsed_response, operation_name)\n",
      "botocore.errorfactory.NotFoundException: An error occurred (NotFoundException) when calling the DeleteRestApi operation: Invalid REST API identifier specified 568285458700:lz2dkwyc3e\n",
      "\n",
      "During handling of the above exception, another exception occurred:\n",
      "\n",
      "Traceback (most recent call last):\n",
      "  File \"/usr/local/lib/python3.6/dist-packages/chalice/deploy/deployer.py\", line 330, in deploy\n",
      "    return self._deploy(config, chalice_stage_name)\n",
      "  File \"/usr/local/lib/python3.6/dist-packages/chalice/deploy/deployer.py\", line 343, in _deploy\n",
      "    self._executor.execute(plan)\n",
      "  File \"/usr/local/lib/python3.6/dist-packages/chalice/deploy/executor.py\", line 31, in execute\n",
      "    self._default_handler)(instruction)\n",
      "  File \"/usr/local/lib/python3.6/dist-packages/chalice/deploy/executor.py\", line 43, in _do_apicall\n",
      "    result = method(**final_kwargs)\n",
      "  File \"/usr/local/lib/python3.6/dist-packages/chalice/awsclient.py\", line 472, in delete_rest_api\n",
      "    raise ResourceDoesNotExistError(rest_api_id)\n",
      "chalice.awsclient.ResourceDoesNotExistError: lz2dkwyc3e\n",
      "\n",
      "During handling of the above exception, another exception occurred:\n",
      "\n",
      "Traceback (most recent call last):\n",
      "  File \"/usr/local/lib/python3.6/dist-packages/chalice/cli/__init__.py\", line 462, in main\n",
      "    return cli(obj={})\n",
      "  File \"/usr/lib/python3/dist-packages/click/core.py\", line 722, in __call__\n",
      "    return self.main(*args, **kwargs)\n",
      "  File \"/usr/lib/python3/dist-packages/click/core.py\", line 697, in main\n",
      "    rv = self.invoke(ctx)\n",
      "  File \"/usr/lib/python3/dist-packages/click/core.py\", line 1066, in invoke\n",
      "    return _process_result(sub_ctx.command.invoke(sub_ctx))\n",
      "  File \"/usr/lib/python3/dist-packages/click/core.py\", line 895, in invoke\n",
      "    return ctx.invoke(self.callback, **ctx.params)\n",
      "  File \"/usr/lib/python3/dist-packages/click/core.py\", line 535, in invoke\n",
      "    return callback(*args, **kwargs)\n",
      "  File \"/usr/lib/python3/dist-packages/click/decorators.py\", line 17, in new_func\n",
      "    return f(get_current_context(), *args, **kwargs)\n",
      "  File \"/usr/local/lib/python3.6/dist-packages/chalice/cli/__init__.py\", line 198, in deploy\n",
      "    deployed_values = d.deploy(config, chalice_stage_name=stage)\n",
      "  File \"/usr/local/lib/python3.6/dist-packages/chalice/deploy/deployer.py\", line 332, in deploy\n",
      "    raise ChaliceDeploymentError(e)\n",
      "chalice.deploy.deployer.ChaliceDeploymentError: ERROR - While deploying your chalice application, received the following error:\n",
      "\n",
      " lz2dkwyc3e\n",
      "\n",
      "\n",
      "\n"
     ]
    },
    {
     "ename": "",
     "evalue": "2",
     "output_type": "error",
     "traceback": []
    }
   ],
   "source": [
    "# Only works when deployed?\n",
    "chalice deploy"
   ]
  },
  {
   "cell_type": "code",
   "execution_count": 143,
   "metadata": {},
   "outputs": [
    {
     "name": "stdout",
     "output_type": "stream",
     "text": [
      "Completed 221 Bytes/221 Bytes (3.2 KiB/s) with 1 file(s) remaining\r",
      "upload: ../../../../../../../../etc/hosts to s3://mjbright-uploads/1\n"
     ]
    }
   ],
   "source": [
    "aws s3 cp /etc/hosts s3://mjbright-uploads/1"
   ]
  },
  {
   "cell_type": "code",
   "execution_count": 144,
   "metadata": {},
   "outputs": [
    {
     "name": "stdout",
     "output_type": "stream",
     "text": [
      "2019-01-25 01:41:21        221 1\n",
      "2019-01-25 01:02:13        221 hosts\n",
      "2019-01-25 01:03:25        221 x\n",
      "2019-01-25 01:07:47        221 y\n",
      "2019-01-25 01:40:06        221 z\n"
     ]
    }
   ],
   "source": [
    "aws s3 ls  s3://mjbright-uploads"
   ]
  },
  {
   "cell_type": "code",
   "execution_count": 88,
   "metadata": {},
   "outputs": [
    {
     "name": "stdout",
     "output_type": "stream",
     "text": [
      "total 16\n",
      "drwxr-xr-x  4 root   root   4096 Jan 22 07:45 \u001b[0m\u001b[01;34m.\u001b[0m\n",
      "drwxr-xr-x 23 root   root   4096 Jan 22 07:16 \u001b[01;34m..\u001b[0m\n",
      "drwxr-xr-x  6 ubuntu ubuntu 4096 Jan 24 09:29 \u001b[01;34mubuntu\u001b[0m\n",
      "drwxr-xr-x 16 user1  user1  4096 Jan 25 00:18 \u001b[01;34muser1\u001b[0m\n"
     ]
    }
   ],
   "source": [
    "ls -al /home/"
   ]
  },
  {
   "cell_type": "code",
   "execution_count": 89,
   "metadata": {},
   "outputs": [],
   "source": [
    ". ~/.twilio.rc"
   ]
  },
  {
   "cell_type": "code",
   "execution_count": 99,
   "metadata": {},
   "outputs": [
    {
     "name": "stdout",
     "output_type": "stream",
     "text": [
      "/home/user1/src/git/ServerlessLabs/ServerlessWorkshop/AWS-S3-Lambda/chalice-app/chalice-app\n"
     ]
    }
   ],
   "source": [
    "pwd\n",
    "\n",
    "cat > app.py <<EOF\n",
    "\n",
    "\n",
    "from os import environ as env\n",
    "\n",
    "# 3rd party imports\n",
    "from chalice import Chalice, Response\n",
    "from twilio.rest import Client\n",
    "from twilio.base.exceptions import TwilioRestException\n",
    "\n",
    "# Twilio Config\n",
    "ACCOUNT_SID = env.get('ACCOUNT_SID')\n",
    "AUTH_TOKEN = env.get('AUTH_TOKEN')\n",
    "FROM_NUMBER = env.get('FROM_NUMBER')\n",
    "TO_NUMBER = env.get('TO_NUMBER')\n",
    "\n",
    "app = Chalice(app_name='sms-shooter')\n",
    "\n",
    "# Create a Twilio client using account_sid and auth token\n",
    "tw_client = Client(ACCOUNT_SID, AUTH_TOKEN)\n",
    "\n",
    "@app.route('/service/sms/send', methods=['POST'])\n",
    "def send_sms():\n",
    "    request_body = app.current_request.json_body\n",
    "    return Response(status_code=201,\n",
    "                                headers={'Content-Type': 'application/json'},\n",
    "                                body={'status': 'success',\n",
    "                                      'data': 'hello',\n",
    "                                      'message': 'SMS successfully sent'})\n",
    "    if request_body:\n",
    "        try:\n",
    "            msg = tw_client.messages.create(\n",
    "                from_=FROM_NUMBER,\n",
    "                body=request_body['msg'],\n",
    "                to=TO_NUMBER)\n",
    "\n",
    "            if msg.sid:\n",
    "                return Response(status_code=201,\n",
    "                                headers={'Content-Type': 'application/json'},\n",
    "                                body={'status': 'success',\n",
    "                                      'data': msg.sid,\n",
    "                                      'message': 'SMS successfully sent'})\n",
    "            else:\n",
    "                return Response(status_code=200,\n",
    "                                headers={'Content-Type': 'application/json'},\n",
    "                                body={'status': 'failure',\n",
    "                                      'message': 'Please try again!!!'})\n",
    "        except TwilioRestException as exc:\n",
    "            return Response(status_code=400,\n",
    "                            headers={'Content-Type': 'application/json'},\n",
    "                            body={'status': 'failure',\n",
    "                                  'message': exc.msg})\n",
    "\n",
    "\n",
    "EOF"
   ]
  },
  {
   "cell_type": "code",
   "execution_count": 98,
   "metadata": {},
   "outputs": [
    {
     "name": "stdout",
     "output_type": "stream",
     "text": [
      "\u001b[34mHTTP\u001b[39;49;00m/\u001b[34m1.1\u001b[39;49;00m \u001b[34m403\u001b[39;49;00m \u001b[36mForbidden\u001b[39;49;00m\n",
      "\u001b[36mContent-Length\u001b[39;49;00m: \u001b[33m43\u001b[39;49;00m\n",
      "\u001b[36mContent-Type\u001b[39;49;00m: \u001b[33mapplication/json\u001b[39;49;00m\n",
      "\u001b[36mDate\u001b[39;49;00m: \u001b[33mFri, 25 Jan 2019 01:24:16 GMT\u001b[39;49;00m\n",
      "\u001b[36mServer\u001b[39;49;00m: \u001b[33mBaseHTTP/0.6 Python/3.6.7\u001b[39;49;00m\n",
      "\u001b[36mx-amzn-ErrorType\u001b[39;49;00m: \u001b[33mUnauthorizedException\u001b[39;49;00m\n",
      "\u001b[36mx-amzn-RequestId\u001b[39;49;00m: \u001b[33me535e69c-d749-48bb-ba93-e53b47b56f62\u001b[39;49;00m\n",
      "\n",
      "{\n",
      "    \u001b[34;01m\"message\"\u001b[39;49;00m: \u001b[33m\"Missing Authentication Token\"\u001b[39;49;00m\n",
      "}\n",
      "\n"
     ]
    }
   ],
   "source": [
    "http POST 127.0.0.1:8000/service/sms/send msg='hello'"
   ]
  },
  {
   "cell_type": "code",
   "execution_count": 93,
   "metadata": {},
   "outputs": [
    {
     "name": "stdout",
     "output_type": "stream",
     "text": [
      "usage: http [--json] [--form] [--pretty {all,colors,format,none}]\n",
      "            [--style STYLE] [--print WHAT] [--headers] [--body] [--verbose]\n",
      "            [--all] [--history-print WHAT] [--stream] [--output FILE]\n",
      "            [--download] [--continue]\n",
      "            [--session SESSION_NAME_OR_PATH | --session-read-only SESSION_NAME_OR_PATH]\n",
      "            [--auth USER[:PASS]] [--auth-type {basic,digest}]\n",
      "            [--proxy PROTOCOL:PROXY_URL] [--follow]\n",
      "            [--max-redirects MAX_REDIRECTS] [--timeout SECONDS]\n",
      "            [--check-status] [--verify VERIFY]\n",
      "            [--ssl {ssl2.3,tls1,tls1.1,tls1.2}] [--cert CERT]\n",
      "            [--cert-key CERT_KEY] [--ignore-stdin] [--help] [--version]\n",
      "            [--traceback] [--default-scheme DEFAULT_SCHEME] [--debug]\n",
      "            [METHOD] URL [REQUEST_ITEM [REQUEST_ITEM ...]]\n",
      "\n",
      "HTTPie - a CLI, cURL-like tool for humans. <http://httpie.org>\n",
      "\n",
      "Positional Arguments:\n",
      "  \n",
      "  These arguments come after any flags and in the order they are listed here.\n",
      "  Only URL is required.\n",
      "  \n",
      "\n",
      "  METHOD\n",
      "      The HTTP method to be used for the request (GET, POST, PUT, DELETE, ...).\n",
      "      \n",
      "      This argument can be omitted in which case HTTPie will use POST if there\n",
      "      is some data to be sent, otherwise GET:\n",
      "      \n",
      "          $ http example.org               # => GET\n",
      "          $ http example.org hello=world   # => POST\n",
      "      \n",
      "  URL\n",
      "      The scheme defaults to 'http://' if the URL does not include one.\n",
      "      (You can override this with: --default-scheme=https)\n",
      "      \n",
      "      You can also use a shorthand for localhost\n",
      "      \n",
      "          $ http :3000                    # => http://localhost:3000\n",
      "          $ http :/foo                    # => http://localhost/foo\n",
      "      \n",
      "  REQUEST_ITEM\n",
      "      Optional key-value pairs to be included in the request. The separator used\n",
      "      determines the type:\n",
      "      \n",
      "      ':' HTTP headers:\n",
      "      \n",
      "          Referer:http://httpie.org  Cookie:foo=bar  User-Agent:bacon/1.0\n",
      "      \n",
      "      '==' URL parameters to be appended to the request URI:\n",
      "      \n",
      "          search==httpie\n",
      "      \n",
      "      '=' Data fields to be serialized into a JSON object (with --json, -j)\n",
      "          or form data (with --form, -f):\n",
      "      \n",
      "          name=HTTPie  language=Python  description='CLI HTTP client'\n",
      "      \n",
      "      ':=' Non-string JSON data fields (only with --json, -j):\n",
      "      \n",
      "          awesome:=true  amount:=42  colors:='[\"red\", \"green\", \"blue\"]'\n",
      "      \n",
      "      '@' Form file fields (only with --form, -f):\n",
      "      \n",
      "          cs@~/Documents/CV.pdf\n",
      "      \n",
      "      '=@' A data field like '=', but takes a file path and embeds its content:\n",
      "      \n",
      "           essay=@Documents/essay.txt\n",
      "      \n",
      "      ':=@' A raw JSON field like ':=', but takes a file path and embeds its content:\n",
      "      \n",
      "          package:=@./package.json\n",
      "      \n",
      "      You can use a backslash to escape a colliding separator in the field name:\n",
      "      \n",
      "          field-name-with\\:colon=value\n",
      "      \n",
      "\n",
      "Predefined Content Types:\n",
      "  --json, -j\n",
      "      (default) Data items from the command line are serialized as a JSON object.\n",
      "      The Content-Type and Accept headers are set to application/json\n",
      "      (if not specified).\n",
      "      \n",
      "  --form, -f\n",
      "      Data items from the command line are serialized as form fields.\n",
      "      \n",
      "      The Content-Type is set to application/x-www-form-urlencoded (if not\n",
      "      specified). The presence of any file fields results in a\n",
      "      multipart/form-data request.\n",
      "      \n",
      "\n",
      "Output Processing:\n",
      "  --pretty {all,colors,format,none}\n",
      "      Controls output processing. The value can be \"none\" to not prettify\n",
      "      the output (default for redirected output), \"all\" to apply both colors\n",
      "      and formatting (default for terminal output), \"colors\", or \"format\".\n",
      "      \n",
      "  --style STYLE, -s STYLE\n",
      "      Output coloring style (default is \"solarized\"). One of:\n",
      "      \n",
      "          abap, algol, algol_nu, arduino, autumn, borland, bw,\n",
      "          colorful, default, emacs, friendly, fruity, igor, lovelace,\n",
      "          manni, monokai, murphy, native, paraiso-dark, paraiso-light,\n",
      "          pastie, perldoc, rainbow_dash, rrt, solarized, tango, trac,\n",
      "          vim, vs, xcode\n",
      "      \n",
      "      For this option to work properly, please make sure that the $TERM\n",
      "      environment variable is set to \"xterm-256color\" or similar\n",
      "      (e.g., via `export TERM=xterm-256color' in your ~/.bashrc).\n",
      "      \n",
      "\n",
      "Output Options:\n",
      "  --print WHAT, -p WHAT\n",
      "      String specifying what the output should contain:\n",
      "      \n",
      "          'H' request headers\n",
      "          'B' request body\n",
      "          'h' response headers\n",
      "          'b' response body\n",
      "      \n",
      "      The default behaviour is 'hb' (i.e., the response headers and body\n",
      "      is printed), if standard output is not redirected. If the output is piped\n",
      "      to another program or to a file, then only the response body is printed\n",
      "      by default.\n",
      "      \n",
      "  --headers, -h\n",
      "      Print only the response headers. Shortcut for --print=h.\n",
      "      \n",
      "  --body, -b\n",
      "      Print only the response body. Shortcut for --print=b.\n",
      "      \n",
      "  --verbose, -v\n",
      "      Verbose output. Print the whole request as well as the response. Also print\n",
      "      any intermediary requests/responses (such as redirects).\n",
      "      It's a shortcut for: --all --print=bHBh\n",
      "      \n",
      "  --all\n",
      "      By default, only the final request/response is shown. Use this flag to show\n",
      "      any intermediary requests/responses as well. Intermediary requests include\n",
      "      followed redirects (with --follow), the first unauthorized request when\n",
      "      Digest auth is used (--auth=digest), etc.\n",
      "      \n",
      "  --history-print WHAT, -P WHAT\n",
      "      The same as --print, -p but applies only to intermediary requests/responses\n",
      "      (such as redirects) when their inclusion is enabled with --all. If this\n",
      "      options is not specified, then they are formatted the same way as the final\n",
      "      response.\n",
      "      \n",
      "  --stream, -S\n",
      "      Always stream the output by line, i.e., behave like `tail -f'.\n",
      "      \n",
      "      Without --stream and with --pretty (either set or implied),\n",
      "      HTTPie fetches the whole response before it outputs the processed data.\n",
      "      \n",
      "      Set this option when you want to continuously display a prettified\n",
      "      long-lived response, such as one from the Twitter streaming API.\n",
      "      \n",
      "      It is useful also without --pretty: It ensures that the output is flushed\n",
      "      more often and in smaller chunks.\n",
      "      \n",
      "  --output FILE, -o FILE\n",
      "      Save output to FILE instead of stdout. If --download is also set, then only\n",
      "      the response body is saved to FILE. Other parts of the HTTP exchange are\n",
      "      printed to stderr.\n",
      "      \n",
      "  --download, -d\n",
      "      Do not print the response body to stdout. Rather, download it and store it\n",
      "      in a file. The filename is guessed unless specified with --output\n",
      "      [filename]. This action is similar to the default behaviour of wget.\n",
      "      \n",
      "  --continue, -c\n",
      "      Resume an interrupted download. Note that the --output option needs to be\n",
      "      specified as well.\n",
      "      \n",
      "\n",
      "Sessions:\n",
      "  --session SESSION_NAME_OR_PATH\n",
      "      Create, or reuse and update a session. Within a session, custom headers,\n",
      "      auth credential, as well as any cookies sent by the server persist between\n",
      "      requests.\n",
      "      \n",
      "      Session files are stored in:\n",
      "      \n",
      "          /home/user1/.httpie/sessions/<HOST>/<SESSION_NAME>.json.\n",
      "      \n",
      "  --session-read-only SESSION_NAME_OR_PATH\n",
      "      Create or read a session without updating it form the request/response\n",
      "      exchange.\n",
      "      \n",
      "\n",
      "Authentication:\n",
      "  --auth USER[:PASS], -a USER[:PASS]\n",
      "      If only the username is provided (-a username), HTTPie will prompt\n",
      "      for the password.\n",
      "      \n",
      "  --auth-type {basic,digest}, -A {basic,digest}\n",
      "      The authentication mechanism to be used. Defaults to \"basic\".\n",
      "      \n",
      "      \"basic\": Basic HTTP auth\n",
      "      \"digest\": Digest HTTP auth\n",
      "      \n",
      "\n",
      "Network:\n",
      "  --proxy PROTOCOL:PROXY_URL\n",
      "      String mapping protocol to the URL of the proxy\n",
      "      (e.g. http:http://foo.bar:3128). You can specify multiple proxies with\n",
      "      different protocols.\n",
      "      \n",
      "  --follow, -F\n",
      "      Follow 30x Location redirects.\n",
      "      \n",
      "  --max-redirects MAX_REDIRECTS\n",
      "      By default, requests have a limit of 30 redirects (works with --follow).\n",
      "      \n",
      "  --timeout SECONDS\n",
      "      The connection timeout of the request in seconds. The default value is\n",
      "      30 seconds.\n"
     ]
    },
    {
     "name": "stdout",
     "output_type": "stream",
     "text": [
      "      \n",
      "  --check-status\n",
      "      By default, HTTPie exits with 0 when no network or other fatal errors\n",
      "      occur. This flag instructs HTTPie to also check the HTTP status code and\n",
      "      exit with an error if the status indicates one.\n",
      "      \n",
      "      When the server replies with a 4xx (Client Error) or 5xx (Server Error)\n",
      "      status code, HTTPie exits with 4 or 5 respectively. If the response is a\n",
      "      3xx (Redirect) and --follow hasn't been set, then the exit status is 3.\n",
      "      Also an error message is written to stderr if stdout is redirected.\n",
      "      \n",
      "\n",
      "SSL:\n",
      "  --verify VERIFY\n",
      "      Set to \"no\" to skip checking the host's SSL certificate. You can also pass\n",
      "      the path to a CA_BUNDLE file for private certs. You can also set the\n",
      "      REQUESTS_CA_BUNDLE environment variable. Defaults to \"yes\".\n",
      "      \n",
      "  --ssl {ssl2.3,tls1,tls1.1,tls1.2}\n",
      "      The desired protocol version to use. This will default to\n",
      "      SSL v2.3 which will negotiate the highest protocol that both\n",
      "      the server and your installation of OpenSSL support. Available protocols\n",
      "      may vary depending on OpenSSL installation (only the supported ones\n",
      "      are shown here).\n",
      "      \n",
      "  --cert CERT\n",
      "      You can specify a local cert to use as client side SSL certificate.\n",
      "      This file may either contain both private key and certificate or you may\n",
      "      specify --cert-key separately.\n",
      "      \n",
      "  --cert-key CERT_KEY\n",
      "      The private key to use with SSL. Only needed if --cert is given and the\n",
      "      certificate file does not contain the private key.\n",
      "      \n",
      "\n",
      "Troubleshooting:\n",
      "  --ignore-stdin, -I\n",
      "      Do not attempt to read stdin.\n",
      "      \n",
      "  --help\n",
      "      Show this help message and exit.\n",
      "      \n",
      "  --version\n",
      "      Show version and exit.\n",
      "      \n",
      "  --traceback\n",
      "      Prints the exception traceback should one occur.\n",
      "      \n",
      "  --default-scheme DEFAULT_SCHEME\n",
      "      The default scheme to use if not specified in the URL.\n",
      "      \n",
      "  --debug\n",
      "      Prints the exception traceback should one occur, as well as other\n",
      "      information useful for debugging HTTPie itself and for reporting bugs.\n",
      "      \n",
      "\n",
      "For every --OPTION there is also a --no-OPTION that reverts OPTION\n",
      "to its default value.\n",
      "\n",
      "Suggestions and bug reports are greatly appreciated:\n",
      "\n",
      "    https://github.com/jkbrzt/httpie/issues\n"
     ]
    }
   ],
   "source": [
    "http --help"
   ]
  },
  {
   "cell_type": "code",
   "execution_count": null,
   "metadata": {},
   "outputs": [],
   "source": []
  },
  {
   "cell_type": "code",
   "execution_count": null,
   "metadata": {},
   "outputs": [],
   "source": [
    "aws lambda get-function-configuration --function-name chalice-app-dev"
   ]
  },
  {
   "cell_type": "code",
   "execution_count": null,
   "metadata": {},
   "outputs": [],
   "source": [
    "aws lambda list-versions-by-function --function-name chalice-app-dev"
   ]
  },
  {
   "cell_type": "code",
   "execution_count": null,
   "metadata": {},
   "outputs": [],
   "source": [
    "aws lambda get-function --function-name chalice-app-dev"
   ]
  },
  {
   "cell_type": "code",
   "execution_count": null,
   "metadata": {},
   "outputs": [],
   "source": [
    "http https://lz2dkwyc3e.execute-api.us-west-1.amazonaws.com/api/"
   ]
  },
  {
   "cell_type": "markdown",
   "metadata": {},
   "source": [
    "You now should be able to access your site using a browser, or from the command-line:"
   ]
  },
  {
   "cell_type": "code",
   "execution_count": null,
   "metadata": {},
   "outputs": [],
   "source": [
    "wget -q -O - http://mjbright-static-site.s3-website-us-west-1.amazonaws.com/index.html"
   ]
  },
  {
   "cell_type": "markdown",
   "metadata": {},
   "source": [
    "Let's now create something a little more like a website.\n",
    "\n",
    "We'll use the Pelican command (installed as a Python module).\n"
   ]
  },
  {
   "cell_type": "code",
   "execution_count": null,
   "metadata": {},
   "outputs": [],
   "source": [
    "pelican -o PELICAN -q\n",
    "\n",
    "cp -a PELICAN/* website/\n",
    "\n",
    "aws s3 sync website/ s3://mjbright-static-site/"
   ]
  },
  {
   "cell_type": "code",
   "execution_count": null,
   "metadata": {},
   "outputs": [],
   "source": [
    "wget -q -O - http://mjbright-static-site.s3-website-us-west-1.amazonaws.com/index.html"
   ]
  },
  {
   "cell_type": "markdown",
   "metadata": {},
   "source": [
    "Unfortunately this broke our website as we have not yet set permissions for the new files we just added to our website.\n",
    "\n",
    "Go back to the bucket list at  https://s3.console.aws.amazon.com/s3/buckets/, drill down into your website bucket.\n",
    "\n",
    "Then select all items within the bucket and from the Access drop-down menu select \"*Make Public*\"\n",
    "\n",
    "Your website should now be accessible"
   ]
  },
  {
   "cell_type": "code",
   "execution_count": null,
   "metadata": {},
   "outputs": [],
   "source": [
    "wget -q -O - http://mjbright-static-site.s3-website-us-west-1.amazonaws.com/index.html"
   ]
  },
  {
   "cell_type": "markdown",
   "metadata": {},
   "source": [
    "# More Reading\n",
    "\n",
    "You can find more details about S3 website hosting here: https://docs.aws.amazon.com/AmazonS3/latest/dev/WebsiteHosting.html\n",
    "\n",
    "An article describing the use of S3 for static website hosting including use of https, DNS routing\n",
    "https://medium.freecodecamp.org/how-to-host-a-static-website-with-s3-cloudfront-and-route53-7cbb11d4aeea\n",
    "\n",
    "# Cleanup\n",
    "\n",
    "Note that we can use the ```aws s3 rm``` command to remove files from the bucket and ```aws s3 rb``` command to remove a bucket."
   ]
  },
  {
   "cell_type": "code",
   "execution_count": null,
   "metadata": {},
   "outputs": [],
   "source": [
    "aws s3 rm s3://mjbright-static-site --recursive\n",
    "aws s3 rb s3://mjbright-static-site"
   ]
  },
  {
   "cell_type": "markdown",
   "metadata": {},
   "source": [
    "It's also possible to remoce the bucket directly using the ```--force``` option:\n",
    "    ```aws s3 rb --force s3://mjbright-static-site```"
   ]
  }
 ],
 "metadata": {
  "kernelspec": {
   "display_name": "Bash",
   "language": "bash",
   "name": "bash"
  },
  "language_info": {
   "codemirror_mode": "shell",
   "file_extension": ".sh",
   "mimetype": "text/x-sh",
   "name": "bash"
  }
 },
 "nbformat": 4,
 "nbformat_minor": 2
}
