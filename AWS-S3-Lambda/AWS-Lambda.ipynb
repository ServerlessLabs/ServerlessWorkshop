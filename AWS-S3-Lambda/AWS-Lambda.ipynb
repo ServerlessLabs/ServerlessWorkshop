{
 "cells": [
  {
   "cell_type": "markdown",
   "metadata": {},
   "source": [
    "# AWS Lambda\n",
    "\n",
    "AWS Lambda is the Serverless product that AWS introduced at reInvent in November 2014.  Lambda has largely popularized the concept of Serverless and AWS continues to lead in this space.\n",
    "\n",
    "AWS Lambda allows developers to create and deploy small functions and have the code executed without the need to provision servers.  You pay only for the resources used rather than for idle servers.\n",
    "\n",
    "**NOTE**: However these functions (FaaS) will often be combined with backend services (BaaS) from AWS or elsewhere which may have more significant costs.  Those backend services include S3 storage, DB storage, API gateways, physical or virtual machines.\n",
    "\n",
    "**NOTE**: Although FaaS costs themselves are minimal typically with 1mn requests/month free and very small cost per request after that limit is passed, there is a risk of high costs if your application/api goes viral.  It is therefore strongly advised to place rate limits at the API Gateway to prevent runaway costs.\n",
    "\n",
    "A Lambda function provides a handler which is the entry point for the Lambda written for the chosen runtime such as node.js, python etc.\n",
    "A Lambda function accepts JSON-formatted input and will usually return the same.\n",
    "\n",
    "A Lambda function is invoked in response to an event, such as an S3 file upload, a change in a database table, a web request or a scheduled event.\n",
    "\n",
    "#### Runtimes\n",
    "The following languages, as well as custom runtimes, are now supported\n",
    "- C#\n",
    "- Go\n",
    "- Java\n",
    "- Node.js\n",
    "- Python\n",
    "\n",
    "## Closed-source\n",
    "\n",
    "Unfortunately AWS Lambda itself if a proprietary service.\n",
    "\n",
    "Nevertheless as the leader in this space it is important to understand it's capabilities and limitations.\n",
    "\n",
    "There are many Open Source tools which allow to deploy to AWS Lambda such as\n",
    "- Serverless(.com) - allows to deploy to several Serverless platforms\n",
    "- Chalice (A Python Framework provided by AWS)\n",
    "- Claudia (A Node.js Framework)\n",
    "\n",
    "or even to emulate Lambda for testing purposes\n",
    "- localstack\n",
    "- docker-lambda (https://github.com/lambci/docker-lambda)\n",
    "\n",
    "## Setup\n",
    "\n",
    "To run these exercises you should first have\n",
    "- installed the awscli package to provide the aws command and also\n",
    "- configured either\n",
    "  - the ~/.aws/configure file with your AWS account credentials or\n",
    "  - created a sourceable ~/.aws/credentials.rc (can be in any location) file"
   ]
  },
  {
   "cell_type": "markdown",
   "metadata": {},
   "source": [
    "```\n",
    "> cat ~/.aws/credentials.rc\n",
    "\n",
    "export AWS_ACCESS_KEY_ID=\"<your-access-key>\"\n",
    "export AWS_SECRET_ACCESS_KEY=\"<your-secret-access-key>\"\n",
    "export AWS_DEFAULT_REGION=us-west-1\n",
    "```"
   ]
  },
  {
   "cell_type": "markdown",
   "metadata": {},
   "source": [
    "If you have chosen to use an rc file, source it as ```source <your-aws-credentials-rc-file>```, e.g."
   ]
  },
  {
   "cell_type": "code",
   "execution_count": 6,
   "metadata": {},
   "outputs": [],
   "source": [
    ". ~/.aws/credentials.rc\n",
    "\n",
    "cd ~/src/git/ServerlessLabs/ServerlessWorkshop/AWS-S3-Lambda\n",
    "rm -rf chalice-app scheduled-app\n",
    "\n",
    "cleanup_functions() {\n",
    "    echo \"-- Functions before:\"\n",
    "    aws lambda list-functions | grep FunctionName\n",
    "\n",
    "    FNS=$(aws lambda list-functions | grep FunctionName |sed -e 's/.*: //'  -e 's/\"//g' -e 's/,//')\n",
    "    for FN in $FNS; do aws lambda delete-function --function-name $FN; done\n",
    "    echo \"-- Functions after cleanup:\"\n",
    "    aws lambda list-functions | grep FunctionName\n",
    "}"
   ]
  },
  {
   "cell_type": "markdown",
   "metadata": {},
   "source": [
    "We can now use the aws cli utility to access lambda commands.\n",
    "\n",
    "Let's investigate the available commands with ```aws lambda help```"
   ]
  },
  {
   "cell_type": "code",
   "execution_count": 7,
   "metadata": {},
   "outputs": [
    {
     "name": "stdout",
     "output_type": "stream",
     "text": [
      "-- Functions before:\n",
      "-- Functions after cleanup:\n"
     ]
    },
    {
     "ename": "",
     "evalue": "1",
     "output_type": "error",
     "traceback": []
    }
   ],
   "source": [
    "cleanup_functions"
   ]
  },
  {
   "cell_type": "code",
   "execution_count": 8,
   "metadata": {},
   "outputs": [
    {
     "name": "stdout",
     "output_type": "stream",
     "text": [
      "LAMBDA()                                                              LAMBDA()\n",
      "\n",
      "\n",
      "\n",
      "NAME\n",
      "       lambda -\n",
      "\n",
      "DESCRIPTION\n",
      "          Overview\n",
      "\n",
      "       This  is  the AWS Lambda API Reference . The AWS Lambda Developer Guide\n",
      "       provides additional information. For the service overview, see What  is\n",
      "       AWS  Lambda  , and for information about how the service works, see AWS\n",
      "       Lambda: How it Works in the AWS Lambda Developer Guide .\n",
      "\n",
      "AVAILABLE COMMANDS\n",
      "       o add-layer-version-permission\n",
      "\n",
      "       o add-permission\n",
      "\n",
      "       o create-alias\n",
      "\n",
      "       o create-event-source-mapping\n",
      "\n",
      "       o create-function\n",
      "\n",
      "       o delete-alias\n",
      "\n",
      "       o delete-event-source-mapping\n",
      "\n",
      "       o delete-function\n",
      "\n",
      "       o delete-function-concurrency\n",
      "\n",
      "       o delete-layer-version\n",
      "\n",
      "       o get-account-settings\n",
      "\n",
      "       o get-alias\n",
      "\n",
      "       o get-event-source-mapping\n",
      "\n",
      "       o get-function\n",
      "\n",
      "       o get-function-configuration\n",
      "\n",
      "       o get-layer-version\n",
      "\n",
      "       o get-layer-version-policy\n",
      "\n",
      "       o get-policy\n",
      "\n",
      "       o help\n",
      "\n",
      "       o invoke\n",
      "\n",
      "       o list-aliases\n",
      "\n",
      "       o list-event-source-mappings\n",
      "\n",
      "       o list-functions\n",
      "\n",
      "       o list-layer-versions\n",
      "\n",
      "       o list-layers\n",
      "\n",
      "       o list-tags\n",
      "\n",
      "       o list-versions-by-function\n",
      "\n",
      "       o publish-layer-version\n",
      "\n",
      "       o publish-version\n",
      "\n",
      "       o put-function-concurrency\n",
      "\n",
      "       o remove-layer-version-permission\n",
      "\n",
      "       o remove-permission\n",
      "\n",
      "       o tag-resource\n",
      "\n",
      "       o untag-resource\n",
      "\n",
      "       o update-alias\n",
      "\n",
      "       o update-event-source-mapping\n",
      "\n",
      "       o update-function-code\n",
      "\n",
      "       o update-function-configuration\n",
      "\n",
      "\n",
      "\n",
      "                                                                      LAMBDA()\n"
     ]
    }
   ],
   "source": [
    "aws lambda help "
   ]
  },
  {
   "cell_type": "markdown",
   "metadata": {},
   "source": [
    "Let's see if we have any functions defined already using the ```aws lambda list-functions``` command.\n",
    "You won't have any functions if you just created your account."
   ]
  },
  {
   "cell_type": "code",
   "execution_count": 9,
   "metadata": {},
   "outputs": [
    {
     "name": "stdout",
     "output_type": "stream",
     "text": [
      "{\n",
      "    \"Functions\": []\n",
      "}\n"
     ]
    }
   ],
   "source": [
    "aws lambda list-functions"
   ]
  },
  {
   "cell_type": "markdown",
   "metadata": {},
   "source": [
    "Note that it is possible to create functions directly using the command ```aws lambda create-function``` but it would be necessary to interact individually with several AWS services.\n",
    "\n",
    "There exist several tools which facilitate function creation and deployment.\n",
    "\n",
    "For information about use of ```aws lambda create-function``` refer to these articles\n",
    "- https://www.tutorialspoint.com/aws_lambda/aws_lambda_creating_and_deploying_using_aws_cli.htm\n",
    "- https://docs.aws.amazon.com/lambda/latest/dg/API_CreateFunction.html\n",
    "\n",
    "We will continue using other frameworks.\n",
    "- Chalice: A Python Serverless Micro-service framework for AWS Lambda\n",
    "- Claudia: A Node.js Serverless framework for AWS Lambda\n",
    "- Serverless: A Serverless platform for various platorms (AWS Lambda, Azure Functions, Google CloudFunctions and more)\n",
    "\n",
    "## Chalice\n",
    "\n",
    "Chalice is an open source project created by AWS, available here: https://github.com/aws/chalice\n",
    "\n",
    "Documentation is at https://chalice.readthedocs.io/en/latest/\n",
    "\n",
    "Chalice allows to\n",
    "- deploy to a local test server\n",
    "- deploy to AWS Lambda (as dev or prod stage)\n",
    "- easily discover the URL of a deployed service\n",
    "- recuperate '*CloudWatch*' logs of a lambda function (all print function calls go to CloudWatch logs)\n",
    "\n",
    "Let's see what options are available using ```chalice --help``` command"
   ]
  },
  {
   "cell_type": "code",
   "execution_count": 10,
   "metadata": {},
   "outputs": [
    {
     "name": "stdout",
     "output_type": "stream",
     "text": [
      "Usage: chalice [OPTIONS] COMMAND [ARGS]...\n",
      "\n",
      "Options:\n",
      "  --version             Show the version and exit.\n",
      "  --project-dir TEXT    The project directory.  Defaults to CWD\n",
      "  --debug / --no-debug  Print debug logs to stderr.\n",
      "  --help                Show this message and exit.\n",
      "\n",
      "Commands:\n",
      "  delete\n",
      "  deploy\n",
      "  gen-policy\n",
      "  generate-pipeline  Generate a cloudformation template for a...\n",
      "  generate-sdk\n",
      "  invoke             Invoke the deployed lambda function NAME.\n",
      "  local\n",
      "  logs\n",
      "  new-project\n",
      "  package\n",
      "  url\n"
     ]
    }
   ],
   "source": [
    "chalice --help"
   ]
  },
  {
   "cell_type": "markdown",
   "metadata": {},
   "source": [
    "## Create a Chalice project\n",
    "\n",
    "Let's start by creating a new Chalice project:"
   ]
  },
  {
   "cell_type": "code",
   "execution_count": 11,
   "metadata": {},
   "outputs": [],
   "source": [
    "#cd ..; rm -rf chalice-app"
   ]
  },
  {
   "cell_type": "code",
   "execution_count": 12,
   "metadata": {},
   "outputs": [
    {
     "name": "stdout",
     "output_type": "stream",
     "text": [
      "/home/user1/src/git/ServerlessLabs/ServerlessWorkshop/AWS-S3-Lambda\n",
      "total 20\n",
      "drwxrwxr-x  3 user1 user1 4096 Jan 26 03:28 \u001b[0m\u001b[01;34m.\u001b[0m\n",
      "drwxrwxr-x 10 user1 user1 4096 Jan 26 03:28 \u001b[01;34m..\u001b[0m\n",
      "drwxrwxr-x  2 user1 user1 4096 Jan 26 03:28 \u001b[01;34m.chalice\u001b[0m\n",
      "-rw-rw-r--  1 user1 user1   37 Jan 26 03:28 .gitignore\n",
      "-rw-rw-r--  1 user1 user1  736 Jan 26 03:28 app.py\n",
      "-rw-rw-r--  1 user1 user1    0 Jan 26 03:28 requirements.txt\n"
     ]
    }
   ],
   "source": [
    "pwd\n",
    "chalice new-project chalice-app\n",
    "cd chalice-app\n",
    "ls -al"
   ]
  },
  {
   "cell_type": "markdown",
   "metadata": {},
   "source": [
    "We see that Chalice had created a template project for us.\n",
    "\n",
    "Looking at the app.py file we see that we have a Python application to run a REST API server with just one route for '/'."
   ]
  },
  {
   "cell_type": "code",
   "execution_count": 13,
   "metadata": {},
   "outputs": [
    {
     "name": "stdout",
     "output_type": "stream",
     "text": [
      "from chalice import Chalice\n",
      "\n",
      "app = Chalice(app_name='chalice-app')\n",
      "\n",
      "\n",
      "@app.route('/')\n",
      "def index():\n",
      "    return {'hello': 'world'}\n",
      "\n",
      "\n",
      "# The view function above will return {\"hello\": \"world\"}\n",
      "# whenever you make an HTTP GET request to '/'.\n",
      "#\n",
      "# Here are a few more examples:\n",
      "#\n",
      "# @app.route('/hello/{name}')\n",
      "# def hello_name(name):\n",
      "#    # '/hello/james' -> {\"hello\": \"james\"}\n",
      "#    return {'hello': name}\n",
      "#\n",
      "# @app.route('/users', methods=['POST'])\n",
      "# def create_user():\n",
      "#     # This is the JSON body the user sent in their POST request.\n",
      "#     user_as_json = app.current_request.json_body\n",
      "#     # We'll echo the json body back to the user in a 'user' key.\n",
      "#     return {'user': user_as_json}\n",
      "#\n",
      "# See the README documentation for more examples.\n",
      "#\n"
     ]
    }
   ],
   "source": [
    "cp -a app.py app.py.0; cat app.py"
   ]
  },
  {
   "cell_type": "markdown",
   "metadata": {},
   "source": [
    "## Run the function locally\n",
    "\n",
    "Run the command ```chalice local``` to deploy a local test server\n",
    "\n",
    "```> chalice local\n",
    "Serving on http://127.0.0.1:8000\n",
    "```"
   ]
  },
  {
   "cell_type": "code",
   "execution_count": 14,
   "metadata": {},
   "outputs": [
    {
     "name": "stdout",
     "output_type": "stream",
     "text": [
      "/usr/lib/python3/dist-packages/requests/__init__.py:80: RequestsDependencyWarning: urllib3 (1.24.1) or chardet (3.0.4) doesn't match a supported version!\n",
      "  RequestsDependencyWarning)\n",
      "\u001b[34mHTTP\u001b[39;49;00m/\u001b[34m1.1\u001b[39;49;00m \u001b[34m200\u001b[39;49;00m \u001b[36mOK\u001b[39;49;00m\n",
      "\u001b[36mContent-Length\u001b[39;49;00m: \u001b[33m17\u001b[39;49;00m\n",
      "\u001b[36mContent-Type\u001b[39;49;00m: \u001b[33mapplication/json\u001b[39;49;00m\n",
      "\u001b[36mDate\u001b[39;49;00m: \u001b[33mSat, 26 Jan 2019 03:29:14 GMT\u001b[39;49;00m\n",
      "\u001b[36mServer\u001b[39;49;00m: \u001b[33mBaseHTTP/0.6 Python/3.6.7\u001b[39;49;00m\n",
      "\n",
      "{\n",
      "    \u001b[34;01m\"hello\"\u001b[39;49;00m: \u001b[33m\"world\"\u001b[39;49;00m\n",
      "}\n",
      "\n"
     ]
    }
   ],
   "source": [
    "http 127.0.0.1:8000"
   ]
  },
  {
   "cell_type": "markdown",
   "metadata": {},
   "source": [
    "We see that chalice has allowed us to very quickly\n",
    "- create an application skeleton and to\n",
    "- test it locally.\n",
    "\n",
    "Note that Chalice uses @app.route decoration to declare routes, similarly to the Flask micro-framework.\n",
    "\n",
    "This whole process is greatly simplified compared with deploying Lambda functions directly which would require\n",
    "- manually creating a zip file of all sources\n",
    "- uploading the zip file\n",
    "- creating appropriate policies\n",
    "- linking the API Gateway to our Lambda function\n",
    "\n",
    "### Updates\n",
    "\n",
    "Try making a change to to app.py file and saving it.\n",
    "\n",
    "Notice that chalice detects the change and redeploys the server to take into account the changes:\n",
    "```\n",
    "user1@ip-172-31-21-116:~/src/git/ServerlessLabs/ServerlessWorkshop/AWS-S3-Lambda/chalice-app$ chalice local\n",
    "Serving on http://127.0.0.1:8000\n",
    "127.0.0.1 - - [25/Jan/2019 00:45:04] \"GET / HTTP/1.1\" 200 -\n",
    "Restarting local dev server.\n",
    "Serving on http://127.0.0.1:8000\n",
    "Restarting local dev server.\n",
    "Serving on http://127.0.0.1:8000\n",
    "```\n",
    "\n",
    "## Deploying a function to AWS Lambda\n",
    "Now let's deploy this to AWS Lambda using the ```chalice deploy``` command.\n",
    "\n",
    "First let's check if any functions are already deployed or not\n",
    "\n",
    "**NOTE**: So far we have launched a function on a local test server, we have not deployed in to AWS Lambbda."
   ]
  },
  {
   "cell_type": "code",
   "execution_count": 15,
   "metadata": {},
   "outputs": [
    {
     "name": "stdout",
     "output_type": "stream",
     "text": [
      "{\n",
      "    \"Functions\": []\n",
      "}\n"
     ]
    }
   ],
   "source": [
    "aws lambda list-functions"
   ]
  },
  {
   "cell_type": "markdown",
   "metadata": {},
   "source": [
    "then let's look at the options to ```chalice deploy```"
   ]
  },
  {
   "cell_type": "code",
   "execution_count": 16,
   "metadata": {},
   "outputs": [
    {
     "name": "stdout",
     "output_type": "stream",
     "text": [
      "Usage: chalice deploy [OPTIONS]\n",
      "\n",
      "Options:\n",
      "  --autogen-policy / --no-autogen-policy\n",
      "                                  Automatically generate IAM policy for app\n",
      "                                  code.\n",
      "  --profile TEXT                  Override profile at deploy time.\n",
      "  --api-gateway-stage TEXT        Name of the API gateway stage to deploy to.\n",
      "  --stage TEXT                    Name of the Chalice stage to deploy to.\n",
      "                                  Specifying a new chalice stage will create\n",
      "                                  an entirely new set of AWS resources.\n",
      "  --connection-timeout INTEGER    Overrides the default botocore connection\n",
      "                                  timeout.\n",
      "  --help                          Show this message and exit.\n"
     ]
    }
   ],
   "source": [
    "chalice deploy --help"
   ]
  },
  {
   "cell_type": "markdown",
   "metadata": {},
   "source": [
    "Now let's deploy our function"
   ]
  },
  {
   "cell_type": "code",
   "execution_count": 17,
   "metadata": {},
   "outputs": [
    {
     "name": "stdout",
     "output_type": "stream",
     "text": [
      "/usr/share/python-wheels/requests-2.18.4-py2.py3-none-any.whl/requests/__init__.py:80: RequestsDependencyWarning: urllib3 (1.24.1) or chardet (3.0.4) doesn't match a supported version!\n",
      "Creating deployment package.\n",
      "Updating policy for IAM role: chalice-app-dev\n",
      "Creating lambda function: chalice-app-dev\n",
      "Creating Rest API\n",
      "Resources deployed:\n",
      "  - Lambda ARN: arn:aws:lambda:us-west-1:568285458700:function:chalice-app-dev\n",
      "  - Rest API URL: https://gxan5eptj8.execute-api.us-west-1.amazonaws.com/api/\n"
     ]
    }
   ],
   "source": [
    "chalice deploy"
   ]
  },
  {
   "cell_type": "markdown",
   "metadata": {},
   "source": [
    "We see above the URL on which our API is available, otherwise the ```chalice url``` command provides us with the url.\n",
    "\n",
    "We can click on that url to open in the browser or access it from the command-line as below."
   ]
  },
  {
   "cell_type": "code",
   "execution_count": 18,
   "metadata": {},
   "outputs": [
    {
     "name": "stdout",
     "output_type": "stream",
     "text": [
      "https://gxan5eptj8.execute-api.us-west-1.amazonaws.com/api/\n"
     ]
    }
   ],
   "source": [
    "chalice url"
   ]
  },
  {
   "cell_type": "code",
   "execution_count": 19,
   "metadata": {},
   "outputs": [
    {
     "name": "stdout",
     "output_type": "stream",
     "text": [
      "/usr/lib/python3/dist-packages/requests/__init__.py:80: RequestsDependencyWarning: urllib3 (1.24.1) or chardet (3.0.4) doesn't match a supported version!\n",
      "  RequestsDependencyWarning)\n",
      "\u001b[34mHTTP\u001b[39;49;00m/\u001b[34m1.1\u001b[39;49;00m \u001b[34m200\u001b[39;49;00m \u001b[36mOK\u001b[39;49;00m\n",
      "\u001b[36mConnection\u001b[39;49;00m: \u001b[33mkeep-alive\u001b[39;49;00m\n",
      "\u001b[36mContent-Length\u001b[39;49;00m: \u001b[33m17\u001b[39;49;00m\n",
      "\u001b[36mContent-Type\u001b[39;49;00m: \u001b[33mapplication/json\u001b[39;49;00m\n",
      "\u001b[36mDate\u001b[39;49;00m: \u001b[33mSat, 26 Jan 2019 03:29:56 GMT\u001b[39;49;00m\n",
      "\u001b[36mVia\u001b[39;49;00m: \u001b[33m1.1 34ecd2fc8d142d6781982cb32e3d84bf.cloudfront.net (CloudFront)\u001b[39;49;00m\n",
      "\u001b[36mX-Amz-Cf-Id\u001b[39;49;00m: \u001b[33mT7UWEHpVgW8Q7SZoO23cIQzCzS4QZiYzOV6Dl6dJLL5BDuVThsRHng==\u001b[39;49;00m\n",
      "\u001b[36mX-Amzn-Trace-Id\u001b[39;49;00m: \u001b[33mRoot=1-5c4bd433-c8d0a66daeb62bf3ff72f42b;Sampled=0\u001b[39;49;00m\n",
      "\u001b[36mX-Cache\u001b[39;49;00m: \u001b[33mMiss from cloudfront\u001b[39;49;00m\n",
      "\u001b[36mx-amz-apigw-id\u001b[39;49;00m: \u001b[33mUF4YHH8zSK4Ffaw=\u001b[39;49;00m\n",
      "\u001b[36mx-amzn-RequestId\u001b[39;49;00m: \u001b[33ma6972411-211a-11e9-9265-b7cb00312a65\u001b[39;49;00m\n",
      "\n",
      "{\n",
      "    \u001b[34;01m\"hello\"\u001b[39;49;00m: \u001b[33m\"world\"\u001b[39;49;00m\n",
      "}\n",
      "\n"
     ]
    }
   ],
   "source": [
    "http $(chalice url)"
   ]
  },
  {
   "cell_type": "markdown",
   "metadata": {},
   "source": [
    "In just a few commands we've been able to create a project template, run a local test server and deploy our skeleton app to AWS Lambda.\n",
    "\n",
    "Chalice greatly simplifies the deployment of Python functions.\n",
    "\n",
    "Note that we can list deployed functions using ```aws lambda list-functions```.\n",
    "\n",
    "Note also that the function name is chalice-app-dev, by default chalice deploys in '*dev*' mode."
   ]
  },
  {
   "cell_type": "code",
   "execution_count": 20,
   "metadata": {},
   "outputs": [
    {
     "name": "stdout",
     "output_type": "stream",
     "text": [
      "{\n",
      "    \"Functions\": [\n",
      "        {\n",
      "            \"FunctionName\": \"chalice-app-dev\",\n",
      "            \"FunctionArn\": \"arn:aws:lambda:us-west-1:568285458700:function:chalice-app-dev\",\n",
      "            \"Runtime\": \"python3.6\",\n",
      "            \"Role\": \"arn:aws:iam::568285458700:role/chalice-app-dev\",\n",
      "            \"Handler\": \"app.app\",\n",
      "            \"CodeSize\": 10518,\n",
      "            \"Description\": \"\",\n",
      "            \"Timeout\": 60,\n",
      "            \"MemorySize\": 128,\n",
      "            \"LastModified\": \"2019-01-26T03:29:43.294+0000\",\n",
      "            \"CodeSha256\": \"Uba16QADvw213FT3PyeqJhSxrDsDnym6JnMqYWZXysU=\",\n",
      "            \"Version\": \"$LATEST\",\n",
      "            \"VpcConfig\": {\n",
      "                \"SubnetIds\": [],\n",
      "                \"SecurityGroupIds\": [],\n",
      "                \"VpcId\": \"\"\n",
      "            },\n",
      "            \"Environment\": {\n",
      "                \"Variables\": {}\n",
      "            },\n",
      "            \"TracingConfig\": {\n",
      "                \"Mode\": \"PassThrough\"\n",
      "            },\n",
      "            \"RevisionId\": \"23d15802-cfa7-4a72-8a61-68fc131d700e\"\n",
      "        }\n",
      "    ]\n",
      "}\n"
     ]
    }
   ],
   "source": [
    "aws lambda list-functions"
   ]
  },
  {
   "cell_type": "code",
   "execution_count": 21,
   "metadata": {},
   "outputs": [],
   "source": [
    "cat > app.py <<EOF\n",
    "\n",
    "from chalice import Chalice\n",
    "\n",
    "app = Chalice(app_name='chalice-app')\n",
    "\n",
    "@app.route('/')\n",
    "def index():\n",
    "    print(\"Looks like we got a request!\") ## Should appear in CloudWatch logs\n",
    "    return {'hello': 'world'}\n",
    "    \n",
    "EOF"
   ]
  },
  {
   "cell_type": "markdown",
   "metadata": {},
   "source": [
    "Now let's redeploy our function and make a request to it"
   ]
  },
  {
   "cell_type": "code",
   "execution_count": 22,
   "metadata": {},
   "outputs": [
    {
     "name": "stdout",
     "output_type": "stream",
     "text": [
      "/usr/share/python-wheels/requests-2.18.4-py2.py3-none-any.whl/requests/__init__.py:80: RequestsDependencyWarning: urllib3 (1.24.1) or chardet (3.0.4) doesn't match a supported version!\n",
      "Creating deployment package.\n",
      "Updating policy for IAM role: chalice-app-dev\n",
      "Updating lambda function: chalice-app-dev\n",
      "Updating rest API\n",
      "Resources deployed:\n",
      "  - Lambda ARN: arn:aws:lambda:us-west-1:568285458700:function:chalice-app-dev\n",
      "  - Rest API URL: https://gxan5eptj8.execute-api.us-west-1.amazonaws.com/api/\n"
     ]
    }
   ],
   "source": [
    "chalice deploy"
   ]
  },
  {
   "cell_type": "code",
   "execution_count": 23,
   "metadata": {},
   "outputs": [
    {
     "name": "stdout",
     "output_type": "stream",
     "text": [
      "/usr/lib/python3/dist-packages/requests/__init__.py:80: RequestsDependencyWarning: urllib3 (1.24.1) or chardet (3.0.4) doesn't match a supported version!\n",
      "  RequestsDependencyWarning)\n",
      "\u001b[34mHTTP\u001b[39;49;00m/\u001b[34m1.1\u001b[39;49;00m \u001b[34m200\u001b[39;49;00m \u001b[36mOK\u001b[39;49;00m\n",
      "\u001b[36mConnection\u001b[39;49;00m: \u001b[33mkeep-alive\u001b[39;49;00m\n",
      "\u001b[36mContent-Length\u001b[39;49;00m: \u001b[33m17\u001b[39;49;00m\n",
      "\u001b[36mContent-Type\u001b[39;49;00m: \u001b[33mapplication/json\u001b[39;49;00m\n",
      "\u001b[36mDate\u001b[39;49;00m: \u001b[33mSat, 26 Jan 2019 03:30:43 GMT\u001b[39;49;00m\n",
      "\u001b[36mVia\u001b[39;49;00m: \u001b[33m1.1 e75f5fedf935ed2a4a49debe6c78d172.cloudfront.net (CloudFront)\u001b[39;49;00m\n",
      "\u001b[36mX-Amz-Cf-Id\u001b[39;49;00m: \u001b[33mFh_dlKn3cOKAx_mcoMLfVl97SMMzm2wOc5Dr9U7QAEJj6lm07OhavQ==\u001b[39;49;00m\n",
      "\u001b[36mX-Amzn-Trace-Id\u001b[39;49;00m: \u001b[33mRoot=1-5c4bd463-4d76411edd93fea6b81f166c;Sampled=0\u001b[39;49;00m\n",
      "\u001b[36mX-Cache\u001b[39;49;00m: \u001b[33mMiss from cloudfront\u001b[39;49;00m\n",
      "\u001b[36mx-amz-apigw-id\u001b[39;49;00m: \u001b[33mUF4feElUSK4FlTA=\u001b[39;49;00m\n",
      "\u001b[36mx-amzn-RequestId\u001b[39;49;00m: \u001b[33mc2b2e128-211a-11e9-8589-d30094675486\u001b[39;49;00m\n",
      "\n",
      "{\n",
      "    \u001b[34;01m\"hello\"\u001b[39;49;00m: \u001b[33m\"world\"\u001b[39;49;00m\n",
      "}\n",
      "\n"
     ]
    }
   ],
   "source": [
    "http $(chalice url)"
   ]
  },
  {
   "cell_type": "code",
   "execution_count": 24,
   "metadata": {},
   "outputs": [
    {
     "name": "stdout",
     "output_type": "stream",
     "text": [
      "2019-01-25 23:01:06.688000 27caab \u001b[01;31m\u001b[KLooks\u001b[m\u001b[K like we got a request!\n",
      "2019-01-26 02:52:51.463000 ebd3d5 \u001b[01;31m\u001b[KLooks\u001b[m\u001b[K like we got a request!\n",
      "2019-01-26 03:20:40.767000 cec580 \u001b[01;31m\u001b[KLooks\u001b[m\u001b[K like we got a request!\n"
     ]
    }
   ],
   "source": [
    "chalice logs --include-lambda-messages | grep Looks"
   ]
  },
  {
   "cell_type": "code",
   "execution_count": 25,
   "metadata": {},
   "outputs": [
    {
     "name": "stdout",
     "output_type": "stream",
     "text": [
      "-- Functions before:\n",
      "            \"\u001b[01;31m\u001b[KFunctionName\u001b[m\u001b[K\": \"chalice-app-dev\",\n",
      "-- Functions after cleanup:\n"
     ]
    },
    {
     "ename": "",
     "evalue": "1",
     "output_type": "error",
     "traceback": []
    }
   ],
   "source": [
    "cleanup_functions"
   ]
  },
  {
   "cell_type": "markdown",
   "metadata": {},
   "source": [
    "# Scheduled events"
   ]
  },
  {
   "cell_type": "code",
   "execution_count": 26,
   "metadata": {},
   "outputs": [
    {
     "name": "stdout",
     "output_type": "stream",
     "text": [
      "{\n",
      "    \"Functions\": []\n",
      "}\n"
     ]
    }
   ],
   "source": [
    "aws lambda list-functions "
   ]
  },
  {
   "cell_type": "code",
   "execution_count": 27,
   "metadata": {},
   "outputs": [],
   "source": [
    "cd ~/src/git/ServerlessLabs/ServerlessWorkshop/AWS-S3-Lambda\n",
    "\n",
    "\n",
    "chalice new-project scheduled-app"
   ]
  },
  {
   "cell_type": "code",
   "execution_count": 28,
   "metadata": {},
   "outputs": [
    {
     "name": "stdout",
     "output_type": "stream",
     "text": [
      "total 20\n",
      "drwxrwxr-x  3 user1 user1 4096 Jan 26 03:31 \u001b[0m\u001b[01;34m.\u001b[0m\n",
      "drwxrwxr-x 11 user1 user1 4096 Jan 26 03:31 \u001b[01;34m..\u001b[0m\n",
      "drwxrwxr-x  2 user1 user1 4096 Jan 26 03:31 \u001b[01;34m.chalice\u001b[0m\n",
      "-rw-rw-r--  1 user1 user1   37 Jan 26 03:31 .gitignore\n",
      "-rw-rw-r--  1 user1 user1  738 Jan 26 03:31 app.py\n",
      "-rw-rw-r--  1 user1 user1    0 Jan 26 03:31 requirements.txt\n"
     ]
    }
   ],
   "source": [
    "cd scheduled-app\n",
    "ls -al "
   ]
  },
  {
   "cell_type": "code",
   "execution_count": 29,
   "metadata": {},
   "outputs": [
    {
     "name": "stdout",
     "output_type": "stream",
     "text": [
      "/home/user1/src/git/ServerlessLabs/ServerlessWorkshop/AWS-S3-Lambda/scheduled-app\n",
      "from chalice import Chalice\n",
      "\n",
      "app = Chalice(app_name='scheduled-app')\n",
      "\n",
      "\n",
      "@app.route('/')\n",
      "def index():\n",
      "    return {'hello': 'world'}\n",
      "\n",
      "\n",
      "# The view function above will return {\"hello\": \"world\"}\n",
      "# whenever you make an HTTP GET request to '/'.\n",
      "#\n",
      "# Here are a few more examples:\n",
      "#\n",
      "# @app.route('/hello/{name}')\n",
      "# def hello_name(name):\n",
      "#    # '/hello/james' -> {\"hello\": \"james\"}\n",
      "#    return {'hello': name}\n",
      "#\n",
      "# @app.route('/users', methods=['POST'])\n",
      "# def create_user():\n",
      "#     # This is the JSON body the user sent in their POST request.\n",
      "#     user_as_json = app.current_request.json_body\n",
      "#     # We'll echo the json body back to the user in a 'user' key.\n",
      "#     return {'user': user_as_json}\n",
      "#\n",
      "# See the README documentation for more examples.\n",
      "#\n"
     ]
    }
   ],
   "source": [
    "pwd\n",
    "cat app.py"
   ]
  },
  {
   "cell_type": "code",
   "execution_count": 30,
   "metadata": {},
   "outputs": [],
   "source": [
    "cat > app.py <<EOF\n",
    "\n",
    "from chalice import Chalice, Rate\n",
    "\n",
    "app = Chalice(app_name=\"scheduled-app\")\n",
    "app.debug = True\n",
    "\n",
    "# Automatically runs every 1 minutes\n",
    "@app.schedule(Rate(1, unit=Rate.MINUTES))\n",
    "def periodic_task(event):\n",
    "    print(\"Scheduled[1 min]\")\n",
    "    return {\"hello\": \"world\"}\n",
    "EOF"
   ]
  },
  {
   "cell_type": "code",
   "execution_count": 31,
   "metadata": {},
   "outputs": [
    {
     "name": "stdout",
     "output_type": "stream",
     "text": [
      "/home/user1/src/git/ServerlessLabs/ServerlessWorkshop/AWS-S3-Lambda/scheduled-app\n",
      "{\n",
      "    \"Functions\": []\n",
      "}\n"
     ]
    }
   ],
   "source": [
    "pwd\n",
    "aws lambda list-functions"
   ]
  },
  {
   "cell_type": "code",
   "execution_count": 32,
   "metadata": {},
   "outputs": [
    {
     "name": "stdout",
     "output_type": "stream",
     "text": [
      "/usr/share/python-wheels/requests-2.18.4-py2.py3-none-any.whl/requests/__init__.py:80: RequestsDependencyWarning: urllib3 (1.24.1) or chardet (3.0.4) doesn't match a supported version!\n",
      "Creating deployment package.\n",
      "Creating IAM role: scheduled-app-dev\n",
      "Creating lambda function: scheduled-app-dev-periodic_task\n",
      "Resources deployed:\n",
      "  - Lambda ARN: arn:aws:lambda:us-west-1:568285458700:function:scheduled-app-dev-periodic_task\n"
     ]
    }
   ],
   "source": [
    "chalice deploy"
   ]
  },
  {
   "cell_type": "code",
   "execution_count": 43,
   "metadata": {},
   "outputs": [],
   "source": [
    "chalice logs --include-lambda-messages"
   ]
  },
  {
   "cell_type": "code",
   "execution_count": 44,
   "metadata": {},
   "outputs": [
    {
     "name": "stdout",
     "output_type": "stream",
     "text": [
      "{\n",
      "    \"Functions\": [\n",
      "        {\n",
      "            \"FunctionName\": \"scheduled-app-dev-periodic_task\",\n",
      "            \"FunctionArn\": \"arn:aws:lambda:us-west-1:568285458700:function:scheduled-app-dev-periodic_task\",\n",
      "            \"Runtime\": \"python3.6\",\n",
      "            \"Role\": \"arn:aws:iam::568285458700:role/scheduled-app-dev\",\n",
      "            \"Handler\": \"app.periodic_task\",\n",
      "            \"CodeSize\": 10309,\n",
      "            \"Description\": \"\",\n",
      "            \"Timeout\": 60,\n",
      "            \"MemorySize\": 128,\n",
      "            \"LastModified\": \"2019-01-26T03:33:52.685+0000\",\n",
      "            \"CodeSha256\": \"uh3k06OKlHnGH1dTkfoSX0YTDp4Q6zT9rUWW3AWqB+w=\",\n",
      "            \"Version\": \"$LATEST\",\n",
      "            \"VpcConfig\": {\n",
      "                \"SubnetIds\": [],\n",
      "                \"SecurityGroupIds\": [],\n",
      "                \"VpcId\": \"\"\n",
      "            },\n",
      "            \"Environment\": {\n",
      "                \"Variables\": {}\n",
      "            },\n",
      "            \"TracingConfig\": {\n",
      "                \"Mode\": \"PassThrough\"\n",
      "            },\n",
      "            \"RevisionId\": \"85b4aac2-b384-4bad-8120-4c198284ee54\"\n",
      "        }\n",
      "    ]\n",
      "}\n"
     ]
    }
   ],
   "source": [
    "aws lambda list-functions"
   ]
  },
  {
   "cell_type": "code",
   "execution_count": 48,
   "metadata": {},
   "outputs": [
    {
     "name": "stdout",
     "output_type": "stream",
     "text": [
      "2019-01-25 00:00:11.996000 44d41c START RequestId: 969cdc86-aa85-4719-bf77-aff5d863a8a9 Version: $LATEST\n",
      "2019-01-25 00:00:11.996000 44d41c END RequestId: 969cdc86-aa85-4719-bf77-aff5d863a8a9\n",
      "2019-01-25 00:00:11.996000 44d41c REPORT RequestId: 969cdc86-aa85-4719-bf77-aff5d863a8a9\tDuration: 0.57 ms\tBilled Duration: 100 ms \tMemory Size: 128 MB\tMax Memory Used: 24 MB\n",
      "2019-01-25 00:07:22.639000 44d41c START RequestId: 1a0a3cdc-b023-4d69-98f5-a145f0e478ee Version: $LATEST\n",
      "2019-01-25 00:07:22.709000 44d41c END RequestId: 1a0a3cdc-b023-4d69-98f5-a145f0e478ee\n",
      "2019-01-25 00:07:22.709000 44d41c REPORT RequestId: 1a0a3cdc-b023-4d69-98f5-a145f0e478ee\tDuration: 29.26 ms\tBilled Duration: 100 ms \tMemory Size: 128 MB\tMax Memory Used: 24 MB\n",
      "2019-01-25 00:28:18.733000 44d41c START RequestId: 6ba33c1e-d1b2-4da5-8933-4933a5ebfff3 Version: $LATEST\n",
      "2019-01-25 00:28:18.750000 44d41c END RequestId: 6ba33c1e-d1b2-4da5-8933-4933a5ebfff3\n",
      "2019-01-25 00:28:18.751000 44d41c REPORT RequestId: 6ba33c1e-d1b2-4da5-8933-4933a5ebfff3\tDuration: 14.83 ms\tBilled Duration: 100 ms \tMemory Size: 128 MB\tMax Memory Used: 24 MB\n",
      "2019-01-25 00:31:45.153000 44d41c START RequestId: 072db1a5-49c1-4ac6-8ba0-78d4ad8ad7c5 Version: $LATEST\n",
      "2019-01-25 00:31:45.170000 44d41c END RequestId: 072db1a5-49c1-4ac6-8ba0-78d4ad8ad7c5\n",
      "2019-01-25 00:31:45.171000 44d41c REPORT RequestId: 072db1a5-49c1-4ac6-8ba0-78d4ad8ad7c5\tDuration: 8.52 ms\tBilled Duration: 100 ms \tMemory Size: 128 MB\tMax Memory Used: 24 MB\n",
      "2019-01-25 00:31:56.295000 44d41c START RequestId: c07e5a87-7bd4-4696-ba24-0466896de69f Version: $LATEST\n",
      "2019-01-25 00:31:56.299000 44d41c END RequestId: c07e5a87-7bd4-4696-ba24-0466896de69f\n",
      "2019-01-25 00:31:56.299000 44d41c REPORT RequestId: c07e5a87-7bd4-4696-ba24-0466896de69f\tDuration: 0.50 ms\tBilled Duration: 100 ms \tMemory Size: 128 MB\tMax Memory Used: 24 MB\n",
      "2019-01-25 00:33:03.721000 44d41c START RequestId: 3f97d0c1-4c33-4b15-9ad1-99eb1c490001 Version: $LATEST\n",
      "2019-01-25 00:33:03.730000 44d41c END RequestId: 3f97d0c1-4c33-4b15-9ad1-99eb1c490001\n",
      "2019-01-25 00:33:03.731000 44d41c REPORT RequestId: 3f97d0c1-4c33-4b15-9ad1-99eb1c490001\tDuration: 6.83 ms\tBilled Duration: 100 ms \tMemory Size: 128 MB\tMax Memory Used: 24 MB\n",
      "2019-01-25 00:35:22.480000 44d41c START RequestId: d2dce572-7dd2-40d7-88db-736c1dd2462d Version: $LATEST\n",
      "2019-01-25 00:35:22.491000 44d41c END RequestId: d2dce572-7dd2-40d7-88db-736c1dd2462d\n",
      "2019-01-25 00:35:22.549000 44d41c REPORT RequestId: d2dce572-7dd2-40d7-88db-736c1dd2462d\tDuration: 6.59 ms\tBilled Duration: 100 ms \tMemory Size: 128 MB\tMax Memory Used: 24 MB\n",
      "2019-01-25 00:47:21.940000 65a894 START RequestId: 53c1191a-3e3f-4271-85a5-394cb7db89a2 Version: $LATEST\n",
      "2019-01-25 00:47:21.941000 65a894 END RequestId: 53c1191a-3e3f-4271-85a5-394cb7db89a2\n",
      "2019-01-25 00:47:21.941000 65a894 REPORT RequestId: 53c1191a-3e3f-4271-85a5-394cb7db89a2\tDuration: 0.67 ms\tBilled Duration: 100 ms \tMemory Size: 128 MB\tMax Memory Used: 24 MB\n",
      "2019-01-25 02:43:26.823000 ffa2ce START RequestId: 76354301-cd04-49ad-8630-1b0acd6d4662 Version: $LATEST\n",
      "2019-01-25 02:43:26.824000 ffa2ce module initialization error: Credentials are required to create a TwilioClient\n",
      "2019-01-25 02:43:27.067000 ffa2ce END RequestId: 76354301-cd04-49ad-8630-1b0acd6d4662\n",
      "2019-01-25 02:43:27.067000 ffa2ce REPORT RequestId: 76354301-cd04-49ad-8630-1b0acd6d4662\tDuration: 243.64 ms\tBilled Duration: 300 ms \tMemory Size: 128 MB\tMax Memory Used: 32 MB\n",
      "2019-01-25 02:43:27.067000 ffa2ce module initialization error\n",
      "Credentials are required to create a TwilioClient\n",
      "2019-01-25 22:53:22.155000 f5a0b1 START RequestId: 85df50d2-cbc9-4a1a-9beb-23770635daf9 Version: $LATEST\n",
      "2019-01-25 22:53:22.156000 f5a0b1 END RequestId: 85df50d2-cbc9-4a1a-9beb-23770635daf9\n",
      "2019-01-25 22:53:22.156000 f5a0b1 REPORT RequestId: 85df50d2-cbc9-4a1a-9beb-23770635daf9\tDuration: 0.45 ms\tBilled Duration: 100 ms \tMemory Size: 128 MB\tMax Memory Used: 24 MB\n",
      "2019-01-25 22:54:02.138000 f5a0b1 START RequestId: 33c59fb9-038b-4876-9383-388f16874b2b Version: $LATEST\n",
      "2019-01-25 22:54:02.141000 f5a0b1 END RequestId: 33c59fb9-038b-4876-9383-388f16874b2b\n",
      "2019-01-25 22:54:02.141000 f5a0b1 REPORT RequestId: 33c59fb9-038b-4876-9383-388f16874b2b\tDuration: 0.50 ms\tBilled Duration: 100 ms \tMemory Size: 128 MB\tMax Memory Used: 24 MB\n",
      "2019-01-25 23:01:06.688000 27caab START RequestId: af58ccc6-bbfb-4dbf-ada5-477f4b11fefe Version: $LATEST\n",
      "2019-01-25 23:01:06.688000 27caab Looks like we got a request!\n",
      "2019-01-25 23:01:06.689000 27caab END RequestId: af58ccc6-bbfb-4dbf-ada5-477f4b11fefe\n",
      "2019-01-25 23:01:06.689000 27caab REPORT RequestId: af58ccc6-bbfb-4dbf-ada5-477f4b11fefe\tDuration: 29.07 ms\tBilled Duration: 100 ms \tMemory Size: 128 MB\tMax Memory Used: 24 MB\n",
      "2019-01-26 00:22:26.050000 c313db START RequestId: 79d084f2-0565-4421-8856-1fee1f67afe5 Version: $LATEST\n",
      "2019-01-26 00:22:26.050000 c313db s3objects: <<chalice.app.Request object at 0x7ffa1f2c6940>>\n",
      "2019-01-26 00:22:26.709000 c313db END RequestId: 79d084f2-0565-4421-8856-1fee1f67afe5\n",
      "2019-01-26 00:22:26.709000 c313db REPORT RequestId: 79d084f2-0565-4421-8856-1fee1f67afe5\tDuration: 657.25 ms\tBilled Duration: 700 ms \tMemory Size: 128 MB\tMax Memory Used: 42 MB\n",
      "2019-01-26 00:24:34.082000 a295f6 START RequestId: 8a682a39-18d3-464c-bf1b-d45257bc1c5b Version: $LATEST\n",
      "2019-01-26 00:24:34.082000 a295f6 s3objects: <<chalice.app.Request object at 0x7fa8a7cd6940>>\n",
      "2019-01-26 00:24:34.650000 a295f6 END RequestId: 8a682a39-18d3-464c-bf1b-d45257bc1c5b\n",
      "2019-01-26 00:24:34.650000 a295f6 REPORT RequestId: 8a682a39-18d3-464c-bf1b-d45257bc1c5b\tDuration: 567.71 ms\tBilled Duration: 600 ms \tMemory Size: 128 MB\tMax Memory Used: 37 MB\n",
      "2019-01-26 00:27:26.817000 c569b0 START RequestId: 1d63580c-1dbc-42d2-9958-aad5850e6c1e Version: $LATEST\n",
      "2019-01-26 00:27:26.818000 c569b0 s3 - ERROR - Internal Error for <function s3objects at 0x7f22ac1fc730>\n",
      "2019-01-26 00:27:26.818000 c569b0 Traceback (most recent call last):\n",
      "2019-01-26 00:27:26.818000 c569b0 File \"/var/task/chalice/app.py\", line 731, in _get_view_function_response\n",
      "2019-01-26 00:27:26.818000 c569b0 response = view_function(**function_args)\n",
      "2019-01-26 00:27:26.818000 c569b0 File \"/var/task/app.py\", line 20, in s3objects\n",
      "2019-01-26 00:27:26.818000 c569b0 req = json.dumps(request, default=handle_decimals)\n",
      "2019-01-26 00:27:26.818000 c569b0 NameError: name 'handle_decimals' is not defined\n",
      "2019-01-26 00:27:26.829000 c569b0 END RequestId: 1d63580c-1dbc-42d2-9958-aad5850e6c1e\n",
      "2019-01-26 00:27:26.829000 c569b0 REPORT RequestId: 1d63580c-1dbc-42d2-9958-aad5850e6c1e\tDuration: 1.46 ms\tBilled Duration: 100 ms \tMemory Size: 128 MB\tMax Memory Used: 35 MB\n",
      "2019-01-26 00:32:18.695000 b6528d START RequestId: 5533a0b2-d2f8-468c-81dc-2429073b668a Version: $LATEST\n",
      "2019-01-26 00:32:18.695000 b6528d s3objects: <{\"query_params\": null, \"headers\": {\"accept\": \"*/*\", \"accept-encoding\": \"gzip, deflate\", \"cloudfront-forwarded-proto\": \"https\", \"cloudfront-is-desktop-viewer\": \"true\", \"cloudfront-is-mobile-viewer\": \"false\", \"cloudfront-is-smarttv-viewer\": \"false\", \"cloudfront-is-tablet-viewer\": \"false\", \"cloudfront-viewer-country\": \"US\", \"host\": \"jlmq3ygdu1.execute-api.us-west-1.amazonaws.com\", \"user-agent\": \"HTTPie/0.9.8\", \"via\": \"1.1 f1a40337a32137e1c23ceffead6a50d5.cloudfront.net (CloudFront)\", \"x-amz-cf-id\": \"Bt_hdRpgoK_u8oGdWSuYLo42AEdGxKYmJEnJjOeLbZ7og4P1kyMFZw==\", \"x-amzn-trace-id\": \"Root=1-5c4baa92-b9b2765f8181eff9ffbc7e42\", \"x-forwarded-for\": \"54.67.51.193, 54.239.134.7\", \"x-forwarded-port\": \"443\", \"x-forwarded-proto\": \"https\"}, \"uri_params\": {\"key\": \"test\"}, \"method\": \"GET\", \"context\": {\"resourceId\": \"wvdbuo\", \"resourcePath\": \"/objects/{key}\", \"httpMethod\": \"GET\", \"extendedRequestId\": \"UFeW0GbkyK4Fitg=\", \"requestTime\": \"26/Jan/2019:00:32:18 +0000\", \"path\": \"/api/objects/test\", \"accountId\": \"568285458700\", \"protocol\": \"HTTP/1.1\", \"stage\": \"api\", \"domainPrefix\": \"jlmq3ygdu1\", \"requestTimeEpoch\": 1548462738044, \"requestId\": \"d5feccae-2101-11e9-900f-d5ae7e711214\", \"identity\": {\"cognitoIdentityPoolId\": null, \"accountId\": null, \"cognitoIdentityId\": null, \"caller\": null, \"sourceIp\": \"54.67.51.193\", \"accessKey\": null, \"cognitoAuthenticationType\": null, \"cognitoAuthenticationProvider\": null, \"userArn\": null, \"userAgent\": \"HTTPie/0.9.8\", \"user\": null}, \"domainName\": \"jlmq3ygdu1.execute-api.us-west-1.amazonaws.com\", \"apiId\": \"jlmq3ygdu1\"}, \"stage_vars\": null}>\n"
     ]
    },
    {
     "name": "stdout",
     "output_type": "stream",
     "text": [
      "2019-01-26 00:32:19.330000 b6528d END RequestId: 5533a0b2-d2f8-468c-81dc-2429073b668a\n",
      "2019-01-26 00:32:19.330000 b6528d REPORT RequestId: 5533a0b2-d2f8-468c-81dc-2429073b668a\tDuration: 634.91 ms\tBilled Duration: 700 ms \tMemory Size: 128 MB\tMax Memory Used: 37 MB\n",
      "2019-01-26 00:34:33.414000 a8ddcb START RequestId: bce9a152-cb73-4261-9bec-3c0d10582899 Version: $LATEST\n",
      "2019-01-26 00:34:33.415000 a8ddcb s3objects: SO FAR SO GOOD\n",
      "2019-01-26 00:34:33.415000 a8ddcb s3objects: <{'query_params': None, 'headers': {'accept': '*/*', 'accept-encoding': 'gzip, deflate', 'cloudfront-forwarded-proto': 'https', 'cloudfront-is-desktop-viewer': 'true', 'cloudfront-is-mobile-viewer': 'false', 'cloudfront-is-smarttv-viewer': 'false', 'cloudfront-is-tablet-viewer': 'false', 'cloudfront-viewer-country': 'US', 'host': 'jlmq3ygdu1.execute-api.us-west-1.amazonaws.com', 'user-agent': 'HTTPie/0.9.8', 'via': '1.1 5c2ff4ca1e447265402af29264e83497.cloudfront.net (CloudFront)', 'x-amz-cf-id': 'mQCX2b5PHSGu4WVl-i1aUxzXHg9DnMHq5hUiAspg9Cqv_DL8c9Lw_w==', 'x-amzn-trace-id': 'Root=1-5c4bab18-5c7d601bd991bc898c6db78f', 'x-forwarded-for': '54.67.51.193, 54.239.134.7', 'x-forwarded-port': '443', 'x-forwarded-proto': 'https'}, 'uri_params': {'key': 'test'}, 'method': 'GET', 'context': {'resourceId': 'wvdbuo', 'resourcePath': '/objects/{key}', 'httpMethod': 'GET', 'extendedRequestId': 'UFer3HhUSK4FghQ=', 'requestTime': '26/Jan/2019:00:34:32 +0000', 'path': '/api/objects/test', 'accountId': '568285458700', 'protocol': 'HTTP/1.1', 'stage': 'api', 'domainPrefix': 'jlmq3ygdu1', 'requestTimeEpoch': 1548462872776, 'requestId': '264d4499-2102-11e9-9ca2-032065ee22a7', 'identity': {'cognitoIdentityPoolId': None, 'accountId': None, 'cognitoIdentityId': None, 'caller': None, 'sourceIp': '54.67.51.193', 'accessKey': None, 'cognitoAuthenticationType': None, 'cognitoAuthenticationProvider': None, 'userArn': None, 'userAgent': 'HTTPie/0.9.8', 'user': None}, 'domainName': 'jlmq3ygdu1.execute-api.us-west-1.amazonaws.com', 'apiId': 'jlmq3ygdu1'}, 'stage_vars': None}>\n",
      "2019-01-26 00:34:33.415000 a8ddcb s3objects: <{\"query_params\": null, \"headers\": {\"accept\": \"*/*\", \"accept-encoding\": \"gzip, deflate\", \"cloudfront-forwarded-proto\": \"https\", \"cloudfront-is-desktop-viewer\": \"true\", \"cloudfront-is-mobile-viewer\": \"false\", \"cloudfront-is-smarttv-viewer\": \"false\", \"cloudfront-is-tablet-viewer\": \"false\", \"cloudfront-viewer-country\": \"US\", \"host\": \"jlmq3ygdu1.execute-api.us-west-1.amazonaws.com\", \"user-agent\": \"HTTPie/0.9.8\", \"via\": \"1.1 5c2ff4ca1e447265402af29264e83497.cloudfront.net (CloudFront)\", \"x-amz-cf-id\": \"mQCX2b5PHSGu4WVl-i1aUxzXHg9DnMHq5hUiAspg9Cqv_DL8c9Lw_w==\", \"x-amzn-trace-id\": \"Root=1-5c4bab18-5c7d601bd991bc898c6db78f\", \"x-forwarded-for\": \"54.67.51.193, 54.239.134.7\", \"x-forwarded-port\": \"443\", \"x-forwarded-proto\": \"https\"}, \"uri_params\": {\"key\": \"test\"}, \"method\": \"GET\", \"context\": {\"resourceId\": \"wvdbuo\", \"resourcePath\": \"/objects/{key}\", \"httpMethod\": \"GET\", \"extendedRequestId\": \"UFer3HhUSK4FghQ=\", \"requestTime\": \"26/Jan/2019:00:34:32 +0000\", \"path\": \"/api/objects/test\", \"accountId\": \"568285458700\", \"protocol\": \"HTTP/1.1\", \"stage\": \"api\", \"domainPrefix\": \"jlmq3ygdu1\", \"requestTimeEpoch\": 1548462872776, \"requestId\": \"264d4499-2102-11e9-9ca2-032065ee22a7\", \"identity\": {\"cognitoIdentityPoolId\": null, \"accountId\": null, \"cognitoIdentityId\": null, \"caller\": null, \"sourceIp\": \"54.67.51.193\", \"accessKey\": null, \"cognitoAuthenticationType\": null, \"cognitoAuthenticationProvider\": null, \"userArn\": null, \"userAgent\": \"HTTPie/0.9.8\", \"user\": null}, \"domainName\": \"jlmq3ygdu1.execute-api.us-west-1.amazonaws.com\", \"apiId\": \"jlmq3ygdu1\"}, \"stage_vars\": null}>\n",
      "2019-01-26 00:34:33.989000 a8ddcb END RequestId: bce9a152-cb73-4261-9bec-3c0d10582899\n",
      "2019-01-26 00:34:33.989000 a8ddcb REPORT RequestId: bce9a152-cb73-4261-9bec-3c0d10582899\tDuration: 574.42 ms\tBilled Duration: 600 ms \tMemory Size: 128 MB\tMax Memory Used: 37 MB\n",
      "2019-01-26 00:37:55.453000 a8ddcb START RequestId: 91b39421-4222-4d9a-8381-a3ac5ac88572 Version: $LATEST\n",
      "2019-01-26 00:37:55.489000 a8ddcb s3objects: SO FAR SO GOOD\n",
      "2019-01-26 00:37:55.489000 a8ddcb s3objects: <{'query_params': None, 'headers': {'accept': '*/*', 'accept-encoding': 'gzip, deflate', 'cloudfront-forwarded-proto': 'https', 'cloudfront-is-desktop-viewer': 'true', 'cloudfront-is-mobile-viewer': 'false', 'cloudfront-is-smarttv-viewer': 'false', 'cloudfront-is-tablet-viewer': 'false', 'cloudfront-viewer-country': 'US', 'host': 'jlmq3ygdu1.execute-api.us-west-1.amazonaws.com', 'user-agent': 'HTTPie/0.9.8', 'via': '1.1 20f1c35f343f4b271ae8dcacfd7ea0e9.cloudfront.net (CloudFront)', 'x-amz-cf-id': 'ruqvfTXReomBotCmWepayfZnZVp5Nln6TThdjKf8xT1oPKVTAxJUbg==', 'x-amzn-trace-id': 'Root=1-5c4babe3-d12496852222efb0d911dfa2', 'x-forwarded-for': '54.67.51.193, 54.239.134.14', 'x-forwarded-port': '443', 'x-forwarded-proto': 'https'}, 'uri_params': {'key': 'test'}, 'method': 'GET', 'context': {'resourceId': 'wvdbuo', 'resourcePath': '/objects/{key}', 'httpMethod': 'GET', 'extendedRequestId': 'UFfLiFlNSK4Fmrw=', 'requestTime': '26/Jan/2019:00:37:55 +0000', 'path': '/api/objects/test', 'accountId': '568285458700', 'protocol': 'HTTP/1.1', 'stage': 'api', 'domainPrefix': 'jlmq3ygdu1', 'requestTimeEpoch': 1548463075419, 'requestId': '9f1622b9-2102-11e9-b14b-5551fb47ff1c', 'identity': {'cognitoIdentityPoolId': None, 'accountId': None, 'cognitoIdentityId': None, 'caller': None, 'sourceIp': '54.67.51.193', 'accessKey': None, 'cognitoAuthenticationType': None, 'cognitoAuthenticationProvider': None, 'userArn': None, 'userAgent': 'HTTPie/0.9.8', 'user': None}, 'domainName': 'jlmq3ygdu1.execute-api.us-west-1.amazonaws.com', 'apiId': 'jlmq3ygdu1'}, 'stage_vars': None}>\n",
      "2019-01-26 00:37:55.489000 a8ddcb s3objects: <{\"query_params\": null, \"headers\": {\"accept\": \"*/*\", \"accept-encoding\": \"gzip, deflate\", \"cloudfront-forwarded-proto\": \"https\", \"cloudfront-is-desktop-viewer\": \"true\", \"cloudfront-is-mobile-viewer\": \"false\", \"cloudfront-is-smarttv-viewer\": \"false\", \"cloudfront-is-tablet-viewer\": \"false\", \"cloudfront-viewer-country\": \"US\", \"host\": \"jlmq3ygdu1.execute-api.us-west-1.amazonaws.com\", \"user-agent\": \"HTTPie/0.9.8\", \"via\": \"1.1 20f1c35f343f4b271ae8dcacfd7ea0e9.cloudfront.net (CloudFront)\", \"x-amz-cf-id\": \"ruqvfTXReomBotCmWepayfZnZVp5Nln6TThdjKf8xT1oPKVTAxJUbg==\", \"x-amzn-trace-id\": \"Root=1-5c4babe3-d12496852222efb0d911dfa2\", \"x-forwarded-for\": \"54.67.51.193, 54.239.134.14\", \"x-forwarded-port\": \"443\", \"x-forwarded-proto\": \"https\"}, \"uri_params\": {\"key\": \"test\"}, \"method\": \"GET\", \"context\": {\"resourceId\": \"wvdbuo\", \"resourcePath\": \"/objects/{key}\", \"httpMethod\": \"GET\", \"extendedRequestId\": \"UFfLiFlNSK4Fmrw=\", \"requestTime\": \"26/Jan/2019:00:37:55 +0000\", \"path\": \"/api/objects/test\", \"accountId\": \"568285458700\", \"protocol\": \"HTTP/1.1\", \"stage\": \"api\", \"domainPrefix\": \"jlmq3ygdu1\", \"requestTimeEpoch\": 1548463075419, \"requestId\": \"9f1622b9-2102-11e9-b14b-5551fb47ff1c\", \"identity\": {\"cognitoIdentityPoolId\": null, \"accountId\": null, \"cognitoIdentityId\": null, \"caller\": null, \"sourceIp\": \"54.67.51.193\", \"accessKey\": null, \"cognitoAuthenticationType\": null, \"cognitoAuthenticationProvider\": null, \"userArn\": null, \"userAgent\": \"HTTPie/0.9.8\", \"user\": null}, \"domainName\": \"jlmq3ygdu1.execute-api.us-west-1.amazonaws.com\", \"apiId\": \"jlmq3ygdu1\"}, \"stage_vars\": null}>\n",
      "2019-01-26 00:37:56.009000 a8ddcb s3 - ERROR - Internal Error for <function s3objects at 0x7f6689386730>\n",
      "2019-01-26 00:37:56.009000 a8ddcb Traceback (most recent call last):\n",
      "2019-01-26 00:37:56.009000 a8ddcb File \"/var/task/chalice/app.py\", line 731, in _get_view_function_response\n",
      "2019-01-26 00:37:56.009000 a8ddcb response = view_function(**function_args)\n",
      "2019-01-26 00:37:56.009000 a8ddcb File \"/var/task/app.py\", line 35, in s3objects\n",
      "2019-01-26 00:37:56.009000 a8ddcb return json.loads(response['Body'].read())\n",
      "2019-01-26 00:37:56.009000 a8ddcb File \"/var/lang/lib/python3.6/json/__init__.py\", line 354, in loads\n",
      "2019-01-26 00:37:56.009000 a8ddcb return _default_decoder.decode(s)\n",
      "2019-01-26 00:37:56.009000 a8ddcb File \"/var/lang/lib/python3.6/json/decoder.py\", line 339, in decode\n",
      "2019-01-26 00:37:56.009000 a8ddcb obj, end = self.raw_decode(s, idx=_w(s, 0).end())\n",
      "2019-01-26 00:37:56.009000 a8ddcb File \"/var/lang/lib/python3.6/json/decoder.py\", line 357, in raw_decode\n"
     ]
    },
    {
     "name": "stdout",
     "output_type": "stream",
     "text": [
      "2019-01-26 00:37:56.009000 a8ddcb raise JSONDecodeError(\"Expecting value\", s, err.value) from None\n",
      "2019-01-26 00:37:56.009000 a8ddcb json.decoder.JSONDecodeError: Expecting value: line 2 column 1 (char 1)\n",
      "2019-01-26 00:37:56.009000 a8ddcb END RequestId: 91b39421-4222-4d9a-8381-a3ac5ac88572\n",
      "2019-01-26 00:37:56.009000 a8ddcb REPORT RequestId: 91b39421-4222-4d9a-8381-a3ac5ac88572\tDuration: 555.22 ms\tBilled Duration: 600 ms \tMemory Size: 128 MB\tMax Memory Used: 38 MB\n",
      "2019-01-26 00:39:25.506000 882ee8 START RequestId: 33e782d0-3f4f-42a3-a976-24acf9df7954 Version: $LATEST\n",
      "2019-01-26 00:39:25.506000 882ee8 s3objects: SO FAR SO GOOD -----------------------------------------------------------------\n",
      "2019-01-26 00:39:25.506000 882ee8 s3objects: <{'query_params': None, 'headers': {'accept': '*/*', 'accept-encoding': 'gzip, deflate', 'cloudfront-forwarded-proto': 'https', 'cloudfront-is-desktop-viewer': 'true', 'cloudfront-is-mobile-viewer': 'false', 'cloudfront-is-smarttv-viewer': 'false', 'cloudfront-is-tablet-viewer': 'false', 'cloudfront-viewer-country': 'US', 'host': 'jlmq3ygdu1.execute-api.us-west-1.amazonaws.com', 'user-agent': 'HTTPie/0.9.8', 'via': '1.1 24b0e5a3429d07ef12381da50e07f70f.cloudfront.net (CloudFront)', 'x-amz-cf-id': 'jJFLYx3gAXNkB8v5_zW3OgO7IYkbvDBktrUD8hZSt2qp20QVMpXIew==', 'x-amzn-trace-id': 'Root=1-5c4bac3c-2d30962cbacf1490cf4231f6', 'x-forwarded-for': '54.67.51.193, 54.239.134.7', 'x-forwarded-port': '443', 'x-forwarded-proto': 'https'}, 'uri_params': {'key': 'test'}, 'method': 'GET', 'context': {'resourceId': 'wvdbuo', 'resourcePath': '/objects/{key}', 'httpMethod': 'GET', 'extendedRequestId': 'UFfZgGp6SK4Ff-A=', 'requestTime': '26/Jan/2019:00:39:24 +0000', 'path': '/api/objects/test', 'accountId': '568285458700', 'protocol': 'HTTP/1.1', 'stage': 'api', 'domainPrefix': 'jlmq3ygdu1', 'requestTimeEpoch': 1548463164862, 'requestId': 'd4660ebb-2102-11e9-813f-4b680ee1356d', 'identity': {'cognitoIdentityPoolId': None, 'accountId': None, 'cognitoIdentityId': None, 'caller': None, 'sourceIp': '54.67.51.193', 'accessKey': None, 'cognitoAuthenticationType': None, 'cognitoAuthenticationProvider': None, 'userArn': None, 'userAgent': 'HTTPie/0.9.8', 'user': None}, 'domainName': 'jlmq3ygdu1.execute-api.us-west-1.amazonaws.com', 'apiId': 'jlmq3ygdu1'}, 'stage_vars': None}>\n",
      "2019-01-26 00:39:25.506000 882ee8 GET s3://mjbright-uploads/test\n",
      "2019-01-26 00:39:26.089000 882ee8 s3 - ERROR - Internal Error for <function s3objects at 0x7f74add50730>\n",
      "2019-01-26 00:39:26.089000 882ee8 Traceback (most recent call last):\n",
      "2019-01-26 00:39:26.089000 882ee8 File \"/var/task/chalice/app.py\", line 731, in _get_view_function_response\n",
      "2019-01-26 00:39:26.089000 882ee8 response = view_function(**function_args)\n",
      "2019-01-26 00:39:26.089000 882ee8 File \"/var/task/app.py\", line 36, in s3objects\n",
      "2019-01-26 00:39:26.089000 882ee8 return json.loads(response['Body'].read())\n",
      "2019-01-26 00:39:26.089000 882ee8 File \"/var/lang/lib/python3.6/json/__init__.py\", line 354, in loads\n",
      "2019-01-26 00:39:26.089000 882ee8 return _default_decoder.decode(s)\n",
      "2019-01-26 00:39:26.089000 882ee8 File \"/var/lang/lib/python3.6/json/decoder.py\", line 339, in decode\n",
      "2019-01-26 00:39:26.089000 882ee8 obj, end = self.raw_decode(s, idx=_w(s, 0).end())\n",
      "2019-01-26 00:39:26.089000 882ee8 File \"/var/lang/lib/python3.6/json/decoder.py\", line 357, in raw_decode\n",
      "2019-01-26 00:39:26.089000 882ee8 raise JSONDecodeError(\"Expecting value\", s, err.value) from None\n",
      "2019-01-26 00:39:26.089000 882ee8 json.decoder.JSONDecodeError: Expecting value: line 2 column 1 (char 1)\n",
      "2019-01-26 00:39:26.090000 882ee8 END RequestId: 33e782d0-3f4f-42a3-a976-24acf9df7954\n",
      "2019-01-26 00:39:26.090000 882ee8 REPORT RequestId: 33e782d0-3f4f-42a3-a976-24acf9df7954\tDuration: 584.00 ms\tBilled Duration: 600 ms \tMemory Size: 128 MB\tMax Memory Used: 37 MB\n",
      "2019-01-26 00:42:38.817000 0d4318 START RequestId: def1b97f-eb01-467c-9650-a5267077b1da Version: $LATEST\n",
      "2019-01-26 00:42:38.817000 0d4318 s3objects: SO FAR SO GOOD -----------------------------------------------------------------\n",
      "2019-01-26 00:42:38.817000 0d4318 s3objects: <{'query_params': None, 'headers': {'accept': '*/*', 'accept-encoding': 'gzip, deflate', 'cloudfront-forwarded-proto': 'https', 'cloudfront-is-desktop-viewer': 'true', 'cloudfront-is-mobile-viewer': 'false', 'cloudfront-is-smarttv-viewer': 'false', 'cloudfront-is-tablet-viewer': 'false', 'cloudfront-viewer-country': 'US', 'host': 'jlmq3ygdu1.execute-api.us-west-1.amazonaws.com', 'user-agent': 'HTTPie/0.9.8', 'via': '1.1 1b52a5dd431f9e3c81753e61dfdf467a.cloudfront.net (CloudFront)', 'x-amz-cf-id': '66biLrXpMrvpM4V03J1OvKfbPVXicEW22C7uQ6u9oItwQAHGgMDUCg==', 'x-amzn-trace-id': 'Root=1-5c4bacfe-36903ca282508f579135cda1', 'x-forwarded-for': '54.67.51.193, 54.239.134.7', 'x-forwarded-port': '443', 'x-forwarded-proto': 'https'}, 'uri_params': {'key': 'test'}, 'method': 'GET', 'context': {'resourceId': 'wvdbuo', 'resourcePath': '/objects/{key}', 'httpMethod': 'GET', 'extendedRequestId': 'UFf3tEdCyK4Fp6w=', 'requestTime': '26/Jan/2019:00:42:38 +0000', 'path': '/api/objects/test', 'accountId': '568285458700', 'protocol': 'HTTP/1.1', 'stage': 'api', 'domainPrefix': 'jlmq3ygdu1', 'requestTimeEpoch': 1548463358168, 'requestId': '479e35bd-2103-11e9-b75a-8fe56bba7a8e', 'identity': {'cognitoIdentityPoolId': None, 'accountId': None, 'cognitoIdentityId': None, 'caller': None, 'sourceIp': '54.67.51.193', 'accessKey': None, 'cognitoAuthenticationType': None, 'cognitoAuthenticationProvider': None, 'userArn': None, 'userAgent': 'HTTPie/0.9.8', 'user': None}, 'domainName': 'jlmq3ygdu1.execute-api.us-west-1.amazonaws.com', 'apiId': 'jlmq3ygdu1'}, 'stage_vars': None}>\n",
      "2019-01-26 00:42:38.817000 0d4318 GET s3://mjbright-uploads/test\n",
      "2019-01-26 00:42:39.449000 0d4318 s3 - ERROR - Internal Error for <function s3objects at 0x7fb703c83730>\n",
      "2019-01-26 00:42:39.449000 0d4318 Traceback (most recent call last):\n",
      "2019-01-26 00:42:39.449000 0d4318 File \"/var/task/chalice/app.py\", line 731, in _get_view_function_response\n",
      "2019-01-26 00:42:39.449000 0d4318 response = view_function(**function_args)\n",
      "2019-01-26 00:42:39.449000 0d4318 File \"/var/task/app.py\", line 36, in s3objects\n",
      "2019-01-26 00:42:39.449000 0d4318 return json.loads(response['Body'].read())\n",
      "2019-01-26 00:42:39.449000 0d4318 File \"/var/lang/lib/python3.6/json/__init__.py\", line 354, in loads\n",
      "2019-01-26 00:42:39.449000 0d4318 return _default_decoder.decode(s)\n",
      "2019-01-26 00:42:39.449000 0d4318 File \"/var/lang/lib/python3.6/json/decoder.py\", line 339, in decode\n",
      "2019-01-26 00:42:39.449000 0d4318 obj, end = self.raw_decode(s, idx=_w(s, 0).end())\n",
      "2019-01-26 00:42:39.449000 0d4318 File \"/var/lang/lib/python3.6/json/decoder.py\", line 355, in raw_decode\n",
      "2019-01-26 00:42:39.449000 0d4318 obj, end = self.scan_once(s, idx)\n",
      "2019-01-26 00:42:39.449000 0d4318 json.decoder.JSONDecodeError: Expecting property name enclosed in double quotes: line 1 column 3 (char 2)\n",
      "2019-01-26 00:42:39.469000 0d4318 END RequestId: def1b97f-eb01-467c-9650-a5267077b1da\n",
      "2019-01-26 00:42:39.469000 0d4318 REPORT RequestId: def1b97f-eb01-467c-9650-a5267077b1da\tDuration: 632.66 ms\tBilled Duration: 700 ms \tMemory Size: 128 MB\tMax Memory Used: 37 MB\n",
      "2019-01-26 00:46:09.357000 830682 START RequestId: 7a774729-e5d8-4279-97ca-67ef720318d2 Version: $LATEST\n",
      "2019-01-26 00:46:09.358000 830682 s3objects: SO FAR SO GOOD -----------------------------------------------------------------\n",
      "2019-01-26 00:46:09.358000 830682 s3objects: <{'query_params': None, 'headers': {'accept': '*/*', 'accept-encoding': 'gzip, deflate', 'cloudfront-forwarded-proto': 'https', 'cloudfront-is-desktop-viewer': 'true', 'cloudfront-is-mobile-viewer': 'false', 'cloudfront-is-smarttv-viewer': 'false', 'cloudfront-is-tablet-viewer': 'false', 'cloudfront-viewer-country': 'US', 'host': 'jlmq3ygdu1.execute-api.us-west-1.amazonaws.com', 'user-agent': 'HTTPie/0.9.8', 'via': '1.1 24b0e5a3429d07ef12381da50e07f70f.cloudfront.net (CloudFront)', 'x-amz-cf-id': 'O2lh0HapYLq_0y5dVOfrUFBbkwRLoamPEqLGPzNn7rkgHm9z34tbJg==', 'x-amzn-trace-id': 'Root=1-5c4badd0-12c28bf8272ed3db0745db70', 'x-forwarded-for': '54.67.51.193, 54.239.134.14', 'x-forwarded-port': '443', 'x-forwarded-proto': 'https'}, 'uri_params': {'key': 'test'}, 'method': 'GET', 'context': {'resourceId': 'wvdbuo', 'resourcePath': '/objects/{key}', 'httpMethod': 'GET', 'extendedRequestId': 'UFgYnGv6yK4Fitg=', 'requestTime': '26/Jan/2019:00:46:08 +0000', 'path': '/api/objects/test', 'accountId': '568285458700', 'protocol': 'HTTP/1.1', 'stage': 'api', 'domainPrefix': 'jlmq3ygdu1', 'requestTimeEpoch': 1548463568702, 'requestId': 'c51b26d3-2103-11e9-900f-d5ae7e711214', 'identity': {'cognitoIdentityPoolId': None, 'accountId': None, 'cognitoIdentityId': None, 'caller': None, 'sourceIp': '54.67.51.193', 'accessKey': None, 'cognitoAuthenticationType': None, 'cognitoAuthenticationProvider': None, 'userArn': None, 'userAgent': 'HTTPie/0.9.8', 'user': None}, 'domainName': 'jlmq3ygdu1.execute-api.us-west-1.amazonaws.com', 'apiId': 'jlmq3ygdu1'}, 'stage_vars': None}>\n"
     ]
    },
    {
     "name": "stdout",
     "output_type": "stream",
     "text": [
      "2019-01-26 00:46:09.358000 830682 GET s3://mjbright-uploads/test\n",
      "2019-01-26 00:46:10.009000 830682 END RequestId: 7a774729-e5d8-4279-97ca-67ef720318d2\n",
      "2019-01-26 00:46:10.009000 830682 REPORT RequestId: 7a774729-e5d8-4279-97ca-67ef720318d2\tDuration: 632.71 ms\tBilled Duration: 700 ms \tMemory Size: 128 MB\tMax Memory Used: 37 MB\n",
      "2019-01-26 01:03:44.795000 189dfc START RequestId: 049afcfb-6aca-4f20-9bc9-022e42bbd3a5 Version: $LATEST\n",
      "2019-01-26 01:03:44.809000 189dfc s3text: ----------------------------------------------------------------- <{'query_params': None, 'headers': {'accept': '*/*', 'accept-encoding': 'gzip, deflate', 'cloudfront-forwarded-proto': 'https', 'cloudfront-is-desktop-viewer': 'true', 'cloudfront-is-mobile-viewer': 'false', 'cloudfront-is-smarttv-viewer': 'false', 'cloudfront-is-tablet-viewer': 'false', 'cloudfront-viewer-country': 'US', 'host': 'jlmq3ygdu1.execute-api.us-west-1.amazonaws.com', 'user-agent': 'HTTPie/0.9.8', 'via': '1.1 e2af8a85927835558866752f53562ecd.cloudfront.net (CloudFront)', 'x-amz-cf-id': 'pc2_vVu5MLKAg72qL6zQ9Fj-Y9UHZS8R-gBq76TbPcrAIvrVKzhS6g==', 'x-amzn-trace-id': 'Root=1-5c4bb1f0-4a683a7b7d0b5cf1ac91e237', 'x-forwarded-for': '54.67.51.193, 54.239.134.14', 'x-forwarded-port': '443', 'x-forwarded-proto': 'https'}, 'uri_params': {'key': 'test'}, 'method': 'GET', 'context': {'resourceId': 'ezap0f', 'resourcePath': '/text/{key}', 'httpMethod': 'GET', 'extendedRequestId': 'UFi9hGfnyK4FUUQ=', 'requestTime': '26/Jan/2019:01:03:44 +0000', 'path': '/api/text/test', 'accountId': '568285458700', 'protocol': 'HTTP/1.1', 'stage': 'api', 'domainPrefix': 'jlmq3ygdu1', 'requestTimeEpoch': 1548464624139, 'requestId': '3a320e6d-2106-11e9-b04b-6deecaeee351', 'identity': {'cognitoIdentityPoolId': None, 'accountId': None, 'cognitoIdentityId': None, 'caller': None, 'sourceIp': '54.67.51.193', 'accessKey': None, 'cognitoAuthenticationType': None, 'cognitoAuthenticationProvider': None, 'userArn': None, 'userAgent': 'HTTPie/0.9.8', 'user': None}, 'domainName': 'jlmq3ygdu1.execute-api.us-west-1.amazonaws.com', 'apiId': 'jlmq3ygdu1'}, 'stage_vars': None}>\n",
      "2019-01-26 01:03:44.809000 189dfc s3text: ----------------------------------------------------------------- <{'query_params': None, 'headers': {'accept': '*/*', 'accept-encoding': 'gzip, deflate', 'cloudfront-forwarded-proto': 'https', 'cloudfront-is-desktop-viewer': 'true', 'cloudfront-is-mobile-viewer': 'false', 'cloudfront-is-smarttv-viewer': 'false', 'cloudfront-is-tablet-viewer': 'false', 'cloudfront-viewer-country': 'US', 'host': 'jlmq3ygdu1.execute-api.us-west-1.amazonaws.com', 'user-agent': 'HTTPie/0.9.8', 'via': '1.1 e2af8a85927835558866752f53562ecd.cloudfront.net (CloudFront)', 'x-amz-cf-id': 'pc2_vVu5MLKAg72qL6zQ9Fj-Y9UHZS8R-gBq76TbPcrAIvrVKzhS6g==', 'x-amzn-trace-id': 'Root=1-5c4bb1f0-4a683a7b7d0b5cf1ac91e237', 'x-forwarded-for': '54.67.51.193, 54.239.134.14', 'x-forwarded-port': '443', 'x-forwarded-proto': 'https'}, 'uri_params': {'key': 'test'}, 'method': 'GET', 'context': {'resourceId': 'ezap0f', 'resourcePath': '/text/{key}', 'httpMethod': 'GET', 'extendedRequestId': 'UFi9hGfnyK4FUUQ=', 'requestTime': '26/Jan/2019:01:03:44 +0000', 'path': '/api/text/test', 'accountId': '568285458700', 'protocol': 'HTTP/1.1', 'stage': 'api', 'domainPrefix': 'jlmq3ygdu1', 'requestTimeEpoch': 1548464624139, 'requestId': '3a320e6d-2106-11e9-b04b-6deecaeee351', 'identity': {'cognitoIdentityPoolId': None, 'accountId': None, 'cognitoIdentityId': None, 'caller': None, 'sourceIp': '54.67.51.193', 'accessKey': None, 'cognitoAuthenticationType': None, 'cognitoAuthenticationProvider': None, 'userArn': None, 'userAgent': 'HTTPie/0.9.8', 'user': None}, 'domainName': 'jlmq3ygdu1.execute-api.us-west-1.amazonaws.com', 'apiId': 'jlmq3ygdu1'}, 'stage_vars': None}>\n",
      "2019-01-26 01:03:44.810000 189dfc {   'context': {   'accountId': '568285458700',\n",
      "2019-01-26 01:03:44.810000 189dfc 'apiId': 'jlmq3ygdu1',\n",
      "2019-01-26 01:03:44.810000 189dfc 'domainName': 'jlmq3ygdu1.execute-api.us-west-1.amazonaws.com',\n",
      "2019-01-26 01:03:44.810000 189dfc 'domainPrefix': 'jlmq3ygdu1',\n",
      "2019-01-26 01:03:44.810000 189dfc 'extendedRequestId': 'UFi9hGfnyK4FUUQ=',\n",
      "2019-01-26 01:03:44.810000 189dfc 'httpMethod': 'GET',\n",
      "2019-01-26 01:03:44.810000 189dfc 'identity': {   'accessKey': None,\n",
      "2019-01-26 01:03:44.810000 189dfc 'accountId': None,\n",
      "2019-01-26 01:03:44.810000 189dfc 'caller': None,\n",
      "2019-01-26 01:03:44.810000 189dfc 'cognitoAuthenticationProvider': None,\n",
      "2019-01-26 01:03:44.810000 189dfc 'cognitoAuthenticationType': None,\n",
      "2019-01-26 01:03:44.811000 189dfc 'cognitoIdentityId': None,\n",
      "2019-01-26 01:03:44.811000 189dfc 'cognitoIdentityPoolId': None,\n",
      "2019-01-26 01:03:44.811000 189dfc 'sourceIp': '54.67.51.193',\n",
      "2019-01-26 01:03:44.811000 189dfc 'user': None,\n",
      "2019-01-26 01:03:44.811000 189dfc 'userAgent': 'HTTPie/0.9.8',\n",
      "2019-01-26 01:03:44.811000 189dfc 'userArn': None},\n",
      "2019-01-26 01:03:44.811000 189dfc 'path': '/api/text/test',\n",
      "2019-01-26 01:03:44.811000 189dfc 'protocol': 'HTTP/1.1',\n",
      "2019-01-26 01:03:44.811000 189dfc 'requestId': '3a320e6d-2106-11e9-b04b-6deecaeee351',\n",
      "2019-01-26 01:03:44.811000 189dfc 'requestTime': '26/Jan/2019:01:03:44 +0000',\n",
      "2019-01-26 01:03:44.811000 189dfc 'requestTimeEpoch': 1548464624139,\n",
      "2019-01-26 01:03:44.811000 189dfc 'resourceId': 'ezap0f',\n",
      "2019-01-26 01:03:44.811000 189dfc 'resourcePath': '/text/{key}',\n",
      "2019-01-26 01:03:44.811000 189dfc 'stage': 'api'},\n",
      "2019-01-26 01:03:44.849000 189dfc 'headers': {   'accept': '*/*',\n",
      "2019-01-26 01:03:44.849000 189dfc 'accept-encoding': 'gzip, deflate',\n",
      "2019-01-26 01:03:44.849000 189dfc 'cloudfront-forwarded-proto': 'https',\n",
      "2019-01-26 01:03:44.849000 189dfc 'cloudfront-is-desktop-viewer': 'true',\n",
      "2019-01-26 01:03:44.849000 189dfc 'cloudfront-is-mobile-viewer': 'false',\n",
      "2019-01-26 01:03:44.849000 189dfc 'cloudfront-is-smarttv-viewer': 'false',\n",
      "2019-01-26 01:03:44.849000 189dfc 'cloudfront-is-tablet-viewer': 'false',\n",
      "2019-01-26 01:03:44.849000 189dfc 'cloudfront-viewer-country': 'US',\n",
      "2019-01-26 01:03:44.849000 189dfc 'host': 'jlmq3ygdu1.execute-api.us-west-1.amazonaws.com',\n",
      "2019-01-26 01:03:44.849000 189dfc 'user-agent': 'HTTPie/0.9.8',\n",
      "2019-01-26 01:03:44.849000 189dfc 'via': '1.1 e2af8a85927835558866752f53562ecd.cloudfront.net '\n",
      "2019-01-26 01:03:44.849000 189dfc '(CloudFront)',\n",
      "2019-01-26 01:03:44.849000 189dfc 'x-amz-cf-id': 'pc2_vVu5MLKAg72qL6zQ9Fj-Y9UHZS8R-gBq76TbPcrAIvrVKzhS6g==',\n",
      "2019-01-26 01:03:44.849000 189dfc 'x-amzn-trace-id': 'Root=1-5c4bb1f0-4a683a7b7d0b5cf1ac91e237',\n",
      "2019-01-26 01:03:44.850000 189dfc 'x-forwarded-for': '54.67.51.193, 54.239.134.14',\n",
      "2019-01-26 01:03:44.850000 189dfc 'x-forwarded-port': '443',\n",
      "2019-01-26 01:03:44.850000 189dfc 'x-forwarded-proto': 'https'},\n",
      "2019-01-26 01:03:44.850000 189dfc 'method': 'GET',\n",
      "2019-01-26 01:03:44.850000 189dfc 'query_params': None,\n",
      "2019-01-26 01:03:44.850000 189dfc 'stage_vars': None,\n",
      "2019-01-26 01:03:44.850000 189dfc 'uri_params': {'key': 'test'}}\n",
      "2019-01-26 01:03:44.869000 189dfc GET s3://mjbright-uploads/test\n",
      "2019-01-26 01:03:45.490000 189dfc END RequestId: 049afcfb-6aca-4f20-9bc9-022e42bbd3a5\n",
      "2019-01-26 01:03:45.509000 189dfc REPORT RequestId: 049afcfb-6aca-4f20-9bc9-022e42bbd3a5\tDuration: 695.59 ms\tBilled Duration: 700 ms \tMemory Size: 128 MB\tMax Memory Used: 37 MB\n",
      "2019-01-26 01:04:01.427000 189dfc START RequestId: 9788080c-6ed5-49bb-a096-0e869f307417 Version: $LATEST\n",
      "2019-01-26 01:04:01.431000 189dfc s3text: ----------------------------------------------------------------- <{'query_params': None, 'headers': {'accept': '*/*', 'accept-encoding': 'gzip, deflate', 'cloudfront-forwarded-proto': 'https', 'cloudfront-is-desktop-viewer': 'true', 'cloudfront-is-mobile-viewer': 'false', 'cloudfront-is-smarttv-viewer': 'false', 'cloudfront-is-tablet-viewer': 'false', 'cloudfront-viewer-country': 'US', 'host': 'jlmq3ygdu1.execute-api.us-west-1.amazonaws.com', 'user-agent': 'HTTPie/0.9.8', 'via': '1.1 49c80a47c1441dd194a8337982f1cd7e.cloudfront.net (CloudFront)', 'x-amz-cf-id': 'THP5eRWQ4cEezLBbXU-2vT4VzPDF4-mCFcMy6JMGOQTUd367pcvL4w==', 'x-amzn-trace-id': 'Root=1-5c4bb201-b56313b28f6fdc1ce3892232', 'x-forwarded-for': '54.67.51.193, 54.239.134.14', 'x-forwarded-port': '443', 'x-forwarded-proto': 'https'}, 'uri_params': {'key': 'test'}, 'method': 'GET', 'context': {'resourceId': 'ezap0f', 'resourcePath': '/text/{key}', 'httpMethod': 'GET', 'extendedRequestId': 'UFjAOGudyK4FSUw=', 'requestTime': '26/Jan/2019:01:04:01 +0000', 'path': '/api/text/test', 'accountId': '568285458700', 'protocol': 'HTTP/1.1', 'stage': 'api', 'domainPrefix': 'jlmq3ygdu1', 'requestTimeEpoch': 1548464641414, 'requestId': '447e02ca-2106-11e9-86ac-6596e4f7f276', 'identity': {'cognitoIdentityPoolId': None, 'accountId': None, 'cognitoIdentityId': None, 'caller': None, 'sourceIp': '54.67.51.193', 'accessKey': None, 'cognitoAuthenticationType': None, 'cognitoAuthenticationProvider': None, 'userArn': None, 'userAgent': 'HTTPie/0.9.8', 'user': None}, 'domainName': 'jlmq3ygdu1.execute-api.us-west-1.amazonaws.com', 'apiId': 'jlmq3ygdu1'}, 'stage_vars': None}>\n"
     ]
    },
    {
     "name": "stdout",
     "output_type": "stream",
     "text": [
      "2019-01-26 01:04:01.431000 189dfc s3text: ----------------------------------------------------------------- <{'query_params': None, 'headers': {'accept': '*/*', 'accept-encoding': 'gzip, deflate', 'cloudfront-forwarded-proto': 'https', 'cloudfront-is-desktop-viewer': 'true', 'cloudfront-is-mobile-viewer': 'false', 'cloudfront-is-smarttv-viewer': 'false', 'cloudfront-is-tablet-viewer': 'false', 'cloudfront-viewer-country': 'US', 'host': 'jlmq3ygdu1.execute-api.us-west-1.amazonaws.com', 'user-agent': 'HTTPie/0.9.8', 'via': '1.1 49c80a47c1441dd194a8337982f1cd7e.cloudfront.net (CloudFront)', 'x-amz-cf-id': 'THP5eRWQ4cEezLBbXU-2vT4VzPDF4-mCFcMy6JMGOQTUd367pcvL4w==', 'x-amzn-trace-id': 'Root=1-5c4bb201-b56313b28f6fdc1ce3892232', 'x-forwarded-for': '54.67.51.193, 54.239.134.14', 'x-forwarded-port': '443', 'x-forwarded-proto': 'https'}, 'uri_params': {'key': 'test'}, 'method': 'GET', 'context': {'resourceId': 'ezap0f', 'resourcePath': '/text/{key}', 'httpMethod': 'GET', 'extendedRequestId': 'UFjAOGudyK4FSUw=', 'requestTime': '26/Jan/2019:01:04:01 +0000', 'path': '/api/text/test', 'accountId': '568285458700', 'protocol': 'HTTP/1.1', 'stage': 'api', 'domainPrefix': 'jlmq3ygdu1', 'requestTimeEpoch': 1548464641414, 'requestId': '447e02ca-2106-11e9-86ac-6596e4f7f276', 'identity': {'cognitoIdentityPoolId': None, 'accountId': None, 'cognitoIdentityId': None, 'caller': None, 'sourceIp': '54.67.51.193', 'accessKey': None, 'cognitoAuthenticationType': None, 'cognitoAuthenticationProvider': None, 'userArn': None, 'userAgent': 'HTTPie/0.9.8', 'user': None}, 'domainName': 'jlmq3ygdu1.execute-api.us-west-1.amazonaws.com', 'apiId': 'jlmq3ygdu1'}, 'stage_vars': None}>\n",
      "2019-01-26 01:04:01.431000 189dfc {   'context': {   'accountId': '568285458700',\n",
      "2019-01-26 01:04:01.432000 189dfc 'apiId': 'jlmq3ygdu1',\n",
      "2019-01-26 01:04:01.432000 189dfc 'domainName': 'jlmq3ygdu1.execute-api.us-west-1.amazonaws.com',\n",
      "2019-01-26 01:04:01.432000 189dfc 'domainPrefix': 'jlmq3ygdu1',\n",
      "2019-01-26 01:04:01.432000 189dfc 'extendedRequestId': 'UFjAOGudyK4FSUw=',\n",
      "2019-01-26 01:04:01.432000 189dfc 'httpMethod': 'GET',\n",
      "2019-01-26 01:04:01.432000 189dfc 'identity': {   'accessKey': None,\n",
      "2019-01-26 01:04:01.432000 189dfc 'accountId': None,\n",
      "2019-01-26 01:04:01.432000 189dfc 'caller': None,\n",
      "2019-01-26 01:04:01.432000 189dfc 'cognitoAuthenticationProvider': None,\n",
      "2019-01-26 01:04:01.432000 189dfc 'cognitoAuthenticationType': None,\n",
      "2019-01-26 01:04:01.432000 189dfc 'cognitoIdentityId': None,\n",
      "2019-01-26 01:04:01.432000 189dfc 'cognitoIdentityPoolId': None,\n",
      "2019-01-26 01:04:01.432000 189dfc 'sourceIp': '54.67.51.193',\n",
      "2019-01-26 01:04:01.432000 189dfc 'user': None,\n",
      "2019-01-26 01:04:01.432000 189dfc 'userAgent': 'HTTPie/0.9.8',\n",
      "2019-01-26 01:04:01.432000 189dfc 'userArn': None},\n",
      "2019-01-26 01:04:01.432000 189dfc 'path': '/api/text/test',\n",
      "2019-01-26 01:04:01.432000 189dfc 'protocol': 'HTTP/1.1',\n",
      "2019-01-26 01:04:01.432000 189dfc 'requestId': '447e02ca-2106-11e9-86ac-6596e4f7f276',\n",
      "2019-01-26 01:04:01.432000 189dfc 'requestTime': '26/Jan/2019:01:04:01 +0000',\n",
      "2019-01-26 01:04:01.432000 189dfc 'requestTimeEpoch': 1548464641414,\n",
      "2019-01-26 01:04:01.432000 189dfc 'resourceId': 'ezap0f',\n",
      "2019-01-26 01:04:01.433000 189dfc 'resourcePath': '/text/{key}',\n",
      "2019-01-26 01:04:01.449000 189dfc 'stage': 'api'},\n",
      "2019-01-26 01:04:01.449000 189dfc 'headers': {   'accept': '*/*',\n",
      "2019-01-26 01:04:01.449000 189dfc 'accept-encoding': 'gzip, deflate',\n",
      "2019-01-26 01:04:01.449000 189dfc 'cloudfront-forwarded-proto': 'https',\n",
      "2019-01-26 01:04:01.449000 189dfc 'cloudfront-is-desktop-viewer': 'true',\n",
      "2019-01-26 01:04:01.449000 189dfc 'cloudfront-is-mobile-viewer': 'false',\n",
      "2019-01-26 01:04:01.449000 189dfc 'cloudfront-is-smarttv-viewer': 'false',\n",
      "2019-01-26 01:04:01.449000 189dfc 'cloudfront-is-tablet-viewer': 'false',\n",
      "2019-01-26 01:04:01.449000 189dfc 'cloudfront-viewer-country': 'US',\n",
      "2019-01-26 01:04:01.449000 189dfc 'host': 'jlmq3ygdu1.execute-api.us-west-1.amazonaws.com',\n",
      "2019-01-26 01:04:01.449000 189dfc 'user-agent': 'HTTPie/0.9.8',\n",
      "2019-01-26 01:04:01.449000 189dfc 'via': '1.1 49c80a47c1441dd194a8337982f1cd7e.cloudfront.net '\n",
      "2019-01-26 01:04:01.449000 189dfc '(CloudFront)',\n",
      "2019-01-26 01:04:01.449000 189dfc 'x-amz-cf-id': 'THP5eRWQ4cEezLBbXU-2vT4VzPDF4-mCFcMy6JMGOQTUd367pcvL4w==',\n",
      "2019-01-26 01:04:01.449000 189dfc 'x-amzn-trace-id': 'Root=1-5c4bb201-b56313b28f6fdc1ce3892232',\n",
      "2019-01-26 01:04:01.449000 189dfc 'x-forwarded-for': '54.67.51.193, 54.239.134.14',\n",
      "2019-01-26 01:04:01.449000 189dfc 'x-forwarded-port': '443',\n",
      "2019-01-26 01:04:01.449000 189dfc 'x-forwarded-proto': 'https'},\n",
      "2019-01-26 01:04:01.450000 189dfc 'method': 'GET',\n",
      "2019-01-26 01:04:01.450000 189dfc 'query_params': None,\n",
      "2019-01-26 01:04:01.450000 189dfc 'stage_vars': None,\n",
      "2019-01-26 01:04:01.450000 189dfc 'uri_params': {'key': 'test'}}\n",
      "2019-01-26 01:04:01.450000 189dfc GET s3://mjbright-uploads/test\n",
      "2019-01-26 01:04:01.949000 189dfc END RequestId: 9788080c-6ed5-49bb-a096-0e869f307417\n",
      "2019-01-26 01:04:01.949000 189dfc REPORT RequestId: 9788080c-6ed5-49bb-a096-0e869f307417\tDuration: 518.54 ms\tBilled Duration: 600 ms \tMemory Size: 128 MB\tMax Memory Used: 37 MB\n",
      "2019-01-26 01:04:02.435000 189dfc START RequestId: 56179a04-0ccc-4bc5-9ed2-988e4b03d897 Version: $LATEST\n",
      "2019-01-26 01:04:02.437000 189dfc s3json: ----------------------------------------------------------------- <{'query_params': None, 'headers': {'accept': '*/*', 'accept-encoding': 'gzip, deflate', 'cloudfront-forwarded-proto': 'https', 'cloudfront-is-desktop-viewer': 'true', 'cloudfront-is-mobile-viewer': 'false', 'cloudfront-is-smarttv-viewer': 'false', 'cloudfront-is-tablet-viewer': 'false', 'cloudfront-viewer-country': 'US', 'host': 'jlmq3ygdu1.execute-api.us-west-1.amazonaws.com', 'user-agent': 'HTTPie/0.9.8', 'via': '1.1 8008015354a3ca72f56c382a1d1cfe9f.cloudfront.net (CloudFront)', 'x-amz-cf-id': 'Fl_4Y6lsAmuU7vr5sIZ7jXR0N3k0V6d2fnm9cb2FBowui4L_K5pqpQ==', 'x-amzn-trace-id': 'Root=1-5c4bb202-550f0d68a4b72c38b4559ae8', 'x-forwarded-for': '54.67.51.193, 54.239.134.14', 'x-forwarded-port': '443', 'x-forwarded-proto': 'https'}, 'uri_params': {'key': 'test'}, 'method': 'GET', 'context': {'resourceId': '1ay49m', 'resourcePath': '/json/{key}', 'httpMethod': 'GET', 'extendedRequestId': 'UFjAYGqtSK4Ff-A=', 'requestTime': '26/Jan/2019:01:04:02 +0000', 'path': '/api/json/test', 'accountId': '568285458700', 'protocol': 'HTTP/1.1', 'stage': 'api', 'domainPrefix': 'jlmq3ygdu1', 'requestTimeEpoch': 1548464642423, 'requestId': '4517f8df-2106-11e9-813f-4b680ee1356d', 'identity': {'cognitoIdentityPoolId': None, 'accountId': None, 'cognitoIdentityId': None, 'caller': None, 'sourceIp': '54.67.51.193', 'accessKey': None, 'cognitoAuthenticationType': None, 'cognitoAuthenticationProvider': None, 'userArn': None, 'userAgent': 'HTTPie/0.9.8', 'user': None}, 'domainName': 'jlmq3ygdu1.execute-api.us-west-1.amazonaws.com', 'apiId': 'jlmq3ygdu1'}, 'stage_vars': None}>\n",
      "2019-01-26 01:04:02.437000 189dfc s3json: ----------------------------------------------------------------- <{'query_params': None, 'headers': {'accept': '*/*', 'accept-encoding': 'gzip, deflate', 'cloudfront-forwarded-proto': 'https', 'cloudfront-is-desktop-viewer': 'true', 'cloudfront-is-mobile-viewer': 'false', 'cloudfront-is-smarttv-viewer': 'false', 'cloudfront-is-tablet-viewer': 'false', 'cloudfront-viewer-country': 'US', 'host': 'jlmq3ygdu1.execute-api.us-west-1.amazonaws.com', 'user-agent': 'HTTPie/0.9.8', 'via': '1.1 8008015354a3ca72f56c382a1d1cfe9f.cloudfront.net (CloudFront)', 'x-amz-cf-id': 'Fl_4Y6lsAmuU7vr5sIZ7jXR0N3k0V6d2fnm9cb2FBowui4L_K5pqpQ==', 'x-amzn-trace-id': 'Root=1-5c4bb202-550f0d68a4b72c38b4559ae8', 'x-forwarded-for': '54.67.51.193, 54.239.134.14', 'x-forwarded-port': '443', 'x-forwarded-proto': 'https'}, 'uri_params': {'key': 'test'}, 'method': 'GET', 'context': {'resourceId': '1ay49m', 'resourcePath': '/json/{key}', 'httpMethod': 'GET', 'extendedRequestId': 'UFjAYGqtSK4Ff-A=', 'requestTime': '26/Jan/2019:01:04:02 +0000', 'path': '/api/json/test', 'accountId': '568285458700', 'protocol': 'HTTP/1.1', 'stage': 'api', 'domainPrefix': 'jlmq3ygdu1', 'requestTimeEpoch': 1548464642423, 'requestId': '4517f8df-2106-11e9-813f-4b680ee1356d', 'identity': {'cognitoIdentityPoolId': None, 'accountId': None, 'cognitoIdentityId': None, 'caller': None, 'sourceIp': '54.67.51.193', 'accessKey': None, 'cognitoAuthenticationType': None, 'cognitoAuthenticationProvider': None, 'userArn': None, 'userAgent': 'HTTPie/0.9.8', 'user': None}, 'domainName': 'jlmq3ygdu1.execute-api.us-west-1.amazonaws.com', 'apiId': 'jlmq3ygdu1'}, 'stage_vars': None}>\n"
     ]
    },
    {
     "name": "stdout",
     "output_type": "stream",
     "text": [
      "2019-01-26 01:04:02.437000 189dfc s3json: ----------------------------------------------------------------- <{'query_params': None, 'headers': {'accept': '*/*', 'accept-encoding': 'gzip, deflate', 'cloudfront-forwarded-proto': 'https', 'cloudfront-is-desktop-viewer': 'true', 'cloudfront-is-mobile-viewer': 'false', 'cloudfront-is-smarttv-viewer': 'false', 'cloudfront-is-tablet-viewer': 'false', 'cloudfront-viewer-country': 'US', 'host': 'jlmq3ygdu1.execute-api.us-west-1.amazonaws.com', 'user-agent': 'HTTPie/0.9.8', 'via': '1.1 8008015354a3ca72f56c382a1d1cfe9f.cloudfront.net (CloudFront)', 'x-amz-cf-id': 'Fl_4Y6lsAmuU7vr5sIZ7jXR0N3k0V6d2fnm9cb2FBowui4L_K5pqpQ==', 'x-amzn-trace-id': 'Root=1-5c4bb202-550f0d68a4b72c38b4559ae8', 'x-forwarded-for': '54.67.51.193, 54.239.134.14', 'x-forwarded-port': '443', 'x-forwarded-proto': 'https'}, 'uri_params': {'key': 'test'}, 'method': 'GET', 'context': {'resourceId': '1ay49m', 'resourcePath': '/json/{key}', 'httpMethod': 'GET', 'extendedRequestId': 'UFjAYGqtSK4Ff-A=', 'requestTime': '26/Jan/2019:01:04:02 +0000', 'path': '/api/json/test', 'accountId': '568285458700', 'protocol': 'HTTP/1.1', 'stage': 'api', 'domainPrefix': 'jlmq3ygdu1', 'requestTimeEpoch': 1548464642423, 'requestId': '4517f8df-2106-11e9-813f-4b680ee1356d', 'identity': {'cognitoIdentityPoolId': None, 'accountId': None, 'cognitoIdentityId': None, 'caller': None, 'sourceIp': '54.67.51.193', 'accessKey': None, 'cognitoAuthenticationType': None, 'cognitoAuthenticationProvider': None, 'userArn': None, 'userAgent': 'HTTPie/0.9.8', 'user': None}, 'domainName': 'jlmq3ygdu1.execute-api.us-west-1.amazonaws.com', 'apiId': 'jlmq3ygdu1'}, 'stage_vars': None}>\n",
      "2019-01-26 01:04:02.437000 189dfc {   'context': {   'accountId': '568285458700',\n",
      "2019-01-26 01:04:02.437000 189dfc 'apiId': 'jlmq3ygdu1',\n",
      "2019-01-26 01:04:02.438000 189dfc 'domainName': 'jlmq3ygdu1.execute-api.us-west-1.amazonaws.com',\n",
      "2019-01-26 01:04:02.438000 189dfc 'domainPrefix': 'jlmq3ygdu1',\n",
      "2019-01-26 01:04:02.438000 189dfc 'extendedRequestId': 'UFjAYGqtSK4Ff-A=',\n",
      "2019-01-26 01:04:02.438000 189dfc 'httpMethod': 'GET',\n",
      "2019-01-26 01:04:02.438000 189dfc 'identity': {   'accessKey': None,\n",
      "2019-01-26 01:04:02.438000 189dfc 'accountId': None,\n",
      "2019-01-26 01:04:02.438000 189dfc 'caller': None,\n",
      "2019-01-26 01:04:02.438000 189dfc 'cognitoAuthenticationProvider': None,\n",
      "2019-01-26 01:04:02.438000 189dfc 'cognitoAuthenticationType': None,\n",
      "2019-01-26 01:04:02.438000 189dfc 'cognitoIdentityId': None,\n",
      "2019-01-26 01:04:02.438000 189dfc 'cognitoIdentityPoolId': None,\n",
      "2019-01-26 01:04:02.438000 189dfc 'sourceIp': '54.67.51.193',\n",
      "2019-01-26 01:04:02.449000 189dfc 'user': None,\n",
      "2019-01-26 01:04:02.449000 189dfc 'userAgent': 'HTTPie/0.9.8',\n",
      "2019-01-26 01:04:02.449000 189dfc 'userArn': None},\n",
      "2019-01-26 01:04:02.449000 189dfc 'path': '/api/json/test',\n",
      "2019-01-26 01:04:02.449000 189dfc 'protocol': 'HTTP/1.1',\n",
      "2019-01-26 01:04:02.449000 189dfc 'requestId': '4517f8df-2106-11e9-813f-4b680ee1356d',\n",
      "2019-01-26 01:04:02.449000 189dfc 'requestTime': '26/Jan/2019:01:04:02 +0000',\n",
      "2019-01-26 01:04:02.449000 189dfc 'requestTimeEpoch': 1548464642423,\n",
      "2019-01-26 01:04:02.449000 189dfc 'resourceId': '1ay49m',\n",
      "2019-01-26 01:04:02.449000 189dfc 'resourcePath': '/json/{key}',\n",
      "2019-01-26 01:04:02.449000 189dfc 'stage': 'api'},\n",
      "2019-01-26 01:04:02.449000 189dfc 'headers': {   'accept': '*/*',\n",
      "2019-01-26 01:04:02.449000 189dfc 'accept-encoding': 'gzip, deflate',\n",
      "2019-01-26 01:04:02.449000 189dfc 'cloudfront-forwarded-proto': 'https',\n",
      "2019-01-26 01:04:02.449000 189dfc 'cloudfront-is-desktop-viewer': 'true',\n",
      "2019-01-26 01:04:02.449000 189dfc 'cloudfront-is-mobile-viewer': 'false',\n",
      "2019-01-26 01:04:02.449000 189dfc 'cloudfront-is-smarttv-viewer': 'false',\n",
      "2019-01-26 01:04:02.449000 189dfc 'cloudfront-is-tablet-viewer': 'false',\n",
      "2019-01-26 01:04:02.449000 189dfc 'cloudfront-viewer-country': 'US',\n",
      "2019-01-26 01:04:02.449000 189dfc 'host': 'jlmq3ygdu1.execute-api.us-west-1.amazonaws.com',\n",
      "2019-01-26 01:04:02.449000 189dfc 'user-agent': 'HTTPie/0.9.8',\n",
      "2019-01-26 01:04:02.449000 189dfc 'via': '1.1 8008015354a3ca72f56c382a1d1cfe9f.cloudfront.net '\n",
      "2019-01-26 01:04:02.449000 189dfc '(CloudFront)',\n",
      "2019-01-26 01:04:02.449000 189dfc 'x-amz-cf-id': 'Fl_4Y6lsAmuU7vr5sIZ7jXR0N3k0V6d2fnm9cb2FBowui4L_K5pqpQ==',\n",
      "2019-01-26 01:04:02.449000 189dfc 'x-amzn-trace-id': 'Root=1-5c4bb202-550f0d68a4b72c38b4559ae8',\n",
      "2019-01-26 01:04:02.449000 189dfc 'x-forwarded-for': '54.67.51.193, 54.239.134.14',\n",
      "2019-01-26 01:04:02.449000 189dfc 'x-forwarded-port': '443',\n",
      "2019-01-26 01:04:02.449000 189dfc 'x-forwarded-proto': 'https'},\n",
      "2019-01-26 01:04:02.449000 189dfc 'method': 'GET',\n",
      "2019-01-26 01:04:02.449000 189dfc 'query_params': None,\n",
      "2019-01-26 01:04:02.449000 189dfc 'stage_vars': None,\n",
      "2019-01-26 01:04:02.449000 189dfc 'uri_params': {'key': 'test'}}\n",
      "2019-01-26 01:04:02.449000 189dfc GET s3://mjbright-uploads/test\n",
      "2019-01-26 01:04:02.528000 189dfc s3 - ERROR - Internal Error for <function s3json at 0x7f3be49ebd90>\n",
      "2019-01-26 01:04:02.528000 189dfc Traceback (most recent call last):\n",
      "2019-01-26 01:04:02.528000 189dfc File \"/var/task/chalice/app.py\", line 731, in _get_view_function_response\n",
      "2019-01-26 01:04:02.528000 189dfc response = view_function(**function_args)\n",
      "2019-01-26 01:04:02.528000 189dfc File \"/var/task/app.py\", line 59, in s3json\n",
      "2019-01-26 01:04:02.528000 189dfc return json.loads(response['Body'].read())\n",
      "2019-01-26 01:04:02.528000 189dfc File \"/var/lang/lib/python3.6/json/__init__.py\", line 354, in loads\n",
      "2019-01-26 01:04:02.528000 189dfc return _default_decoder.decode(s)\n",
      "2019-01-26 01:04:02.528000 189dfc File \"/var/lang/lib/python3.6/json/decoder.py\", line 339, in decode\n",
      "2019-01-26 01:04:02.528000 189dfc obj, end = self.raw_decode(s, idx=_w(s, 0).end())\n",
      "2019-01-26 01:04:02.528000 189dfc File \"/var/lang/lib/python3.6/json/decoder.py\", line 355, in raw_decode\n",
      "2019-01-26 01:04:02.528000 189dfc obj, end = self.scan_once(s, idx)\n",
      "2019-01-26 01:04:02.528000 189dfc json.decoder.JSONDecodeError: Expecting property name enclosed in double quotes: line 1 column 3 (char 2)\n",
      "2019-01-26 01:04:02.528000 189dfc END RequestId: 56179a04-0ccc-4bc5-9ed2-988e4b03d897\n",
      "2019-01-26 01:04:02.528000 189dfc REPORT RequestId: 56179a04-0ccc-4bc5-9ed2-988e4b03d897\tDuration: 92.26 ms\tBilled Duration: 100 ms \tMemory Size: 128 MB\tMax Memory Used: 37 MB\n",
      "2019-01-26 01:05:14.426000 189dfc START RequestId: 13c4f37c-e11a-40d2-8f43-ef6fc1aec0e7 Version: $LATEST\n",
      "2019-01-26 01:05:14.429000 189dfc s3text: ----------------------------------------------------------------- <{'query_params': None, 'headers': {'accept': 'application/json, */*', 'accept-encoding': 'gzip, deflate', 'cloudfront-forwarded-proto': 'https', 'cloudfront-is-desktop-viewer': 'true', 'cloudfront-is-mobile-viewer': 'false', 'cloudfront-is-smarttv-viewer': 'false', 'cloudfront-is-tablet-viewer': 'false', 'cloudfront-viewer-country': 'US', 'content-type': 'application/json', 'host': 'jlmq3ygdu1.execute-api.us-west-1.amazonaws.com', 'user-agent': 'HTTPie/0.9.8', 'via': '1.1 8008015354a3ca72f56c382a1d1cfe9f.cloudfront.net (CloudFront)', 'x-amz-cf-id': 'rV0fGUZdmJugOKPdZXy5IDemCwyrR8sp0M59XLnWZDnl2iUQGggeTg==', 'x-amzn-trace-id': 'Root=1-5c4bb24a-c4346c80ef290c006c5cab40', 'x-forwarded-for': '54.67.51.193, 54.239.134.7', 'x-forwarded-port': '443', 'x-forwarded-proto': 'https'}, 'uri_params': {'key': 'test'}, 'method': 'PUT', 'context': {'resourceId': 'ezap0f', 'resourcePath': '/text/{key}', 'httpMethod': 'PUT', 'extendedRequestId': 'UFjLoHZfyK4FlIg=', 'requestTime': '26/Jan/2019:01:05:14 +0000', 'path': '/api/text/test', 'accountId': '568285458700', 'protocol': 'HTTP/1.1', 'stage': 'api', 'domainPrefix': 'jlmq3ygdu1', 'requestTimeEpoch': 1548464714410, 'requestId': '700050be-2106-11e9-9afc-0db0ce26a5a3', 'identity': {'cognitoIdentityPoolId': None, 'accountId': None, 'cognitoIdentityId': None, 'caller': None, 'sourceIp': '54.67.51.193', 'accessKey': None, 'cognitoAuthenticationType': None, 'cognitoAuthenticationProvider': None, 'userArn': None, 'userAgent': 'HTTPie/0.9.8', 'user': None}, 'domainName': 'jlmq3ygdu1.execute-api.us-west-1.amazonaws.com', 'apiId': 'jlmq3ygdu1'}, 'stage_vars': None}>\n",
      "2019-01-26 01:05:14.429000 189dfc s3text: ----------------------------------------------------------------- <{'query_params': None, 'headers': {'accept': 'application/json, */*', 'accept-encoding': 'gzip, deflate', 'cloudfront-forwarded-proto': 'https', 'cloudfront-is-desktop-viewer': 'true', 'cloudfront-is-mobile-viewer': 'false', 'cloudfront-is-smarttv-viewer': 'false', 'cloudfront-is-tablet-viewer': 'false', 'cloudfront-viewer-country': 'US', 'content-type': 'application/json', 'host': 'jlmq3ygdu1.execute-api.us-west-1.amazonaws.com', 'user-agent': 'HTTPie/0.9.8', 'via': '1.1 8008015354a3ca72f56c382a1d1cfe9f.cloudfront.net (CloudFront)', 'x-amz-cf-id': 'rV0fGUZdmJugOKPdZXy5IDemCwyrR8sp0M59XLnWZDnl2iUQGggeTg==', 'x-amzn-trace-id': 'Root=1-5c4bb24a-c4346c80ef290c006c5cab40', 'x-forwarded-for': '54.67.51.193, 54.239.134.7', 'x-forwarded-port': '443', 'x-forwarded-proto': 'https'}, 'uri_params': {'key': 'test'}, 'method': 'PUT', 'context': {'resourceId': 'ezap0f', 'resourcePath': '/text/{key}', 'httpMethod': 'PUT', 'extendedRequestId': 'UFjLoHZfyK4FlIg=', 'requestTime': '26/Jan/2019:01:05:14 +0000', 'path': '/api/text/test', 'accountId': '568285458700', 'protocol': 'HTTP/1.1', 'stage': 'api', 'domainPrefix': 'jlmq3ygdu1', 'requestTimeEpoch': 1548464714410, 'requestId': '700050be-2106-11e9-9afc-0db0ce26a5a3', 'identity': {'cognitoIdentityPoolId': None, 'accountId': None, 'cognitoIdentityId': None, 'caller': None, 'sourceIp': '54.67.51.193', 'accessKey': None, 'cognitoAuthenticationType': None, 'cognitoAuthenticationProvider': None, 'userArn': None, 'userAgent': 'HTTPie/0.9.8', 'user': None}, 'domainName': 'jlmq3ygdu1.execute-api.us-west-1.amazonaws.com', 'apiId': 'jlmq3ygdu1'}, 'stage_vars': None}>\n"
     ]
    },
    {
     "name": "stdout",
     "output_type": "stream",
     "text": [
      "2019-01-26 01:05:14.449000 189dfc {   'context': {   'accountId': '568285458700',\n",
      "2019-01-26 01:05:14.449000 189dfc 'apiId': 'jlmq3ygdu1',\n",
      "2019-01-26 01:05:14.449000 189dfc 'domainName': 'jlmq3ygdu1.execute-api.us-west-1.amazonaws.com',\n",
      "2019-01-26 01:05:14.449000 189dfc 'domainPrefix': 'jlmq3ygdu1',\n",
      "2019-01-26 01:05:14.469000 189dfc 'extendedRequestId': 'UFjLoHZfyK4FlIg=',\n",
      "2019-01-26 01:05:14.469000 189dfc 'httpMethod': 'PUT',\n",
      "2019-01-26 01:05:14.469000 189dfc 'identity': {   'accessKey': None,\n",
      "2019-01-26 01:05:14.469000 189dfc 'accountId': None,\n",
      "2019-01-26 01:05:14.469000 189dfc 'caller': None,\n",
      "2019-01-26 01:05:14.469000 189dfc 'cognitoAuthenticationProvider': None,\n",
      "2019-01-26 01:05:14.469000 189dfc 'cognitoAuthenticationType': None,\n",
      "2019-01-26 01:05:14.469000 189dfc 'cognitoIdentityId': None,\n",
      "2019-01-26 01:05:14.469000 189dfc 'cognitoIdentityPoolId': None,\n",
      "2019-01-26 01:05:14.469000 189dfc 'sourceIp': '54.67.51.193',\n",
      "2019-01-26 01:05:14.469000 189dfc 'user': None,\n",
      "2019-01-26 01:05:14.469000 189dfc 'userAgent': 'HTTPie/0.9.8',\n",
      "2019-01-26 01:05:14.469000 189dfc 'userArn': None},\n",
      "2019-01-26 01:05:14.469000 189dfc 'path': '/api/text/test',\n",
      "2019-01-26 01:05:14.469000 189dfc 'protocol': 'HTTP/1.1',\n",
      "2019-01-26 01:05:14.469000 189dfc 'requestId': '700050be-2106-11e9-9afc-0db0ce26a5a3',\n",
      "2019-01-26 01:05:14.469000 189dfc 'requestTime': '26/Jan/2019:01:05:14 +0000',\n",
      "2019-01-26 01:05:14.469000 189dfc 'requestTimeEpoch': 1548464714410,\n",
      "2019-01-26 01:05:14.469000 189dfc 'resourceId': 'ezap0f',\n",
      "2019-01-26 01:05:14.469000 189dfc 'resourcePath': '/text/{key}',\n",
      "2019-01-26 01:05:14.469000 189dfc 'stage': 'api'},\n",
      "2019-01-26 01:05:14.469000 189dfc 'headers': {   'accept': 'application/json, */*',\n",
      "2019-01-26 01:05:14.469000 189dfc 'accept-encoding': 'gzip, deflate',\n",
      "2019-01-26 01:05:14.469000 189dfc 'cloudfront-forwarded-proto': 'https',\n",
      "2019-01-26 01:05:14.469000 189dfc 'cloudfront-is-desktop-viewer': 'true',\n",
      "2019-01-26 01:05:14.469000 189dfc 'cloudfront-is-mobile-viewer': 'false',\n",
      "2019-01-26 01:05:14.469000 189dfc 'cloudfront-is-smarttv-viewer': 'false',\n",
      "2019-01-26 01:05:14.469000 189dfc 'cloudfront-is-tablet-viewer': 'false',\n",
      "2019-01-26 01:05:14.469000 189dfc 'cloudfront-viewer-country': 'US',\n",
      "2019-01-26 01:05:14.469000 189dfc 'content-type': 'application/json',\n",
      "2019-01-26 01:05:14.469000 189dfc 'host': 'jlmq3ygdu1.execute-api.us-west-1.amazonaws.com',\n",
      "2019-01-26 01:05:14.469000 189dfc 'user-agent': 'HTTPie/0.9.8',\n",
      "2019-01-26 01:05:14.469000 189dfc 'via': '1.1 8008015354a3ca72f56c382a1d1cfe9f.cloudfront.net '\n",
      "2019-01-26 01:05:14.469000 189dfc '(CloudFront)',\n",
      "2019-01-26 01:05:14.469000 189dfc 'x-amz-cf-id': 'rV0fGUZdmJugOKPdZXy5IDemCwyrR8sp0M59XLnWZDnl2iUQGggeTg==',\n",
      "2019-01-26 01:05:14.469000 189dfc 'x-amzn-trace-id': 'Root=1-5c4bb24a-c4346c80ef290c006c5cab40',\n",
      "2019-01-26 01:05:14.469000 189dfc 'x-forwarded-for': '54.67.51.193, 54.239.134.7',\n",
      "2019-01-26 01:05:14.469000 189dfc 'x-forwarded-port': '443',\n",
      "2019-01-26 01:05:14.469000 189dfc 'x-forwarded-proto': 'https'},\n",
      "2019-01-26 01:05:14.469000 189dfc 'method': 'PUT',\n",
      "2019-01-26 01:05:14.469000 189dfc 'query_params': None,\n",
      "2019-01-26 01:05:14.469000 189dfc 'stage_vars': None,\n",
      "2019-01-26 01:05:14.469000 189dfc 'uri_params': {'key': 'test'}}\n",
      "2019-01-26 01:05:14.469000 189dfc END RequestId: 13c4f37c-e11a-40d2-8f43-ef6fc1aec0e7\n",
      "2019-01-26 01:05:14.469000 189dfc REPORT RequestId: 13c4f37c-e11a-40d2-8f43-ef6fc1aec0e7\tDuration: 21.55 ms\tBilled Duration: 100 ms \tMemory Size: 128 MB\tMax Memory Used: 38 MB\n",
      "2019-01-26 02:51:35.820000 7fe24c START RequestId: f1eb20f2-c827-4dcd-9f3d-290bb7dc10c1 Version: $LATEST\n",
      "2019-01-26 02:51:35.821000 7fe24c END RequestId: f1eb20f2-c827-4dcd-9f3d-290bb7dc10c1\n",
      "2019-01-26 02:51:35.821000 7fe24c REPORT RequestId: f1eb20f2-c827-4dcd-9f3d-290bb7dc10c1\tDuration: 0.87 ms\tBilled Duration: 100 ms \tMemory Size: 128 MB\tMax Memory Used: 24 MB\n",
      "2019-01-26 02:51:54.024000 7fe24c START RequestId: 9145667d-ff2c-479d-9f72-4f7aca71bc71 Version: $LATEST\n",
      "2019-01-26 02:51:54.029000 7fe24c END RequestId: 9145667d-ff2c-479d-9f72-4f7aca71bc71\n",
      "2019-01-26 02:51:54.029000 7fe24c REPORT RequestId: 9145667d-ff2c-479d-9f72-4f7aca71bc71\tDuration: 0.66 ms\tBilled Duration: 100 ms \tMemory Size: 128 MB\tMax Memory Used: 24 MB\n",
      "2019-01-26 02:52:51.462000 ebd3d5 START RequestId: 7b854487-4b45-4d39-b519-8b2d7e7a1250 Version: $LATEST\n",
      "2019-01-26 02:52:51.463000 ebd3d5 Looks like we got a request!\n",
      "2019-01-26 02:52:51.464000 ebd3d5 END RequestId: 7b854487-4b45-4d39-b519-8b2d7e7a1250\n",
      "2019-01-26 02:52:51.464000 ebd3d5 REPORT RequestId: 7b854487-4b45-4d39-b519-8b2d7e7a1250\tDuration: 0.97 ms\tBilled Duration: 100 ms \tMemory Size: 128 MB\tMax Memory Used: 24 MB\n",
      "2019-01-26 03:19:12.067000 8ee5f3 START RequestId: a28f561c-b402-4662-bc81-5b6ea57a5b6a Version: $LATEST\n",
      "2019-01-26 03:19:12.067000 8ee5f3 END RequestId: a28f561c-b402-4662-bc81-5b6ea57a5b6a\n",
      "2019-01-26 03:19:12.067000 8ee5f3 REPORT RequestId: a28f561c-b402-4662-bc81-5b6ea57a5b6a\tDuration: 10.26 ms\tBilled Duration: 100 ms \tMemory Size: 128 MB\tMax Memory Used: 24 MB\n",
      "2019-01-26 03:20:40.747000 cec580 START RequestId: c0b0a7d3-5ab8-4a1d-ac63-fda3968dd02f Version: $LATEST\n",
      "2019-01-26 03:20:40.767000 cec580 END RequestId: c0b0a7d3-5ab8-4a1d-ac63-fda3968dd02f\n",
      "2019-01-26 03:20:40.767000 cec580 REPORT RequestId: c0b0a7d3-5ab8-4a1d-ac63-fda3968dd02f\tDuration: 6.38 ms\tBilled Duration: 100 ms \tMemory Size: 128 MB\tMax Memory Used: 24 MB\n",
      "2019-01-26 03:20:40.767000 cec580 Looks like we got a request!\n",
      "2019-01-26 03:29:56.227000 a7bf47 START RequestId: 565cbab2-9861-4d07-abba-4aca6daa275a Version: $LATEST\n",
      "2019-01-26 03:29:56.227000 a7bf47 END RequestId: 565cbab2-9861-4d07-abba-4aca6daa275a\n",
      "2019-01-26 03:29:56.227000 a7bf47 REPORT RequestId: 565cbab2-9861-4d07-abba-4aca6daa275a\tDuration: 13.88 ms\tBilled Duration: 100 ms \tMemory Size: 128 MB\tMax Memory Used: 24 MB\n",
      "2019-01-26 03:30:43.347000 78416b START RequestId: f6a2ed3b-e5bd-48b4-ac44-ad416e388556 Version: $LATEST\n",
      "2019-01-26 03:30:43.347000 78416b Looks like we got a request!\n",
      "2019-01-26 03:30:43.347000 78416b END RequestId: f6a2ed3b-e5bd-48b4-ac44-ad416e388556\n",
      "2019-01-26 03:30:43.348000 78416b REPORT RequestId: f6a2ed3b-e5bd-48b4-ac44-ad416e388556\tDuration: 10.22 ms\tBilled Duration: 100 ms \tMemory Size: 128 MB\tMax Memory Used: 24 MB\n"
     ]
    }
   ],
   "source": [
    "chalice logs --include-lambda-messages"
   ]
  },
  {
   "cell_type": "markdown",
   "metadata": {},
   "source": [
    "## Cleanup: deleting the function deployment\n",
    "\n",
    "We can cleanup by deleting the function which we deployed"
   ]
  },
  {
   "cell_type": "code",
   "execution_count": 49,
   "metadata": {},
   "outputs": [],
   "source": [
    "#aws lambda delete-function --function-name chalice-app-dev\n",
    "#aws lambda list-functions"
   ]
  },
  {
   "cell_type": "markdown",
   "metadata": {},
   "source": [
    "# Function capabilities"
   ]
  },
  {
   "cell_type": "markdown",
   "metadata": {},
   "source": [
    "Let's now investigate how we can treat different routes, requests, responses with Chalice.\n",
    "\n",
    "## Returning custom headers, status_code\n",
    "Until now we returned directly a *json* structure but we can control the type of response we return e.g. text/plain instead of json, or other headers.  It is also possible to set an error status code.\n",
    "\n",
    "In the below example we\n",
    "- return a 200 OK status_code\n",
    "- return a plaintext 'hello world!' body, whilst setting content-type to 'text/plain' in the headers\n",
    "- we also add a custom 'X-Debug' header"
   ]
  },
  {
   "cell_type": "code",
   "execution_count": 50,
   "metadata": {},
   "outputs": [
    {
     "name": "stdout",
     "output_type": "stream",
     "text": [
      "/home/user1/src/git/ServerlessLabs/ServerlessWorkshop/AWS-S3-Lambda/chalice-app\n"
     ]
    }
   ],
   "source": [
    "cd ~/src/git/ServerlessLabs/ServerlessWorkshop/AWS-S3-Lambda\n",
    "\n",
    "cd chalice-app\n",
    "pwd"
   ]
  },
  {
   "cell_type": "code",
   "execution_count": 51,
   "metadata": {},
   "outputs": [],
   "source": [
    "cat > app.py << EOF\n",
    "from chalice import Chalice, Response\n",
    "\n",
    "app = Chalice(app_name='chalice-app')\n",
    "\n",
    "\n",
    "@app.route('/')\n",
    "def index():\n",
    "\n",
    "    custom_headers = {\n",
    "        'Content-Type': 'text/plain',\n",
    "        'X-Debug': 'some debug information'\n",
    "    }\n",
    "\n",
    "    return Response(body='hello world!',\n",
    "                  status_code=200,\n",
    "                  headers=custom_headers)\n",
    "EOF"
   ]
  },
  {
   "cell_type": "code",
   "execution_count": 52,
   "metadata": {},
   "outputs": [
    {
     "name": "stdout",
     "output_type": "stream",
     "text": [
      "/usr/lib/python3/dist-packages/requests/__init__.py:80: RequestsDependencyWarning: urllib3 (1.24.1) or chardet (3.0.4) doesn't match a supported version!\n",
      "  RequestsDependencyWarning)\n",
      "\u001b[34mHTTP\u001b[39;49;00m/\u001b[34m1.1\u001b[39;49;00m \u001b[34m200\u001b[39;49;00m \u001b[36mOK\u001b[39;49;00m\n",
      "\u001b[36mContent-Length\u001b[39;49;00m: \u001b[33m12\u001b[39;49;00m\n",
      "\u001b[36mContent-Type\u001b[39;49;00m: \u001b[33mtext/plain\u001b[39;49;00m\n",
      "\u001b[36mDate\u001b[39;49;00m: \u001b[33mSat, 26 Jan 2019 03:38:50 GMT\u001b[39;49;00m\n",
      "\u001b[36mServer\u001b[39;49;00m: \u001b[33mBaseHTTP/0.6 Python/3.6.7\u001b[39;49;00m\n",
      "\u001b[36mX-Debug\u001b[39;49;00m: \u001b[33msome debug information\u001b[39;49;00m\n",
      "\n",
      "hello world!\n",
      "\n"
     ]
    }
   ],
   "source": [
    "http 127.0.0.1:8000"
   ]
  },
  {
   "cell_type": "markdown",
   "metadata": {},
   "source": [
    "## Implementing a REST API\n",
    "\n",
    "We can also use the decorators to specify parametrized url patterns to specify parameters to a request, and also specify GET, PUT, POST, DELETE requests allowing to implement a REST API.\n",
    "\n",
    "In the below example we add new routes:\n",
    "- GET /hello/{name} allowing to greet a specified named person\n",
    "- POST /users       allowing to create a user (*)\n",
    "\n",
    "**Note**: this is only notional creation of a user as we have no persistence across function calls.  We would need to add some persistent backend storage for that."
   ]
  },
  {
   "cell_type": "code",
   "execution_count": 53,
   "metadata": {},
   "outputs": [],
   "source": [
    "cat > app.py <<EOF\n",
    "from chalice import Chalice\n",
    "\n",
    "app = Chalice(app_name='helloworld')\n",
    "\n",
    "@app.route('/')\n",
    "def index():\n",
    "    return {'hello': 'world'}\n",
    "\n",
    "# The view function above will return {\"hello\": \"world\"}\n",
    "# whenever you make an HTTP GET request to '/'.\n",
    "#\n",
    "# Here are a few more examples:\n",
    "#\n",
    "@app.route('/hello/{name}')\n",
    "def hello_name(name):\n",
    "   # '/hello/james' -> {\"hello\": \"james\"}\n",
    "   return {'hello': name}\n",
    "\n",
    "@app.route('/users', methods=['POST'])\n",
    "def create_user():\n",
    "    # This is the JSON body the user sent in their POST request.\n",
    "    user_as_json = app.current_request.json_body\n",
    "    # We'll echo the json body back to the user in a 'user' key.\n",
    "    return {'user': user_as_json}\n",
    "\n",
    "EOF"
   ]
  },
  {
   "cell_type": "markdown",
   "metadata": {},
   "source": [
    "We can make a **GET** request to **/hello/bob** to make a greeting to 'bob':"
   ]
  },
  {
   "cell_type": "code",
   "execution_count": 54,
   "metadata": {},
   "outputs": [
    {
     "name": "stdout",
     "output_type": "stream",
     "text": [
      "/usr/lib/python3/dist-packages/requests/__init__.py:80: RequestsDependencyWarning: urllib3 (1.24.1) or chardet (3.0.4) doesn't match a supported version!\n",
      "  RequestsDependencyWarning)\n",
      "\u001b[34mHTTP\u001b[39;49;00m/\u001b[34m1.1\u001b[39;49;00m \u001b[34m200\u001b[39;49;00m \u001b[36mOK\u001b[39;49;00m\n",
      "\u001b[36mContent-Length\u001b[39;49;00m: \u001b[33m15\u001b[39;49;00m\n",
      "\u001b[36mContent-Type\u001b[39;49;00m: \u001b[33mapplication/json\u001b[39;49;00m\n",
      "\u001b[36mDate\u001b[39;49;00m: \u001b[33mSat, 26 Jan 2019 03:39:03 GMT\u001b[39;49;00m\n",
      "\u001b[36mServer\u001b[39;49;00m: \u001b[33mBaseHTTP/0.6 Python/3.6.7\u001b[39;49;00m\n",
      "\n",
      "{\n",
      "    \u001b[34;01m\"hello\"\u001b[39;49;00m: \u001b[33m\"bob\"\u001b[39;49;00m\n",
      "}\n",
      "\n"
     ]
    }
   ],
   "source": [
    "http :8000/hello/bob"
   ]
  },
  {
   "cell_type": "markdown",
   "metadata": {},
   "source": [
    "We can make a **POST** request to /users to create a new user - this function returns a json definition of this user although that definition is not persisted by the function itself."
   ]
  },
  {
   "cell_type": "code",
   "execution_count": 55,
   "metadata": {},
   "outputs": [
    {
     "name": "stdout",
     "output_type": "stream",
     "text": [
      "/usr/lib/python3/dist-packages/requests/__init__.py:80: RequestsDependencyWarning: urllib3 (1.24.1) or chardet (3.0.4) doesn't match a supported version!\n",
      "  RequestsDependencyWarning)\n",
      "\u001b[34mHTTP\u001b[39;49;00m/\u001b[34m1.1\u001b[39;49;00m \u001b[34m200\u001b[39;49;00m \u001b[36mOK\u001b[39;49;00m\n",
      "\u001b[36mContent-Length\u001b[39;49;00m: \u001b[33m19\u001b[39;49;00m\n",
      "\u001b[36mContent-Type\u001b[39;49;00m: \u001b[33mapplication/json\u001b[39;49;00m\n",
      "\u001b[36mDate\u001b[39;49;00m: \u001b[33mSat, 26 Jan 2019 03:39:08 GMT\u001b[39;49;00m\n",
      "\u001b[36mServer\u001b[39;49;00m: \u001b[33mBaseHTTP/0.6 Python/3.6.7\u001b[39;49;00m\n",
      "\n",
      "{\n",
      "    \u001b[34;01m\"user\"\u001b[39;49;00m: \u001b[33m\"testuser\"\u001b[39;49;00m\n",
      "}\n",
      "\n"
     ]
    }
   ],
   "source": [
    "echo '\"testuser\"' | http POST :8000/users"
   ]
  },
  {
   "cell_type": "code",
   "execution_count": 56,
   "metadata": {},
   "outputs": [
    {
     "name": "stdout",
     "output_type": "stream",
     "text": [
      "/usr/lib/python3/dist-packages/requests/__init__.py:80: RequestsDependencyWarning: urllib3 (1.24.1) or chardet (3.0.4) doesn't match a supported version!\n",
      "  RequestsDependencyWarning)\n",
      "\u001b[34mHTTP\u001b[39;49;00m/\u001b[34m1.1\u001b[39;49;00m \u001b[34m200\u001b[39;49;00m \u001b[36mOK\u001b[39;49;00m\n",
      "\u001b[36mContent-Length\u001b[39;49;00m: \u001b[33m49\u001b[39;49;00m\n",
      "\u001b[36mContent-Type\u001b[39;49;00m: \u001b[33mapplication/json\u001b[39;49;00m\n",
      "\u001b[36mDate\u001b[39;49;00m: \u001b[33mSat, 26 Jan 2019 03:39:09 GMT\u001b[39;49;00m\n",
      "\u001b[36mServer\u001b[39;49;00m: \u001b[33mBaseHTTP/0.6 Python/3.6.7\u001b[39;49;00m\n",
      "\n",
      "{\n",
      "    \u001b[34;01m\"user\"\u001b[39;49;00m: [\n",
      "        \u001b[33m\"testuser\"\u001b[39;49;00m,\n",
      "        {\n",
      "            \u001b[34;01m\"fullname\"\u001b[39;49;00m: \u001b[33m\"My full name\"\u001b[39;49;00m\n",
      "        }\n",
      "    ]\n",
      "}\n",
      "\n"
     ]
    }
   ],
   "source": [
    "echo '[\"testuser\", {\"fullname\": \"My full name\"}]' | http POST :8000/users"
   ]
  },
  {
   "cell_type": "markdown",
   "metadata": {},
   "source": [
    "## Accessing a datastore\n",
    "\n",
    "For the moment we have no persistent datastore, for the moment we use a poor man's datastore, a hardcoded dictionary in our code !!\n",
    "\n",
    "**Note**: This is not so ridiculous.  We could imagine some scenarii where the Serverless function is used with an immutable database, maybe even deployed as a Unikernel.  It could be an infrequently modified store such as a DNS database where a new appliction is created when DNS changes are to be made.\n",
    "\n",
    "Let's implement something vaguely DNS-like ..."
   ]
  },
  {
   "cell_type": "code",
   "execution_count": 57,
   "metadata": {},
   "outputs": [],
   "source": [
    "cat > app.py <<EOF\n",
    "from chalice import Chalice\n",
    "\n",
    "app = Chalice(app_name='bindservice')\n",
    "\n",
    "'''\n",
    "Note: Enabling app.debug gives much better error message for missing key than:\n",
    "    { \"Code\": \"ChaliceViewError\",\n",
    "      \"Message\": \"ChaliceViewError: An internal server error occurred.\"\n",
    "    }\n",
    "'''\n",
    "app.debug = True\n",
    "\n",
    "HOST_IPv4_MAPPING = {\n",
    "    'localhost': '127.0.0.1',\n",
    "    'google.com': ['172.217.5.110', '216.58.195.68'],\n",
    "}\n",
    "\n",
    "# Yes this could be calcuated from HOST_IPv4_MAPPING but better to have an immutable static copy created when the applicaton is created.\n",
    "IPv4_HOST_MAPPING = {\n",
    "    '127.0.0.1': 'localhost',\n",
    "    '216.58.195.68': 'google.com',\n",
    "    '172.217.5.110': 'google.com',\n",
    "}\n",
    "\n",
    "\n",
    "'''\n",
    "* Query database for the host with specified IPv4 address\n",
    "'''\n",
    "@app.route('/host/{ip}')\n",
    "def get_host(ip):\n",
    "    return {'host': IPv4_HOST_MAPPING[ip]}\n",
    "\n",
    "'''\n",
    "* Query database for the  IPv4 addresses for the specified host\n",
    "'''\n",
    "@app.route('/ips/{host}')\n",
    "def get_host(host):\n",
    "    return {'ips': HOST_IPv4_MAPPING[host]}\n",
    "\n",
    "EOF"
   ]
  },
  {
   "cell_type": "markdown",
   "metadata": {},
   "source": [
    "### Querying on IPv4 address"
   ]
  },
  {
   "cell_type": "code",
   "execution_count": 58,
   "metadata": {},
   "outputs": [
    {
     "name": "stdout",
     "output_type": "stream",
     "text": [
      "/usr/lib/python3/dist-packages/requests/__init__.py:80: RequestsDependencyWarning: urllib3 (1.24.1) or chardet (3.0.4) doesn't match a supported version!\n",
      "  RequestsDependencyWarning)\n",
      "\u001b[34mHTTP\u001b[39;49;00m/\u001b[34m1.1\u001b[39;49;00m \u001b[34m200\u001b[39;49;00m \u001b[36mOK\u001b[39;49;00m\n",
      "\u001b[36mContent-Length\u001b[39;49;00m: \u001b[33m20\u001b[39;49;00m\n",
      "\u001b[36mContent-Type\u001b[39;49;00m: \u001b[33mapplication/json\u001b[39;49;00m\n",
      "\u001b[36mDate\u001b[39;49;00m: \u001b[33mSat, 26 Jan 2019 03:39:27 GMT\u001b[39;49;00m\n",
      "\u001b[36mServer\u001b[39;49;00m: \u001b[33mBaseHTTP/0.6 Python/3.6.7\u001b[39;49;00m\n",
      "\n",
      "{\n",
      "    \u001b[34;01m\"host\"\u001b[39;49;00m: \u001b[33m\"localhost\"\u001b[39;49;00m\n",
      "}\n",
      "\n"
     ]
    }
   ],
   "source": [
    "http 127.0.0.1:8000/host/127.0.0.1"
   ]
  },
  {
   "cell_type": "code",
   "execution_count": 59,
   "metadata": {},
   "outputs": [
    {
     "name": "stdout",
     "output_type": "stream",
     "text": [
      "/usr/lib/python3/dist-packages/requests/__init__.py:80: RequestsDependencyWarning: urllib3 (1.24.1) or chardet (3.0.4) doesn't match a supported version!\n",
      "  RequestsDependencyWarning)\n",
      "\u001b[34mHTTP\u001b[39;49;00m/\u001b[34m1.1\u001b[39;49;00m \u001b[34m200\u001b[39;49;00m \u001b[36mOK\u001b[39;49;00m\n",
      "\u001b[36mContent-Length\u001b[39;49;00m: \u001b[33m21\u001b[39;49;00m\n",
      "\u001b[36mContent-Type\u001b[39;49;00m: \u001b[33mapplication/json\u001b[39;49;00m\n",
      "\u001b[36mDate\u001b[39;49;00m: \u001b[33mSat, 26 Jan 2019 03:39:29 GMT\u001b[39;49;00m\n",
      "\u001b[36mServer\u001b[39;49;00m: \u001b[33mBaseHTTP/0.6 Python/3.6.7\u001b[39;49;00m\n",
      "\n",
      "{\n",
      "    \u001b[34;01m\"host\"\u001b[39;49;00m: \u001b[33m\"google.com\"\u001b[39;49;00m\n",
      "}\n",
      "\n"
     ]
    }
   ],
   "source": [
    "http 127.0.0.1:8000/host/172.217.5.110"
   ]
  },
  {
   "cell_type": "markdown",
   "metadata": {},
   "source": [
    "### Querying on hostname"
   ]
  },
  {
   "cell_type": "code",
   "execution_count": 60,
   "metadata": {},
   "outputs": [
    {
     "name": "stdout",
     "output_type": "stream",
     "text": [
      "/usr/lib/python3/dist-packages/requests/__init__.py:80: RequestsDependencyWarning: urllib3 (1.24.1) or chardet (3.0.4) doesn't match a supported version!\n",
      "  RequestsDependencyWarning)\n",
      "\u001b[34mHTTP\u001b[39;49;00m/\u001b[34m1.1\u001b[39;49;00m \u001b[34m200\u001b[39;49;00m \u001b[36mOK\u001b[39;49;00m\n",
      "\u001b[36mContent-Length\u001b[39;49;00m: \u001b[33m41\u001b[39;49;00m\n",
      "\u001b[36mContent-Type\u001b[39;49;00m: \u001b[33mapplication/json\u001b[39;49;00m\n",
      "\u001b[36mDate\u001b[39;49;00m: \u001b[33mSat, 26 Jan 2019 03:39:32 GMT\u001b[39;49;00m\n",
      "\u001b[36mServer\u001b[39;49;00m: \u001b[33mBaseHTTP/0.6 Python/3.6.7\u001b[39;49;00m\n",
      "\n",
      "{\n",
      "    \u001b[34;01m\"ips\"\u001b[39;49;00m: [\n",
      "        \u001b[33m\"172.217.5.110\"\u001b[39;49;00m,\n",
      "        \u001b[33m\"216.58.195.68\"\u001b[39;49;00m\n",
      "    ]\n",
      "}\n",
      "\n"
     ]
    }
   ],
   "source": [
    "http 127.0.0.1:8000/ips/google.com"
   ]
  },
  {
   "cell_type": "markdown",
   "metadata": {},
   "source": [
    "### But we need error handling\n",
    "\n",
    "But our current implementation doesn't look very smart if we look up an unknown item"
   ]
  },
  {
   "cell_type": "code",
   "execution_count": 61,
   "metadata": {},
   "outputs": [
    {
     "name": "stdout",
     "output_type": "stream",
     "text": [
      "/usr/lib/python3/dist-packages/requests/__init__.py:80: RequestsDependencyWarning: urllib3 (1.24.1) or chardet (3.0.4) doesn't match a supported version!\n",
      "  RequestsDependencyWarning)\n",
      "\u001b[34mHTTP\u001b[39;49;00m/\u001b[34m1.1\u001b[39;49;00m \u001b[34m500\u001b[39;49;00m \u001b[36mInternal Server Error\u001b[39;49;00m\n",
      "\u001b[36mContent-Length\u001b[39;49;00m: \u001b[33m372\u001b[39;49;00m\n",
      "\u001b[36mContent-Type\u001b[39;49;00m: \u001b[33mtext/plain\u001b[39;49;00m\n",
      "\u001b[36mDate\u001b[39;49;00m: \u001b[33mSat, 26 Jan 2019 03:39:36 GMT\u001b[39;49;00m\n",
      "\u001b[36mServer\u001b[39;49;00m: \u001b[33mBaseHTTP/0.6 Python/3.6.7\u001b[39;49;00m\n",
      "\n",
      "Traceback (most recent call last):\n",
      "  File \"/usr/local/lib/python3.6/dist-packages/chalice/app.py\", line 731, in _get_view_function_response\n",
      "    response = view_function(**function_args)\n",
      "  File \"/home/user1/src/git/ServerlessLabs/ServerlessWorkshop/AWS-S3-Lambda/chalice-app/app.py\", line 38, in get_host\n",
      "    return {'ips': HOST_IPv4_MAPPING[host]}\n",
      "KeyError: 'UNKNOWN.com'\n",
      "\n"
     ]
    }
   ],
   "source": [
    "http 127.0.0.1:8000/ips/UNKNOWN.com"
   ]
  },
  {
   "cell_type": "markdown",
   "metadata": {},
   "source": [
    "### Error handling\n",
    "\n",
    "We can handle error cases such as catching an unknown ip address or hostname"
   ]
  },
  {
   "cell_type": "code",
   "execution_count": 64,
   "metadata": {},
   "outputs": [],
   "source": [
    "cat > app.py <<EOF\n",
    "from chalice import Chalice\n",
    "from chalice import NotFoundError\n",
    "\n",
    "app = Chalice(app_name='bindservice')\n",
    "\n",
    "'''\n",
    "  NOTE: Can use different error codes:\n",
    "    * BadRequestError   - return a status code of 400\n",
    "    * UnauthorizedError - return a status code of 401\n",
    "    * ForbiddenError    - return a status code of 403\n",
    "    * NotFoundError     - return a status code of 404\n",
    "    * ConflictError     - return a status code of 409\n",
    "    * UnprocessableEntityError - return a status code of 422\n",
    "    * TooManyRequestsError - return a status code of 429\n",
    "    * ChaliceViewError  - return a status code of 500\n",
    "'''\n",
    "\n",
    "app.debug = True\n",
    "\n",
    "HOST_IPv4_MAPPING = {\n",
    "    'localhost': '127.0.0.1',\n",
    "    'google.com': ['172.217.5.110', '216.58.195.68']\n",
    "}\n",
    "\n",
    "# Yes this could be calcuated from HOST_IPv4_MAPPING but better to have an immutable static copy created when the applicaton is created.\n",
    "IPv4_HOST_MAPPING = {\n",
    "    '127.0.0.1': 'localhost',\n",
    "    '216.58.195.68': 'google.com',\n",
    "    '172.217.5.110': 'google.com'\n",
    "}\n",
    "\n",
    "\n",
    "'''\n",
    "* Query database for the host with specified IPv4 address\n",
    "'''\n",
    "@app.route('/host/{ip}')\n",
    "def get_host(ip):\n",
    "    try:\n",
    "        host = {'host':  IPv4_HOST_MAPPING[ip]} \n",
    "    except KeyError:\n",
    "        raise NotFoundError(\"Unknown ip '%s'\" % ( ip ))\n",
    "        \n",
    "    return host\n",
    "\n",
    "'''\n",
    "* Query database for the  IPv4 addresses for the specified host\n",
    "'''\n",
    "@app.route('/ips/{host}')\n",
    "def get_host(host):\n",
    "    try:\n",
    "        ips = {'ips': HOST_IPv4_MAPPING[host]}\n",
    "    except KeyError:\n",
    "        raise NotFoundError(\"Unknown host '%s'\" % ( host ))\n",
    "        \n",
    "    return ips\n",
    "\n",
    "EOF"
   ]
  },
  {
   "cell_type": "markdown",
   "metadata": {},
   "source": [
    "Now when we rerun some error cases we get a cleaner response:"
   ]
  },
  {
   "cell_type": "code",
   "execution_count": 65,
   "metadata": {},
   "outputs": [
    {
     "name": "stdout",
     "output_type": "stream",
     "text": [
      "/usr/lib/python3/dist-packages/requests/__init__.py:80: RequestsDependencyWarning: urllib3 (1.24.1) or chardet (3.0.4) doesn't match a supported version!\n",
      "  RequestsDependencyWarning)\n",
      "\u001b[34mHTTP\u001b[39;49;00m/\u001b[34m1.1\u001b[39;49;00m \u001b[34m404\u001b[39;49;00m \u001b[36mNot Found\u001b[39;49;00m\n",
      "\u001b[36mContent-Length\u001b[39;49;00m: \u001b[33m78\u001b[39;49;00m\n",
      "\u001b[36mContent-Type\u001b[39;49;00m: \u001b[33mapplication/json\u001b[39;49;00m\n",
      "\u001b[36mDate\u001b[39;49;00m: \u001b[33mSat, 26 Jan 2019 03:43:31 GMT\u001b[39;49;00m\n",
      "\u001b[36mServer\u001b[39;49;00m: \u001b[33mBaseHTTP/0.6 Python/3.6.7\u001b[39;49;00m\n",
      "\n",
      "{\n",
      "    \u001b[34;01m\"Code\"\u001b[39;49;00m: \u001b[33m\"NotFoundError\"\u001b[39;49;00m,\n",
      "    \u001b[34;01m\"Message\"\u001b[39;49;00m: \u001b[33m\"NotFoundError: Unknown ip '172.217.5.255'\"\u001b[39;49;00m\n",
      "}\n",
      "\n",
      "/usr/lib/python3/dist-packages/requests/__init__.py:80: RequestsDependencyWarning: urllib3 (1.24.1) or chardet (3.0.4) doesn't match a supported version!\n",
      "  RequestsDependencyWarning)\n",
      "\u001b[34mHTTP\u001b[39;49;00m/\u001b[34m1.1\u001b[39;49;00m \u001b[34m404\u001b[39;49;00m \u001b[36mNot Found\u001b[39;49;00m\n",
      "\u001b[36mContent-Length\u001b[39;49;00m: \u001b[33m78\u001b[39;49;00m\n",
      "\u001b[36mContent-Type\u001b[39;49;00m: \u001b[33mapplication/json\u001b[39;49;00m\n",
      "\u001b[36mDate\u001b[39;49;00m: \u001b[33mSat, 26 Jan 2019 03:43:31 GMT\u001b[39;49;00m\n",
      "\u001b[36mServer\u001b[39;49;00m: \u001b[33mBaseHTTP/0.6 Python/3.6.7\u001b[39;49;00m\n",
      "\n",
      "{\n",
      "    \u001b[34;01m\"Code\"\u001b[39;49;00m: \u001b[33m\"NotFoundError\"\u001b[39;49;00m,\n",
      "    \u001b[34;01m\"Message\"\u001b[39;49;00m: \u001b[33m\"NotFoundError: Unknown host 'UNKNOWN.com'\"\u001b[39;49;00m\n",
      "}\n",
      "\n"
     ]
    }
   ],
   "source": [
    "#http 127.0.0.1:8000/host/127.0.0.1\n",
    "#http 127.0.0.1:8000/host/172.217.5.110\n",
    "http 127.0.0.1:8000/host/172.217.5.255 # UNKNOWN\n",
    "#http 127.0.0.1:8000/ips/google.com\n",
    "http 127.0.0.1:8000/ips/UNKNOWN.com  # UNKNOWN"
   ]
  },
  {
   "cell_type": "markdown",
   "metadata": {},
   "source": [
    "## Think of some scenarii\n",
    "\n",
    "### Think about some use cases for this functionality.\n",
    "\n",
    "### Is it clear why it is interesting to do this as a serverless function?\n",
    "\n",
    "Remember that in this example we are not configuring a server to host our database and so we are very light on resource usage and we pay only for what we use.\n",
    "\n",
    "If we use a persistent backing store, S3 file storage or a database, then we wil pay for that usage but likely we will be sharing an existing file storage or database server and so we stil have a low cost solution where our front end application doesn't require a server to itself.\n",
    "\n",
    "We also get automatic scaling of our function if there is a lot of traffic from the network\n",
    "\n",
    "### Think of some scenario where we use all http/REST methods GET, PUT, POST, DELETE\n",
    "\n",
    "### So far we've used an embedded immutable database - what could we do with a persistent storage backend ?\n"
   ]
  },
  {
   "cell_type": "markdown",
   "metadata": {},
   "source": [
    "# More Reading\n",
    "\n",
    "\n",
    "\n",
    "# Cleanup\n",
    "\n"
   ]
  },
  {
   "cell_type": "code",
   "execution_count": null,
   "metadata": {},
   "outputs": [],
   "source": [
    "cleanup_functions"
   ]
  },
  {
   "cell_type": "code",
   "execution_count": null,
   "metadata": {},
   "outputs": [],
   "source": [
    "aws s3 rm s3://mjbright-static-site --recursive\n",
    "aws s3 rb s3://mjbright-static-site"
   ]
  },
  {
   "cell_type": "markdown",
   "metadata": {},
   "source": [
    "It's also possible to remoce the bucket directly using the ```--force``` option:\n",
    "    ```aws s3 rb --force s3://mjbright-static-site```"
   ]
  }
 ],
 "metadata": {
  "kernelspec": {
   "display_name": "Bash",
   "language": "bash",
   "name": "bash"
  },
  "language_info": {
   "codemirror_mode": "shell",
   "file_extension": ".sh",
   "mimetype": "text/x-sh",
   "name": "bash"
  }
 },
 "nbformat": 4,
 "nbformat_minor": 2
}
