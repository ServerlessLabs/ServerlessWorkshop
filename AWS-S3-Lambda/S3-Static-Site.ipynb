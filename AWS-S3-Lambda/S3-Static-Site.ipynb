{
 "cells": [
  {
   "cell_type": "markdown",
   "metadata": {},
   "source": [
    "# Creating static web-sites using AWS S3 Object Storage\n",
    "\n",
    "You should first have\n",
    "- installed the awscli package to provide the aws command and also\n",
    "- configured either\n",
    "  - the ~/.aws/configure file with your AWS account credentials or\n",
    "  - created a sourceable ~/.aws/credentials.rc (can be in any location) file"
   ]
  },
  {
   "cell_type": "markdown",
   "metadata": {},
   "source": [
    "```\n",
    "> cat ~/.aws/credentials.rc\n",
    "\n",
    "export AWS_ACCESS_KEY_ID=\"<your-access-key>\"\n",
    "export AWS_SECRET_ACCESS_KEY=\"<your-secret-access-key>\"\n",
    "export AWS_DEFAULT_REGION=us-west-1\n",
    "```"
   ]
  },
  {
   "cell_type": "markdown",
   "metadata": {},
   "source": [
    "If you have chosen to use an rc file, source it as ```source <your-aws-credentials-rc-file>```, e.g."
   ]
  },
  {
   "cell_type": "code",
   "execution_count": 9,
   "metadata": {},
   "outputs": [],
   "source": [
    ". ~/.aws/credentials"
   ]
  },
  {
   "cell_type": "markdown",
   "metadata": {},
   "source": [
    "We can now use the aws cli utility to access S3 commands.\n",
    "\n",
    "Let's investigate the available commands with ```aws s3 help```"
   ]
  },
  {
   "cell_type": "code",
   "execution_count": 10,
   "metadata": {},
   "outputs": [
    {
     "name": "stdout",
     "output_type": "stream",
     "text": [
      "S3()                                                                      S3()\n",
      "\n",
      "\n",
      "\n",
      "NAME\n",
      "       s3 -\n",
      "\n",
      "DESCRIPTION\n",
      "       This  section  explains  prominent concepts and notations in the set of\n",
      "       high-level S3 commands provided.\n",
      "\n",
      "   Path Argument Type\n",
      "       Whenever using a command, at least one path argument must be specified.\n",
      "       There are two types of path arguments: LocalPath and S3Uri.\n",
      "\n",
      "       LocalPath: represents the path of a local file or directory.  It can be\n",
      "       written as an absolute path or relative path.\n",
      "\n",
      "       S3Uri: represents the location of a S3 object, prefix, or bucket.  This\n",
      "       must  be  written in the form s3://mybucket/mykey where mybucket is the\n",
      "       specified S3 bucket, mykey is the specified S3 key.  The path  argument\n",
      "       must  begin with s3:// in order to denote that the path argument refers\n",
      "       to a S3 object. Note that prefixes are separated  by  forward  slashes.\n",
      "       For  example, if the S3 object myobject had the prefix myprefix, the S3\n",
      "       key would be myprefix/myobject, and if the object  was  in  the  bucket\n",
      "       mybucket, the S3Uri would be s3://mybucket/myprefix/myobject.\n",
      "\n",
      "   Order of Path Arguments\n",
      "       Every  command  takes  one or two positional path arguments.  The first\n",
      "       path argument represents the source, which is the local  file/directory\n",
      "       or  S3  object/prefix/bucket  that  is being referenced.  If there is a\n",
      "       second path argument, it represents the destination, which is the local\n",
      "       file/directory  or  S3  object/prefix/bucket that is being operated on.\n",
      "       Commands with only one path argument do not have a destination  because\n",
      "       the operation is being performed only on the source.\n",
      "\n",
      "   Single Local File and S3 Object Operations\n",
      "       Some  commands  perform operations only on single files and S3 objects.\n",
      "       The following commands are single file/object operations if no --recur-\n",
      "       sive flag is provided.\n",
      "\n",
      "          o cp\n",
      "\n",
      "          o mv\n",
      "\n",
      "          o rm\n",
      "\n",
      "       For  this  type of operation, the first path argument, the source, must\n",
      "       exist and be a local file or S3 object.  The second path argument,  the\n",
      "       destination,  can  be  the  name  of  a local file, local directory, S3\n",
      "       object, S3 prefix, or S3 bucket.\n",
      "\n",
      "       The destination is indicated as a local directory,  S3  prefix,  or  S3\n",
      "       bucket if it ends with a forward slash or back slash.  The use of slash\n",
      "       depends on the path argument type.  If the path argument  is  a  Local-\n",
      "       Path,  the type of slash is the separator used by the operating system.\n",
      "       If the path is a S3Uri, the forward slash must always be  used.   If  a\n",
      "       slash  is at the end of the destination, the destination file or object\n",
      "       will adopt the name of the source file or object.  Otherwise, if  there\n",
      "       is no slash at the end, the file or object will be saved under the name\n",
      "       provided.  See examples in cp and mv to illustrate this description.\n",
      "\n",
      "   Directory and S3 Prefix Operations\n",
      "       Some commands only perform operations on the contents of a local direc-\n",
      "       tory  or  S3 prefix/bucket.  Adding or omitting a forward slash or back\n",
      "       slash to the end of any path argument, depending on its type, does  not\n",
      "       affect  the  results  of  the  operation.   The following commands will\n",
      "       always result in a directory or S3 prefix/bucket operation:\n",
      "\n",
      "       o sync\n",
      "\n",
      "       o mb\n",
      "\n",
      "       o rb\n",
      "\n",
      "       o ls\n",
      "\n",
      "   Use of Exclude and Include Filters\n",
      "       Currently, there is no support for the use of UNIX style wildcards in a\n",
      "       command's  path  arguments.   However,  most  commands  have  --exclude\n",
      "       \"<value>\" and --include  \"<value>\"  parameters  that  can  achieve  the\n",
      "       desired  result.   These  parameters perform pattern matching to either\n",
      "       exclude or include a particular file or object.  The following  pattern\n",
      "       symbols are supported.\n",
      "\n",
      "          o *: Matches everything\n",
      "\n",
      "          o ?: Matches any single character\n",
      "\n",
      "          o [sequence]: Matches any character in sequence\n",
      "\n",
      "          o [!sequence]: Matches any character not in sequence\n",
      "\n",
      "       Any  number of these parameters can be passed to a command.  You can do\n",
      "       this by providing an --exclude or --include  argument  multiple  times,\n",
      "       e.g.   --include  \"*.txt\"  --include  \"*.png\".  When there are multiple\n",
      "       filters, the rule is the filters that appear later in the command  take\n",
      "       precedence  over filters that appear earlier in the command.  For exam-\n",
      "       ple, if the filter parameters passed to the command were\n",
      "\n",
      "          --exclude \"*\" --include \"*.txt\"\n",
      "\n",
      "       All files will be excluded from the command  except  for  files  ending\n",
      "       with  .txt   However, if the order of the filter parameters was changed\n",
      "       to\n",
      "\n",
      "          --include \"*.txt\" --exclude \"*\"\n",
      "\n",
      "       All files will be excluded from the command.\n",
      "\n",
      "       Each filter is evaluated against the source directory.  If  the  source\n",
      "       location is a file instead of a directory, the directory containing the\n",
      "       file is used as the source directory.  For example, suppose you had the\n",
      "       following directory structure:\n",
      "\n",
      "          /tmp/foo/\n",
      "            .git/\n",
      "            |---config\n",
      "            |---description\n",
      "            foo.txt\n",
      "            bar.txt\n",
      "            baz.jpg\n",
      "\n",
      "       In  the  command aws s3 sync /tmp/foo s3://bucket/ the source directory\n",
      "       is /tmp/foo.  Any include/exclude filters will be  evaluated  with  the\n",
      "       source  directory prepended.  Below are several examples to demonstrate\n",
      "       this.\n",
      "\n",
      "       Given the directory structure above and the command aws s3 cp  /tmp/foo\n",
      "       s3://bucket/  --recursive --exclude \".git/*\", the files .git/config and\n",
      "       .git/description will be excluded from the files to upload because  the\n",
      "       exclude  filter  .git/*  will  have the source prepended to the filter.\n",
      "       This means that:\n",
      "\n",
      "          /tmp/foo/.git/* -> /tmp/foo/.git/config       (matches, should exclude)\n",
      "          /tmp/foo/.git/* -> /tmp/foo/.git/description  (matches, should exclude)\n",
      "          /tmp/foo/.git/* -> /tmp/foo/foo.txt  (does not match, should include)\n",
      "          /tmp/foo/.git/* -> /tmp/foo/bar.txt  (does not match, should include)\n",
      "          /tmp/foo/.git/* -> /tmp/foo/baz.jpg  (does not match, should include)\n",
      "\n",
      "       The command aws s3  cp  /tmp/foo/  s3://bucket/  --recursive  --exclude\n",
      "       \"ba*\" will exclude /tmp/foo/bar.txt and /tmp/foo/baz.jpg:\n",
      "\n",
      "          /tmp/foo/ba* -> /tmp/foo/.git/config      (does not match, should include)\n",
      "          /tmp/foo/ba* -> /tmp/foo/.git/description (does not match, should include)\n",
      "          /tmp/foo/ba* -> /tmp/foo/foo.txt          (does not match, should include)\n",
      "          /tmp/foo/ba* -> /tmp/foo/bar.txt  (matches, should exclude)\n",
      "          /tmp/foo/ba* -> /tmp/foo/baz.jpg  (matches, should exclude)\n",
      "\n",
      "       Note that, by default, all files are included.  This means that provid-\n",
      "       ing only an --include filter will not  change  what  files  are  trans-\n",
      "       ferred.   --include  will only re-include files that have been excluded\n",
      "       from an --exclude filter.  If you only want to upload files with a par-\n",
      "       ticular extension, you need to first exclude all files, then re-include\n",
      "       the files with the particular extension.  This command will upload only\n",
      "       files ending with .jpg:\n",
      "\n",
      "          aws s3 cp /tmp/foo/ s3://bucket/ --recursive --exclude \"*\" --include \"*.jpg\"\n",
      "\n",
      "       If  you wanted to include both .jpg files as well as .txt files you can\n",
      "       run:\n",
      "\n",
      "          aws s3 cp /tmp/foo/ s3://bucket/ --recursive \\\n",
      "              --exclude \"*\" --include \"*.jpg\" --include \"*.txt\"\n",
      "\n",
      "       See 'aws help' for descriptions of global parameters.\n",
      "\n",
      "SYNOPSIS\n",
      "          aws s3 <Command> [<Arg> ...]\n",
      "\n",
      "OPTIONS\n",
      "       None\n",
      "\n",
      "       See 'aws help' for descriptions of global parameters.\n",
      "\n",
      "AVAILABLE COMMANDS\n",
      "       o cp\n",
      "\n",
      "       o ls\n",
      "\n",
      "       o mb\n",
      "\n",
      "       o mv\n",
      "\n",
      "       o presign\n",
      "\n",
      "       o rb\n",
      "\n",
      "       o rm\n",
      "\n",
      "       o sync\n",
      "\n",
      "       o website\n",
      "\n",
      "\n",
      "\n",
      "                                                                          S3()\n"
     ]
    }
   ],
   "source": [
    "aws s3 help "
   ]
  },
  {
   "cell_type": "markdown",
   "metadata": {},
   "source": [
    "S3 is organized into buckets, each of which contains a hierarchy of named objects.\n",
    "\n",
    "The bucket name itself must be globally **unique** - across all AWS accounts not just yours.\n",
    "\n",
    "Let's see if we have any buckets of our own using the ```aws s3 ls``` command.\n",
    "You won't have any buckets if you just created your account."
   ]
  },
  {
   "cell_type": "code",
   "execution_count": 11,
   "metadata": {},
   "outputs": [],
   "source": [
    "aws s3 ls"
   ]
  },
  {
   "cell_type": "markdown",
   "metadata": {},
   "source": [
    "Let's create our own bucket, we use the 'mb' or *make bucket* command to do this as\n",
    "    ```aws s3 mb s3://<my-bucket-name>```\n",
    "    \n",
    "Note that we always address buckets in URL form ```s3://<bucket>```"
   ]
  },
  {
   "cell_type": "code",
   "execution_count": 12,
   "metadata": {},
   "outputs": [
    {
     "name": "stdout",
     "output_type": "stream",
     "text": [
      "make_bucket failed: s3://mybucket An error occurred (BucketAlreadyExists) when calling the CreateBucket operation: The requested bucket name is not available. The bucket namespace is shared by all users of the system. Please select a different name and try again.\n"
     ]
    },
    {
     "ename": "",
     "evalue": "1",
     "output_type": "error",
     "traceback": []
    }
   ],
   "source": [
    "aws s3 mb s3://mybucket"
   ]
  },
  {
   "cell_type": "markdown",
   "metadata": {},
   "source": [
    "Of course someone got there first with our \"mybucket\" name !\n",
    "\n",
    "So create a **unique** name, e.g. for myself:"
   ]
  },
  {
   "cell_type": "code",
   "execution_count": 13,
   "metadata": {},
   "outputs": [
    {
     "name": "stdout",
     "output_type": "stream",
     "text": [
      "make_bucket: mjbright-static-site\n"
     ]
    }
   ],
   "source": [
    "aws s3 mb s3://mjbright-static-site"
   ]
  },
  {
   "cell_type": "code",
   "execution_count": 14,
   "metadata": {},
   "outputs": [
    {
     "name": "stdout",
     "output_type": "stream",
     "text": [
      "2019-01-25 21:33:37 mjbright-static-site\n"
     ]
    }
   ],
   "source": [
    "aws s3 ls"
   ]
  },
  {
   "cell_type": "markdown",
   "metadata": {},
   "source": [
    "That was lucky !\n",
    "\n",
    "Now let's add some files to our bucket.\n",
    "\n",
    "We can do this with the cp or sync commands.\n",
    "\n",
    "Let's create an HTML index file and copy this into our bucket."
   ]
  },
  {
   "cell_type": "code",
   "execution_count": 15,
   "metadata": {},
   "outputs": [
    {
     "name": "stdout",
     "output_type": "stream",
     "text": [
      "-rw-rw-r-- 1 user1 user1 74 Jan 25 21:33 website/index.html\n"
     ]
    }
   ],
   "source": [
    "mkdir -p website;\n",
    "\n",
    "cat > website/index.html <<EOF\n",
    "<html>\n",
    "<body>\n",
    "    <h1> My first amazing web site !! </h1>\n",
    "</body>\n",
    "</html>\n",
    "EOF\n",
    "\n",
    "ls -al website/index.html"
   ]
  },
  {
   "cell_type": "code",
   "execution_count": 16,
   "metadata": {},
   "outputs": [
    {
     "name": "stdout",
     "output_type": "stream",
     "text": [
      "Completed 74 Bytes/74 Bytes (4.4 KiB/s) with 1 file(s) remaining\r",
      "upload: website/index.html to s3://mjbright-static-site/index.html\n"
     ]
    }
   ],
   "source": [
    "aws s3 sync ./website s3://mjbright-static-site"
   ]
  },
  {
   "cell_type": "code",
   "execution_count": 17,
   "metadata": {},
   "outputs": [
    {
     "name": "stdout",
     "output_type": "stream",
     "text": [
      "2019-01-25 21:33:55         74 index.html\n"
     ]
    }
   ],
   "source": [
    "aws s3 ls s3://mjbright-static-site"
   ]
  },
  {
   "cell_type": "markdown",
   "metadata": {},
   "source": [
    "So it seems we have created a static web site.\n",
    "\n",
    "We can use the handy S3 command website to declare that this is a website."
   ]
  },
  {
   "cell_type": "code",
   "execution_count": 18,
   "metadata": {},
   "outputs": [],
   "source": [
    "aws s3 website s3://mjbright-static-site --index-document index.html"
   ]
  },
  {
   "cell_type": "markdown",
   "metadata": {},
   "source": [
    "The site should be available at http://<bucketname>.s3-website-<region>.amazonaws.com, which in this case would be:\n",
    "    \n",
    "    http://mjbright-static-site.s3-website-us-west-1.amazonaws.com/\n",
    "    \n",
    "However, if we visit that web page we will get an error telling us that we cannot access the page"
   ]
  },
  {
   "cell_type": "code",
   "execution_count": 19,
   "metadata": {},
   "outputs": [
    {
     "name": "stdout",
     "output_type": "stream",
     "text": [
      "--2019-01-25 21:34:20--  http://mjbright-static-site.s3-website-us-west-1.amazonaws.com/index.html\n",
      "Resolving mjbright-static-site.s3-website-us-west-1.amazonaws.com (mjbright-static-site.s3-website-us-west-1.amazonaws.com)... 52.219.24.172\n",
      "Connecting to mjbright-static-site.s3-website-us-west-1.amazonaws.com (mjbright-static-site.s3-website-us-west-1.amazonaws.com)|52.219.24.172|:80... connected.\n",
      "HTTP request sent, awaiting response... 403 Forbidden\n",
      "2019-01-25 21:34:20 ERROR 403: Forbidden.\n",
      "\n"
     ]
    },
    {
     "ename": "",
     "evalue": "8",
     "output_type": "error",
     "traceback": []
    }
   ],
   "source": [
    "wget -O - http://mjbright-static-site.s3-website-us-west-1.amazonaws.com/index.html"
   ]
  },
  {
   "cell_type": "markdown",
   "metadata": {},
   "source": [
    "**NOTE**: The following steps using the AWS console can be avoided by\n",
    "\n",
    "For more information see \"awscli enabling of website hosting\":  http://notes.webutvikling.org/add-s3-bucket-using-awscli-example/\n",
    "\n"
   ]
  },
  {
   "cell_type": "code",
   "execution_count": 21,
   "metadata": {},
   "outputs": [
    {
     "name": "stdout",
     "output_type": "stream",
     "text": [
      "  % Total    % Received % Xferd  Average Speed   Time    Time     Time  Current\n",
      "                                 Dload  Upload   Total   Spent    Left  Speed\n",
      "100   236  100   236    0     0   1380      0 --:--:-- --:--:-- --:--:--  1380\n",
      "{\n",
      "  \"Version\":\"2012-10-17\",\n",
      "  \"Statement\":[{\n",
      "    \"Sid\":\"PublicReadGetObject\",\n",
      "        \"Effect\":\"Allow\",\n",
      "      \"Principal\": \"*\",\n",
      "      \"Action\":[\"s3:GetObject\"],\n",
      "      \"Resource\":[\"arn:aws:s3:::[[YOUR-BUCKET-NAME]]/*\"\n",
      "      ]\n",
      "    }\n",
      "  ]\n",
      "}"
     ]
    }
   ],
   "source": [
    "BUCKET=mjbright-static-site\n",
    "\n",
    "# NOT NEEDED AS WE ALREADY CREATED THE BUCKET:\n",
    "# aws s3api create-bucket --bucket $BUCKET --region us-west-1 --acl public-read --create-bucket-configuration LocationConstraint=us-west-1\n",
    "\n",
    "# NOT NEEDED as copy already performed:\n",
    "# aws s3 cp --recursive website/ s3://$BUCKET/\n",
    "\n",
    "curl https://raw.githubusercontent.com/tomfa/aws-policies/master/s3-bucket-public-read.json > /tmp/s3-bucket-public-read.json\n",
    "\n",
    "cat /tmp/s3-bucket-public-read.json\n",
    "\n",
    "\n"
   ]
  },
  {
   "cell_type": "code",
   "execution_count": 22,
   "metadata": {},
   "outputs": [
    {
     "name": "stdout",
     "output_type": "stream",
     "text": [
      "{\n",
      "  \"Version\":\"2012-10-17\",\n",
      "  \"Statement\":[{\n",
      "    \"Sid\":\"PublicReadGetObject\",\n",
      "        \"Effect\":\"Allow\",\n",
      "      \"Principal\": \"*\",\n",
      "      \"Action\":[\"s3:GetObject\"],\n",
      "      \"Resource\":[\"arn:aws:s3:::mjbright-static-site/*\"\n",
      "      ]\n",
      "    }\n",
      "  ]\n",
      "}"
     ]
    }
   ],
   "source": [
    "sed \"s/\\[\\[YOUR-BUCKET-NAME\\]\\]/$BUCKET/g\" /tmp/s3-bucket-public-read.json > s3.json\n",
    "cat s3.json\n",
    "aws s3api put-bucket-policy --bucket $BUCKET --policy file://s3.json"
   ]
  },
  {
   "cell_type": "code",
   "execution_count": 24,
   "metadata": {},
   "outputs": [
    {
     "name": "stdout",
     "output_type": "stream",
     "text": [
      "/usr/lib/python3/dist-packages/requests/__init__.py:80: RequestsDependencyWarning: urllib3 (1.24.1) or chardet (3.0.4) doesn't match a supported version!\n",
      "  RequestsDependencyWarning)\n",
      "\u001b[34mHTTP\u001b[39;49;00m/\u001b[34m1.1\u001b[39;49;00m \u001b[34m200\u001b[39;49;00m \u001b[36mOK\u001b[39;49;00m\n",
      "\u001b[36mContent-Length\u001b[39;49;00m: \u001b[33m74\u001b[39;49;00m\n",
      "\u001b[36mContent-Type\u001b[39;49;00m: \u001b[33mtext/html\u001b[39;49;00m\n",
      "\u001b[36mDate\u001b[39;49;00m: \u001b[33mFri, 25 Jan 2019 21:41:55 GMT\u001b[39;49;00m\n",
      "\u001b[36mETag\u001b[39;49;00m: \u001b[33m\"a891baebfc13d226edc4eb4e908cf652\"\u001b[39;49;00m\n",
      "\u001b[36mLast-Modified\u001b[39;49;00m: \u001b[33mFri, 25 Jan 2019 21:33:55 GMT\u001b[39;49;00m\n",
      "\u001b[36mServer\u001b[39;49;00m: \u001b[33mAmazonS3\u001b[39;49;00m\n",
      "\u001b[36mx-amz-id-2\u001b[39;49;00m: \u001b[33m2kczFb8kdg8e4ecMKLiLFF73Tvy4TVp6uolBH5MdbaNYxeaBjJGSBJbX15iHgQqUjSiEz97+Hig=\u001b[39;49;00m\n",
      "\u001b[36mx-amz-request-id\u001b[39;49;00m: \u001b[33m463C085A1474ED01\u001b[39;49;00m\n",
      "\n",
      "<\u001b[34;01mhtml\u001b[39;49;00m>\n",
      "<\u001b[34;01mbody\u001b[39;49;00m>\n",
      "    <\u001b[34;01mh1\u001b[39;49;00m> My first amazing web site !! </\u001b[34;01mh1\u001b[39;49;00m>\n",
      "</\u001b[34;01mbody\u001b[39;49;00m>\n",
      "</\u001b[34;01mhtml\u001b[39;49;00m>\n",
      "\n"
     ]
    }
   ],
   "source": [
    "http http://mjbright-static-site.s3-website-us-west-1.amazonaws.com/index.html "
   ]
  },
  {
   "cell_type": "markdown",
   "metadata": {},
   "source": [
    "**NOTE: THESE GRAPHICAL/CONSOLE STEPS ARE NO LONGER NEEDED IF ABOVE policy commands used**\n",
    "\n",
    "This information kept here for reference.\n",
    "\n",
    "If the above request succeeded you can skip to section '**Static-site generators**' below.\n",
    "\n",
    "_____________________________________________________________________________________________\n",
    "\n",
    "In fact we first need to enable website hosting from the bucket **and** enable public access to the index.html file.\n",
    "\n",
    "We can do this via the AWS Console.\n",
    "\n",
    "Connect to the console with your credentials and then navigate to https://s3.console.aws.amazon.com/s3/buckets/.\n",
    "\n",
    "\n",
    "![](images/BucketProperties.JPG)\n",
    "\n",
    "You should see your bucket listed here.\n",
    "\n",
    "Click on the line (not on the bucket name which is a link, but under the Access or Region column) to see the following dropdown menu\n",
    "\n",
    "![](images/BucketProperties-BeforeWebHostingEnabled.JPG)\n",
    "\n",
    "Click on \"Enable Web hosting\" and you should see:\n",
    "\n",
    "<!-- ![](images/BucketProperties-Settings-EnableWebsiteHosting.JPG) -->\n",
    "\n",
    "![](images/BucketProperties-Settings-Enabled_WebsiteHosting.JPG)\n",
    "\n",
    "But we still cannot access our site as we need to enable public access to the index.html file.\n",
    "\n",
    "Click on the bucket name to be taken to a list of files in the bucket, select the index.html file and then \"*Make Public*\" in the dropdown \"*Actions*\" menu:\n",
    "\n",
    "![](images/Make_index_public.JPG)"
   ]
  },
  {
   "cell_type": "markdown",
   "metadata": {},
   "source": [
    "You now should be able to access your site using a browser, or from the command-line:"
   ]
  },
  {
   "cell_type": "code",
   "execution_count": 25,
   "metadata": {},
   "outputs": [
    {
     "name": "stdout",
     "output_type": "stream",
     "text": [
      "/usr/lib/python3/dist-packages/requests/__init__.py:80: RequestsDependencyWarning: urllib3 (1.24.1) or chardet (3.0.4) doesn't match a supported version!\n",
      "  RequestsDependencyWarning)\n",
      "\u001b[34mHTTP\u001b[39;49;00m/\u001b[34m1.1\u001b[39;49;00m \u001b[34m200\u001b[39;49;00m \u001b[36mOK\u001b[39;49;00m\n",
      "\u001b[36mContent-Length\u001b[39;49;00m: \u001b[33m74\u001b[39;49;00m\n",
      "\u001b[36mContent-Type\u001b[39;49;00m: \u001b[33mtext/html\u001b[39;49;00m\n",
      "\u001b[36mDate\u001b[39;49;00m: \u001b[33mFri, 25 Jan 2019 21:44:32 GMT\u001b[39;49;00m\n",
      "\u001b[36mETag\u001b[39;49;00m: \u001b[33m\"a891baebfc13d226edc4eb4e908cf652\"\u001b[39;49;00m\n",
      "\u001b[36mLast-Modified\u001b[39;49;00m: \u001b[33mFri, 25 Jan 2019 21:33:55 GMT\u001b[39;49;00m\n",
      "\u001b[36mServer\u001b[39;49;00m: \u001b[33mAmazonS3\u001b[39;49;00m\n",
      "\u001b[36mx-amz-id-2\u001b[39;49;00m: \u001b[33mr7BnsjmdWZMO+OwLbaSEIDj8xRfFK7J2EJy6nrLn3ibLjW6rf1DThFNH3LnytA3bpyqRNZ2HDZQ=\u001b[39;49;00m\n",
      "\u001b[36mx-amz-request-id\u001b[39;49;00m: \u001b[33m6BE5077594B573B8\u001b[39;49;00m\n",
      "\n",
      "<\u001b[34;01mhtml\u001b[39;49;00m>\n",
      "<\u001b[34;01mbody\u001b[39;49;00m>\n",
      "    <\u001b[34;01mh1\u001b[39;49;00m> My first amazing web site !! </\u001b[34;01mh1\u001b[39;49;00m>\n",
      "</\u001b[34;01mbody\u001b[39;49;00m>\n",
      "</\u001b[34;01mhtml\u001b[39;49;00m>\n",
      "\n"
     ]
    }
   ],
   "source": [
    "http http://mjbright-static-site.s3-website-us-west-1.amazonaws.com/index.html"
   ]
  },
  {
   "cell_type": "markdown",
   "metadata": {},
   "source": [
    "## Static-site generators\n",
    "\n",
    "Let's now create something a little more like a website.\n",
    "\n",
    "### 1. Pelican a Python Module\n",
    "We'll use the Pelican command (installed as a Python module).\n"
   ]
  },
  {
   "cell_type": "code",
   "execution_count": 26,
   "metadata": {},
   "outputs": [
    {
     "name": "stdout",
     "output_type": "stream",
     "text": [
      "Done: Processed 0 articles, 0 drafts, 0 pages, 0 hidden pages and 0 draft pages in 0.07 seconds.\n",
      "upload: website/archives.html to s3://mjbright-static-site/archives.html            \n",
      "upload: website/images/AWS-SIGNUP.JPG to s3://mjbright-static-site/images/AWS-SIGNUP.JPG\n",
      "upload: website/authors.html to s3://mjbright-static-site/authors.html                \n",
      "upload: website/categories.html to s3://mjbright-static-site/categories.html          \n",
      "upload: website/theme/css/reset.css to s3://mjbright-static-site/theme/css/reset.css\n",
      "upload: website/images/BucketProperties-Settings-EnableWebsiteHosting.JPG to s3://mjbright-static-site/images/BucketProperties-Settings-EnableWebsiteHosting.JPG\n",
      "upload: website/theme/css/pygment.css to s3://mjbright-static-site/theme/css/pygment.css\n",
      "upload: website/images/BucketProperties-Settings-Enabled_WebsiteHosting.JPG to s3://mjbright-static-site/images/BucketProperties-Settings-Enabled_WebsiteHosting.JPG\n",
      "upload: website/theme/css/main.css to s3://mjbright-static-site/theme/css/main.css\n",
      "upload: website/theme/fonts/Yanone_Kaffeesatz_400.svg to s3://mjbright-static-site/theme/fonts/Yanone_Kaffeesatz_400.svg\n",
      "upload: website/feeds/all.atom.xml to s3://mjbright-static-site/feeds/all.atom.xml\n",
      "upload: website/index.html to s3://mjbright-static-site/index.html \n",
      "upload: website/tags.html to s3://mjbright-static-site/tags.html   \n",
      "upload: website/theme/css/fonts.css to s3://mjbright-static-site/theme/css/fonts.css\n",
      "upload: website/theme/fonts/Yanone_Kaffeesatz_400.eot to s3://mjbright-static-site/theme/fonts/Yanone_Kaffeesatz_400.eot\n",
      "upload: website/images/BucketProperties.JPG to s3://mjbright-static-site/images/BucketProperties.JPG\n",
      "upload: website/theme/css/wide.css to s3://mjbright-static-site/theme/css/wide.css\n",
      "upload: website/theme/images/icons/aboutme.png to s3://mjbright-static-site/theme/images/icons/aboutme.png\n",
      "upload: website/theme/fonts/font.css to s3://mjbright-static-site/theme/fonts/font.css\n",
      "upload: website/images/Make_index_public.JPG to s3://mjbright-static-site/images/Make_index_public.JPG\n",
      "upload: website/theme/images/icons/github.png to s3://mjbright-static-site/theme/images/icons/github.png\n",
      "upload: website/theme/images/icons/delicious.png to s3://mjbright-static-site/theme/images/icons/delicious.png\n",
      "upload: website/theme/fonts/Yanone_Kaffeesatz_400.woff to s3://mjbright-static-site/theme/fonts/Yanone_Kaffeesatz_400.woff\n",
      "upload: website/theme/images/icons/facebook.png to s3://mjbright-static-site/theme/images/icons/facebook.png\n",
      "upload: website/theme/css/typogrify.css to s3://mjbright-static-site/theme/css/typogrify.css\n",
      "upload: website/images/BucketProperties-BeforeWebHostingEnabled.JPG to s3://mjbright-static-site/images/BucketProperties-BeforeWebHostingEnabled.JPG\n",
      "upload: website/theme/images/icons/gittip.png to s3://mjbright-static-site/theme/images/icons/gittip.png\n",
      "upload: website/theme/images/icons/hackernews.png to s3://mjbright-static-site/theme/images/icons/hackernews.png\n",
      "upload: website/theme/fonts/Yanone_Kaffeesatz_400.woff2 to s3://mjbright-static-site/theme/fonts/Yanone_Kaffeesatz_400.woff2\n",
      "upload: website/theme/images/icons/google-plus.png to s3://mjbright-static-site/theme/images/icons/google-plus.png\n",
      "upload: website/theme/images/icons/bitbucket.png to s3://mjbright-static-site/theme/images/icons/bitbucket.png\n",
      "upload: website/theme/images/icons/rss.png to s3://mjbright-static-site/theme/images/icons/rss.png\n",
      "upload: website/theme/images/icons/google-groups.png to s3://mjbright-static-site/theme/images/icons/google-groups.png\n",
      "upload: website/theme/fonts/Yanone_Kaffeesatz_400.ttf to s3://mjbright-static-site/theme/fonts/Yanone_Kaffeesatz_400.ttf\n",
      "upload: website/theme/images/icons/linkedin.png to s3://mjbright-static-site/theme/images/icons/linkedin.png\n",
      "upload: website/theme/images/icons/twitter.png to s3://mjbright-static-site/theme/images/icons/twitter.png\n",
      "upload: website/theme/images/icons/speakerdeck.png to s3://mjbright-static-site/theme/images/icons/speakerdeck.png\n",
      "upload: website/theme/images/icons/stackoverflow.png to s3://mjbright-static-site/theme/images/icons/stackoverflow.png\n",
      "upload: website/theme/images/icons/youtube.png to s3://mjbright-static-site/theme/images/icons/youtube.png\n",
      "upload: website/theme/images/icons/gitorious.png to s3://mjbright-static-site/theme/images/icons/gitorious.png\n",
      "upload: website/theme/images/icons/lastfm.png to s3://mjbright-static-site/theme/images/icons/lastfm.png\n",
      "upload: website/theme/images/icons/vimeo.png to s3://mjbright-static-site/theme/images/icons/vimeo.png\n",
      "upload: website/theme/images/icons/slideshare.png to s3://mjbright-static-site/theme/images/icons/slideshare.png\n",
      "upload: website/theme/images/icons/reddit.png to s3://mjbright-static-site/theme/images/icons/reddit.png\n"
     ]
    }
   ],
   "source": [
    "pelican -o PELICAN -q\n",
    "\n",
    "cp -a PELICAN/* website/\n",
    "\n",
    "aws s3 sync website/ s3://mjbright-static-site/"
   ]
  },
  {
   "cell_type": "markdown",
   "metadata": {},
   "source": [
    "We can now test our new website: using wget, curl or http(ie) or using a browser at http://mjbright-static-site.s3-website-us-west-1.amazonaws.com/index.html"
   ]
  },
  {
   "cell_type": "code",
   "execution_count": 27,
   "metadata": {},
   "outputs": [
    {
     "name": "stdout",
     "output_type": "stream",
     "text": [
      "/usr/lib/python3/dist-packages/requests/__init__.py:80: RequestsDependencyWarning: urllib3 (1.24.1) or chardet (3.0.4) doesn't match a supported version!\n",
      "  RequestsDependencyWarning)\n",
      "\u001b[34mHTTP\u001b[39;49;00m/\u001b[34m1.1\u001b[39;49;00m \u001b[34m200\u001b[39;49;00m \u001b[36mOK\u001b[39;49;00m\n",
      "\u001b[36mContent-Length\u001b[39;49;00m: \u001b[33m1486\u001b[39;49;00m\n",
      "\u001b[36mContent-Type\u001b[39;49;00m: \u001b[33mtext/html\u001b[39;49;00m\n",
      "\u001b[36mDate\u001b[39;49;00m: \u001b[33mFri, 25 Jan 2019 21:45:31 GMT\u001b[39;49;00m\n",
      "\u001b[36mETag\u001b[39;49;00m: \u001b[33m\"70ec20e1a2544e5eba9aa224e3b607f6\"\u001b[39;49;00m\n",
      "\u001b[36mLast-Modified\u001b[39;49;00m: \u001b[33mFri, 25 Jan 2019 21:45:19 GMT\u001b[39;49;00m\n",
      "\u001b[36mServer\u001b[39;49;00m: \u001b[33mAmazonS3\u001b[39;49;00m\n",
      "\u001b[36mx-amz-id-2\u001b[39;49;00m: \u001b[33mehBTFGAc6bUlc53B7VmUfM+QTJnSn+HN7wU4tXEcERzGM75sVJPZDVXD7BvjjxXqM9MD/rHWhNI=\u001b[39;49;00m\n",
      "\u001b[36mx-amz-request-id\u001b[39;49;00m: \u001b[33m4026EC8E31BF98D1\u001b[39;49;00m\n",
      "\n",
      "\u001b[36m<!DOCTYPE html>\u001b[39;49;00m\n",
      "<\u001b[34;01mhtml\u001b[39;49;00m \u001b[36mlang\u001b[39;49;00m=\u001b[33m\"en\"\u001b[39;49;00m>\n",
      "<\u001b[34;01mhead\u001b[39;49;00m>\n",
      "        <\u001b[34;01mmeta\u001b[39;49;00m \u001b[36mcharset\u001b[39;49;00m=\u001b[33m\"utf-8\"\u001b[39;49;00m />\n",
      "        <\u001b[34;01mtitle\u001b[39;49;00m>A Pelican Blog</\u001b[34;01mtitle\u001b[39;49;00m>\n",
      "        <\u001b[34;01mlink\u001b[39;49;00m \u001b[36mrel\u001b[39;49;00m=\u001b[33m\"stylesheet\"\u001b[39;49;00m \u001b[36mhref\u001b[39;49;00m=\u001b[33m\"/theme/css/main.css\"\u001b[39;49;00m />\n",
      "        <\u001b[34;01mlink\u001b[39;49;00m \u001b[36mhref\u001b[39;49;00m=\u001b[33m\"/feeds/all.atom.xml\"\u001b[39;49;00m \u001b[36mtype\u001b[39;49;00m=\u001b[33m\"application/atom+xml\"\u001b[39;49;00m \u001b[36mrel\u001b[39;49;00m=\u001b[33m\"alternate\"\u001b[39;49;00m \u001b[36mtitle\u001b[39;49;00m=\u001b[33m\"A Pelican Blog Atom Feed\"\u001b[39;49;00m />\n",
      "</\u001b[34;01mhead\u001b[39;49;00m>\n",
      "\n",
      "<\u001b[34;01mbody\u001b[39;49;00m \u001b[36mid\u001b[39;49;00m=\u001b[33m\"index\"\u001b[39;49;00m \u001b[36mclass\u001b[39;49;00m=\u001b[33m\"home\"\u001b[39;49;00m>\n",
      "        <\u001b[34;01mheader\u001b[39;49;00m \u001b[36mid\u001b[39;49;00m=\u001b[33m\"banner\"\u001b[39;49;00m \u001b[36mclass\u001b[39;49;00m=\u001b[33m\"body\"\u001b[39;49;00m>\n",
      "                <\u001b[34;01mh1\u001b[39;49;00m><\u001b[34;01ma\u001b[39;49;00m \u001b[36mhref\u001b[39;49;00m=\u001b[33m\"/\"\u001b[39;49;00m>A Pelican Blog </\u001b[34;01ma\u001b[39;49;00m></\u001b[34;01mh1\u001b[39;49;00m>\n",
      "                <\u001b[34;01mnav\u001b[39;49;00m><\u001b[34;01mul\u001b[39;49;00m>\n",
      "                </\u001b[34;01mul\u001b[39;49;00m></\u001b[34;01mnav\u001b[39;49;00m>\n",
      "        </\u001b[34;01mheader\u001b[39;49;00m>\u001b[37m<!--\u001b[39;49;00m\u001b[37m /#banner \u001b[39;49;00m\u001b[37m-->\u001b[39;49;00m\n",
      "<\u001b[34;01msection\u001b[39;49;00m \u001b[36mid\u001b[39;49;00m=\u001b[33m\"content\"\u001b[39;49;00m \u001b[36mclass\u001b[39;49;00m=\u001b[33m\"body\"\u001b[39;49;00m>\n",
      "<\u001b[34;01mh2\u001b[39;49;00m>Pages</\u001b[34;01mh2\u001b[39;49;00m>\n",
      "</\u001b[34;01msection\u001b[39;49;00m>\n",
      "        <\u001b[34;01msection\u001b[39;49;00m \u001b[36mid\u001b[39;49;00m=\u001b[33m\"extras\"\u001b[39;49;00m \u001b[36mclass\u001b[39;49;00m=\u001b[33m\"body\"\u001b[39;49;00m>\n",
      "                <\u001b[34;01mdiv\u001b[39;49;00m \u001b[36mclass\u001b[39;49;00m=\u001b[33m\"social\"\u001b[39;49;00m>\n",
      "                        <\u001b[34;01mh2\u001b[39;49;00m>social</\u001b[34;01mh2\u001b[39;49;00m>\n",
      "                        <\u001b[34;01mul\u001b[39;49;00m>\n",
      "                            <\u001b[34;01mli\u001b[39;49;00m><\u001b[34;01ma\u001b[39;49;00m \u001b[36mhref\u001b[39;49;00m=\u001b[33m\"/feeds/all.atom.xml\"\u001b[39;49;00m \u001b[36mtype\u001b[39;49;00m=\u001b[33m\"application/atom+xml\"\u001b[39;49;00m \u001b[36mrel\u001b[39;49;00m=\u001b[33m\"alternate\"\u001b[39;49;00m>atom feed</\u001b[34;01ma\u001b[39;49;00m></\u001b[34;01mli\u001b[39;49;00m>\n",
      "\n",
      "                        </\u001b[34;01mul\u001b[39;49;00m>\n",
      "                </\u001b[34;01mdiv\u001b[39;49;00m>\u001b[37m<!--\u001b[39;49;00m\u001b[37m /.social \u001b[39;49;00m\u001b[37m-->\u001b[39;49;00m\n",
      "        </\u001b[34;01msection\u001b[39;49;00m>\u001b[37m<!--\u001b[39;49;00m\u001b[37m /#extras \u001b[39;49;00m\u001b[37m-->\u001b[39;49;00m\n",
      "\n",
      "        <\u001b[34;01mfooter\u001b[39;49;00m \u001b[36mid\u001b[39;49;00m=\u001b[33m\"contentinfo\"\u001b[39;49;00m \u001b[36mclass\u001b[39;49;00m=\u001b[33m\"body\"\u001b[39;49;00m>\n",
      "                <\u001b[34;01maddress\u001b[39;49;00m \u001b[36mid\u001b[39;49;00m=\u001b[33m\"about\"\u001b[39;49;00m \u001b[36mclass\u001b[39;49;00m=\u001b[33m\"vcard body\"\u001b[39;49;00m>\n",
      "                Proudly powered by <\u001b[34;01ma\u001b[39;49;00m \u001b[36mhref\u001b[39;49;00m=\u001b[33m\"http://getpelican.com/\"\u001b[39;49;00m>Pelican</\u001b[34;01ma\u001b[39;49;00m>, which takes great advantage of <\u001b[34;01ma\u001b[39;49;00m \u001b[36mhref\u001b[39;49;00m=\u001b[33m\"http://python.org\"\u001b[39;49;00m>Python</\u001b[34;01ma\u001b[39;49;00m>.\n",
      "                </\u001b[34;01maddress\u001b[39;49;00m>\u001b[37m<!--\u001b[39;49;00m\u001b[37m /#about \u001b[39;49;00m\u001b[37m-->\u001b[39;49;00m\n",
      "\n",
      "                <\u001b[34;01mp\u001b[39;49;00m>The theme is by <\u001b[34;01ma\u001b[39;49;00m \u001b[36mhref\u001b[39;49;00m=\u001b[33m\"http://coding.smashingmagazine.com/2009/08/04/designing-a-html-5-layout-from-scratch/\"\u001b[39;49;00m>Smashing Magazine</\u001b[34;01ma\u001b[39;49;00m>, thanks!</\u001b[34;01mp\u001b[39;49;00m>\n",
      "        </\u001b[34;01mfooter\u001b[39;49;00m>\u001b[37m<!--\u001b[39;49;00m\u001b[37m /#contentinfo \u001b[39;49;00m\u001b[37m-->\u001b[39;49;00m\n",
      "\n",
      "</\u001b[34;01mbody\u001b[39;49;00m>\n",
      "</\u001b[34;01mhtml\u001b[39;49;00m>\n",
      "\n"
     ]
    }
   ],
   "source": [
    "http http://mjbright-static-site.s3-website-us-west-1.amazonaws.com/index.html"
   ]
  },
  {
   "cell_type": "markdown",
   "metadata": {},
   "source": [
    "http://mjbright-static-site.s3-website-us-west-1.amazonaws.com/index.html"
   ]
  },
  {
   "cell_type": "markdown",
   "metadata": {},
   "source": [
    "### 2. Hugo - a static site generator/CMS written in Go\n",
    "\n",
    "Let's create a site using Hugo:\n",
    "```hugo new site <sitename>```"
   ]
  },
  {
   "cell_type": "code",
   "execution_count": 28,
   "metadata": {},
   "outputs": [
    {
     "name": "stdout",
     "output_type": "stream",
     "text": [
      "Congratulations! Your new Hugo site is created in /home/user1/src/git/ServerlessLabs/ServerlessWorkshop/AWS-S3-Lambda/quickstart.\n",
      "\n",
      "Just a few more steps and you're ready to go:\n",
      "\n",
      "1. Download a theme into the same-named folder.\n",
      "   Choose a theme from https://themes.gohugo.io/, or\n",
      "   create your own with the \"hugo new theme <THEMENAME>\" command.\n",
      "2. Perhaps you want to add some content. You can add single files\n",
      "   with \"hugo new <SECTIONNAME>/<FILENAME>.<FORMAT>\".\n",
      "3. Start the built-in live server via \"hugo server\".\n",
      "\n",
      "Visit https://gohugo.io/ for quickstart guide and full documentation.\n"
     ]
    }
   ],
   "source": [
    "hugo new site quickstart\n",
    "\n",
    "cd quickstart"
   ]
  },
  {
   "cell_type": "markdown",
   "metadata": {},
   "source": [
    "Now let's install the ananke theme"
   ]
  },
  {
   "cell_type": "code",
   "execution_count": 36,
   "metadata": {},
   "outputs": [
    {
     "name": "stdout",
     "output_type": "stream",
     "text": [
      "Initialized empty Git repository in /home/user1/src/git/ServerlessLabs/ServerlessWorkshop/AWS-S3-Lambda/quickstart/.git/\n",
      "Cloning into '/home/user1/src/git/ServerlessLabs/ServerlessWorkshop/AWS-S3-Lambda/quickstart/themes/ananke'...\n",
      "remote: Enumerating objects: 38, done.\u001b[K\n",
      "remote: Counting objects: 100% (38/38), done.\u001b[K\n",
      "remote: Compressing objects: 100% (31/31), done.\u001b[K\n",
      "remote: Total 1234 (delta 16), reused 18 (delta 7), pack-reused 1196\u001b[K\n",
      "Receiving objects: 100% (1234/1234), 2.61 MiB | 13.72 MiB/s, done.\n",
      "Resolving deltas: 100% (656/656), done.\n"
     ]
    }
   ],
   "source": [
    "git init\n",
    "git submodule add https://github.com/budparr/gohugo-theme-ananke.git themes/ananke\n",
    "echo 'theme = \"ananke\"' >> config.toml"
   ]
  },
  {
   "cell_type": "markdown",
   "metadata": {},
   "source": [
    "and now\n",
    "- create the site with this theme\n",
    "- copy the files into our website directory\n",
    "- re-sync to our S3 bucket"
   ]
  },
  {
   "cell_type": "code",
   "execution_count": 37,
   "metadata": {},
   "outputs": [
    {
     "name": "stdout",
     "output_type": "stream",
     "text": [
      "/home/user1/src/git/ServerlessLabs/ServerlessWorkshop/AWS-S3-Lambda/quickstart\n",
      "\u001b[K25lBuilding sites … \u001b[?25h\n",
      "                   | EN  \n",
      "+------------------+----+\n",
      "  Pages            |  7  \n",
      "  Paginator pages  |  0  \n",
      "  Non-page files   |  0  \n",
      "  Static files     |  3  \n",
      "  Processed images |  0  \n",
      "  Aliases          |  0  \n",
      "  Sitemaps         |  1  \n",
      "  Cleaned          |  0  \n",
      "\n",
      "Total in 8 ms\n"
     ]
    }
   ],
   "source": [
    "pwd\n",
    "hugo"
   ]
  },
  {
   "cell_type": "code",
   "execution_count": 38,
   "metadata": {},
   "outputs": [
    {
     "name": "stdout",
     "output_type": "stream",
     "text": [
      "total 40\n",
      "drwxrwxr-x  6 user1 user1 4096 Jan 25 21:57 \u001b[0m\u001b[01;34m.\u001b[0m\n",
      "drwxrwxr-x 11 user1 user1 4096 Jan 25 21:56 \u001b[01;34m..\u001b[0m\n",
      "-rw-rw-r--  1 user1 user1 2071 Jan 25 21:57 404.html\n",
      "drwxrwxr-x  2 user1 user1 4096 Jan 25 21:57 \u001b[01;34mcategories\u001b[0m\n",
      "drwxrwxr-x  4 user1 user1 4096 Jan 25 21:56 \u001b[01;34mdist\u001b[0m\n",
      "drwxrwxr-x  2 user1 user1 4096 Jan 25 21:56 \u001b[01;34mimages\u001b[0m\n",
      "-rw-rw-r--  1 user1 user1 2495 Jan 25 21:57 index.html\n",
      "-rw-rw-r--  1 user1 user1  468 Jan 25 21:57 index.xml\n",
      "-rw-rw-r--  1 user1 user1  437 Jan 25 21:57 sitemap.xml\n",
      "drwxrwxr-x  2 user1 user1 4096 Jan 25 21:57 \u001b[01;34mtags\u001b[0m\n"
     ]
    }
   ],
   "source": [
    "ls -al public/"
   ]
  },
  {
   "cell_type": "code",
   "execution_count": 40,
   "metadata": {},
   "outputs": [
    {
     "name": "stdout",
     "output_type": "stream",
     "text": [
      "upload: website/404.html to s3://mjbright-static-site/404.html                      \n",
      "upload: website/categories/index.xml to s3://mjbright-static-site/categories/index.xml\n",
      "upload: website/dist/js/app.3fc0f988d21662902933.js to s3://mjbright-static-site/dist/js/app.3fc0f988d21662902933.js\n",
      "upload: website/categories/index.html to s3://mjbright-static-site/categories/index.html\n",
      "upload: website/tags/index.html to s3://mjbright-static-site/tags/index.html\n",
      "upload: website/dist/css/app.955516233bcafa4d2a1c13cea63c7b50.css to s3://mjbright-static-site/dist/css/app.955516233bcafa4d2a1c13cea63c7b50.css\n",
      "upload: website/index.html to s3://mjbright-static-site/index.html\n",
      "upload: website/index.xml to s3://mjbright-static-site/index.xml  \n",
      "upload: website/sitemap.xml to s3://mjbright-static-site/sitemap.xml\n",
      "upload: website/images/gohugo-default-sample-hero-image.jpg to s3://mjbright-static-site/images/gohugo-default-sample-hero-image.jpg\n",
      "upload: website/tags/index.xml to s3://mjbright-static-site/tags/index.xml\n"
     ]
    }
   ],
   "source": [
    "cd ..\n",
    "\n",
    "cp -a quickstart/public/* website/\n",
    "aws s3 sync website/ s3://mjbright-static-site/"
   ]
  },
  {
   "cell_type": "markdown",
   "metadata": {},
   "source": [
    "We can now test our new website: using wget, curl or http(ie) or using a browser at http://mjbright-static-site.s3-website-us-west-1.amazonaws.com/index.html"
   ]
  },
  {
   "cell_type": "code",
   "execution_count": 41,
   "metadata": {},
   "outputs": [
    {
     "name": "stdout",
     "output_type": "stream",
     "text": [
      "/usr/lib/python3/dist-packages/requests/__init__.py:80: RequestsDependencyWarning: urllib3 (1.24.1) or chardet (3.0.4) doesn't match a supported version!\n",
      "  RequestsDependencyWarning)\n",
      "\u001b[34mHTTP\u001b[39;49;00m/\u001b[34m1.1\u001b[39;49;00m \u001b[34m200\u001b[39;49;00m \u001b[36mOK\u001b[39;49;00m\n",
      "\u001b[36mContent-Length\u001b[39;49;00m: \u001b[33m2495\u001b[39;49;00m\n",
      "\u001b[36mContent-Type\u001b[39;49;00m: \u001b[33mtext/html\u001b[39;49;00m\n",
      "\u001b[36mDate\u001b[39;49;00m: \u001b[33mFri, 25 Jan 2019 21:57:44 GMT\u001b[39;49;00m\n",
      "\u001b[36mETag\u001b[39;49;00m: \u001b[33m\"0e015b35a60e4c5773d0cd12e57b5fc8\"\u001b[39;49;00m\n",
      "\u001b[36mLast-Modified\u001b[39;49;00m: \u001b[33mFri, 25 Jan 2019 21:57:30 GMT\u001b[39;49;00m\n",
      "\u001b[36mServer\u001b[39;49;00m: \u001b[33mAmazonS3\u001b[39;49;00m\n",
      "\u001b[36mx-amz-id-2\u001b[39;49;00m: \u001b[33mL/bUXP5g8KE7KJUlX9c4+12xiLGE49MajgayUU3j0ro3LPkaZU2joyzwvlxigZQneoLO8TTyI18=\u001b[39;49;00m\n",
      "\u001b[36mx-amz-request-id\u001b[39;49;00m: \u001b[33mC392A7553E4EB4CE\u001b[39;49;00m\n",
      "\n",
      "\u001b[36m<!DOCTYPE html>\u001b[39;49;00m\n",
      "<\u001b[34;01mhtml\u001b[39;49;00m \u001b[36mlang\u001b[39;49;00m=\u001b[33m\"en-us\"\u001b[39;49;00m>\n",
      "  <\u001b[34;01mhead\u001b[39;49;00m>\n",
      "    <\u001b[34;01mmeta\u001b[39;49;00m \u001b[36mcharset\u001b[39;49;00m=\u001b[33m\"utf-8\"\u001b[39;49;00m>\n",
      "    <\u001b[34;01mmeta\u001b[39;49;00m \u001b[36mhttp-equiv\u001b[39;49;00m=\u001b[33m\"X-UA-Compatible\"\u001b[39;49;00m \u001b[36mcontent\u001b[39;49;00m=\u001b[33m\"IE=edge,chrome=1\"\u001b[39;49;00m>\n",
      "    \n",
      "    <\u001b[34;01mtitle\u001b[39;49;00m>My New Hugo Site </\u001b[34;01mtitle\u001b[39;49;00m>\n",
      "    <\u001b[34;01mmeta\u001b[39;49;00m \u001b[36mname\u001b[39;49;00m=\u001b[33m\"HandheldFriendly\"\u001b[39;49;00m \u001b[36mcontent\u001b[39;49;00m=\u001b[33m\"True\"\u001b[39;49;00m>\n",
      "    <\u001b[34;01mmeta\u001b[39;49;00m \u001b[36mname\u001b[39;49;00m=\u001b[33m\"MobileOptimized\"\u001b[39;49;00m \u001b[36mcontent\u001b[39;49;00m=\u001b[33m\"320\"\u001b[39;49;00m>\n",
      "\n",
      "    <\u001b[34;01mmeta\u001b[39;49;00m \u001b[36mname\u001b[39;49;00m=\u001b[33m\"viewport\"\u001b[39;49;00m \u001b[36mcontent\u001b[39;49;00m=\u001b[33m\"width=device-width,minimum-scale=1\"\u001b[39;49;00m>\n",
      "    <\u001b[34;01mmeta\u001b[39;49;00m \u001b[36mname\u001b[39;49;00m=\u001b[33m\"generator\"\u001b[39;49;00m \u001b[36mcontent\u001b[39;49;00m=\u001b[33m\"Hugo 0.53\"\u001b[39;49;00m />\n",
      "    \n",
      "    \n",
      "      <\u001b[34;01mMETA\u001b[39;49;00m \u001b[36mNAME\u001b[39;49;00m=\u001b[33m\"ROBOTS\"\u001b[39;49;00m \u001b[36mCONTENT\u001b[39;49;00m=\u001b[33m\"NOINDEX, NOFOLLOW\"\u001b[39;49;00m>\n",
      "    \n",
      "\n",
      "    \n",
      "    \n",
      "      <\u001b[34;01mlink\u001b[39;49;00m \u001b[36mhref\u001b[39;49;00m=\u001b[33m\"/dist/css/app.955516233bcafa4d2a1c13cea63c7b50.css\"\u001b[39;49;00m \u001b[36mrel\u001b[39;49;00m=\u001b[33m\"stylesheet\"\u001b[39;49;00m>\n",
      "    \n",
      "\n",
      "    \n",
      "\n",
      "    \n",
      "      \n",
      "    \n",
      "\n",
      "    \n",
      "      <\u001b[34;01mlink\u001b[39;49;00m \u001b[36mhref\u001b[39;49;00m=\u001b[33m\"http://example.org/index.xml\"\u001b[39;49;00m \u001b[36mrel\u001b[39;49;00m=\u001b[33m\"alternate\"\u001b[39;49;00m \u001b[36mtype\u001b[39;49;00m=\u001b[33m\"application/rss+xml\"\u001b[39;49;00m \u001b[36mtitle\u001b[39;49;00m=\u001b[33m\"My New Hugo Site\"\u001b[39;49;00m />\n",
      "      <\u001b[34;01mlink\u001b[39;49;00m \u001b[36mhref\u001b[39;49;00m=\u001b[33m\"http://example.org/index.xml\"\u001b[39;49;00m \u001b[36mrel\u001b[39;49;00m=\u001b[33m\"feed\"\u001b[39;49;00m \u001b[36mtype\u001b[39;49;00m=\u001b[33m\"application/rss+xml\"\u001b[39;49;00m \u001b[36mtitle\u001b[39;49;00m=\u001b[33m\"My New Hugo Site\"\u001b[39;49;00m />\n",
      "    \n",
      "\n",
      "    <\u001b[34;01mmeta\u001b[39;49;00m \u001b[36mproperty\u001b[39;49;00m=\u001b[33m\"og:title\"\u001b[39;49;00m \u001b[36mcontent\u001b[39;49;00m=\u001b[33m\"My New Hugo Site\"\u001b[39;49;00m />\n",
      "<\u001b[34;01mmeta\u001b[39;49;00m \u001b[36mproperty\u001b[39;49;00m=\u001b[33m\"og:description\"\u001b[39;49;00m \u001b[36mcontent\u001b[39;49;00m=\u001b[33m\"\"\u001b[39;49;00m />\n",
      "<\u001b[34;01mmeta\u001b[39;49;00m \u001b[36mproperty\u001b[39;49;00m=\u001b[33m\"og:type\"\u001b[39;49;00m \u001b[36mcontent\u001b[39;49;00m=\u001b[33m\"website\"\u001b[39;49;00m />\n",
      "<\u001b[34;01mmeta\u001b[39;49;00m \u001b[36mproperty\u001b[39;49;00m=\u001b[33m\"og:url\"\u001b[39;49;00m \u001b[36mcontent\u001b[39;49;00m=\u001b[33m\"http://example.org/\"\u001b[39;49;00m />\n",
      "\n",
      "<\u001b[34;01mmeta\u001b[39;49;00m \u001b[36mitemprop\u001b[39;49;00m=\u001b[33m\"name\"\u001b[39;49;00m \u001b[36mcontent\u001b[39;49;00m=\u001b[33m\"My New Hugo Site\"\u001b[39;49;00m>\n",
      "<\u001b[34;01mmeta\u001b[39;49;00m \u001b[36mitemprop\u001b[39;49;00m=\u001b[33m\"description\"\u001b[39;49;00m \u001b[36mcontent\u001b[39;49;00m=\u001b[33m\"\"\u001b[39;49;00m>\n",
      "\n",
      "<\u001b[34;01mmeta\u001b[39;49;00m \u001b[36mname\u001b[39;49;00m=\u001b[33m\"twitter:card\"\u001b[39;49;00m \u001b[36mcontent\u001b[39;49;00m=\u001b[33m\"summary\"\u001b[39;49;00m/>\n",
      "<\u001b[34;01mmeta\u001b[39;49;00m \u001b[36mname\u001b[39;49;00m=\u001b[33m\"twitter:title\"\u001b[39;49;00m \u001b[36mcontent\u001b[39;49;00m=\u001b[33m\"My New Hugo Site\"\u001b[39;49;00m/>\n",
      "<\u001b[34;01mmeta\u001b[39;49;00m \u001b[36mname\u001b[39;49;00m=\u001b[33m\"twitter:description\"\u001b[39;49;00m \u001b[36mcontent\u001b[39;49;00m=\u001b[33m\"\"\u001b[39;49;00m/>\n",
      "\n",
      "  </\u001b[34;01mhead\u001b[39;49;00m>\n",
      "\n",
      "  <\u001b[34;01mbody\u001b[39;49;00m \u001b[36mclass\u001b[39;49;00m=\u001b[33m\"ma0 avenir bg-near-white\"\u001b[39;49;00m>\n",
      "\n",
      "    \n",
      "\n",
      "  <\u001b[34;01mheader\u001b[39;49;00m>\n",
      "    <\u001b[34;01mdiv\u001b[39;49;00m \u001b[36mclass\u001b[39;49;00m=\u001b[33m\"pb3-m pb6-l bg-black\"\u001b[39;49;00m>\n",
      "      <\u001b[34;01mnav\u001b[39;49;00m \u001b[36mclass\u001b[39;49;00m=\u001b[33m\"pv3 ph3 ph4-ns\"\u001b[39;49;00m \u001b[36mrole\u001b[39;49;00m=\u001b[33m\"navigation\"\u001b[39;49;00m>\n",
      "  <\u001b[34;01mdiv\u001b[39;49;00m \u001b[36mclass\u001b[39;49;00m=\u001b[33m\"flex-l justify-between items-center center\"\u001b[39;49;00m>\n",
      "    <\u001b[34;01ma\u001b[39;49;00m \u001b[36mhref\u001b[39;49;00m=\u001b[33m\"http://example.org/\"\u001b[39;49;00m \u001b[36mclass\u001b[39;49;00m=\u001b[33m\"f3 fw2 hover-white no-underline white-90 dib\"\u001b[39;49;00m>\n",
      "      My New Hugo Site\n",
      "    </\u001b[34;01ma\u001b[39;49;00m>\n",
      "    <\u001b[34;01mdiv\u001b[39;49;00m \u001b[36mclass\u001b[39;49;00m=\u001b[33m\"flex-l items-center\"\u001b[39;49;00m>\n",
      "      \n",
      "\n",
      "      \n",
      "      \n",
      "\n",
      "\n",
      "\n",
      "\n",
      "\n",
      "\n",
      "\n",
      "\n",
      "\n",
      "    </\u001b[34;01mdiv\u001b[39;49;00m>\n",
      "  </\u001b[34;01mdiv\u001b[39;49;00m>\n",
      "</\u001b[34;01mnav\u001b[39;49;00m>\n",
      "\n",
      "      <\u001b[34;01mdiv\u001b[39;49;00m \u001b[36mclass\u001b[39;49;00m=\u001b[33m\"tc-l pv3 ph3 ph4-ns\"\u001b[39;49;00m>\n",
      "        <\u001b[34;01mh1\u001b[39;49;00m \u001b[36mclass\u001b[39;49;00m=\u001b[33m\"f2 f-subheadline-l fw2 light-silver mb0 lh-title\"\u001b[39;49;00m>\n",
      "          My New Hugo Site\n",
      "        </\u001b[34;01mh1\u001b[39;49;00m>\n",
      "        \n",
      "      </\u001b[34;01mdiv\u001b[39;49;00m>\n",
      "    </\u001b[34;01mdiv\u001b[39;49;00m>\n",
      "  </\u001b[34;01mheader\u001b[39;49;00m>\n",
      "\n",
      "\n",
      "    <\u001b[34;01mmain\u001b[39;49;00m \u001b[36mclass\u001b[39;49;00m=\u001b[33m\"pb7\"\u001b[39;49;00m \u001b[36mrole\u001b[39;49;00m=\u001b[33m\"main\"\u001b[39;49;00m>\n",
      "      \n",
      "  <\u001b[34;01marticle\u001b[39;49;00m \u001b[36mclass\u001b[39;49;00m=\u001b[33m\"cf ph3 ph5-l pv3 pv4-l f4 tc-l center measure-wide lh-copy mid-gray\"\u001b[39;49;00m>\n",
      "    \n",
      "  </\u001b[34;01marticle\u001b[39;49;00m>\n",
      "  \n",
      "  \n",
      "  \n",
      "  \n",
      "  \n",
      "  \n",
      "  \n",
      "\n",
      "    </\u001b[34;01mmain\u001b[39;49;00m>\n",
      "    <\u001b[34;01mfooter\u001b[39;49;00m \u001b[36mclass\u001b[39;49;00m=\u001b[33m\"bg-black bottom-0 w-100 pa3\"\u001b[39;49;00m \u001b[36mrole\u001b[39;49;00m=\u001b[33m\"contentinfo\"\u001b[39;49;00m>\n",
      "  <\u001b[34;01mdiv\u001b[39;49;00m \u001b[36mclass\u001b[39;49;00m=\u001b[33m\"flex justify-between\"\u001b[39;49;00m>\n",
      "  <\u001b[34;01ma\u001b[39;49;00m \u001b[36mclass\u001b[39;49;00m=\u001b[33m\"f4 fw4 hover-white no-underline white-70 dn dib-ns pv2 ph3\"\u001b[39;49;00m \u001b[36mhref\u001b[39;49;00m=\u001b[33m\"http://example.org/\"\u001b[39;49;00m >\n",
      "    &copy; 2019 My New Hugo Site\n",
      "  </\u001b[34;01ma\u001b[39;49;00m>\n",
      "    <\u001b[34;01mdiv\u001b[39;49;00m>\n",
      "\n",
      "\n",
      "\n",
      "\n",
      "\n",
      "\n",
      "\n",
      "\n",
      "</\u001b[34;01mdiv\u001b[39;49;00m>\n",
      "  </\u001b[34;01mdiv\u001b[39;49;00m>\n",
      "</\u001b[34;01mfooter\u001b[39;49;00m>\n",
      "\n",
      "    \n",
      "\n",
      "  <\u001b[34;01mscript\u001b[39;49;00m \u001b[36msrc\u001b[39;49;00m=\u001b[33m\"/dist/js/app.3fc0f988d21662902933.js\"\u001b[39;49;00m></\u001b[34;01mscript\u001b[39;49;00m>\n",
      "\n",
      "\n",
      "  </\u001b[34;01mbody\u001b[39;49;00m>\n",
      "</\u001b[34;01mhtml\u001b[39;49;00m>\n",
      "\n"
     ]
    }
   ],
   "source": [
    "http http://mjbright-static-site.s3-website-us-west-1.amazonaws.com/index.html"
   ]
  },
  {
   "cell_type": "markdown",
   "metadata": {},
   "source": [
    "Visit http://mjbright-static-site.s3-website-us-west-1.amazonaws.com/index.html"
   ]
  },
  {
   "cell_type": "markdown",
   "metadata": {},
   "source": [
    "### 3. create-react-app\n",
    "\n",
    "create-react-app is an npm module created by Facebook allowing to quickly create a skeleton React app."
   ]
  },
  {
   "cell_type": "code",
   "execution_count": null,
   "metadata": {},
   "outputs": [],
   "source": [
    "create-react-app my-react-app\n",
    "#cd my-react-app/; npm start\n",
    "#ls -al my-react-app/public/"
   ]
  },
  {
   "cell_type": "code",
   "execution_count": 60,
   "metadata": {},
   "outputs": [
    {
     "name": "stdout",
     "output_type": "stream",
     "text": [
      "\u001b[?25h\u001b[0G\u001b[K\n",
      "> my-react-app@0.1.0 build /home/user1/src/git/ServerlessLabs/ServerlessWorkshop/AWS-S3-Lambda/my-react-app\n",
      "> react-scripts build\n",
      "\n",
      "\u001b[?25l\u001b[0G▀ ╢░░░░░░░░░░░░░░░░░░░░░░░░░░░░░░░░░░░░░░░░░░░░░░░░░░░░░░░░░░░░░░░░░░░░░░░░░░░╟\n",
      "\u001b[?25h\u001b[?25h\u001b[1A\u001b[0G\u001b[K\u001b[?25h\u001b[0G\u001b[KCreating an optimized production build...\n",
      "\u001b[32mCompiled successfully.\u001b[39m\n",
      "\u001b[32m\u001b[39m\n",
      "File sizes after gzip:\n",
      "\n",
      "  34.71 KB  \u001b[2mbuild/static/js/\u001b[22m\u001b[36m1.fa92c112.chunk.js\u001b[39m\n",
      "  763 B     \u001b[2mbuild/static/js/\u001b[22m\u001b[36mruntime~main.229c360f.js\u001b[39m\n",
      "  716 B     \u001b[2mbuild/static/js/\u001b[22m\u001b[36mmain.a7b1c78b.chunk.js\u001b[39m\n",
      "  510 B     \u001b[2mbuild/static/css/\u001b[22m\u001b[36mmain.8cc6a47e.chunk.css\u001b[39m\n",
      "\n",
      "The project was built assuming it is hosted at \u001b[32mthe server root\u001b[39m.\n",
      "You can control this with the \u001b[32mhomepage\u001b[39m field in your \u001b[36mpackage.json\u001b[39m.\n",
      "For example, add this to build it for GitHub Pages:\n",
      "\n",
      "  \u001b[32m\"homepage\"\u001b[39m \u001b[36m:\u001b[39m \u001b[32m\"http://myname.github.io/myapp\"\u001b[39m\u001b[36m,\u001b[39m\n",
      "\n",
      "The \u001b[36mbuild\u001b[39m folder is ready to be deployed.\n",
      "You may serve it with a static server:\n",
      "\n",
      "  \u001b[36mnpm\u001b[39m install -g serve\n",
      "  \u001b[36mserve\u001b[39m -s build\n",
      "\n",
      "Find out more about deployment here:\n",
      "\n",
      "  \u001b[33mhttp://bit.ly/CRA-deploy\u001b[39m\n",
      "\n",
      "\u001b[?25l\u001b[0G▀ ╢░░░░░░░░░░░░░░░░░░░░░░░░░░░░░░░░░░░░░░░░░░░░░░░░░░░░░░░░░░░░░░░░░░░░░░░░░░░╟\n",
      "\u001b[?25h\u001b[?25h\u001b[1A\u001b[0G\u001b[K\u001b[?25h\u001b[0G\u001b[Ktotal 20\n",
      "drwxrwxr-x 2 user1 user1 4096 Jan 25 22:06 \u001b[0m\u001b[01;34m.\u001b[0m\n",
      "drwxrwxr-x 6 user1 user1 4096 Jan 25 22:12 \u001b[01;34m..\u001b[0m\n",
      "-rwxrwxr-x 1 user1 user1 3870 Jan 25 22:06 \u001b[01;32mfavicon.ico\u001b[0m\n",
      "-rwxrwxr-x 1 user1 user1 1586 Jan 25 22:06 \u001b[01;32mindex.html\u001b[0m\n",
      "-rwxrwxr-x 1 user1 user1  306 Jan 25 22:06 \u001b[01;32mmanifest.json\u001b[0m\n"
     ]
    }
   ],
   "source": [
    "cd my-react-app; npm run build\n",
    "ls -al public/"
   ]
  },
  {
   "cell_type": "code",
   "execution_count": 63,
   "metadata": {},
   "outputs": [
    {
     "name": "stdout",
     "output_type": "stream",
     "text": [
      "total 36\n",
      "drwxrwxr-x 6 user1 user1 4096 Jan 25 22:12 \u001b[0m\u001b[01;34m..\u001b[0m\n",
      "-rwxrwxr-x 1 user1 user1  306 Jan 25 22:13 \u001b[01;32mmanifest.json\u001b[0m\n",
      "-rwxrwxr-x 1 user1 user1 3870 Jan 25 22:13 \u001b[01;32mfavicon.ico\u001b[0m\n",
      "drwxrwxr-x 3 user1 user1 4096 Jan 25 22:13 \u001b[01;34m.\u001b[0m\n",
      "drwxrwxr-x 5 user1 user1 4096 Jan 25 22:13 \u001b[01;34mstatic\u001b[0m\n",
      "-rw-rw-r-- 1 user1 user1 1041 Jan 25 22:13 service-worker.js\n",
      "-rw-rw-r-- 1 user1 user1  606 Jan 25 22:13 precache-manifest.16ab4e73d949e217b5bb10bd22a96200.js\n",
      "-rw-rw-r-- 1 user1 user1 2062 Jan 25 22:13 index.html\n",
      "-rw-rw-r-- 1 user1 user1  779 Jan 25 22:13 asset-manifest.json\n"
     ]
    }
   ],
   "source": [
    "ls -altr build"
   ]
  },
  {
   "cell_type": "code",
   "execution_count": 64,
   "metadata": {},
   "outputs": [
    {
     "name": "stdout",
     "output_type": "stream",
     "text": [
      "/home/user1/src/git/ServerlessLabs/ServerlessWorkshop/AWS-S3-Lambda\n",
      "'my-react-app/build/asset-manifest.json' -> 'website/asset-manifest.json'\n",
      "'my-react-app/build/favicon.ico' -> 'website/favicon.ico'\n",
      "'my-react-app/build/index.html' -> 'website/index.html'\n",
      "'my-react-app/build/manifest.json' -> 'website/manifest.json'\n",
      "'my-react-app/build/precache-manifest.16ab4e73d949e217b5bb10bd22a96200.js' -> 'website/precache-manifest.16ab4e73d949e217b5bb10bd22a96200.js'\n",
      "'my-react-app/build/service-worker.js' -> 'website/service-worker.js'\n",
      "'my-react-app/build/static' -> 'website/static'\n",
      "'my-react-app/build/static/media' -> 'website/static/media'\n",
      "'my-react-app/build/static/media/logo.5d5d9eef.svg' -> 'website/static/media/logo.5d5d9eef.svg'\n",
      "'my-react-app/build/static/css' -> 'website/static/css'\n",
      "'my-react-app/build/static/css/main.8cc6a47e.chunk.css' -> 'website/static/css/main.8cc6a47e.chunk.css'\n",
      "'my-react-app/build/static/css/main.8cc6a47e.chunk.css.map' -> 'website/static/css/main.8cc6a47e.chunk.css.map'\n",
      "'my-react-app/build/static/js' -> 'website/static/js'\n",
      "'my-react-app/build/static/js/main.a7b1c78b.chunk.js' -> 'website/static/js/main.a7b1c78b.chunk.js'\n",
      "'my-react-app/build/static/js/1.fa92c112.chunk.js' -> 'website/static/js/1.fa92c112.chunk.js'\n",
      "'my-react-app/build/static/js/runtime~main.229c360f.js' -> 'website/static/js/runtime~main.229c360f.js'\n",
      "'my-react-app/build/static/js/main.a7b1c78b.chunk.js.map' -> 'website/static/js/main.a7b1c78b.chunk.js.map'\n",
      "'my-react-app/build/static/js/1.fa92c112.chunk.js.map' -> 'website/static/js/1.fa92c112.chunk.js.map'\n",
      "'my-react-app/build/static/js/runtime~main.229c360f.js.map' -> 'website/static/js/runtime~main.229c360f.js.map'\n"
     ]
    }
   ],
   "source": [
    "cd ..; pwd\n",
    "rm -rf website/*\n",
    "cp -av my-react-app/build/* website/"
   ]
  },
  {
   "cell_type": "code",
   "execution_count": 65,
   "metadata": {},
   "outputs": [
    {
     "name": "stdout",
     "output_type": "stream",
     "text": [
      "delete: s3://mjbright-static-site/manifest.json\n",
      "delete: s3://mjbright-static-site/index.html\n",
      "delete: s3://mjbright-static-site/favicon.ico\n"
     ]
    }
   ],
   "source": [
    "aws s3 rm --recursive s3://mjbright-static-site/"
   ]
  },
  {
   "cell_type": "code",
   "execution_count": 66,
   "metadata": {},
   "outputs": [],
   "source": [
    "aws s3 ls s3://mjbright-static-site/"
   ]
  },
  {
   "cell_type": "code",
   "execution_count": 67,
   "metadata": {},
   "outputs": [
    {
     "name": "stdout",
     "output_type": "stream",
     "text": [
      "upload: website/asset-manifest.json to s3://mjbright-static-site/asset-manifest.json   \n",
      "upload: website/precache-manifest.16ab4e73d949e217b5bb10bd22a96200.js to s3://mjbright-static-site/precache-manifest.16ab4e73d949e217b5bb10bd22a96200.js\n",
      "upload: website/favicon.ico to s3://mjbright-static-site/favicon.ico                 \n",
      "upload: website/static/css/main.8cc6a47e.chunk.css.map to s3://mjbright-static-site/static/css/main.8cc6a47e.chunk.css.map\n",
      "upload: website/static/media/logo.5d5d9eef.svg to s3://mjbright-static-site/static/media/logo.5d5d9eef.svg\n",
      "upload: website/static/js/main.a7b1c78b.chunk.js.map to s3://mjbright-static-site/static/js/main.a7b1c78b.chunk.js.map\n",
      "upload: website/index.html to s3://mjbright-static-site/index.html \n",
      "upload: website/service-worker.js to s3://mjbright-static-site/service-worker.js\n",
      "upload: website/static/js/runtime~main.229c360f.js.map to s3://mjbright-static-site/static/js/runtime~main.229c360f.js.map\n",
      "upload: website/static/css/main.8cc6a47e.chunk.css to s3://mjbright-static-site/static/css/main.8cc6a47e.chunk.css\n",
      "upload: website/manifest.json to s3://mjbright-static-site/manifest.json\n",
      "upload: website/static/js/runtime~main.229c360f.js to s3://mjbright-static-site/static/js/runtime~main.229c360f.js\n",
      "upload: website/static/js/main.a7b1c78b.chunk.js to s3://mjbright-static-site/static/js/main.a7b1c78b.chunk.js\n",
      "upload: website/static/js/1.fa92c112.chunk.js.map to s3://mjbright-static-site/static/js/1.fa92c112.chunk.js.map\n",
      "upload: website/static/js/1.fa92c112.chunk.js to s3://mjbright-static-site/static/js/1.fa92c112.chunk.js\n"
     ]
    }
   ],
   "source": [
    "aws s3 sync website/ s3://mjbright-static-site/"
   ]
  },
  {
   "cell_type": "markdown",
   "metadata": {},
   "source": [
    "We can now test our new website: using wget, curl or http(ie) or using a browser at http://mjbright-static-site.s3-website-us-west-1.amazonaws.com/index.html\n"
   ]
  },
  {
   "cell_type": "code",
   "execution_count": 68,
   "metadata": {},
   "outputs": [
    {
     "name": "stdout",
     "output_type": "stream",
     "text": [
      "/usr/lib/python3/dist-packages/requests/__init__.py:80: RequestsDependencyWarning: urllib3 (1.24.1) or chardet (3.0.4) doesn't match a supported version!\n",
      "  RequestsDependencyWarning)\n",
      "\u001b[34mHTTP\u001b[39;49;00m/\u001b[34m1.1\u001b[39;49;00m \u001b[34m200\u001b[39;49;00m \u001b[36mOK\u001b[39;49;00m\n",
      "\u001b[36mContent-Length\u001b[39;49;00m: \u001b[33m2062\u001b[39;49;00m\n",
      "\u001b[36mContent-Type\u001b[39;49;00m: \u001b[33mtext/html\u001b[39;49;00m\n",
      "\u001b[36mDate\u001b[39;49;00m: \u001b[33mFri, 25 Jan 2019 22:15:15 GMT\u001b[39;49;00m\n",
      "\u001b[36mETag\u001b[39;49;00m: \u001b[33m\"7919b1a9089a669e063517d00d7ada31\"\u001b[39;49;00m\n",
      "\u001b[36mLast-Modified\u001b[39;49;00m: \u001b[33mFri, 25 Jan 2019 22:15:11 GMT\u001b[39;49;00m\n",
      "\u001b[36mServer\u001b[39;49;00m: \u001b[33mAmazonS3\u001b[39;49;00m\n",
      "\u001b[36mx-amz-id-2\u001b[39;49;00m: \u001b[33m5EIMuAzMksTQxTlEfSa5l6oiCb3YxMHZzEAtZtLAnl1osQt6/G4oQmIaDgpep/4Q65udFtk2P+0=\u001b[39;49;00m\n",
      "\u001b[36mx-amz-request-id\u001b[39;49;00m: \u001b[33m9483B6104E576BD8\u001b[39;49;00m\n",
      "\n",
      "\u001b[36m<!doctype html>\u001b[39;49;00m<\u001b[34;01mhtml\u001b[39;49;00m \u001b[36mlang\u001b[39;49;00m=\u001b[33m\"en\"\u001b[39;49;00m><\u001b[34;01mhead\u001b[39;49;00m><\u001b[34;01mmeta\u001b[39;49;00m \u001b[36mcharset\u001b[39;49;00m=\u001b[33m\"utf-8\"\u001b[39;49;00m/><\u001b[34;01mlink\u001b[39;49;00m \u001b[36mrel\u001b[39;49;00m=\u001b[33m\"shortcut icon\"\u001b[39;49;00m \u001b[36mhref\u001b[39;49;00m=\u001b[33m\"/favicon.ico\"\u001b[39;49;00m/><\u001b[34;01mmeta\u001b[39;49;00m \u001b[36mname\u001b[39;49;00m=\u001b[33m\"viewport\"\u001b[39;49;00m \u001b[36mcontent\u001b[39;49;00m=\u001b[33m\"width=device-width,initial-scale=1,shrink-to-fit=no\"\u001b[39;49;00m/><\u001b[34;01mmeta\u001b[39;49;00m \u001b[36mname\u001b[39;49;00m=\u001b[33m\"theme-color\"\u001b[39;49;00m \u001b[36mcontent\u001b[39;49;00m=\u001b[33m\"#000000\"\u001b[39;49;00m/><\u001b[34;01mlink\u001b[39;49;00m \u001b[36mrel\u001b[39;49;00m=\u001b[33m\"manifest\"\u001b[39;49;00m \u001b[36mhref\u001b[39;49;00m=\u001b[33m\"/manifest.json\"\u001b[39;49;00m/><\u001b[34;01mtitle\u001b[39;49;00m>React App</\u001b[34;01mtitle\u001b[39;49;00m><\u001b[34;01mlink\u001b[39;49;00m \u001b[36mhref\u001b[39;49;00m=\u001b[33m\"/static/css/main.8cc6a47e.chunk.css\"\u001b[39;49;00m \u001b[36mrel\u001b[39;49;00m=\u001b[33m\"stylesheet\"\u001b[39;49;00m></\u001b[34;01mhead\u001b[39;49;00m><\u001b[34;01mbody\u001b[39;49;00m><\u001b[34;01mnoscript\u001b[39;49;00m>You need to enable JavaScript to run this app.</\u001b[34;01mnoscript\u001b[39;49;00m><\u001b[34;01mdiv\u001b[39;49;00m \u001b[36mid\u001b[39;49;00m=\u001b[33m\"root\"\u001b[39;49;00m></\u001b[34;01mdiv\u001b[39;49;00m><\u001b[34;01mscript\u001b[39;49;00m>!\u001b[34mfunction\u001b[39;49;00m(l){\u001b[34mfunction\u001b[39;49;00m e(e){\u001b[34mfor\u001b[39;49;00m(\u001b[34mvar\u001b[39;49;00m r,t,n=e[\u001b[34m0\u001b[39;49;00m],o=e[\u001b[34m1\u001b[39;49;00m],u=e[\u001b[34m2\u001b[39;49;00m],f=\u001b[34m0\u001b[39;49;00m,i=[];f<n.length;f++)t=n[f],p[t]&&i.push(p[t][\u001b[34m0\u001b[39;49;00m]),p[t]=\u001b[34m0\u001b[39;49;00m;\u001b[34mfor\u001b[39;49;00m(r \u001b[34min\u001b[39;49;00m o)\u001b[36mObject\u001b[39;49;00m.prototype.hasOwnProperty.call(o,r)&&(l[r]=o[r]);\u001b[34mfor\u001b[39;49;00m(s&&s(e);i.length;)i.shift()();\u001b[34mreturn\u001b[39;49;00m c.push.apply(c,u||[]),a()}\u001b[34mfunction\u001b[39;49;00m a(){\u001b[34mfor\u001b[39;49;00m(\u001b[34mvar\u001b[39;49;00m e,r=\u001b[34m0\u001b[39;49;00m;r<c.length;r++){\u001b[34mfor\u001b[39;49;00m(\u001b[34mvar\u001b[39;49;00m t=c[r],n=!\u001b[34m0\u001b[39;49;00m,o=\u001b[34m1\u001b[39;49;00m;o<t.length;o++){\u001b[34mvar\u001b[39;49;00m u=t[o];\u001b[34m0\u001b[39;49;00m!==p[u]&&(n=!\u001b[34m1\u001b[39;49;00m)}n&&(c.splice(r--,\u001b[34m1\u001b[39;49;00m),e=f(f.s=t[\u001b[34m0\u001b[39;49;00m]))}\u001b[34mreturn\u001b[39;49;00m e}\u001b[34mvar\u001b[39;49;00m t={},p={\u001b[34m2\u001b[39;49;00m:\u001b[34m0\u001b[39;49;00m},c=[];\u001b[34mfunction\u001b[39;49;00m f(e){\u001b[34mif\u001b[39;49;00m(t[e])\u001b[34mreturn\u001b[39;49;00m t[e].exports;\u001b[34mvar\u001b[39;49;00m r=t[e]={i:e,l:!\u001b[34m1\u001b[39;49;00m,exports:{}};\u001b[34mreturn\u001b[39;49;00m l[e].call(r.exports,r,r.exports,f),r.l=!\u001b[34m0\u001b[39;49;00m,r.exports}f.m=l,f.c=t,f.d=\u001b[34mfunction\u001b[39;49;00m(e,r,t){f.o(e,r)||\u001b[36mObject\u001b[39;49;00m.defineProperty(e,r,{enumerable:!\u001b[34m0\u001b[39;49;00m,get:t})},f.r=\u001b[34mfunction\u001b[39;49;00m(e){\u001b[33m\"undefined\"\u001b[39;49;00m!=\u001b[34mtypeof\u001b[39;49;00m Symbol&&Symbol.toStringTag&&\u001b[36mObject\u001b[39;49;00m.defineProperty(e,Symbol.toStringTag,{value:\u001b[33m\"Module\"\u001b[39;49;00m}),\u001b[36mObject\u001b[39;49;00m.defineProperty(e,\u001b[33m\"__esModule\"\u001b[39;49;00m,{value:!\u001b[34m0\u001b[39;49;00m})},f.t=\u001b[34mfunction\u001b[39;49;00m(r,e){\u001b[34mif\u001b[39;49;00m(\u001b[34m1\u001b[39;49;00m&e&&(r=f(r)),\u001b[34m8\u001b[39;49;00m&e)\u001b[34mreturn\u001b[39;49;00m r;\u001b[34mif\u001b[39;49;00m(\u001b[34m4\u001b[39;49;00m&e&&\u001b[33m\"object\"\u001b[39;49;00m==\u001b[34mtypeof\u001b[39;49;00m r&&r&&r.__esModule)\u001b[34mreturn\u001b[39;49;00m r;\u001b[34mvar\u001b[39;49;00m t=\u001b[36mObject\u001b[39;49;00m.create(\u001b[34mnull\u001b[39;49;00m);\u001b[34mif\u001b[39;49;00m(f.r(t),\u001b[36mObject\u001b[39;49;00m.defineProperty(t,\u001b[33m\"default\"\u001b[39;49;00m,{enumerable:!\u001b[34m0\u001b[39;49;00m,value:r}),\u001b[34m2\u001b[39;49;00m&e&&\u001b[33m\"string\"\u001b[39;49;00m!=\u001b[34mtypeof\u001b[39;49;00m r)\u001b[34mfor\u001b[39;49;00m(\u001b[34mvar\u001b[39;49;00m n \u001b[34min\u001b[39;49;00m r)f.d(t,n,\u001b[34mfunction\u001b[39;49;00m(e){\u001b[34mreturn\u001b[39;49;00m r[e]}.bind(\u001b[34mnull\u001b[39;49;00m,n));\u001b[34mreturn\u001b[39;49;00m t},f.n=\u001b[34mfunction\u001b[39;49;00m(e){\u001b[34mvar\u001b[39;49;00m r=e&&e.__esModule?\u001b[34mfunction\u001b[39;49;00m(){\u001b[34mreturn\u001b[39;49;00m e.\u001b[34mdefault\u001b[39;49;00m}:\u001b[34mfunction\u001b[39;49;00m(){\u001b[34mreturn\u001b[39;49;00m e};\u001b[34mreturn\u001b[39;49;00m f.d(r,\u001b[33m\"a\"\u001b[39;49;00m,r),r},f.o=\u001b[34mfunction\u001b[39;49;00m(e,r){\u001b[34mreturn\u001b[39;49;00m \u001b[36mObject\u001b[39;49;00m.prototype.hasOwnProperty.call(e,r)},f.p=\u001b[33m\"/\"\u001b[39;49;00m;\u001b[34mvar\u001b[39;49;00m r=\u001b[36mwindow\u001b[39;49;00m.webpackJsonp=\u001b[36mwindow\u001b[39;49;00m.webpackJsonp||[],n=r.push.bind(r);r.push=e,r=r.slice();\u001b[34mfor\u001b[39;49;00m(\u001b[34mvar\u001b[39;49;00m o=\u001b[34m0\u001b[39;49;00m;o<r.length;o++)e(r[o]);\u001b[34mvar\u001b[39;49;00m s=n;a()}([])</\u001b[34;01mscript\u001b[39;49;00m><\u001b[34;01mscript\u001b[39;49;00m \u001b[36msrc\u001b[39;49;00m=\u001b[33m\"/static/js/1.fa92c112.chunk.js\"\u001b[39;49;00m></\u001b[34;01mscript\u001b[39;49;00m><\u001b[34;01mscript\u001b[39;49;00m \u001b[36msrc\u001b[39;49;00m=\u001b[33m\"/static/js/main.a7b1c78b.chunk.js\"\u001b[39;49;00m></\u001b[34;01mscript\u001b[39;49;00m></\u001b[34;01mbody\u001b[39;49;00m></\u001b[34;01mhtml\u001b[39;49;00m>\n",
      "\n"
     ]
    }
   ],
   "source": [
    "http http://mjbright-static-site.s3-website-us-west-1.amazonaws.com/index.html"
   ]
  },
  {
   "cell_type": "markdown",
   "metadata": {},
   "source": [
    "# Further Work\n",
    "\n",
    "## S3 Static Site Hosting\n",
    "\n",
    "An article describing the use of S3 for static website hosting including use of https, DNS routing\n",
    "https://medium.freecodecamp.org/how-to-host-a-static-website-with-s3-cloudfront-and-route53-7cbb11d4aeea\n",
    "\n",
    "\n",
    "## Static Site Generators\n",
    "\n",
    "Try other Static Site generators such as Hugo, Gatsby or Jekyll.\n",
    "\n",
    "Information about such generators is available here: https://www.staticgen.com/\n",
    "\n",
    "\n",
    "\n",
    "You can find more details about S3 website hosting here: https://docs.aws.amazon.com/AmazonS3/latest/dev/WebsiteHosting.html\n",
    "\n",
    "\n",
    "# Cleanup\n",
    "\n",
    "Note that we can use the ```aws s3 rm``` command to remove files from the bucket and ```aws s3 rb``` command to remove a bucket."
   ]
  },
  {
   "cell_type": "code",
   "execution_count": null,
   "metadata": {},
   "outputs": [],
   "source": [
    "aws s3 rm s3://mjbright-static-site --recursive\n",
    "aws s3 rb s3://mjbright-static-site"
   ]
  },
  {
   "cell_type": "markdown",
   "metadata": {},
   "source": [
    "It's also possible to remoce the bucket directly using the ```--force``` option:\n",
    "    ```aws s3 rb --force s3://mjbright-static-site```"
   ]
  }
 ],
 "metadata": {
  "kernelspec": {
   "display_name": "Bash",
   "language": "bash",
   "name": "bash"
  },
  "language_info": {
   "codemirror_mode": "shell",
   "file_extension": ".sh",
   "mimetype": "text/x-sh",
   "name": "bash"
  }
 },
 "nbformat": 4,
 "nbformat_minor": 2
}
