{
 "cells": [
  {
   "cell_type": "markdown",
   "metadata": {},
   "source": [
    "# AWS Lambda - S3\n",
    "\n",
    "\n",
    "## Setup\n",
    "\n"
   ]
  },
  {
   "cell_type": "markdown",
   "metadata": {},
   "source": [
    "If you have chosen to use an rc file, source it as ```source <your-aws-credentials-rc-file>```, e.g."
   ]
  },
  {
   "cell_type": "code",
   "execution_count": null,
   "metadata": {},
   "outputs": [],
   "source": [
    ". ~/.aws/credentials.rc"
   ]
  },
  {
   "cell_type": "code",
   "execution_count": 209,
   "metadata": {},
   "outputs": [],
   "source": [
    "cleanup_functions() {\n",
    "    echo \"-- Functions before:\"\n",
    "    aws lambda list-functions | grep FunctionName\n",
    "\n",
    "    FNS=$(aws lambda list-functions | grep FunctionName |sed -e 's/.*: //'  -e 's/\"//g' -e 's/,//')\n",
    "    for FN in $FNS; do aws lambda delete-function --function-name $FN; done\n",
    "    echo \"-- Functions after cleanup:\"\n",
    "    aws lambda list-functions | grep FunctionName\n",
    "}"
   ]
  },
  {
   "cell_type": "code",
   "execution_count": null,
   "metadata": {},
   "outputs": [],
   "source": [
    "cd ~/src/git/ServerlessLabs/ServerlessWorkshop/AWS-S3-Lambda"
   ]
  },
  {
   "cell_type": "code",
   "execution_count": null,
   "metadata": {},
   "outputs": [],
   "source": []
  },
  {
   "cell_type": "code",
   "execution_count": 210,
   "metadata": {},
   "outputs": [
    {
     "name": "stdout",
     "output_type": "stream",
     "text": [
      "-- Functions before:\n",
      "            \"\u001b[01;31m\u001b[KFunctionName\u001b[m\u001b[K\": \"chalice-app-dev\",\n",
      "            \"\u001b[01;31m\u001b[KFunctionName\u001b[m\u001b[K\": \"scheduled-app-dev-periodic_task\",\n",
      "            \"\u001b[01;31m\u001b[KFunctionName\u001b[m\u001b[K\": \"s3-app-dev-handler\",\n",
      "-- Functions after cleanup:\n"
     ]
    },
    {
     "ename": "",
     "evalue": "1",
     "output_type": "error",
     "traceback": []
    }
   ],
   "source": [
    "cleanup_functions"
   ]
  },
  {
   "cell_type": "code",
   "execution_count": null,
   "metadata": {},
   "outputs": [],
   "source": [
    "chalice new-project s3-app\n",
    "cd s3-app"
   ]
  },
  {
   "cell_type": "code",
   "execution_count": 211,
   "metadata": {},
   "outputs": [
    {
     "name": "stdout",
     "output_type": "stream",
     "text": [
      "{\n",
      "    \"Functions\": []\n",
      "}\n"
     ]
    }
   ],
   "source": [
    "aws lambda list-functions"
   ]
  },
  {
   "cell_type": "markdown",
   "metadata": {},
   "source": [
    "# From Lambda\n",
    "\n",
    "Remove old bucket if present to avoid possible event configuration conflict"
   ]
  },
  {
   "cell_type": "code",
   "execution_count": 213,
   "metadata": {},
   "outputs": [
    {
     "name": "stdout",
     "output_type": "stream",
     "text": [
      "delete: s3://mjbright-uploads/testfile\n",
      "remove_bucket: mjbright-uploads\n"
     ]
    }
   ],
   "source": [
    "aws s3 rb --force s3://mjbright-uploads"
   ]
  },
  {
   "cell_type": "code",
   "execution_count": 214,
   "metadata": {},
   "outputs": [
    {
     "name": "stdout",
     "output_type": "stream",
     "text": [
      "make_bucket: mjbright-uploads\n",
      "2019-01-25 21:41:22 mjbright-static-site\n",
      "2019-01-26 07:00:20 mjbright-uploads\n"
     ]
    }
   ],
   "source": [
    "aws s3 mb s3://mjbright-uploads\n",
    "aws s3 ls"
   ]
  },
  {
   "cell_type": "markdown",
   "metadata": {},
   "source": []
  },
  {
   "cell_type": "code",
   "execution_count": 221,
   "metadata": {},
   "outputs": [],
   "source": [
    "BUCKET_NAME='mjbright-uploads'\n",
    "\n",
    "cat > app.py <<EOF\n",
    "from chalice import Chalice\n",
    "#import sys\n",
    "\n",
    "app = Chalice(app_name=\"s3-uploads\")\n",
    "\n",
    "# Whenever an object is uploaded to 'mybucket'\n",
    "# this lambda function will be invoked.\n",
    "\n",
    "@app.on_s3_event(bucket='$BUCKET_NAME')\n",
    "def handler(event):\n",
    "    # Output goes to CloudWatch logs - viewable via 'chalice logs'\n",
    "    print(\"Object uploaded for bucket: %s, key: %s\"\n",
    "          % (event.bucket, event.key))\n",
    "    #sys.exit(0)\n",
    "EOF"
   ]
  },
  {
   "cell_type": "markdown",
   "metadata": {},
   "source": []
  },
  {
   "cell_type": "code",
   "execution_count": 222,
   "metadata": {},
   "outputs": [
    {
     "name": "stdout",
     "output_type": "stream",
     "text": [
      "/home/user1/src/git/ServerlessLabs/ServerlessWorkshop/AWS-S3-Lambda/s3-app\n",
      "from chalice import Chalice\n",
      "#import sys\n",
      "\n",
      "app = Chalice(app_name=\"s3-uploads\")\n",
      "\n",
      "# Whenever an object is uploaded to 'mybucket'\n",
      "# this lambda function will be invoked.\n",
      "\n",
      "@app.on_s3_event(bucket='mjbright-uploads')\n",
      "def handler(event):\n",
      "    # Output goes to CloudWatch logs - viewable via 'chalice logs'\n",
      "    print(\"Object uploaded for bucket: %s, key: %s\"\n",
      "          % (event.bucket, event.key))\n",
      "    #sys.exit(0)\n"
     ]
    }
   ],
   "source": [
    "pwd; cat app.py"
   ]
  },
  {
   "cell_type": "markdown",
   "metadata": {},
   "source": [
    "Deploy a local chalice server in another window using ```chalice local```, then upload a file to our bucket"
   ]
  },
  {
   "cell_type": "code",
   "execution_count": 223,
   "metadata": {},
   "outputs": [],
   "source": [
    "cat > requirements.txt <<EOF\n",
    "boto3==1.3.1\n",
    "EOF"
   ]
  },
  {
   "cell_type": "markdown",
   "metadata": {},
   "source": []
  },
  {
   "cell_type": "code",
   "execution_count": 218,
   "metadata": {},
   "outputs": [
    {
     "name": "stdout",
     "output_type": "stream",
     "text": [
      "/usr/share/python-wheels/requests-2.18.4-py2.py3-none-any.whl/requests/__init__.py:80: RequestsDependencyWarning: urllib3 (1.24.1) or chardet (3.0.4) doesn't match a supported version!\n",
      "Creating deployment package.\n",
      "Updating policy for IAM role: s3-app-dev\n",
      "Updating lambda function: s3-app-dev-handler\n",
      "Configuring S3 events in bucket mjbright-uploads to function s3-app-dev-handler\n",
      "Resources deployed:\n",
      "  - Lambda ARN: arn:aws:lambda:us-west-1:568285458700:function:s3-app-dev-handler\n"
     ]
    }
   ],
   "source": [
    "# Only works when deployed - local server has no S3 access\n",
    "chalice deploy"
   ]
  },
  {
   "cell_type": "code",
   "execution_count": null,
   "metadata": {},
   "outputs": [],
   "source": []
  },
  {
   "cell_type": "code",
   "execution_count": 219,
   "metadata": {},
   "outputs": [],
   "source": [
    "aws s3 ls s3://mjbright-uploads"
   ]
  },
  {
   "cell_type": "code",
   "execution_count": 224,
   "metadata": {},
   "outputs": [
    {
     "name": "stdout",
     "output_type": "stream",
     "text": [
      "Completed 406 Bytes/406 Bytes (5.3 KiB/s) with 1 file(s) remaining\r",
      "upload: ./app.py to s3://mjbright-uploads/testfile                \n"
     ]
    }
   ],
   "source": [
    "aws s3 cp app.py s3://mjbright-uploads/testfile"
   ]
  },
  {
   "cell_type": "code",
   "execution_count": 225,
   "metadata": {},
   "outputs": [
    {
     "name": "stdout",
     "output_type": "stream",
     "text": [
      "2019-01-26 07:02:59        406 testfile\n"
     ]
    }
   ],
   "source": [
    "aws s3 ls s3://mjbright-uploads"
   ]
  },
  {
   "cell_type": "code",
   "execution_count": 227,
   "metadata": {},
   "outputs": [
    {
     "name": "stdout",
     "output_type": "stream",
     "text": [
      "Usage: chalice logs [OPTIONS]\n",
      "\n",
      "Options:\n",
      "  --num-entries INTEGER           Max number of log entries to show.\n",
      "  --include-lambda-messages / --no-include-lambda-messages\n",
      "                                  Controls whether or not lambda log messages\n",
      "                                  are included.\n",
      "  --stage TEXT\n",
      "  -n, --name TEXT                 The name of the lambda function to retrieve\n",
      "                                  logs from.\n",
      "  --profile TEXT                  The profile to use for fetching logs.\n",
      "  --help                          Show this message and exit.\n"
     ]
    }
   ],
   "source": [
    "chalice logs --help"
   ]
  },
  {
   "cell_type": "code",
   "execution_count": 231,
   "metadata": {},
   "outputs": [],
   "source": [
    "chalice logs --include-lambda-messages"
   ]
  },
  {
   "cell_type": "code",
   "execution_count": null,
   "metadata": {},
   "outputs": [],
   "source": []
  },
  {
   "cell_type": "code",
   "execution_count": 220,
   "metadata": {},
   "outputs": [
    {
     "name": "stdout",
     "output_type": "stream",
     "text": [
      "/home/user1/src/git/ServerlessLabs/ServerlessWorkshop/AWS-S3-Lambda/s3-app\n"
     ]
    }
   ],
   "source": [
    "pwd"
   ]
  },
  {
   "cell_type": "code",
   "execution_count": 164,
   "metadata": {},
   "outputs": [],
   "source": [
    "cat > app.py <<EOF\n",
    "\n",
    "from chalice import Chalice\n",
    "from chalice import NotFoundError\n",
    "import json\n",
    "import pprint\n",
    "pp = pprint.PrettyPrinter(indent=4)\n",
    "\n",
    "app = Chalice(app_name='s3')\n",
    "\n",
    "import json\n",
    "import boto3\n",
    "from botocore.exceptions import ClientError\n",
    "\n",
    "S3 = boto3.client('s3', region_name='us-west-1')\n",
    "BUCKET = 'mjbright-uploads'\n",
    "\n",
    "@app.route('/text/{key}', methods=['GET', 'PUT'])\n",
    "def s3text(key):\n",
    "    request = app.current_request\n",
    "    \n",
    "    # Log request information to CloudWatch\n",
    "    print(\"s3text: -----------------------------------------------------------------\"); pp.pprint(request.to_dict())\n",
    "    \n",
    "    # PUT a new S3 object:\n",
    "    if request.method == 'PUT':\n",
    "        print(\"s3text: PUT s3://{}/{}\".format(BUCKET,key))\n",
    "        #S3.put_object(Bucket=BUCKET, Key=key, Body=str(request.json_body))\n",
    "        jb = request.json_body\n",
    "        if jb == null:\n",
    "            print(\"jb == null\")\n",
    "        else:\n",
    "            print( str(jb))\n",
    "        S3.put_object(Bucket=BUCKET, Key=key, Body=json.dumps(request.json_body))\n",
    "\n",
    "    # GET an existing S3 object, if it exists:\n",
    "    elif request.method == 'GET':\n",
    "        try:\n",
    "            print(\"s3text: GET s3://{}/{}\".format(BUCKET,key))\n",
    "            response = S3.get_object(Bucket=BUCKET, Key=key)\n",
    "            return str(response['Body'].read())\n",
    "        except ClientError as e:\n",
    "            raise NotFoundError(key)\n",
    "\n",
    "@app.route('/json/{key}', methods=['GET', 'PUT'])\n",
    "def s3json(key):\n",
    "    request = app.current_request\n",
    "    \n",
    "    # Log request information to CloudWatch\n",
    "    print(\"s3json: -----------------------------------------------------------------\"); pp.pprint(request.to_dict())\n",
    "    print(\"json_body: -----------------------------------------------------------------\"); pp.pprint(request.json_body)\n",
    "    print(\"json_body: -----------------------------------------------------------------\"); print(request.json_body)\n",
    "    print(\"len(json_body): \", len(request.json_body))\n",
    "    \n",
    "    # PUT a new S3 object:\n",
    "    if request.method == 'PUT':\n",
    "        print(\"s3json: PUT s3://{}/{}\".format(BUCKET,key))\n",
    "        S3.put_object(Bucket=BUCKET, Key=key,\n",
    "                      Body=json.dumps(request.json_body))\n",
    "\n",
    "    # GET an existing S3 object, if it exists:\n",
    "    elif request.method == 'GET':\n",
    "        try:\n",
    "            print(\"s3json: GET s3://{}/{}\".format(BUCKET,key))\n",
    "            response = S3.get_object(Bucket=BUCKET, Key=key)\n",
    "            return json.loads(response['Body'].read())\n",
    "        except ClientError as e:\n",
    "            raise NotFoundError(key)\n",
    "\n",
    "EOF"
   ]
  },
  {
   "cell_type": "markdown",
   "metadata": {},
   "source": [
    "## NOTE: local test\n",
    "\n",
    "This will not work because local server hasn't S3 credentials, but at least we might learn something from error messages"
   ]
  },
  {
   "cell_type": "code",
   "execution_count": 165,
   "metadata": {},
   "outputs": [
    {
     "name": "stdout",
     "output_type": "stream",
     "text": [
      "{ 'a': 'b' }\n",
      "/usr/lib/python3/dist-packages/requests/__init__.py:80: RequestsDependencyWarning: urllib3 (1.24.1) or chardet (3.0.4) doesn't match a supported version!\n",
      "  RequestsDependencyWarning)\n",
      "\u001b[34mHTTP\u001b[39;49;00m/\u001b[34m1.1\u001b[39;49;00m \u001b[34m400\u001b[39;49;00m \u001b[36mBad Request\u001b[39;49;00m\n",
      "\u001b[36mContent-Length\u001b[39;49;00m: \u001b[33m74\u001b[39;49;00m\n",
      "\u001b[36mContent-Type\u001b[39;49;00m: \u001b[33mapplication/json\u001b[39;49;00m\n",
      "\u001b[36mDate\u001b[39;49;00m: \u001b[33mSat, 26 Jan 2019 01:51:01 GMT\u001b[39;49;00m\n",
      "\u001b[36mServer\u001b[39;49;00m: \u001b[33mBaseHTTP/0.6 Python/3.6.7\u001b[39;49;00m\n",
      "\n",
      "{\n",
      "    \u001b[34;01m\"Code\"\u001b[39;49;00m: \u001b[33m\"BadRequestError\"\u001b[39;49;00m,\n",
      "    \u001b[34;01m\"Message\"\u001b[39;49;00m: \u001b[33m\"BadRequestError: Error Parsing JSON\"\u001b[39;49;00m\n",
      "}\n",
      "\n"
     ]
    }
   ],
   "source": [
    "#echo \"{ 'hello': 'world'; }\" | http PUT :8000/json/test\n",
    "echo \"{ 'a': 'b'; };\" > test\n",
    "echo \"{ 'a': 'b' }\" > test\n",
    "cat test\n",
    "\n",
    "#cat test | http PUT :8000/json/test\n",
    "cat test | http PUT :8000/text/test"
   ]
  },
  {
   "cell_type": "code",
   "execution_count": 116,
   "metadata": {},
   "outputs": [
    {
     "name": "stdout",
     "output_type": "stream",
     "text": [
      "/usr/lib/python3/dist-packages/requests/__init__.py:80: RequestsDependencyWarning: urllib3 (1.24.1) or chardet (3.0.4) doesn't match a supported version!\n",
      "  RequestsDependencyWarning)\n",
      "\u001b[34mHTTP\u001b[39;49;00m/\u001b[34m1.1\u001b[39;49;00m \u001b[34m500\u001b[39;49;00m \u001b[36mInternal Server Error\u001b[39;49;00m\n",
      "\u001b[36mContent-Length\u001b[39;49;00m: \u001b[33m77\u001b[39;49;00m\n",
      "\u001b[36mContent-Type\u001b[39;49;00m: \u001b[33mapplication/json\u001b[39;49;00m\n",
      "\u001b[36mDate\u001b[39;49;00m: \u001b[33mSat, 26 Jan 2019 01:10:37 GMT\u001b[39;49;00m\n",
      "\u001b[36mServer\u001b[39;49;00m: \u001b[33mBaseHTTP/0.6 Python/3.6.7\u001b[39;49;00m\n",
      "\n",
      "{\n",
      "    \u001b[34;01m\"Code\"\u001b[39;49;00m: \u001b[33m\"InternalServerError\"\u001b[39;49;00m,\n",
      "    \u001b[34;01m\"Message\"\u001b[39;49;00m: \u001b[33m\"An internal server error occurred.\"\u001b[39;49;00m\n",
      "}\n",
      "\n"
     ]
    }
   ],
   "source": [
    "echo hello world | http PUT :8000/text/test"
   ]
  },
  {
   "cell_type": "code",
   "execution_count": 102,
   "metadata": {},
   "outputs": [
    {
     "name": "stdout",
     "output_type": "stream",
     "text": [
      "/usr/lib/python3/dist-packages/requests/__init__.py:80: RequestsDependencyWarning: urllib3 (1.24.1) or chardet (3.0.4) doesn't match a supported version!\n",
      "  RequestsDependencyWarning)\n",
      "\u001b[34mHTTP\u001b[39;49;00m/\u001b[34m1.1\u001b[39;49;00m \u001b[34m500\u001b[39;49;00m \u001b[36mInternal Server Error\u001b[39;49;00m\n",
      "\u001b[36mContent-Length\u001b[39;49;00m: \u001b[33m77\u001b[39;49;00m\n",
      "\u001b[36mContent-Type\u001b[39;49;00m: \u001b[33mapplication/json\u001b[39;49;00m\n",
      "\u001b[36mDate\u001b[39;49;00m: \u001b[33mSat, 26 Jan 2019 01:03:06 GMT\u001b[39;49;00m\n",
      "\u001b[36mServer\u001b[39;49;00m: \u001b[33mBaseHTTP/0.6 Python/3.6.7\u001b[39;49;00m\n",
      "\n",
      "{\n",
      "    \u001b[34;01m\"Code\"\u001b[39;49;00m: \u001b[33m\"InternalServerError\"\u001b[39;49;00m,\n",
      "    \u001b[34;01m\"Message\"\u001b[39;49;00m: \u001b[33m\"An internal server error occurred.\"\u001b[39;49;00m\n",
      "}\n",
      "\n",
      "/usr/lib/python3/dist-packages/requests/__init__.py:80: RequestsDependencyWarning: urllib3 (1.24.1) or chardet (3.0.4) doesn't match a supported version!\n",
      "  RequestsDependencyWarning)\n",
      "\u001b[34mHTTP\u001b[39;49;00m/\u001b[34m1.1\u001b[39;49;00m \u001b[34m500\u001b[39;49;00m \u001b[36mInternal Server Error\u001b[39;49;00m\n",
      "\u001b[36mContent-Length\u001b[39;49;00m: \u001b[33m77\u001b[39;49;00m\n",
      "\u001b[36mContent-Type\u001b[39;49;00m: \u001b[33mapplication/json\u001b[39;49;00m\n",
      "\u001b[36mDate\u001b[39;49;00m: \u001b[33mSat, 26 Jan 2019 01:03:06 GMT\u001b[39;49;00m\n",
      "\u001b[36mServer\u001b[39;49;00m: \u001b[33mBaseHTTP/0.6 Python/3.6.7\u001b[39;49;00m\n",
      "\n",
      "{\n",
      "    \u001b[34;01m\"Code\"\u001b[39;49;00m: \u001b[33m\"InternalServerError\"\u001b[39;49;00m,\n",
      "    \u001b[34;01m\"Message\"\u001b[39;49;00m: \u001b[33m\"An internal server error occurred.\"\u001b[39;49;00m\n",
      "}\n",
      "\n"
     ]
    }
   ],
   "source": [
    "http :8000/json/test; http :8000/text/test;"
   ]
  },
  {
   "cell_type": "code",
   "execution_count": 103,
   "metadata": {},
   "outputs": [
    {
     "name": "stdout",
     "output_type": "stream",
     "text": [
      "/usr/share/python-wheels/requests-2.18.4-py2.py3-none-any.whl/requests/__init__.py:80: RequestsDependencyWarning: urllib3 (1.24.1) or chardet (3.0.4) doesn't match a supported version!\n",
      "Creating deployment package.\n",
      "Updating policy for IAM role: chalice-app-dev\n",
      "Updating lambda function: chalice-app-dev\n",
      "Updating rest API\n",
      "Resources deployed:\n",
      "  - Lambda ARN: arn:aws:lambda:us-west-1:568285458700:function:chalice-app-dev\n",
      "  - Rest API URL: https://jlmq3ygdu1.execute-api.us-west-1.amazonaws.com/api/\n"
     ]
    }
   ],
   "source": [
    "chalice deploy"
   ]
  },
  {
   "cell_type": "code",
   "execution_count": 123,
   "metadata": {},
   "outputs": [
    {
     "name": "stdout",
     "output_type": "stream",
     "text": [
      "Completed 13 Bytes/13 Bytes (317 Bytes/s) with 1 file(s) remaining\r",
      "upload: ./test to s3://mjbright-uploads/test                      \n"
     ]
    }
   ],
   "source": [
    "echo \"{ 'a': 'b' }\" > test\n",
    "aws s3 cp test s3://mjbright-uploads/test"
   ]
  },
  {
   "cell_type": "code",
   "execution_count": 105,
   "metadata": {},
   "outputs": [
    {
     "name": "stdout",
     "output_type": "stream",
     "text": [
      "                           PRE objects/\n",
      "2019-01-26 00:19:14        900 app.py\n",
      "2019-01-26 00:18:18        221 hosts\n",
      "2019-01-26 01:03:32         13 test\n"
     ]
    }
   ],
   "source": [
    "aws s3 ls s3://mjbright-uploads/"
   ]
  },
  {
   "cell_type": "code",
   "execution_count": 124,
   "metadata": {},
   "outputs": [
    {
     "name": "stdout",
     "output_type": "stream",
     "text": [
      "{ 'a': 'b' }\n"
     ]
    }
   ],
   "source": [
    "cat test"
   ]
  },
  {
   "cell_type": "code",
   "execution_count": 108,
   "metadata": {},
   "outputs": [
    {
     "name": "stdout",
     "output_type": "stream",
     "text": [
      "/usr/lib/python3/dist-packages/requests/__init__.py:80: RequestsDependencyWarning: urllib3 (1.24.1) or chardet (3.0.4) doesn't match a supported version!\n",
      "  RequestsDependencyWarning)\n",
      "\u001b[34mHTTP\u001b[39;49;00m/\u001b[34m1.1\u001b[39;49;00m \u001b[34m200\u001b[39;49;00m \u001b[36mOK\u001b[39;49;00m\n",
      "\u001b[36mConnection\u001b[39;49;00m: \u001b[33mkeep-alive\u001b[39;49;00m\n",
      "\u001b[36mContent-Length\u001b[39;49;00m: \u001b[33m17\u001b[39;49;00m\n",
      "\u001b[36mContent-Type\u001b[39;49;00m: \u001b[33mapplication/json\u001b[39;49;00m\n",
      "\u001b[36mDate\u001b[39;49;00m: \u001b[33mSat, 26 Jan 2019 01:04:01 GMT\u001b[39;49;00m\n",
      "\u001b[36mVia\u001b[39;49;00m: \u001b[33m1.1 49c80a47c1441dd194a8337982f1cd7e.cloudfront.net (CloudFront)\u001b[39;49;00m\n",
      "\u001b[36mX-Amz-Cf-Id\u001b[39;49;00m: \u001b[33mx5l6UO5ZAWQVuG_3tPQWMiZHcMuAD2DrC2PGoGYLvUlkS2Y6zaXXBg==\u001b[39;49;00m\n",
      "\u001b[36mX-Amzn-Trace-Id\u001b[39;49;00m: \u001b[33mRoot=1-5c4bb201-b56313b28f6fdc1ce3892232;Sampled=0\u001b[39;49;00m\n",
      "\u001b[36mX-Cache\u001b[39;49;00m: \u001b[33mMiss from cloudfront\u001b[39;49;00m\n",
      "\u001b[36mx-amz-apigw-id\u001b[39;49;00m: \u001b[33mUFjAOGudyK4FSUw=\u001b[39;49;00m\n",
      "\u001b[36mx-amzn-RequestId\u001b[39;49;00m: \u001b[33m447e02ca-2106-11e9-86ac-6596e4f7f276\u001b[39;49;00m\n",
      "\n",
      "\u001b[04m\u001b[31;01mb\u001b[39;49;00m\u001b[33m\"{ 'a': 'b' }\\n\"\u001b[39;49;00m\n",
      "\n",
      "/usr/lib/python3/dist-packages/requests/__init__.py:80: RequestsDependencyWarning: urllib3 (1.24.1) or chardet (3.0.4) doesn't match a supported version!\n",
      "  RequestsDependencyWarning)\n",
      "\u001b[34mHTTP\u001b[39;49;00m/\u001b[34m1.1\u001b[39;49;00m \u001b[34m500\u001b[39;49;00m \u001b[36mInternal Server Error\u001b[39;49;00m\n",
      "\u001b[36mConnection\u001b[39;49;00m: \u001b[33mkeep-alive\u001b[39;49;00m\n",
      "\u001b[36mContent-Length\u001b[39;49;00m: \u001b[33m77\u001b[39;49;00m\n",
      "\u001b[36mContent-Type\u001b[39;49;00m: \u001b[33mapplication/json\u001b[39;49;00m\n",
      "\u001b[36mDate\u001b[39;49;00m: \u001b[33mSat, 26 Jan 2019 01:04:02 GMT\u001b[39;49;00m\n",
      "\u001b[36mVia\u001b[39;49;00m: \u001b[33m1.1 8008015354a3ca72f56c382a1d1cfe9f.cloudfront.net (CloudFront)\u001b[39;49;00m\n",
      "\u001b[36mX-Amz-Cf-Id\u001b[39;49;00m: \u001b[33mLzSezq7jYA317ADwo32HIrrvZ9KO-M31qe5370IYqdT6Q0ODUdq1LQ==\u001b[39;49;00m\n",
      "\u001b[36mX-Amzn-Trace-Id\u001b[39;49;00m: \u001b[33mRoot=1-5c4bb202-550f0d68a4b72c38b4559ae8;Sampled=0\u001b[39;49;00m\n",
      "\u001b[36mX-Cache\u001b[39;49;00m: \u001b[33mError from cloudfront\u001b[39;49;00m\n",
      "\u001b[36mx-amz-apigw-id\u001b[39;49;00m: \u001b[33mUFjAYGqtSK4Ff-A=\u001b[39;49;00m\n",
      "\u001b[36mx-amzn-RequestId\u001b[39;49;00m: \u001b[33m4517f8df-2106-11e9-813f-4b680ee1356d\u001b[39;49;00m\n",
      "\n",
      "{\n",
      "    \u001b[34;01m\"Code\"\u001b[39;49;00m: \u001b[33m\"InternalServerError\"\u001b[39;49;00m,\n",
      "    \u001b[34;01m\"Message\"\u001b[39;49;00m: \u001b[33m\"An internal server error occurred.\"\u001b[39;49;00m\n",
      "}\n",
      "\n"
     ]
    }
   ],
   "source": [
    "http https://jlmq3ygdu1.execute-api.us-west-1.amazonaws.com/api/text/test\n",
    "http https://jlmq3ygdu1.execute-api.us-west-1.amazonaws.com/api/json/test"
   ]
  },
  {
   "cell_type": "code",
   "execution_count": 110,
   "metadata": {},
   "outputs": [
    {
     "name": "stdout",
     "output_type": "stream",
     "text": [
      "2019-01-26 00:22:26.050000 c313db \u001b[01;31m\u001b[Ks3\u001b[m\u001b[Kobjects: <<chalice.app.Request object at 0x7ffa1f2c6940>>\n",
      "2019-01-26 00:24:34.082000 a295f6 \u001b[01;31m\u001b[Ks3\u001b[m\u001b[Kobjects: <<chalice.app.Request object at 0x7fa8a7cd6940>>\n",
      "2019-01-26 00:27:26.818000 c569b0 \u001b[01;31m\u001b[Ks3\u001b[m\u001b[K - ERROR - Internal Error for <function \u001b[01;31m\u001b[Ks3\u001b[m\u001b[Kobjects at 0x7f22ac1fc730>\n",
      "2019-01-26 00:27:26.818000 c569b0 File \"/var/task/app.py\", line 20, in \u001b[01;31m\u001b[Ks3\u001b[m\u001b[Kobjects\n",
      "2019-01-26 00:32:18.695000 b6528d \u001b[01;31m\u001b[Ks3\u001b[m\u001b[Kobjects: <{\"query_params\": null, \"headers\": {\"accept\": \"*/*\", \"accept-encoding\": \"gzip, deflate\", \"cloudfront-forwarded-proto\": \"https\", \"cloudfront-is-desktop-viewer\": \"true\", \"cloudfront-is-mobile-viewer\": \"false\", \"cloudfront-is-smarttv-viewer\": \"false\", \"cloudfront-is-tablet-viewer\": \"false\", \"cloudfront-viewer-country\": \"US\", \"host\": \"jlmq3ygdu1.execute-api.us-west-1.amazonaws.com\", \"user-agent\": \"HTTPie/0.9.8\", \"via\": \"1.1 f1a40337a32137e1c23ceffead6a50d5.cloudfront.net (CloudFront)\", \"x-amz-cf-id\": \"Bt_hdRpgoK_u8oGdWSuYLo42AEdGxKYmJEnJjOeLbZ7og4P1kyMFZw==\", \"x-amzn-trace-id\": \"Root=1-5c4baa92-b9b2765f8181eff9ffbc7e42\", \"x-forwarded-for\": \"54.67.51.193, 54.239.134.7\", \"x-forwarded-port\": \"443\", \"x-forwarded-proto\": \"https\"}, \"uri_params\": {\"key\": \"test\"}, \"method\": \"GET\", \"context\": {\"resourceId\": \"wvdbuo\", \"resourcePath\": \"/objects/{key}\", \"httpMethod\": \"GET\", \"extendedRequestId\": \"UFeW0GbkyK4Fitg=\", \"requestTime\": \"26/Jan/2019:00:32:18 +0000\", \"path\": \"/api/objects/test\", \"accountId\": \"568285458700\", \"protocol\": \"HTTP/1.1\", \"stage\": \"api\", \"domainPrefix\": \"jlmq3ygdu1\", \"requestTimeEpoch\": 1548462738044, \"requestId\": \"d5feccae-2101-11e9-900f-d5ae7e711214\", \"identity\": {\"cognitoIdentityPoolId\": null, \"accountId\": null, \"cognitoIdentityId\": null, \"caller\": null, \"sourceIp\": \"54.67.51.193\", \"accessKey\": null, \"cognitoAuthenticationType\": null, \"cognitoAuthenticationProvider\": null, \"userArn\": null, \"userAgent\": \"HTTPie/0.9.8\", \"user\": null}, \"domainName\": \"jlmq3ygdu1.execute-api.us-west-1.amazonaws.com\", \"apiId\": \"jlmq3ygdu1\"}, \"stage_vars\": null}>\n",
      "2019-01-26 00:34:33.415000 a8ddcb \u001b[01;31m\u001b[Ks3\u001b[m\u001b[Kobjects: SO FAR SO GOOD\n",
      "2019-01-26 00:34:33.415000 a8ddcb \u001b[01;31m\u001b[Ks3\u001b[m\u001b[Kobjects: <{'query_params': None, 'headers': {'accept': '*/*', 'accept-encoding': 'gzip, deflate', 'cloudfront-forwarded-proto': 'https', 'cloudfront-is-desktop-viewer': 'true', 'cloudfront-is-mobile-viewer': 'false', 'cloudfront-is-smarttv-viewer': 'false', 'cloudfront-is-tablet-viewer': 'false', 'cloudfront-viewer-country': 'US', 'host': 'jlmq3ygdu1.execute-api.us-west-1.amazonaws.com', 'user-agent': 'HTTPie/0.9.8', 'via': '1.1 5c2ff4ca1e447265402af29264e83497.cloudfront.net (CloudFront)', 'x-amz-cf-id': 'mQCX2b5PHSGu4WVl-i1aUxzXHg9DnMHq5hUiAspg9Cqv_DL8c9Lw_w==', 'x-amzn-trace-id': 'Root=1-5c4bab18-5c7d601bd991bc898c6db78f', 'x-forwarded-for': '54.67.51.193, 54.239.134.7', 'x-forwarded-port': '443', 'x-forwarded-proto': 'https'}, 'uri_params': {'key': 'test'}, 'method': 'GET', 'context': {'resourceId': 'wvdbuo', 'resourcePath': '/objects/{key}', 'httpMethod': 'GET', 'extendedRequestId': 'UFer3HhUSK4FghQ=', 'requestTime': '26/Jan/2019:00:34:32 +0000', 'path': '/api/objects/test', 'accountId': '568285458700', 'protocol': 'HTTP/1.1', 'stage': 'api', 'domainPrefix': 'jlmq3ygdu1', 'requestTimeEpoch': 1548462872776, 'requestId': '264d4499-2102-11e9-9ca2-032065ee22a7', 'identity': {'cognitoIdentityPoolId': None, 'accountId': None, 'cognitoIdentityId': None, 'caller': None, 'sourceIp': '54.67.51.193', 'accessKey': None, 'cognitoAuthenticationType': None, 'cognitoAuthenticationProvider': None, 'userArn': None, 'userAgent': 'HTTPie/0.9.8', 'user': None}, 'domainName': 'jlmq3ygdu1.execute-api.us-west-1.amazonaws.com', 'apiId': 'jlmq3ygdu1'}, 'stage_vars': None}>\n",
      "2019-01-26 00:34:33.415000 a8ddcb \u001b[01;31m\u001b[Ks3\u001b[m\u001b[Kobjects: <{\"query_params\": null, \"headers\": {\"accept\": \"*/*\", \"accept-encoding\": \"gzip, deflate\", \"cloudfront-forwarded-proto\": \"https\", \"cloudfront-is-desktop-viewer\": \"true\", \"cloudfront-is-mobile-viewer\": \"false\", \"cloudfront-is-smarttv-viewer\": \"false\", \"cloudfront-is-tablet-viewer\": \"false\", \"cloudfront-viewer-country\": \"US\", \"host\": \"jlmq3ygdu1.execute-api.us-west-1.amazonaws.com\", \"user-agent\": \"HTTPie/0.9.8\", \"via\": \"1.1 5c2ff4ca1e447265402af29264e83497.cloudfront.net (CloudFront)\", \"x-amz-cf-id\": \"mQCX2b5PHSGu4WVl-i1aUxzXHg9DnMHq5hUiAspg9Cqv_DL8c9Lw_w==\", \"x-amzn-trace-id\": \"Root=1-5c4bab18-5c7d601bd991bc898c6db78f\", \"x-forwarded-for\": \"54.67.51.193, 54.239.134.7\", \"x-forwarded-port\": \"443\", \"x-forwarded-proto\": \"https\"}, \"uri_params\": {\"key\": \"test\"}, \"method\": \"GET\", \"context\": {\"resourceId\": \"wvdbuo\", \"resourcePath\": \"/objects/{key}\", \"httpMethod\": \"GET\", \"extendedRequestId\": \"UFer3HhUSK4FghQ=\", \"requestTime\": \"26/Jan/2019:00:34:32 +0000\", \"path\": \"/api/objects/test\", \"accountId\": \"568285458700\", \"protocol\": \"HTTP/1.1\", \"stage\": \"api\", \"domainPrefix\": \"jlmq3ygdu1\", \"requestTimeEpoch\": 1548462872776, \"requestId\": \"264d4499-2102-11e9-9ca2-032065ee22a7\", \"identity\": {\"cognitoIdentityPoolId\": null, \"accountId\": null, \"cognitoIdentityId\": null, \"caller\": null, \"sourceIp\": \"54.67.51.193\", \"accessKey\": null, \"cognitoAuthenticationType\": null, \"cognitoAuthenticationProvider\": null, \"userArn\": null, \"userAgent\": \"HTTPie/0.9.8\", \"user\": null}, \"domainName\": \"jlmq3ygdu1.execute-api.us-west-1.amazonaws.com\", \"apiId\": \"jlmq3ygdu1\"}, \"stage_vars\": null}>\n",
      "2019-01-26 00:37:55.489000 a8ddcb \u001b[01;31m\u001b[Ks3\u001b[m\u001b[Kobjects: SO FAR SO GOOD\n",
      "2019-01-26 00:37:55.489000 a8ddcb \u001b[01;31m\u001b[Ks3\u001b[m\u001b[Kobjects: <{'query_params': None, 'headers': {'accept': '*/*', 'accept-encoding': 'gzip, deflate', 'cloudfront-forwarded-proto': 'https', 'cloudfront-is-desktop-viewer': 'true', 'cloudfront-is-mobile-viewer': 'false', 'cloudfront-is-smarttv-viewer': 'false', 'cloudfront-is-tablet-viewer': 'false', 'cloudfront-viewer-country': 'US', 'host': 'jlmq3ygdu1.execute-api.us-west-1.amazonaws.com', 'user-agent': 'HTTPie/0.9.8', 'via': '1.1 20f1c35f343f4b271ae8dcacfd7ea0e9.cloudfront.net (CloudFront)', 'x-amz-cf-id': 'ruqvfTXReomBotCmWepayfZnZVp5Nln6TThdjKf8xT1oPKVTAxJUbg==', 'x-amzn-trace-id': 'Root=1-5c4babe3-d12496852222efb0d911dfa2', 'x-forwarded-for': '54.67.51.193, 54.239.134.14', 'x-forwarded-port': '443', 'x-forwarded-proto': 'https'}, 'uri_params': {'key': 'test'}, 'method': 'GET', 'context': {'resourceId': 'wvdbuo', 'resourcePath': '/objects/{key}', 'httpMethod': 'GET', 'extendedRequestId': 'UFfLiFlNSK4Fmrw=', 'requestTime': '26/Jan/2019:00:37:55 +0000', 'path': '/api/objects/test', 'accountId': '568285458700', 'protocol': 'HTTP/1.1', 'stage': 'api', 'domainPrefix': 'jlmq3ygdu1', 'requestTimeEpoch': 1548463075419, 'requestId': '9f1622b9-2102-11e9-b14b-5551fb47ff1c', 'identity': {'cognitoIdentityPoolId': None, 'accountId': None, 'cognitoIdentityId': None, 'caller': None, 'sourceIp': '54.67.51.193', 'accessKey': None, 'cognitoAuthenticationType': None, 'cognitoAuthenticationProvider': None, 'userArn': None, 'userAgent': 'HTTPie/0.9.8', 'user': None}, 'domainName': 'jlmq3ygdu1.execute-api.us-west-1.amazonaws.com', 'apiId': 'jlmq3ygdu1'}, 'stage_vars': None}>\n",
      "2019-01-26 00:37:55.489000 a8ddcb \u001b[01;31m\u001b[Ks3\u001b[m\u001b[Kobjects: <{\"query_params\": null, \"headers\": {\"accept\": \"*/*\", \"accept-encoding\": \"gzip, deflate\", \"cloudfront-forwarded-proto\": \"https\", \"cloudfront-is-desktop-viewer\": \"true\", \"cloudfront-is-mobile-viewer\": \"false\", \"cloudfront-is-smarttv-viewer\": \"false\", \"cloudfront-is-tablet-viewer\": \"false\", \"cloudfront-viewer-country\": \"US\", \"host\": \"jlmq3ygdu1.execute-api.us-west-1.amazonaws.com\", \"user-agent\": \"HTTPie/0.9.8\", \"via\": \"1.1 20f1c35f343f4b271ae8dcacfd7ea0e9.cloudfront.net (CloudFront)\", \"x-amz-cf-id\": \"ruqvfTXReomBotCmWepayfZnZVp5Nln6TThdjKf8xT1oPKVTAxJUbg==\", \"x-amzn-trace-id\": \"Root=1-5c4babe3-d12496852222efb0d911dfa2\", \"x-forwarded-for\": \"54.67.51.193, 54.239.134.14\", \"x-forwarded-port\": \"443\", \"x-forwarded-proto\": \"https\"}, \"uri_params\": {\"key\": \"test\"}, \"method\": \"GET\", \"context\": {\"resourceId\": \"wvdbuo\", \"resourcePath\": \"/objects/{key}\", \"httpMethod\": \"GET\", \"extendedRequestId\": \"UFfLiFlNSK4Fmrw=\", \"requestTime\": \"26/Jan/2019:00:37:55 +0000\", \"path\": \"/api/objects/test\", \"accountId\": \"568285458700\", \"protocol\": \"HTTP/1.1\", \"stage\": \"api\", \"domainPrefix\": \"jlmq3ygdu1\", \"requestTimeEpoch\": 1548463075419, \"requestId\": \"9f1622b9-2102-11e9-b14b-5551fb47ff1c\", \"identity\": {\"cognitoIdentityPoolId\": null, \"accountId\": null, \"cognitoIdentityId\": null, \"caller\": null, \"sourceIp\": \"54.67.51.193\", \"accessKey\": null, \"cognitoAuthenticationType\": null, \"cognitoAuthenticationProvider\": null, \"userArn\": null, \"userAgent\": \"HTTPie/0.9.8\", \"user\": null}, \"domainName\": \"jlmq3ygdu1.execute-api.us-west-1.amazonaws.com\", \"apiId\": \"jlmq3ygdu1\"}, \"stage_vars\": null}>\n"
     ]
    },
    {
     "name": "stdout",
     "output_type": "stream",
     "text": [
      "2019-01-26 00:37:56.009000 a8ddcb \u001b[01;31m\u001b[Ks3\u001b[m\u001b[K - ERROR - Internal Error for <function \u001b[01;31m\u001b[Ks3\u001b[m\u001b[Kobjects at 0x7f6689386730>\n",
      "2019-01-26 00:37:56.009000 a8ddcb File \"/var/task/app.py\", line 35, in \u001b[01;31m\u001b[Ks3\u001b[m\u001b[Kobjects\n",
      "2019-01-26 00:39:25.506000 882ee8 \u001b[01;31m\u001b[Ks3\u001b[m\u001b[Kobjects: SO FAR SO GOOD -----------------------------------------------------------------\n",
      "2019-01-26 00:39:25.506000 882ee8 \u001b[01;31m\u001b[Ks3\u001b[m\u001b[Kobjects: <{'query_params': None, 'headers': {'accept': '*/*', 'accept-encoding': 'gzip, deflate', 'cloudfront-forwarded-proto': 'https', 'cloudfront-is-desktop-viewer': 'true', 'cloudfront-is-mobile-viewer': 'false', 'cloudfront-is-smarttv-viewer': 'false', 'cloudfront-is-tablet-viewer': 'false', 'cloudfront-viewer-country': 'US', 'host': 'jlmq3ygdu1.execute-api.us-west-1.amazonaws.com', 'user-agent': 'HTTPie/0.9.8', 'via': '1.1 24b0e5a3429d07ef12381da50e07f70f.cloudfront.net (CloudFront)', 'x-amz-cf-id': 'jJFLYx3gAXNkB8v5_zW3OgO7IYkbvDBktrUD8hZSt2qp20QVMpXIew==', 'x-amzn-trace-id': 'Root=1-5c4bac3c-2d30962cbacf1490cf4231f6', 'x-forwarded-for': '54.67.51.193, 54.239.134.7', 'x-forwarded-port': '443', 'x-forwarded-proto': 'https'}, 'uri_params': {'key': 'test'}, 'method': 'GET', 'context': {'resourceId': 'wvdbuo', 'resourcePath': '/objects/{key}', 'httpMethod': 'GET', 'extendedRequestId': 'UFfZgGp6SK4Ff-A=', 'requestTime': '26/Jan/2019:00:39:24 +0000', 'path': '/api/objects/test', 'accountId': '568285458700', 'protocol': 'HTTP/1.1', 'stage': 'api', 'domainPrefix': 'jlmq3ygdu1', 'requestTimeEpoch': 1548463164862, 'requestId': 'd4660ebb-2102-11e9-813f-4b680ee1356d', 'identity': {'cognitoIdentityPoolId': None, 'accountId': None, 'cognitoIdentityId': None, 'caller': None, 'sourceIp': '54.67.51.193', 'accessKey': None, 'cognitoAuthenticationType': None, 'cognitoAuthenticationProvider': None, 'userArn': None, 'userAgent': 'HTTPie/0.9.8', 'user': None}, 'domainName': 'jlmq3ygdu1.execute-api.us-west-1.amazonaws.com', 'apiId': 'jlmq3ygdu1'}, 'stage_vars': None}>\n",
      "2019-01-26 00:39:25.506000 882ee8 GET \u001b[01;31m\u001b[Ks3\u001b[m\u001b[K://mjbright-uploads/test\n",
      "2019-01-26 00:39:26.089000 882ee8 \u001b[01;31m\u001b[Ks3\u001b[m\u001b[K - ERROR - Internal Error for <function \u001b[01;31m\u001b[Ks3\u001b[m\u001b[Kobjects at 0x7f74add50730>\n",
      "2019-01-26 00:39:26.089000 882ee8 File \"/var/task/app.py\", line 36, in \u001b[01;31m\u001b[Ks3\u001b[m\u001b[Kobjects\n",
      "2019-01-26 00:42:38.817000 0d4318 \u001b[01;31m\u001b[Ks3\u001b[m\u001b[Kobjects: SO FAR SO GOOD -----------------------------------------------------------------\n",
      "2019-01-26 00:42:38.817000 0d4318 \u001b[01;31m\u001b[Ks3\u001b[m\u001b[Kobjects: <{'query_params': None, 'headers': {'accept': '*/*', 'accept-encoding': 'gzip, deflate', 'cloudfront-forwarded-proto': 'https', 'cloudfront-is-desktop-viewer': 'true', 'cloudfront-is-mobile-viewer': 'false', 'cloudfront-is-smarttv-viewer': 'false', 'cloudfront-is-tablet-viewer': 'false', 'cloudfront-viewer-country': 'US', 'host': 'jlmq3ygdu1.execute-api.us-west-1.amazonaws.com', 'user-agent': 'HTTPie/0.9.8', 'via': '1.1 1b52a5dd431f9e3c81753e61dfdf467a.cloudfront.net (CloudFront)', 'x-amz-cf-id': '66biLrXpMrvpM4V03J1OvKfbPVXicEW22C7uQ6u9oItwQAHGgMDUCg==', 'x-amzn-trace-id': 'Root=1-5c4bacfe-36903ca282508f579135cda1', 'x-forwarded-for': '54.67.51.193, 54.239.134.7', 'x-forwarded-port': '443', 'x-forwarded-proto': 'https'}, 'uri_params': {'key': 'test'}, 'method': 'GET', 'context': {'resourceId': 'wvdbuo', 'resourcePath': '/objects/{key}', 'httpMethod': 'GET', 'extendedRequestId': 'UFf3tEdCyK4Fp6w=', 'requestTime': '26/Jan/2019:00:42:38 +0000', 'path': '/api/objects/test', 'accountId': '568285458700', 'protocol': 'HTTP/1.1', 'stage': 'api', 'domainPrefix': 'jlmq3ygdu1', 'requestTimeEpoch': 1548463358168, 'requestId': '479e35bd-2103-11e9-b75a-8fe56bba7a8e', 'identity': {'cognitoIdentityPoolId': None, 'accountId': None, 'cognitoIdentityId': None, 'caller': None, 'sourceIp': '54.67.51.193', 'accessKey': None, 'cognitoAuthenticationType': None, 'cognitoAuthenticationProvider': None, 'userArn': None, 'userAgent': 'HTTPie/0.9.8', 'user': None}, 'domainName': 'jlmq3ygdu1.execute-api.us-west-1.amazonaws.com', 'apiId': 'jlmq3ygdu1'}, 'stage_vars': None}>\n",
      "2019-01-26 00:42:38.817000 0d4318 GET \u001b[01;31m\u001b[Ks3\u001b[m\u001b[K://mjbright-uploads/test\n",
      "2019-01-26 00:42:39.449000 0d4318 \u001b[01;31m\u001b[Ks3\u001b[m\u001b[K - ERROR - Internal Error for <function \u001b[01;31m\u001b[Ks3\u001b[m\u001b[Kobjects at 0x7fb703c83730>\n",
      "2019-01-26 00:42:39.449000 0d4318 File \"/var/task/app.py\", line 36, in \u001b[01;31m\u001b[Ks3\u001b[m\u001b[Kobjects\n",
      "2019-01-26 00:46:09.358000 830682 \u001b[01;31m\u001b[Ks3\u001b[m\u001b[Kobjects: SO FAR SO GOOD -----------------------------------------------------------------\n",
      "2019-01-26 00:46:09.358000 830682 \u001b[01;31m\u001b[Ks3\u001b[m\u001b[Kobjects: <{'query_params': None, 'headers': {'accept': '*/*', 'accept-encoding': 'gzip, deflate', 'cloudfront-forwarded-proto': 'https', 'cloudfront-is-desktop-viewer': 'true', 'cloudfront-is-mobile-viewer': 'false', 'cloudfront-is-smarttv-viewer': 'false', 'cloudfront-is-tablet-viewer': 'false', 'cloudfront-viewer-country': 'US', 'host': 'jlmq3ygdu1.execute-api.us-west-1.amazonaws.com', 'user-agent': 'HTTPie/0.9.8', 'via': '1.1 24b0e5a3429d07ef12381da50e07f70f.cloudfront.net (CloudFront)', 'x-amz-cf-id': 'O2lh0HapYLq_0y5dVOfrUFBbkwRLoamPEqLGPzNn7rkgHm9z34tbJg==', 'x-amzn-trace-id': 'Root=1-5c4badd0-12c28bf8272ed3db0745db70', 'x-forwarded-for': '54.67.51.193, 54.239.134.14', 'x-forwarded-port': '443', 'x-forwarded-proto': 'https'}, 'uri_params': {'key': 'test'}, 'method': 'GET', 'context': {'resourceId': 'wvdbuo', 'resourcePath': '/objects/{key}', 'httpMethod': 'GET', 'extendedRequestId': 'UFgYnGv6yK4Fitg=', 'requestTime': '26/Jan/2019:00:46:08 +0000', 'path': '/api/objects/test', 'accountId': '568285458700', 'protocol': 'HTTP/1.1', 'stage': 'api', 'domainPrefix': 'jlmq3ygdu1', 'requestTimeEpoch': 1548463568702, 'requestId': 'c51b26d3-2103-11e9-900f-d5ae7e711214', 'identity': {'cognitoIdentityPoolId': None, 'accountId': None, 'cognitoIdentityId': None, 'caller': None, 'sourceIp': '54.67.51.193', 'accessKey': None, 'cognitoAuthenticationType': None, 'cognitoAuthenticationProvider': None, 'userArn': None, 'userAgent': 'HTTPie/0.9.8', 'user': None}, 'domainName': 'jlmq3ygdu1.execute-api.us-west-1.amazonaws.com', 'apiId': 'jlmq3ygdu1'}, 'stage_vars': None}>\n",
      "2019-01-26 00:46:09.358000 830682 GET \u001b[01;31m\u001b[Ks3\u001b[m\u001b[K://mjbright-uploads/test\n",
      "2019-01-26 01:03:44.809000 189dfc \u001b[01;31m\u001b[Ks3\u001b[m\u001b[Ktext: ----------------------------------------------------------------- <{'query_params': None, 'headers': {'accept': '*/*', 'accept-encoding': 'gzip, deflate', 'cloudfront-forwarded-proto': 'https', 'cloudfront-is-desktop-viewer': 'true', 'cloudfront-is-mobile-viewer': 'false', 'cloudfront-is-smarttv-viewer': 'false', 'cloudfront-is-tablet-viewer': 'false', 'cloudfront-viewer-country': 'US', 'host': 'jlmq3ygdu1.execute-api.us-west-1.amazonaws.com', 'user-agent': 'HTTPie/0.9.8', 'via': '1.1 e2af8a85927835558866752f53562ecd.cloudfront.net (CloudFront)', 'x-amz-cf-id': 'pc2_vVu5MLKAg72qL6zQ9Fj-Y9UHZS8R-gBq76TbPcrAIvrVKzhS6g==', 'x-amzn-trace-id': 'Root=1-5c4bb1f0-4a683a7b7d0b5cf1ac91e237', 'x-forwarded-for': '54.67.51.193, 54.239.134.14', 'x-forwarded-port': '443', 'x-forwarded-proto': 'https'}, 'uri_params': {'key': 'test'}, 'method': 'GET', 'context': {'resourceId': 'ezap0f', 'resourcePath': '/text/{key}', 'httpMethod': 'GET', 'extendedRequestId': 'UFi9hGfnyK4FUUQ=', 'requestTime': '26/Jan/2019:01:03:44 +0000', 'path': '/api/text/test', 'accountId': '568285458700', 'protocol': 'HTTP/1.1', 'stage': 'api', 'domainPrefix': 'jlmq3ygdu1', 'requestTimeEpoch': 1548464624139, 'requestId': '3a320e6d-2106-11e9-b04b-6deecaeee351', 'identity': {'cognitoIdentityPoolId': None, 'accountId': None, 'cognitoIdentityId': None, 'caller': None, 'sourceIp': '54.67.51.193', 'accessKey': None, 'cognitoAuthenticationType': None, 'cognitoAuthenticationProvider': None, 'userArn': None, 'userAgent': 'HTTPie/0.9.8', 'user': None}, 'domainName': 'jlmq3ygdu1.execute-api.us-west-1.amazonaws.com', 'apiId': 'jlmq3ygdu1'}, 'stage_vars': None}>\n",
      "2019-01-26 01:03:44.809000 189dfc \u001b[01;31m\u001b[Ks3\u001b[m\u001b[Ktext: ----------------------------------------------------------------- <{'query_params': None, 'headers': {'accept': '*/*', 'accept-encoding': 'gzip, deflate', 'cloudfront-forwarded-proto': 'https', 'cloudfront-is-desktop-viewer': 'true', 'cloudfront-is-mobile-viewer': 'false', 'cloudfront-is-smarttv-viewer': 'false', 'cloudfront-is-tablet-viewer': 'false', 'cloudfront-viewer-country': 'US', 'host': 'jlmq3ygdu1.execute-api.us-west-1.amazonaws.com', 'user-agent': 'HTTPie/0.9.8', 'via': '1.1 e2af8a85927835558866752f53562ecd.cloudfront.net (CloudFront)', 'x-amz-cf-id': 'pc2_vVu5MLKAg72qL6zQ9Fj-Y9UHZS8R-gBq76TbPcrAIvrVKzhS6g==', 'x-amzn-trace-id': 'Root=1-5c4bb1f0-4a683a7b7d0b5cf1ac91e237', 'x-forwarded-for': '54.67.51.193, 54.239.134.14', 'x-forwarded-port': '443', 'x-forwarded-proto': 'https'}, 'uri_params': {'key': 'test'}, 'method': 'GET', 'context': {'resourceId': 'ezap0f', 'resourcePath': '/text/{key}', 'httpMethod': 'GET', 'extendedRequestId': 'UFi9hGfnyK4FUUQ=', 'requestTime': '26/Jan/2019:01:03:44 +0000', 'path': '/api/text/test', 'accountId': '568285458700', 'protocol': 'HTTP/1.1', 'stage': 'api', 'domainPrefix': 'jlmq3ygdu1', 'requestTimeEpoch': 1548464624139, 'requestId': '3a320e6d-2106-11e9-b04b-6deecaeee351', 'identity': {'cognitoIdentityPoolId': None, 'accountId': None, 'cognitoIdentityId': None, 'caller': None, 'sourceIp': '54.67.51.193', 'accessKey': None, 'cognitoAuthenticationType': None, 'cognitoAuthenticationProvider': None, 'userArn': None, 'userAgent': 'HTTPie/0.9.8', 'user': None}, 'domainName': 'jlmq3ygdu1.execute-api.us-west-1.amazonaws.com', 'apiId': 'jlmq3ygdu1'}, 'stage_vars': None}>\n"
     ]
    },
    {
     "name": "stdout",
     "output_type": "stream",
     "text": [
      "2019-01-26 01:03:44.869000 189dfc GET \u001b[01;31m\u001b[Ks3\u001b[m\u001b[K://mjbright-uploads/test\n",
      "2019-01-26 01:04:01.431000 189dfc \u001b[01;31m\u001b[Ks3\u001b[m\u001b[Ktext: ----------------------------------------------------------------- <{'query_params': None, 'headers': {'accept': '*/*', 'accept-encoding': 'gzip, deflate', 'cloudfront-forwarded-proto': 'https', 'cloudfront-is-desktop-viewer': 'true', 'cloudfront-is-mobile-viewer': 'false', 'cloudfront-is-smarttv-viewer': 'false', 'cloudfront-is-tablet-viewer': 'false', 'cloudfront-viewer-country': 'US', 'host': 'jlmq3ygdu1.execute-api.us-west-1.amazonaws.com', 'user-agent': 'HTTPie/0.9.8', 'via': '1.1 49c80a47c1441dd194a8337982f1cd7e.cloudfront.net (CloudFront)', 'x-amz-cf-id': 'THP5eRWQ4cEezLBbXU-2vT4VzPDF4-mCFcMy6JMGOQTUd367pcvL4w==', 'x-amzn-trace-id': 'Root=1-5c4bb201-b56313b28f6fdc1ce3892232', 'x-forwarded-for': '54.67.51.193, 54.239.134.14', 'x-forwarded-port': '443', 'x-forwarded-proto': 'https'}, 'uri_params': {'key': 'test'}, 'method': 'GET', 'context': {'resourceId': 'ezap0f', 'resourcePath': '/text/{key}', 'httpMethod': 'GET', 'extendedRequestId': 'UFjAOGudyK4FSUw=', 'requestTime': '26/Jan/2019:01:04:01 +0000', 'path': '/api/text/test', 'accountId': '568285458700', 'protocol': 'HTTP/1.1', 'stage': 'api', 'domainPrefix': 'jlmq3ygdu1', 'requestTimeEpoch': 1548464641414, 'requestId': '447e02ca-2106-11e9-86ac-6596e4f7f276', 'identity': {'cognitoIdentityPoolId': None, 'accountId': None, 'cognitoIdentityId': None, 'caller': None, 'sourceIp': '54.67.51.193', 'accessKey': None, 'cognitoAuthenticationType': None, 'cognitoAuthenticationProvider': None, 'userArn': None, 'userAgent': 'HTTPie/0.9.8', 'user': None}, 'domainName': 'jlmq3ygdu1.execute-api.us-west-1.amazonaws.com', 'apiId': 'jlmq3ygdu1'}, 'stage_vars': None}>\n",
      "2019-01-26 01:04:01.431000 189dfc \u001b[01;31m\u001b[Ks3\u001b[m\u001b[Ktext: ----------------------------------------------------------------- <{'query_params': None, 'headers': {'accept': '*/*', 'accept-encoding': 'gzip, deflate', 'cloudfront-forwarded-proto': 'https', 'cloudfront-is-desktop-viewer': 'true', 'cloudfront-is-mobile-viewer': 'false', 'cloudfront-is-smarttv-viewer': 'false', 'cloudfront-is-tablet-viewer': 'false', 'cloudfront-viewer-country': 'US', 'host': 'jlmq3ygdu1.execute-api.us-west-1.amazonaws.com', 'user-agent': 'HTTPie/0.9.8', 'via': '1.1 49c80a47c1441dd194a8337982f1cd7e.cloudfront.net (CloudFront)', 'x-amz-cf-id': 'THP5eRWQ4cEezLBbXU-2vT4VzPDF4-mCFcMy6JMGOQTUd367pcvL4w==', 'x-amzn-trace-id': 'Root=1-5c4bb201-b56313b28f6fdc1ce3892232', 'x-forwarded-for': '54.67.51.193, 54.239.134.14', 'x-forwarded-port': '443', 'x-forwarded-proto': 'https'}, 'uri_params': {'key': 'test'}, 'method': 'GET', 'context': {'resourceId': 'ezap0f', 'resourcePath': '/text/{key}', 'httpMethod': 'GET', 'extendedRequestId': 'UFjAOGudyK4FSUw=', 'requestTime': '26/Jan/2019:01:04:01 +0000', 'path': '/api/text/test', 'accountId': '568285458700', 'protocol': 'HTTP/1.1', 'stage': 'api', 'domainPrefix': 'jlmq3ygdu1', 'requestTimeEpoch': 1548464641414, 'requestId': '447e02ca-2106-11e9-86ac-6596e4f7f276', 'identity': {'cognitoIdentityPoolId': None, 'accountId': None, 'cognitoIdentityId': None, 'caller': None, 'sourceIp': '54.67.51.193', 'accessKey': None, 'cognitoAuthenticationType': None, 'cognitoAuthenticationProvider': None, 'userArn': None, 'userAgent': 'HTTPie/0.9.8', 'user': None}, 'domainName': 'jlmq3ygdu1.execute-api.us-west-1.amazonaws.com', 'apiId': 'jlmq3ygdu1'}, 'stage_vars': None}>\n",
      "2019-01-26 01:04:01.450000 189dfc GET \u001b[01;31m\u001b[Ks3\u001b[m\u001b[K://mjbright-uploads/test\n",
      "2019-01-26 01:04:02.437000 189dfc \u001b[01;31m\u001b[Ks3\u001b[m\u001b[Kjson: ----------------------------------------------------------------- <{'query_params': None, 'headers': {'accept': '*/*', 'accept-encoding': 'gzip, deflate', 'cloudfront-forwarded-proto': 'https', 'cloudfront-is-desktop-viewer': 'true', 'cloudfront-is-mobile-viewer': 'false', 'cloudfront-is-smarttv-viewer': 'false', 'cloudfront-is-tablet-viewer': 'false', 'cloudfront-viewer-country': 'US', 'host': 'jlmq3ygdu1.execute-api.us-west-1.amazonaws.com', 'user-agent': 'HTTPie/0.9.8', 'via': '1.1 8008015354a3ca72f56c382a1d1cfe9f.cloudfront.net (CloudFront)', 'x-amz-cf-id': 'Fl_4Y6lsAmuU7vr5sIZ7jXR0N3k0V6d2fnm9cb2FBowui4L_K5pqpQ==', 'x-amzn-trace-id': 'Root=1-5c4bb202-550f0d68a4b72c38b4559ae8', 'x-forwarded-for': '54.67.51.193, 54.239.134.14', 'x-forwarded-port': '443', 'x-forwarded-proto': 'https'}, 'uri_params': {'key': 'test'}, 'method': 'GET', 'context': {'resourceId': '1ay49m', 'resourcePath': '/json/{key}', 'httpMethod': 'GET', 'extendedRequestId': 'UFjAYGqtSK4Ff-A=', 'requestTime': '26/Jan/2019:01:04:02 +0000', 'path': '/api/json/test', 'accountId': '568285458700', 'protocol': 'HTTP/1.1', 'stage': 'api', 'domainPrefix': 'jlmq3ygdu1', 'requestTimeEpoch': 1548464642423, 'requestId': '4517f8df-2106-11e9-813f-4b680ee1356d', 'identity': {'cognitoIdentityPoolId': None, 'accountId': None, 'cognitoIdentityId': None, 'caller': None, 'sourceIp': '54.67.51.193', 'accessKey': None, 'cognitoAuthenticationType': None, 'cognitoAuthenticationProvider': None, 'userArn': None, 'userAgent': 'HTTPie/0.9.8', 'user': None}, 'domainName': 'jlmq3ygdu1.execute-api.us-west-1.amazonaws.com', 'apiId': 'jlmq3ygdu1'}, 'stage_vars': None}>\n",
      "2019-01-26 01:04:02.437000 189dfc \u001b[01;31m\u001b[Ks3\u001b[m\u001b[Kjson: ----------------------------------------------------------------- <{'query_params': None, 'headers': {'accept': '*/*', 'accept-encoding': 'gzip, deflate', 'cloudfront-forwarded-proto': 'https', 'cloudfront-is-desktop-viewer': 'true', 'cloudfront-is-mobile-viewer': 'false', 'cloudfront-is-smarttv-viewer': 'false', 'cloudfront-is-tablet-viewer': 'false', 'cloudfront-viewer-country': 'US', 'host': 'jlmq3ygdu1.execute-api.us-west-1.amazonaws.com', 'user-agent': 'HTTPie/0.9.8', 'via': '1.1 8008015354a3ca72f56c382a1d1cfe9f.cloudfront.net (CloudFront)', 'x-amz-cf-id': 'Fl_4Y6lsAmuU7vr5sIZ7jXR0N3k0V6d2fnm9cb2FBowui4L_K5pqpQ==', 'x-amzn-trace-id': 'Root=1-5c4bb202-550f0d68a4b72c38b4559ae8', 'x-forwarded-for': '54.67.51.193, 54.239.134.14', 'x-forwarded-port': '443', 'x-forwarded-proto': 'https'}, 'uri_params': {'key': 'test'}, 'method': 'GET', 'context': {'resourceId': '1ay49m', 'resourcePath': '/json/{key}', 'httpMethod': 'GET', 'extendedRequestId': 'UFjAYGqtSK4Ff-A=', 'requestTime': '26/Jan/2019:01:04:02 +0000', 'path': '/api/json/test', 'accountId': '568285458700', 'protocol': 'HTTP/1.1', 'stage': 'api', 'domainPrefix': 'jlmq3ygdu1', 'requestTimeEpoch': 1548464642423, 'requestId': '4517f8df-2106-11e9-813f-4b680ee1356d', 'identity': {'cognitoIdentityPoolId': None, 'accountId': None, 'cognitoIdentityId': None, 'caller': None, 'sourceIp': '54.67.51.193', 'accessKey': None, 'cognitoAuthenticationType': None, 'cognitoAuthenticationProvider': None, 'userArn': None, 'userAgent': 'HTTPie/0.9.8', 'user': None}, 'domainName': 'jlmq3ygdu1.execute-api.us-west-1.amazonaws.com', 'apiId': 'jlmq3ygdu1'}, 'stage_vars': None}>\n",
      "2019-01-26 01:04:02.437000 189dfc \u001b[01;31m\u001b[Ks3\u001b[m\u001b[Kjson: ----------------------------------------------------------------- <{'query_params': None, 'headers': {'accept': '*/*', 'accept-encoding': 'gzip, deflate', 'cloudfront-forwarded-proto': 'https', 'cloudfront-is-desktop-viewer': 'true', 'cloudfront-is-mobile-viewer': 'false', 'cloudfront-is-smarttv-viewer': 'false', 'cloudfront-is-tablet-viewer': 'false', 'cloudfront-viewer-country': 'US', 'host': 'jlmq3ygdu1.execute-api.us-west-1.amazonaws.com', 'user-agent': 'HTTPie/0.9.8', 'via': '1.1 8008015354a3ca72f56c382a1d1cfe9f.cloudfront.net (CloudFront)', 'x-amz-cf-id': 'Fl_4Y6lsAmuU7vr5sIZ7jXR0N3k0V6d2fnm9cb2FBowui4L_K5pqpQ==', 'x-amzn-trace-id': 'Root=1-5c4bb202-550f0d68a4b72c38b4559ae8', 'x-forwarded-for': '54.67.51.193, 54.239.134.14', 'x-forwarded-port': '443', 'x-forwarded-proto': 'https'}, 'uri_params': {'key': 'test'}, 'method': 'GET', 'context': {'resourceId': '1ay49m', 'resourcePath': '/json/{key}', 'httpMethod': 'GET', 'extendedRequestId': 'UFjAYGqtSK4Ff-A=', 'requestTime': '26/Jan/2019:01:04:02 +0000', 'path': '/api/json/test', 'accountId': '568285458700', 'protocol': 'HTTP/1.1', 'stage': 'api', 'domainPrefix': 'jlmq3ygdu1', 'requestTimeEpoch': 1548464642423, 'requestId': '4517f8df-2106-11e9-813f-4b680ee1356d', 'identity': {'cognitoIdentityPoolId': None, 'accountId': None, 'cognitoIdentityId': None, 'caller': None, 'sourceIp': '54.67.51.193', 'accessKey': None, 'cognitoAuthenticationType': None, 'cognitoAuthenticationProvider': None, 'userArn': None, 'userAgent': 'HTTPie/0.9.8', 'user': None}, 'domainName': 'jlmq3ygdu1.execute-api.us-west-1.amazonaws.com', 'apiId': 'jlmq3ygdu1'}, 'stage_vars': None}>\n"
     ]
    },
    {
     "name": "stdout",
     "output_type": "stream",
     "text": [
      "2019-01-26 01:04:02.449000 189dfc GET \u001b[01;31m\u001b[Ks3\u001b[m\u001b[K://mjbright-uploads/test\n",
      "2019-01-26 01:04:02.528000 189dfc \u001b[01;31m\u001b[Ks3\u001b[m\u001b[K - ERROR - Internal Error for <function \u001b[01;31m\u001b[Ks3\u001b[m\u001b[Kjson at 0x7f3be49ebd90>\n",
      "2019-01-26 01:04:02.528000 189dfc File \"/var/task/app.py\", line 59, in \u001b[01;31m\u001b[Ks3\u001b[m\u001b[Kjson\n"
     ]
    }
   ],
   "source": [
    "chalice logs --include-lambda-messages | grep s3"
   ]
  },
  {
   "cell_type": "code",
   "execution_count": 112,
   "metadata": {},
   "outputs": [
    {
     "name": "stdout",
     "output_type": "stream",
     "text": [
      "/usr/lib/python3/dist-packages/requests/__init__.py:80: RequestsDependencyWarning: urllib3 (1.24.1) or chardet (3.0.4) doesn't match a supported version!\n",
      "  RequestsDependencyWarning)\n",
      "\u001b[34mHTTP\u001b[39;49;00m/\u001b[34m1.1\u001b[39;49;00m \u001b[34m400\u001b[39;49;00m \u001b[36mBad Request\u001b[39;49;00m\n",
      "\u001b[36mContent-Length\u001b[39;49;00m: \u001b[33m74\u001b[39;49;00m\n",
      "\u001b[36mContent-Type\u001b[39;49;00m: \u001b[33mapplication/json\u001b[39;49;00m\n",
      "\u001b[36mDate\u001b[39;49;00m: \u001b[33mSat, 26 Jan 2019 01:05:44 GMT\u001b[39;49;00m\n",
      "\u001b[36mServer\u001b[39;49;00m: \u001b[33mBaseHTTP/0.6 Python/3.6.7\u001b[39;49;00m\n",
      "\n",
      "{\n",
      "    \u001b[34;01m\"Code\"\u001b[39;49;00m: \u001b[33m\"BadRequestError\"\u001b[39;49;00m,\n",
      "    \u001b[34;01m\"Message\"\u001b[39;49;00m: \u001b[33m\"BadRequestError: Error Parsing JSON\"\u001b[39;49;00m\n",
      "}\n",
      "\n"
     ]
    }
   ],
   "source": [
    "echo hello world | http PUT :8000/text/test"
   ]
  },
  {
   "cell_type": "code",
   "execution_count": 111,
   "metadata": {},
   "outputs": [
    {
     "name": "stdout",
     "output_type": "stream",
     "text": [
      "/usr/lib/python3/dist-packages/requests/__init__.py:80: RequestsDependencyWarning: urllib3 (1.24.1) or chardet (3.0.4) doesn't match a supported version!\n",
      "  RequestsDependencyWarning)\n",
      "\u001b[34mHTTP\u001b[39;49;00m/\u001b[34m1.1\u001b[39;49;00m \u001b[34m400\u001b[39;49;00m \u001b[36mBad Request\u001b[39;49;00m\n",
      "\u001b[36mConnection\u001b[39;49;00m: \u001b[33mkeep-alive\u001b[39;49;00m\n",
      "\u001b[36mContent-Length\u001b[39;49;00m: \u001b[33m74\u001b[39;49;00m\n",
      "\u001b[36mContent-Type\u001b[39;49;00m: \u001b[33mapplication/json\u001b[39;49;00m\n",
      "\u001b[36mDate\u001b[39;49;00m: \u001b[33mSat, 26 Jan 2019 01:05:14 GMT\u001b[39;49;00m\n",
      "\u001b[36mVia\u001b[39;49;00m: \u001b[33m1.1 8008015354a3ca72f56c382a1d1cfe9f.cloudfront.net (CloudFront)\u001b[39;49;00m\n",
      "\u001b[36mX-Amz-Cf-Id\u001b[39;49;00m: \u001b[33mhJ_mqOfA_pDSF8wBR5xVPFHwYsiTK9WKOfJ0SEPPIXQljIw__LA52w==\u001b[39;49;00m\n",
      "\u001b[36mX-Amzn-Trace-Id\u001b[39;49;00m: \u001b[33mRoot=1-5c4bb24a-c4346c80ef290c006c5cab40;Sampled=0\u001b[39;49;00m\n",
      "\u001b[36mX-Cache\u001b[39;49;00m: \u001b[33mError from cloudfront\u001b[39;49;00m\n",
      "\u001b[36mx-amz-apigw-id\u001b[39;49;00m: \u001b[33mUFjLoHZfyK4FlIg=\u001b[39;49;00m\n",
      "\u001b[36mx-amzn-RequestId\u001b[39;49;00m: \u001b[33m700050be-2106-11e9-9afc-0db0ce26a5a3\u001b[39;49;00m\n",
      "\n",
      "{\n",
      "    \u001b[34;01m\"Code\"\u001b[39;49;00m: \u001b[33m\"BadRequestError\"\u001b[39;49;00m,\n",
      "    \u001b[34;01m\"Message\"\u001b[39;49;00m: \u001b[33m\"BadRequestError: Error Parsing JSON\"\u001b[39;49;00m\n",
      "}\n",
      "\n"
     ]
    }
   ],
   "source": [
    "echo hello world | http PUT https://jlmq3ygdu1.execute-api.us-west-1.amazonaws.com/api/text/test"
   ]
  },
  {
   "cell_type": "code",
   "execution_count": 28,
   "metadata": {},
   "outputs": [
    {
     "name": "stdout",
     "output_type": "stream",
     "text": [
      "S3()                                                                      S3()\n",
      "\n",
      "\n",
      "\n",
      "NAME\n",
      "       s3 -\n",
      "\n",
      "DESCRIPTION\n",
      "       This  section  explains  prominent concepts and notations in the set of\n",
      "       high-level S3 commands provided.\n",
      "\n",
      "   Path Argument Type\n",
      "       Whenever using a command, at least one path argument must be specified.\n",
      "       There are two types of path arguments: LocalPath and S3Uri.\n",
      "\n",
      "       LocalPath: represents the path of a local file or directory.  It can be\n",
      "       written as an absolute path or relative path.\n",
      "\n",
      "       S3Uri: represents the location of a S3 object, prefix, or bucket.  This\n",
      "       must  be  written in the form s3://mybucket/mykey where mybucket is the\n",
      "       specified S3 bucket, mykey is the specified S3 key.  The path  argument\n",
      "       must  begin with s3:// in order to denote that the path argument refers\n",
      "       to a S3 object. Note that prefixes are separated  by  forward  slashes.\n",
      "       For  example, if the S3 object myobject had the prefix myprefix, the S3\n",
      "       key would be myprefix/myobject, and if the object  was  in  the  bucket\n",
      "       mybucket, the S3Uri would be s3://mybucket/myprefix/myobject.\n",
      "\n",
      "   Order of Path Arguments\n",
      "       Every  command  takes  one or two positional path arguments.  The first\n",
      "       path argument represents the source, which is the local  file/directory\n",
      "       or  S3  object/prefix/bucket  that  is being referenced.  If there is a\n",
      "       second path argument, it represents the destination, which is the local\n",
      "       file/directory  or  S3  object/prefix/bucket that is being operated on.\n",
      "       Commands with only one path argument do not have a destination  because\n",
      "       the operation is being performed only on the source.\n",
      "\n",
      "   Single Local File and S3 Object Operations\n",
      "       Some  commands  perform operations only on single files and S3 objects.\n",
      "       The following commands are single file/object operations if no --recur-\n",
      "       sive flag is provided.\n",
      "\n",
      "          o cp\n",
      "\n",
      "          o mv\n",
      "\n",
      "          o rm\n",
      "\n",
      "       For  this  type of operation, the first path argument, the source, must\n",
      "       exist and be a local file or S3 object.  The second path argument,  the\n",
      "       destination,  can  be  the  name  of  a local file, local directory, S3\n",
      "       object, S3 prefix, or S3 bucket.\n",
      "\n",
      "       The destination is indicated as a local directory,  S3  prefix,  or  S3\n",
      "       bucket if it ends with a forward slash or back slash.  The use of slash\n",
      "       depends on the path argument type.  If the path argument  is  a  Local-\n",
      "       Path,  the type of slash is the separator used by the operating system.\n",
      "       If the path is a S3Uri, the forward slash must always be  used.   If  a\n",
      "       slash  is at the end of the destination, the destination file or object\n",
      "       will adopt the name of the source file or object.  Otherwise, if  there\n",
      "       is no slash at the end, the file or object will be saved under the name\n",
      "       provided.  See examples in cp and mv to illustrate this description.\n",
      "\n",
      "   Directory and S3 Prefix Operations\n",
      "       Some commands only perform operations on the contents of a local direc-\n",
      "       tory  or  S3 prefix/bucket.  Adding or omitting a forward slash or back\n",
      "       slash to the end of any path argument, depending on its type, does  not\n",
      "       affect  the  results  of  the  operation.   The following commands will\n",
      "       always result in a directory or S3 prefix/bucket operation:\n",
      "\n",
      "       o sync\n",
      "\n",
      "       o mb\n",
      "\n",
      "       o rb\n",
      "\n",
      "       o ls\n",
      "\n",
      "   Use of Exclude and Include Filters\n",
      "       Currently, there is no support for the use of UNIX style wildcards in a\n",
      "       command's  path  arguments.   However,  most  commands  have  --exclude\n",
      "       \"<value>\" and --include  \"<value>\"  parameters  that  can  achieve  the\n",
      "       desired  result.   These  parameters perform pattern matching to either\n",
      "       exclude or include a particular file or object.  The following  pattern\n",
      "       symbols are supported.\n",
      "\n",
      "          o *: Matches everything\n",
      "\n",
      "          o ?: Matches any single character\n",
      "\n",
      "          o [sequence]: Matches any character in sequence\n",
      "\n",
      "          o [!sequence]: Matches any character not in sequence\n",
      "\n",
      "       Any  number of these parameters can be passed to a command.  You can do\n",
      "       this by providing an --exclude or --include  argument  multiple  times,\n",
      "       e.g.   --include  \"*.txt\"  --include  \"*.png\".  When there are multiple\n",
      "       filters, the rule is the filters that appear later in the command  take\n",
      "       precedence  over filters that appear earlier in the command.  For exam-\n",
      "       ple, if the filter parameters passed to the command were\n",
      "\n",
      "          --exclude \"*\" --include \"*.txt\"\n",
      "\n",
      "       All files will be excluded from the command  except  for  files  ending\n",
      "       with  .txt   However, if the order of the filter parameters was changed\n",
      "       to\n",
      "\n",
      "          --include \"*.txt\" --exclude \"*\"\n",
      "\n",
      "       All files will be excluded from the command.\n",
      "\n",
      "       Each filter is evaluated against the source directory.  If  the  source\n",
      "       location is a file instead of a directory, the directory containing the\n",
      "       file is used as the source directory.  For example, suppose you had the\n",
      "       following directory structure:\n",
      "\n",
      "          /tmp/foo/\n",
      "            .git/\n",
      "            |---config\n",
      "            |---description\n",
      "            foo.txt\n",
      "            bar.txt\n",
      "            baz.jpg\n",
      "\n",
      "       In  the  command aws s3 sync /tmp/foo s3://bucket/ the source directory\n",
      "       is /tmp/foo.  Any include/exclude filters will be  evaluated  with  the\n",
      "       source  directory prepended.  Below are several examples to demonstrate\n",
      "       this.\n",
      "\n",
      "       Given the directory structure above and the command aws s3 cp  /tmp/foo\n",
      "       s3://bucket/  --recursive --exclude \".git/*\", the files .git/config and\n",
      "       .git/description will be excluded from the files to upload because  the\n",
      "       exclude  filter  .git/*  will  have the source prepended to the filter.\n",
      "       This means that:\n",
      "\n",
      "          /tmp/foo/.git/* -> /tmp/foo/.git/config       (matches, should exclude)\n",
      "          /tmp/foo/.git/* -> /tmp/foo/.git/description  (matches, should exclude)\n",
      "          /tmp/foo/.git/* -> /tmp/foo/foo.txt  (does not match, should include)\n",
      "          /tmp/foo/.git/* -> /tmp/foo/bar.txt  (does not match, should include)\n",
      "          /tmp/foo/.git/* -> /tmp/foo/baz.jpg  (does not match, should include)\n",
      "\n",
      "       The command aws s3  cp  /tmp/foo/  s3://bucket/  --recursive  --exclude\n",
      "       \"ba*\" will exclude /tmp/foo/bar.txt and /tmp/foo/baz.jpg:\n",
      "\n",
      "          /tmp/foo/ba* -> /tmp/foo/.git/config      (does not match, should include)\n",
      "          /tmp/foo/ba* -> /tmp/foo/.git/description (does not match, should include)\n",
      "          /tmp/foo/ba* -> /tmp/foo/foo.txt          (does not match, should include)\n",
      "          /tmp/foo/ba* -> /tmp/foo/bar.txt  (matches, should exclude)\n",
      "          /tmp/foo/ba* -> /tmp/foo/baz.jpg  (matches, should exclude)\n",
      "\n",
      "       Note that, by default, all files are included.  This means that provid-\n",
      "       ing only an --include filter will not  change  what  files  are  trans-\n",
      "       ferred.   --include  will only re-include files that have been excluded\n",
      "       from an --exclude filter.  If you only want to upload files with a par-\n",
      "       ticular extension, you need to first exclude all files, then re-include\n",
      "       the files with the particular extension.  This command will upload only\n",
      "       files ending with .jpg:\n",
      "\n",
      "          aws s3 cp /tmp/foo/ s3://bucket/ --recursive --exclude \"*\" --include \"*.jpg\"\n",
      "\n",
      "       If  you wanted to include both .jpg files as well as .txt files you can\n",
      "       run:\n",
      "\n",
      "          aws s3 cp /tmp/foo/ s3://bucket/ --recursive \\\n",
      "              --exclude \"*\" --include \"*.jpg\" --include \"*.txt\"\n",
      "\n",
      "       See 'aws help' for descriptions of global parameters.\n",
      "\n",
      "SYNOPSIS\n",
      "          aws s3 <Command> [<Arg> ...]\n",
      "\n",
      "OPTIONS\n",
      "       None\n",
      "\n",
      "       See 'aws help' for descriptions of global parameters.\n",
      "\n",
      "AVAILABLE COMMANDS\n",
      "       o cp\n",
      "\n",
      "       o ls\n",
      "\n",
      "       o mb\n",
      "\n",
      "       o mv\n",
      "\n",
      "       o presign\n",
      "\n",
      "       o rb\n",
      "\n",
      "       o rm\n",
      "\n",
      "       o sync\n",
      "\n",
      "       o website\n",
      "\n",
      "\n",
      "\n",
      "                                                                          S3()\n"
     ]
    }
   ],
   "source": [
    "aws s3 help"
   ]
  },
  {
   "cell_type": "code",
   "execution_count": 21,
   "metadata": {},
   "outputs": [
    {
     "name": "stdout",
     "output_type": "stream",
     "text": [
      "2019-01-26 00:19:55        900 test\n"
     ]
    }
   ],
   "source": [
    "aws s3 ls s3://mjbright-uploads/objects/"
   ]
  },
  {
   "cell_type": "code",
   "execution_count": 65,
   "metadata": {},
   "outputs": [
    {
     "name": "stdout",
     "output_type": "stream",
     "text": [
      "Completed 1.1 KiB/1.1 KiB (12.8 KiB/s) with 1 file(s) remaining\r",
      "upload: ./app.py to s3://mjbright-uploads/test                 \n"
     ]
    }
   ],
   "source": [
    "aws s3 cp app.py s3://mjbright-uploads/test"
   ]
  },
  {
   "cell_type": "code",
   "execution_count": 200,
   "metadata": {},
   "outputs": [],
   "source": [
    "chalice logs --include-lambda-messages"
   ]
  },
  {
   "cell_type": "code",
   "execution_count": 198,
   "metadata": {},
   "outputs": [
    {
     "name": "stdout",
     "output_type": "stream",
     "text": [
      "{\n",
      "    \"Functions\": [\n",
      "        {\n",
      "            \"FunctionName\": \"chalice-app-dev-handler\",\n",
      "            \"FunctionArn\": \"arn:aws:lambda:us-west-1:568285458700:function:chalice-app-dev-handler\",\n",
      "            \"Runtime\": \"python3.6\",\n",
      "            \"Role\": \"arn:aws:iam::568285458700:role/chalice-app-dev\",\n",
      "            \"Handler\": \"app.handler\",\n",
      "            \"CodeSize\": 6116621,\n",
      "            \"Description\": \"\",\n",
      "            \"Timeout\": 60,\n",
      "            \"MemorySize\": 128,\n",
      "            \"LastModified\": \"2019-01-26T02:26:42.254+0000\",\n",
      "            \"CodeSha256\": \"WrtJGS2Xp8x7h2B/J869JIw9a7prGX20yCQXLKJzymo=\",\n",
      "            \"Version\": \"$LATEST\",\n",
      "            \"VpcConfig\": {\n",
      "                \"SubnetIds\": [],\n",
      "                \"SecurityGroupIds\": [],\n",
      "                \"VpcId\": \"\"\n",
      "            },\n",
      "            \"TracingConfig\": {\n",
      "                \"Mode\": \"PassThrough\"\n",
      "            },\n",
      "            \"RevisionId\": \"82800b08-5f85-4e50-b501-dfe42805c38e\"\n",
      "        }\n",
      "    ]\n",
      "}\n"
     ]
    }
   ],
   "source": [
    "aws lambda list-functions"
   ]
  },
  {
   "cell_type": "markdown",
   "metadata": {},
   "source": [
    "# S3 Events"
   ]
  },
  {
   "cell_type": "code",
   "execution_count": 189,
   "metadata": {},
   "outputs": [
    {
     "name": "stdout",
     "output_type": "stream",
     "text": [
      "/home/user1/src/git/ServerlessLabs/ServerlessWorkshop/AWS-S3-Lambda/chalice-app\n"
     ]
    }
   ],
   "source": [
    "pwd\n",
    "cat >app.py <<EOF\n",
    "\n",
    "from chalice import Chalice\n",
    "\n",
    "app = Chalice(app_name=\"s3events\")\n",
    "app.debug = True\n",
    "\n",
    "\n",
    "# Whenever an object is uploaded to 'mybucket'\n",
    "# this lambda function will be invoked.\n",
    "\n",
    "@app.on_s3_event(bucket='mjbright-uploads')\n",
    "def handler(event):\n",
    "    print(\"S3Event: Object uploaded for bucket: %s, key: %s\"\n",
    "          % (event.bucket, event.key))\n",
    "\n",
    "EOF"
   ]
  },
  {
   "cell_type": "code",
   "execution_count": 190,
   "metadata": {},
   "outputs": [
    {
     "name": "stdout",
     "output_type": "stream",
     "text": [
      "/usr/share/python-wheels/requests-2.18.4-py2.py3-none-any.whl/requests/__init__.py:80: RequestsDependencyWarning: urllib3 (1.24.1) or chardet (3.0.4) doesn't match a supported version!\n",
      "Creating deployment package.\n",
      "Updating policy for IAM role: chalice-app-dev\n",
      "Updating lambda function: chalice-app-dev-handler\n",
      "Configuring S3 events in bucket mjbright-uploads to function chalice-app-dev-handler\n",
      "Resources deployed:\n",
      "  - Lambda ARN: arn:aws:lambda:us-west-1:568285458700:function:chalice-app-dev-handler\n"
     ]
    }
   ],
   "source": [
    "chalice deploy"
   ]
  },
  {
   "cell_type": "code",
   "execution_count": 191,
   "metadata": {},
   "outputs": [
    {
     "name": "stdout",
     "output_type": "stream",
     "text": [
      "/home/user1/src/git/ServerlessLabs/ServerlessWorkshop/AWS-S3-Lambda/chalice-app\n",
      "total 40\n",
      "drwxrwxr-x  6 user1 user1 4096 Jan 26 00:41 \u001b[0m\u001b[01;34m.\u001b[0m\n",
      "drwxrwxr-x 10 user1 user1 4096 Jan 26 02:21 \u001b[01;34m..\u001b[0m\n",
      "drwxrwxr-x  4 user1 user1 4096 Jan 25 00:00 \u001b[01;34m.chalice\u001b[0m\n",
      "-rw-rw-r--  1 user1 user1   37 Jan 24 22:33 .gitignore\n",
      "drwxrwxr-x  3 user1 user1 4096 Jan 25 01:32 \u001b[01;34m0\u001b[0m\n",
      "drwxrwxr-x  2 user1 user1 4096 Jan 26 02:26 \u001b[01;34m__pycache__\u001b[0m\n",
      "-rw-rw-r--  1 user1 user1  337 Jan 26 02:26 app.py\n",
      "drwxrwxr-x  4 user1 user1 4096 Jan 26 00:11 \u001b[01;34mchalice-app\u001b[0m\n",
      "-rw-rw-r--  1 user1 user1   28 Jan 25 02:41 requirements.txt\n",
      "-rw-rw-r--  1 user1 user1   13 Jan 26 01:51 test\n",
      "upload: ./.gitignore to s3://mjbright-uploads/g2314               \n"
     ]
    }
   ],
   "source": [
    "pwd\n",
    "ls -al\n",
    "aws s3 cp .gitignore s3://mjbright-uploads/g2314"
   ]
  },
  {
   "cell_type": "code",
   "execution_count": null,
   "metadata": {},
   "outputs": [],
   "source": [
    "chalice logs --include-lambda-messages"
   ]
  },
  {
   "cell_type": "markdown",
   "metadata": {},
   "source": []
  },
  {
   "cell_type": "code",
   "execution_count": 232,
   "metadata": {},
   "outputs": [],
   "source": []
  },
  {
   "cell_type": "markdown",
   "metadata": {},
   "source": []
  },
  {
   "cell_type": "code",
   "execution_count": 232,
   "metadata": {},
   "outputs": [],
   "source": [
    "cat > app.py <<EOF\n",
    "\n",
    "from chalice import Chalice\n",
    "from chalice import NotFoundError\n",
    "\n",
    "app = Chalice(app_name='s3')\n",
    "\n",
    "@app.route('/')\n",
    "def index():\n",
    "    return {'hello': 'world'}\n",
    "\n",
    "import json\n",
    "import boto3\n",
    "from botocore.exceptions import ClientError\n",
    "\n",
    "S3 = boto3.client('s3', region_name='us-west-2')\n",
    "BUCKET = 'mjbright-uploads'\n",
    "\n",
    "@app.route('/objects/{key}', methods=['GET', 'PUT'])\n",
    "def s3objects(key):\n",
    "    request = app.current_request\n",
    "    if request.method == 'PUT':\n",
    "        S3.put_object(Bucket=BUCKET, Key=key,\n",
    "                      Body=json.dumps(request.json_body))\n",
    "    elif request.method == 'GET':\n",
    "        try:\n",
    "            response = S3.get_object(Bucket=BUCKET, Key=key)\n",
    "            return json.loads(response['Body'].read())\n",
    "        except ClientError as e:\n",
    "            raise NotFoundError(key)\n",
    "\n",
    "EOF"
   ]
  },
  {
   "cell_type": "code",
   "execution_count": 232,
   "metadata": {},
   "outputs": [],
   "source": [
    "aws s3 rb --force s3://mjbright-uploads/\n",
    "aws s3 mb s3://mjbright-uploads/"
   ]
  },
  {
   "cell_type": "markdown",
   "metadata": {},
   "source": [
    "Just for local testing - cannot work as cannot access S3 credentials."
   ]
  },
  {
   "cell_type": "code",
   "execution_count": 232,
   "metadata": {},
   "outputs": [],
   "source": [
    "aws s3 ls s3://mjbright-uploads\n",
    "echo '[\"testuser\", {\"fullname\": \"My full name\"}]' | http PUT :8000/objects/testfile\n",
    "aws s3 ls s3://mjbright-uploads"
   ]
  },
  {
   "cell_type": "markdown",
   "metadata": {},
   "source": []
  },
  {
   "cell_type": "code",
   "execution_count": 232,
   "metadata": {},
   "outputs": [],
   "source": [
    "chalice deploy"
   ]
  },
  {
   "cell_type": "markdown",
   "metadata": {},
   "source": []
  },
  {
   "cell_type": "code",
   "execution_count": 232,
   "metadata": {},
   "outputs": [],
   "source": [
    "echo '[\"testuser\", {\"fullname\": \"My full name\"}]' | http PUT $(chalice url)/objects/testfile"
   ]
  },
  {
   "cell_type": "markdown",
   "metadata": {},
   "source": []
  },
  {
   "cell_type": "code",
   "execution_count": 232,
   "metadata": {},
   "outputs": [],
   "source": [
    "aws s3 ls s3://mjbright-uploads/"
   ]
  },
  {
   "cell_type": "code",
   "execution_count": 232,
   "metadata": {},
   "outputs": [],
   "source": [
    "aws s3 cp s3://mjbright-uploads/testfile -"
   ]
  },
  {
   "cell_type": "markdown",
   "metadata": {},
   "source": []
  },
  {
   "cell_type": "markdown",
   "metadata": {},
   "source": []
  },
  {
   "cell_type": "code",
   "execution_count": 232,
   "metadata": {},
   "outputs": [],
   "source": [
    "BUCKET_NAME='mjbright-uploads'\n",
    "\n",
    "cat > app.py <<EOF\n",
    "from chalice import Chalice\n",
    "#import sys\n",
    "\n",
    "app = Chalice(app_name=\"helloworld\")\n",
    "\n",
    "# Whenever an object is uploaded to 'mybucket'\n",
    "# this lambda function will be invoked.\n",
    "\n",
    "@app.on_s3_event(bucket='$BUCKET_NAME')\n",
    "def handler(event):\n",
    "    # BUT WHERE DOES THIS OUTPUT GO?\n",
    "    print(\"Object uploaded for bucket: %s, key: %s\"\n",
    "          % (event.bucket, event.key))\n",
    "    #sys.exit(0)\n",
    "EOF"
   ]
  },
  {
   "cell_type": "markdown",
   "metadata": {},
   "source": []
  },
  {
   "cell_type": "code",
   "execution_count": 232,
   "metadata": {},
   "outputs": [],
   "source": [
    "cat app.py"
   ]
  },
  {
   "cell_type": "markdown",
   "metadata": {},
   "source": [
    "Deploy a local chalice server in another window using ```chalice local```, then upload a file to our bucket"
   ]
  },
  {
   "cell_type": "code",
   "execution_count": 232,
   "metadata": {},
   "outputs": [],
   "source": [
    "cat > requirements.txt <<EOF\n",
    "boto3==1.3.1\n",
    "EOF"
   ]
  },
  {
   "cell_type": "markdown",
   "metadata": {},
   "source": []
  },
  {
   "cell_type": "code",
   "execution_count": 232,
   "metadata": {},
   "outputs": [],
   "source": [
    "aws lambda delete-function --function-name chalice-app-dev-handler"
   ]
  },
  {
   "cell_type": "markdown",
   "metadata": {},
   "source": []
  },
  {
   "cell_type": "code",
   "execution_count": 232,
   "metadata": {},
   "outputs": [],
   "source": [
    "cat app.py\n"
   ]
  },
  {
   "cell_type": "markdown",
   "metadata": {},
   "source": []
  },
  {
   "cell_type": "code",
   "execution_count": 232,
   "metadata": {},
   "outputs": [],
   "source": [
    "cat requirements.txt"
   ]
  },
  {
   "cell_type": "markdown",
   "metadata": {},
   "source": []
  },
  {
   "cell_type": "code",
   "execution_count": 232,
   "metadata": {},
   "outputs": [],
   "source": [
    "aws lambda list-functions"
   ]
  },
  {
   "cell_type": "markdown",
   "metadata": {},
   "source": []
  },
  {
   "cell_type": "code",
   "execution_count": 232,
   "metadata": {},
   "outputs": [],
   "source": [
    "# Only works when deployed?\n",
    "chalice deploy"
   ]
  },
  {
   "cell_type": "markdown",
   "metadata": {},
   "source": []
  },
  {
   "cell_type": "markdown",
   "metadata": {},
   "source": []
  },
  {
   "cell_type": "code",
   "execution_count": 232,
   "metadata": {},
   "outputs": [],
   "source": [
    "aws s3 cp /etc/hosts s3://mjbright-uploads/1\n",
    "aws s3 ls  s3://mjbright-uploads"
   ]
  },
  {
   "cell_type": "markdown",
   "metadata": {},
   "source": []
  },
  {
   "cell_type": "code",
   "execution_count": 232,
   "metadata": {},
   "outputs": [],
   "source": []
  },
  {
   "cell_type": "markdown",
   "metadata": {},
   "source": []
  },
  {
   "cell_type": "code",
   "execution_count": 232,
   "metadata": {},
   "outputs": [],
   "source": []
  },
  {
   "cell_type": "markdown",
   "metadata": {},
   "source": []
  },
  {
   "cell_type": "code",
   "execution_count": 232,
   "metadata": {},
   "outputs": [],
   "source": []
  },
  {
   "cell_type": "markdown",
   "metadata": {},
   "source": []
  },
  {
   "cell_type": "code",
   "execution_count": 232,
   "metadata": {},
   "outputs": [],
   "source": []
  },
  {
   "cell_type": "markdown",
   "metadata": {},
   "source": []
  },
  {
   "cell_type": "code",
   "execution_count": 232,
   "metadata": {},
   "outputs": [],
   "source": []
  },
  {
   "cell_type": "markdown",
   "metadata": {},
   "source": []
  },
  {
   "cell_type": "code",
   "execution_count": 232,
   "metadata": {},
   "outputs": [],
   "source": []
  },
  {
   "cell_type": "markdown",
   "metadata": {},
   "source": []
  },
  {
   "cell_type": "code",
   "execution_count": 232,
   "metadata": {},
   "outputs": [],
   "source": []
  },
  {
   "cell_type": "markdown",
   "metadata": {},
   "source": []
  },
  {
   "cell_type": "code",
   "execution_count": 232,
   "metadata": {},
   "outputs": [],
   "source": []
  },
  {
   "cell_type": "markdown",
   "metadata": {},
   "source": []
  },
  {
   "cell_type": "code",
   "execution_count": 232,
   "metadata": {},
   "outputs": [],
   "source": []
  },
  {
   "cell_type": "code",
   "execution_count": 232,
   "metadata": {},
   "outputs": [],
   "source": []
  },
  {
   "cell_type": "code",
   "execution_count": 232,
   "metadata": {},
   "outputs": [],
   "source": []
  },
  {
   "cell_type": "code",
   "execution_count": 232,
   "metadata": {},
   "outputs": [],
   "source": []
  },
  {
   "cell_type": "code",
   "execution_count": 232,
   "metadata": {},
   "outputs": [],
   "source": []
  },
  {
   "cell_type": "code",
   "execution_count": 232,
   "metadata": {},
   "outputs": [],
   "source": []
  },
  {
   "cell_type": "code",
   "execution_count": 232,
   "metadata": {},
   "outputs": [],
   "source": []
  },
  {
   "cell_type": "markdown",
   "metadata": {},
   "source": [
    "# More Reading\n",
    "\n",
    "You can find more details about S3 website hosting here: https://docs.aws.amazon.com/AmazonS3/latest/dev/WebsiteHosting.html\n",
    "\n",
    "An article describing the use of S3 for static website hosting including use of https, DNS routing\n",
    "https://medium.freecodecamp.org/how-to-host-a-static-website-with-s3-cloudfront-and-route53-7cbb11d4aeea\n",
    "\n",
    "# Cleanup\n",
    "\n",
    "Note that we can use the ```aws s3 rm``` command to remove files from the bucket and ```aws s3 rb``` command to remove a bucket."
   ]
  },
  {
   "cell_type": "code",
   "execution_count": null,
   "metadata": {},
   "outputs": [],
   "source": [
    "aws s3 rm s3://mjbright-static-site --recursive\n",
    "aws s3 rb s3://mjbright-static-site"
   ]
  },
  {
   "cell_type": "markdown",
   "metadata": {},
   "source": [
    "It's also possible to remoce the bucket directly using the ```--force``` option:\n",
    "    ```aws s3 rb --force s3://mjbright-static-site```"
   ]
  }
 ],
 "metadata": {
  "kernelspec": {
   "display_name": "Bash",
   "language": "bash",
   "name": "bash"
  },
  "language_info": {
   "codemirror_mode": "shell",
   "file_extension": ".sh",
   "mimetype": "text/x-sh",
   "name": "bash"
  }
 },
 "nbformat": 4,
 "nbformat_minor": 2
}
